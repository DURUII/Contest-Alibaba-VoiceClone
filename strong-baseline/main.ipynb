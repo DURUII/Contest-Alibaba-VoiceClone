{
 "cells": [
  {
   "cell_type": "code",
   "execution_count": 1,
   "id": "8b00eb0e-66d9-4b12-b3d7-b8c56c449d73",
   "metadata": {
    "ExecutionIndicator": {
     "show": false
    },
    "execution": {
     "iopub.execute_input": "2025-08-07T02:54:30.073309Z",
     "iopub.status.busy": "2025-08-07T02:54:30.073028Z",
     "iopub.status.idle": "2025-08-07T02:55:03.720809Z",
     "shell.execute_reply": "2025-08-07T02:55:03.720331Z",
     "shell.execute_reply.started": "2025-08-07T02:54:30.073288Z"
    },
    "tags": []
   },
   "outputs": [
    {
     "name": "stdout",
     "output_type": "stream",
     "text": [
      "Looking in indexes: https://mirrors.cloud.aliyuncs.com/pypi/simple\n",
      "Requirement already satisfied: einops==0.8.1 in /usr/local/lib/python3.11/site-packages (from -r requirements.txt (line 1)) (0.8.1)\n",
      "Collecting einx==0.3.0 (from -r requirements.txt (line 2))\n",
      "  Downloading https://mirrors.cloud.aliyuncs.com/pypi/packages/90/04/4a730d74fd908daad86d6b313f235cdf8e0cf1c255b392b7174ff63ea81a/einx-0.3.0-py3-none-any.whl (102 kB)\n",
      "\u001b[2K     \u001b[90m━━━━━━━━━━━━━━━━━━━━━━━━━━━━━━━━━━━━━━\u001b[0m \u001b[32m103.0/103.0 kB\u001b[0m \u001b[31m13.5 MB/s\u001b[0m eta \u001b[36m0:00:00\u001b[0m\n",
      "\u001b[?25hRequirement already satisfied: numpy==1.26.4 in /usr/local/lib/python3.11/site-packages (from -r requirements.txt (line 3)) (1.26.4)\n",
      "Requirement already satisfied: omegaconf==2.3.0 in /usr/local/lib/python3.11/site-packages (from -r requirements.txt (line 4)) (2.3.0)\n",
      "Requirement already satisfied: packaging==24.2 in /usr/local/lib/python3.11/site-packages (from -r requirements.txt (line 5)) (24.2)\n",
      "Collecting safetensors==0.5.2 (from -r requirements.txt (line 6))\n",
      "  Downloading https://mirrors.cloud.aliyuncs.com/pypi/packages/c5/dc/8952caafa9a10a3c0f40fa86bacf3190ae7f55fa5eef87415b97b29cb97f/safetensors-0.5.2-cp38-abi3-manylinux_2_17_x86_64.manylinux2014_x86_64.whl (461 kB)\n",
      "\u001b[2K     \u001b[90m━━━━━━━━━━━━━━━━━━━━━━━━━━━━━━━━━━━━━━\u001b[0m \u001b[32m462.0/462.0 kB\u001b[0m \u001b[31m24.6 MB/s\u001b[0m eta \u001b[36m0:00:00\u001b[0m\n",
      "\u001b[?25hCollecting soundfile==0.12.1 (from -r requirements.txt (line 7))\n",
      "  Downloading https://mirrors.cloud.aliyuncs.com/pypi/packages/c1/07/7591f4efd29e65071c3a61b53725036ea8f73366a4920a481ebddaf8d0ca/soundfile-0.12.1-py2.py3-none-manylinux_2_31_x86_64.whl (1.2 MB)\n",
      "\u001b[2K     \u001b[90m━━━━━━━━━━━━━━━━━━━━━━━━━━━━━━━━━━━━━━━━\u001b[0m \u001b[32m1.2/1.2 MB\u001b[0m \u001b[31m60.5 MB/s\u001b[0m eta \u001b[36m0:00:00\u001b[0m\n",
      "\u001b[?25hRequirement already satisfied: soxr==0.5.0.post1 in /usr/local/lib/python3.11/site-packages (from -r requirements.txt (line 8)) (0.5.0.post1)\n",
      "Requirement already satisfied: tqdm in /usr/local/lib/python3.11/site-packages (from -r requirements.txt (line 9)) (4.67.1)\n",
      "Collecting transformers==4.46.2 (from -r requirements.txt (line 10))\n",
      "  Downloading https://mirrors.cloud.aliyuncs.com/pypi/packages/ed/ad/c9b96572ab7994e73c64588f8875741823f2daba70e746547fff9a2d9a54/transformers-4.46.2-py3-none-any.whl (10.0 MB)\n",
      "\u001b[2K     \u001b[90m━━━━━━━━━━━━━━━━━━━━━━━━━━━━━━━━━━━━━━━\u001b[0m \u001b[32m10.0/10.0 MB\u001b[0m \u001b[31m100.6 MB/s\u001b[0m eta \u001b[36m0:00:00\u001b[0ma \u001b[36m0:00:01\u001b[0m\n",
      "\u001b[?25hCollecting gradio==5.18.0 (from -r requirements.txt (line 11))\n",
      "  Downloading https://mirrors.cloud.aliyuncs.com/pypi/packages/e2/e4/1a9ec913da5480907d14d2c527278c6c09011d8ff370a1caa09cdb3f5d23/gradio-5.18.0-py3-none-any.whl (62.3 MB)\n",
      "\u001b[2K     \u001b[90m━━━━━━━━━━━━━━━━━━━━━━━━━━━━━━━━━━━━━━━━\u001b[0m \u001b[32m62.3/62.3 MB\u001b[0m \u001b[31m57.2 MB/s\u001b[0m eta \u001b[36m0:00:00\u001b[0m00:01\u001b[0m00:01\u001b[0m\n",
      "\u001b[?25hCollecting dashscope (from -r requirements.txt (line 12))\n",
      "  Downloading https://mirrors.cloud.aliyuncs.com/pypi/packages/1a/5e/58eb42ba9d23dbb2bb37032b4991fcdf5b0e42fcb624c3f095b253f490d3/dashscope-1.24.1-py3-none-any.whl (1.3 MB)\n",
      "\u001b[2K     \u001b[90m━━━━━━━━━━━━━━━━━━━━━━━━━━━━━━━━━━━━━━━━\u001b[0m \u001b[32m1.3/1.3 MB\u001b[0m \u001b[31m102.2 MB/s\u001b[0m eta \u001b[36m0:00:00\u001b[0m\n",
      "\u001b[?25hRequirement already satisfied: sympy in /usr/local/lib/python3.11/site-packages (from einx==0.3.0->-r requirements.txt (line 2)) (1.13.3)\n",
      "Collecting frozendict (from einx==0.3.0->-r requirements.txt (line 2))\n",
      "  Downloading https://mirrors.cloud.aliyuncs.com/pypi/packages/04/13/d9839089b900fa7b479cce495d62110cddc4bd5630a04d8469916c0e79c5/frozendict-2.4.6-py311-none-any.whl (16 kB)\n",
      "Requirement already satisfied: antlr4-python3-runtime==4.9.* in /usr/local/lib/python3.11/site-packages (from omegaconf==2.3.0->-r requirements.txt (line 4)) (4.9.3)\n",
      "Requirement already satisfied: PyYAML>=5.1.0 in /usr/local/lib/python3.11/site-packages (from omegaconf==2.3.0->-r requirements.txt (line 4)) (6.0.2)\n",
      "Requirement already satisfied: cffi>=1.0 in /usr/local/lib/python3.11/site-packages (from soundfile==0.12.1->-r requirements.txt (line 7)) (1.17.1)\n",
      "Requirement already satisfied: filelock in /usr/local/lib/python3.11/site-packages (from transformers==4.46.2->-r requirements.txt (line 10)) (3.17.0)\n",
      "Requirement already satisfied: huggingface-hub<1.0,>=0.23.2 in /usr/local/lib/python3.11/site-packages (from transformers==4.46.2->-r requirements.txt (line 10)) (0.33.2)\n",
      "Requirement already satisfied: regex!=2019.12.17 in /usr/local/lib/python3.11/site-packages (from transformers==4.46.2->-r requirements.txt (line 10)) (2024.11.6)\n",
      "Requirement already satisfied: requests in /usr/local/lib/python3.11/site-packages (from transformers==4.46.2->-r requirements.txt (line 10)) (2.32.3)\n",
      "Collecting tokenizers<0.21,>=0.20 (from transformers==4.46.2->-r requirements.txt (line 10))\n",
      "  Downloading https://mirrors.cloud.aliyuncs.com/pypi/packages/50/f6/2841de926bc4118af996eaf0bdf0ea5b012245044766ffc0347e6c968e63/tokenizers-0.20.3-cp311-cp311-manylinux_2_17_x86_64.manylinux2014_x86_64.whl (3.0 MB)\n",
      "\u001b[2K     \u001b[90m━━━━━━━━━━━━━━━━━━━━━━━━━━━━━━━━━━━━━━━━\u001b[0m \u001b[32m3.0/3.0 MB\u001b[0m \u001b[31m140.4 MB/s\u001b[0m eta \u001b[36m0:00:00\u001b[0m\n",
      "\u001b[?25hCollecting aiofiles<24.0,>=22.0 (from gradio==5.18.0->-r requirements.txt (line 11))\n",
      "  Downloading https://mirrors.cloud.aliyuncs.com/pypi/packages/c5/19/5af6804c4cc0fed83f47bff6e413a98a36618e7d40185cd36e69737f3b0e/aiofiles-23.2.1-py3-none-any.whl (15 kB)\n",
      "Requirement already satisfied: anyio<5.0,>=3.0 in /usr/local/lib/python3.11/site-packages (from gradio==5.18.0->-r requirements.txt (line 11)) (4.9.0)\n",
      "Requirement already satisfied: fastapi<1.0,>=0.115.2 in /usr/local/lib/python3.11/site-packages (from gradio==5.18.0->-r requirements.txt (line 11)) (0.115.14)\n",
      "Requirement already satisfied: ffmpy in /usr/local/lib/python3.11/site-packages (from gradio==5.18.0->-r requirements.txt (line 11)) (0.6.0)\n",
      "Collecting gradio-client==1.7.2 (from gradio==5.18.0->-r requirements.txt (line 11))\n",
      "  Downloading https://mirrors.cloud.aliyuncs.com/pypi/packages/95/cb/002424d4f5af1425f9cfe7dcee3ed795ed1367bf0f185a6c4bf81385e1d6/gradio_client-1.7.2-py3-none-any.whl (322 kB)\n",
      "\u001b[2K     \u001b[90m━━━━━━━━━━━━━━━━━━━━━━━━━━━━━━━━━━━━━━\u001b[0m \u001b[32m322.1/322.1 kB\u001b[0m \u001b[31m72.9 MB/s\u001b[0m eta \u001b[36m0:00:00\u001b[0m\n",
      "\u001b[?25hRequirement already satisfied: httpx>=0.24.1 in /usr/local/lib/python3.11/site-packages (from gradio==5.18.0->-r requirements.txt (line 11)) (0.28.1)\n",
      "Requirement already satisfied: jinja2<4.0 in /usr/local/lib/python3.11/site-packages (from gradio==5.18.0->-r requirements.txt (line 11)) (3.1.6)\n",
      "Collecting markupsafe~=2.0 (from gradio==5.18.0->-r requirements.txt (line 11))\n",
      "  Downloading https://mirrors.cloud.aliyuncs.com/pypi/packages/97/18/c30da5e7a0e7f4603abfc6780574131221d9148f323752c2755d48abad30/MarkupSafe-2.1.5-cp311-cp311-manylinux_2_17_x86_64.manylinux2014_x86_64.whl (28 kB)\n",
      "Requirement already satisfied: orjson~=3.0 in /usr/local/lib/python3.11/site-packages (from gradio==5.18.0->-r requirements.txt (line 11)) (3.10.18)\n",
      "Requirement already satisfied: pandas<3.0,>=1.0 in /usr/local/lib/python3.11/site-packages (from gradio==5.18.0->-r requirements.txt (line 11)) (2.3.0)\n",
      "Requirement already satisfied: pillow<12.0,>=8.0 in /usr/local/lib/python3.11/site-packages (from gradio==5.18.0->-r requirements.txt (line 11)) (11.1.0)\n",
      "Requirement already satisfied: pydantic>=2.0 in /usr/local/lib/python3.11/site-packages (from gradio==5.18.0->-r requirements.txt (line 11)) (2.11.7)\n",
      "Requirement already satisfied: pydub in /usr/local/lib/python3.11/site-packages (from gradio==5.18.0->-r requirements.txt (line 11)) (0.25.1)\n",
      "Requirement already satisfied: python-multipart>=0.0.18 in /usr/local/lib/python3.11/site-packages (from gradio==5.18.0->-r requirements.txt (line 11)) (0.0.20)\n",
      "Requirement already satisfied: ruff>=0.9.3 in /usr/local/lib/python3.11/site-packages (from gradio==5.18.0->-r requirements.txt (line 11)) (0.12.2)\n",
      "Requirement already satisfied: safehttpx<0.2.0,>=0.1.6 in /usr/local/lib/python3.11/site-packages (from gradio==5.18.0->-r requirements.txt (line 11)) (0.1.6)\n",
      "Requirement already satisfied: semantic-version~=2.0 in /usr/local/lib/python3.11/site-packages (from gradio==5.18.0->-r requirements.txt (line 11)) (2.10.0)\n",
      "Requirement already satisfied: starlette<1.0,>=0.40.0 in /usr/local/lib/python3.11/site-packages (from gradio==5.18.0->-r requirements.txt (line 11)) (0.46.2)\n",
      "Requirement already satisfied: tomlkit<0.14.0,>=0.12.0 in /usr/local/lib/python3.11/site-packages (from gradio==5.18.0->-r requirements.txt (line 11)) (0.13.3)\n",
      "Requirement already satisfied: typer<1.0,>=0.12 in /usr/local/lib/python3.11/site-packages (from gradio==5.18.0->-r requirements.txt (line 11)) (0.16.0)\n",
      "Requirement already satisfied: typing-extensions~=4.0 in /usr/local/lib/python3.11/site-packages (from gradio==5.18.0->-r requirements.txt (line 11)) (4.12.2)\n",
      "Requirement already satisfied: uvicorn>=0.14.0 in /usr/local/lib/python3.11/site-packages (from gradio==5.18.0->-r requirements.txt (line 11)) (0.35.0)\n",
      "Requirement already satisfied: fsspec in /usr/local/lib/python3.11/site-packages (from gradio-client==1.7.2->gradio==5.18.0->-r requirements.txt (line 11)) (2024.9.0)\n",
      "Requirement already satisfied: websockets<16.0,>=10.0 in /usr/local/lib/python3.11/site-packages (from gradio-client==1.7.2->gradio==5.18.0->-r requirements.txt (line 11)) (15.0.1)\n",
      "Requirement already satisfied: aiohttp in /usr/local/lib/python3.11/site-packages (from dashscope->-r requirements.txt (line 12)) (3.12.13)\n",
      "Requirement already satisfied: websocket-client in /usr/local/lib/python3.11/site-packages (from dashscope->-r requirements.txt (line 12)) (1.8.0)\n",
      "Requirement already satisfied: cryptography in /usr/local/lib/python3.11/site-packages (from dashscope->-r requirements.txt (line 12)) (45.0.5)\n",
      "Requirement already satisfied: idna>=2.8 in /usr/local/lib/python3.11/site-packages (from anyio<5.0,>=3.0->gradio==5.18.0->-r requirements.txt (line 11)) (3.10)\n",
      "Requirement already satisfied: sniffio>=1.1 in /usr/local/lib/python3.11/site-packages (from anyio<5.0,>=3.0->gradio==5.18.0->-r requirements.txt (line 11)) (1.3.1)\n",
      "Requirement already satisfied: pycparser in /usr/local/lib/python3.11/site-packages (from cffi>=1.0->soundfile==0.12.1->-r requirements.txt (line 7)) (2.22)\n",
      "Requirement already satisfied: certifi in /usr/local/lib/python3.11/site-packages (from httpx>=0.24.1->gradio==5.18.0->-r requirements.txt (line 11)) (2025.1.31)\n",
      "Requirement already satisfied: httpcore==1.* in /usr/local/lib/python3.11/site-packages (from httpx>=0.24.1->gradio==5.18.0->-r requirements.txt (line 11)) (1.0.9)\n",
      "Requirement already satisfied: h11>=0.16 in /usr/local/lib/python3.11/site-packages (from httpcore==1.*->httpx>=0.24.1->gradio==5.18.0->-r requirements.txt (line 11)) (0.16.0)\n",
      "Requirement already satisfied: hf-xet<2.0.0,>=1.1.2 in /usr/local/lib/python3.11/site-packages (from huggingface-hub<1.0,>=0.23.2->transformers==4.46.2->-r requirements.txt (line 10)) (1.1.5)\n",
      "Requirement already satisfied: python-dateutil>=2.8.2 in /usr/local/lib/python3.11/site-packages (from pandas<3.0,>=1.0->gradio==5.18.0->-r requirements.txt (line 11)) (2.9.0.post0)\n",
      "Requirement already satisfied: pytz>=2020.1 in /usr/local/lib/python3.11/site-packages (from pandas<3.0,>=1.0->gradio==5.18.0->-r requirements.txt (line 11)) (2025.2)\n",
      "Requirement already satisfied: tzdata>=2022.7 in /usr/local/lib/python3.11/site-packages (from pandas<3.0,>=1.0->gradio==5.18.0->-r requirements.txt (line 11)) (2025.2)\n",
      "Requirement already satisfied: annotated-types>=0.6.0 in /usr/local/lib/python3.11/site-packages (from pydantic>=2.0->gradio==5.18.0->-r requirements.txt (line 11)) (0.7.0)\n",
      "Requirement already satisfied: pydantic-core==2.33.2 in /usr/local/lib/python3.11/site-packages (from pydantic>=2.0->gradio==5.18.0->-r requirements.txt (line 11)) (2.33.2)\n",
      "Requirement already satisfied: typing-inspection>=0.4.0 in /usr/local/lib/python3.11/site-packages (from pydantic>=2.0->gradio==5.18.0->-r requirements.txt (line 11)) (0.4.1)\n",
      "Requirement already satisfied: click>=8.0.0 in /usr/local/lib/python3.11/site-packages (from typer<1.0,>=0.12->gradio==5.18.0->-r requirements.txt (line 11)) (8.1.8)\n",
      "Requirement already satisfied: shellingham>=1.3.0 in /usr/local/lib/python3.11/site-packages (from typer<1.0,>=0.12->gradio==5.18.0->-r requirements.txt (line 11)) (1.5.4)\n",
      "Requirement already satisfied: rich>=10.11.0 in /usr/local/lib/python3.11/site-packages (from typer<1.0,>=0.12->gradio==5.18.0->-r requirements.txt (line 11)) (13.9.4)\n",
      "Requirement already satisfied: aiohappyeyeballs>=2.5.0 in /usr/local/lib/python3.11/site-packages (from aiohttp->dashscope->-r requirements.txt (line 12)) (2.6.1)\n",
      "Requirement already satisfied: aiosignal>=1.1.2 in /usr/local/lib/python3.11/site-packages (from aiohttp->dashscope->-r requirements.txt (line 12)) (1.4.0)\n",
      "Requirement already satisfied: attrs>=17.3.0 in /usr/local/lib/python3.11/site-packages (from aiohttp->dashscope->-r requirements.txt (line 12)) (25.3.0)\n",
      "Requirement already satisfied: frozenlist>=1.1.1 in /usr/local/lib/python3.11/site-packages (from aiohttp->dashscope->-r requirements.txt (line 12)) (1.7.0)\n",
      "Requirement already satisfied: multidict<7.0,>=4.5 in /usr/local/lib/python3.11/site-packages (from aiohttp->dashscope->-r requirements.txt (line 12)) (6.6.3)\n",
      "Requirement already satisfied: propcache>=0.2.0 in /usr/local/lib/python3.11/site-packages (from aiohttp->dashscope->-r requirements.txt (line 12)) (0.3.2)\n",
      "Requirement already satisfied: yarl<2.0,>=1.17.0 in /usr/local/lib/python3.11/site-packages (from aiohttp->dashscope->-r requirements.txt (line 12)) (1.20.1)\n",
      "Requirement already satisfied: charset-normalizer<4,>=2 in /usr/local/lib/python3.11/site-packages (from requests->transformers==4.46.2->-r requirements.txt (line 10)) (3.4.1)\n",
      "Requirement already satisfied: urllib3<3,>=1.21.1 in /usr/local/lib/python3.11/site-packages (from requests->transformers==4.46.2->-r requirements.txt (line 10)) (2.3.0)\n",
      "Requirement already satisfied: mpmath<1.4,>=1.1.0 in /usr/local/lib/python3.11/site-packages (from sympy->einx==0.3.0->-r requirements.txt (line 2)) (1.3.0)\n",
      "Requirement already satisfied: six>=1.5 in /usr/local/lib/python3.11/site-packages (from python-dateutil>=2.8.2->pandas<3.0,>=1.0->gradio==5.18.0->-r requirements.txt (line 11)) (1.17.0)\n",
      "Requirement already satisfied: markdown-it-py>=2.2.0 in /usr/local/lib/python3.11/site-packages (from rich>=10.11.0->typer<1.0,>=0.12->gradio==5.18.0->-r requirements.txt (line 11)) (3.0.0)\n",
      "Requirement already satisfied: pygments<3.0.0,>=2.13.0 in /usr/local/lib/python3.11/site-packages (from rich>=10.11.0->typer<1.0,>=0.12->gradio==5.18.0->-r requirements.txt (line 11)) (2.19.1)\n",
      "Requirement already satisfied: mdurl~=0.1 in /usr/local/lib/python3.11/site-packages (from markdown-it-py>=2.2.0->rich>=10.11.0->typer<1.0,>=0.12->gradio==5.18.0->-r requirements.txt (line 11)) (0.1.2)\n",
      "\u001b[33mDEPRECATION: pytorch-lightning 1.7.7 has a non-standard dependency specifier torch>=1.9.*. pip 24.0 will enforce this behaviour change. A possible replacement is to upgrade to a newer version of pytorch-lightning or contact the author to suggest that they release a version with a conforming dependency specifiers. Discussion can be found at https://github.com/pypa/pip/issues/12063\u001b[0m\u001b[33m\n",
      "\u001b[0mInstalling collected packages: safetensors, markupsafe, frozendict, aiofiles, soundfile, einx, tokenizers, gradio-client, dashscope, transformers, gradio\n",
      "  Attempting uninstall: safetensors\n",
      "    Found existing installation: safetensors 0.5.3\n",
      "    Uninstalling safetensors-0.5.3:\n",
      "      Successfully uninstalled safetensors-0.5.3\n",
      "  Attempting uninstall: markupsafe\n",
      "    Found existing installation: MarkupSafe 3.0.2\n",
      "    Uninstalling MarkupSafe-3.0.2:\n",
      "      Successfully uninstalled MarkupSafe-3.0.2\n",
      "  Attempting uninstall: aiofiles\n",
      "    Found existing installation: aiofiles 24.1.0\n",
      "    Uninstalling aiofiles-24.1.0:\n",
      "      Successfully uninstalled aiofiles-24.1.0\n",
      "  Attempting uninstall: soundfile\n",
      "    Found existing installation: soundfile 0.13.1\n",
      "    Uninstalling soundfile-0.13.1:\n",
      "      Successfully uninstalled soundfile-0.13.1\n",
      "  Attempting uninstall: tokenizers\n",
      "    Found existing installation: tokenizers 0.21.2\n",
      "    Uninstalling tokenizers-0.21.2:\n",
      "      Successfully uninstalled tokenizers-0.21.2\n",
      "  Attempting uninstall: gradio-client\n",
      "    Found existing installation: gradio_client 1.10.4\n",
      "    Uninstalling gradio_client-1.10.4:\n",
      "      Successfully uninstalled gradio_client-1.10.4\n",
      "  Attempting uninstall: transformers\n",
      "    Found existing installation: transformers 4.53.1\n",
      "    Uninstalling transformers-4.53.1:\n",
      "      Successfully uninstalled transformers-4.53.1\n",
      "  Attempting uninstall: gradio\n",
      "    Found existing installation: gradio 5.35.0\n",
      "    Uninstalling gradio-5.35.0:\n",
      "      Successfully uninstalled gradio-5.35.0\n",
      "\u001b[31mERROR: pip's dependency resolver does not currently take into account all the packages that are installed. This behaviour is the source of the following dependency conflicts.\n",
      "xtuner 0.1.11 requires lagent>=0.1.2, which is not installed.\n",
      "xtuner 0.1.11 requires mmengine>=0.10.1, which is not installed.\n",
      "lmdeploy 0.6.2 requires peft<=0.11.1, but you have peft 0.15.2 which is incompatible.\n",
      "pai-easycv 0.11.7 requires timm==0.5.4, but you have timm 1.0.16 which is incompatible.\n",
      "trl 0.19.1 requires transformers>=4.51.0, but you have transformers 4.46.2 which is incompatible.\u001b[0m\u001b[31m\n",
      "\u001b[0mSuccessfully installed aiofiles-23.2.1 dashscope-1.24.1 einx-0.3.0 frozendict-2.4.6 gradio-5.18.0 gradio-client-1.7.2 markupsafe-2.1.5 safetensors-0.5.2 soundfile-0.12.1 tokenizers-0.20.3 transformers-4.46.2\n",
      "\u001b[33mWARNING: Running pip as the 'root' user can result in broken permissions and conflicting behaviour with the system package manager. It is recommended to use a virtual environment instead: https://pip.pypa.io/warnings/venv\u001b[0m\u001b[33m\n",
      "\u001b[0m\n",
      "\u001b[1m[\u001b[0m\u001b[34;49mnotice\u001b[0m\u001b[1;39;49m]\u001b[0m\u001b[39;49m A new release of pip is available: \u001b[0m\u001b[31;49m23.3.2\u001b[0m\u001b[39;49m -> \u001b[0m\u001b[32;49m25.2\u001b[0m\n",
      "\u001b[1m[\u001b[0m\u001b[34;49mnotice\u001b[0m\u001b[1;39;49m]\u001b[0m\u001b[39;49m To update, run: \u001b[0m\u001b[32;49mpip install --upgrade pip\u001b[0m\n",
      "Note: you may need to restart the kernel to use updated packages.\n"
     ]
    },
    {
     "data": {
      "text/plain": [
       "'/mnt/workspace/my-solution/Spark-TTS'"
      ]
     },
     "execution_count": 1,
     "metadata": {},
     "output_type": "execute_result"
    }
   ],
   "source": [
    "%pip install -r requirements.txt\n",
    "%pwd"
   ]
  },
  {
   "cell_type": "code",
   "execution_count": 1,
   "id": "54f8077b-bff6-4904-8a78-85de682fe64d",
   "metadata": {
    "ExecutionIndicator": {
     "show": true
    },
    "execution": {
     "iopub.execute_input": "2025-08-07T03:16:25.840991Z",
     "iopub.status.busy": "2025-08-07T03:16:25.840691Z",
     "iopub.status.idle": "2025-08-07T03:16:31.657193Z",
     "shell.execute_reply": "2025-08-07T03:16:31.656711Z",
     "shell.execute_reply.started": "2025-08-07T03:16:25.840971Z"
    },
    "tags": []
   },
   "outputs": [
    {
     "name": "stderr",
     "output_type": "stream",
     "text": [
      "2025-08-07 11:16:29.146938: I tensorflow/core/util/port.cc:113] oneDNN custom operations are on. You may see slightly different numerical results due to floating-point round-off errors from different computation orders. To turn them off, set the environment variable `TF_ENABLE_ONEDNN_OPTS=0`.\n",
      "2025-08-07 11:16:29.197101: I tensorflow/core/platform/cpu_feature_guard.cc:210] This TensorFlow binary is optimized to use available CPU instructions in performance-critical operations.\n",
      "To enable the following instructions: AVX2 AVX512F AVX512_VNNI FMA, in other operations, rebuild TensorFlow with the appropriate compiler flags.\n",
      "2025-08-07 11:16:30.207500: W tensorflow/compiler/tf2tensorrt/utils/py_utils.cc:38] TF-TRT Warning: Could not find TensorRT\n"
     ]
    }
   ],
   "source": [
    "from http import HTTPStatus\n",
    "import dashscope\n",
    "from modelscope import snapshot_download\n",
    "\n",
    "from pathlib import Path\n",
    "import pandas as pd\n",
    "from dotenv import load_dotenv\n",
    "import os\n",
    "import subprocess\n",
    "\n",
    "from tqdm.auto import tqdm\n",
    "import zipfile\n",
    "\n",
    "import platform\n",
    "from cli.SparkTTS import SparkTTS\n",
    "import torch\n",
    "import soundfile as sf"
   ]
  },
  {
   "cell_type": "markdown",
   "id": "ce7491a8-2d2b-4ebc-a6d9-16365f83ff53",
   "metadata": {},
   "source": [
    "# TTS 模型下载"
   ]
  },
  {
   "cell_type": "code",
   "execution_count": 2,
   "id": "db8af1ac",
   "metadata": {
    "ExecutionIndicator": {
     "show": false
    },
    "execution": {
     "iopub.execute_input": "2025-08-07T03:16:34.342245Z",
     "iopub.status.busy": "2025-08-07T03:16:34.341484Z",
     "iopub.status.idle": "2025-08-07T03:16:35.756722Z",
     "shell.execute_reply": "2025-08-07T03:16:35.756308Z",
     "shell.execute_reply.started": "2025-08-07T03:16:34.342219Z"
    },
    "tags": []
   },
   "outputs": [
    {
     "name": "stdout",
     "output_type": "stream",
     "text": [
      "Downloading Model from https://www.modelscope.cn to directory: /mnt/workspace/.cache/modelscope/models/SparkAudio/Spark-TTS-0.5B\n"
     ]
    },
    {
     "name": "stderr",
     "output_type": "stream",
     "text": [
      "2025-08-07 11:16:35,746 - modelscope - INFO - Target directory already exists, skipping creation.\n"
     ]
    }
   ],
   "source": [
    "model_dir = snapshot_download('SparkAudio/Spark-TTS-0.5B')"
   ]
  },
  {
   "cell_type": "markdown",
   "id": "3be8e28e-1a56-4c13-8af6-7f1e1de637a3",
   "metadata": {},
   "source": [
    "# 参数设置"
   ]
  },
  {
   "cell_type": "code",
   "execution_count": 3,
   "id": "5f7c06d6-f696-4672-96cc-f2b5dae7d3d7",
   "metadata": {
    "ExecutionIndicator": {
     "show": true
    },
    "execution": {
     "iopub.execute_input": "2025-08-07T03:16:36.609363Z",
     "iopub.status.busy": "2025-08-07T03:16:36.609059Z",
     "iopub.status.idle": "2025-08-07T03:16:36.615306Z",
     "shell.execute_reply": "2025-08-07T03:16:36.614906Z",
     "shell.execute_reply.started": "2025-08-07T03:16:36.609345Z"
    },
    "tags": []
   },
   "outputs": [
    {
     "data": {
      "text/plain": [
       "device(type='cuda', index=0)"
      ]
     },
     "execution_count": 3,
     "metadata": {},
     "output_type": "execute_result"
    }
   ],
   "source": [
    "# Convert device argument to torch.device\n",
    "if platform.system() == \"Darwin\" and torch.backends.mps.is_available():\n",
    "    # macOS with MPS support (Apple Silicon)\n",
    "    DEVICE = torch.device(\"mps:0\")\n",
    "elif torch.cuda.is_available():\n",
    "    # System with CUDA support\n",
    "    DEVICE = torch.device(\"cuda:0\")\n",
    "else:\n",
    "    # Fall back to CPU\n",
    "    DEVICE = torch.device(\"cpu\")\n",
    "\n",
    "DEVICE"
   ]
  },
  {
   "cell_type": "code",
   "execution_count": 4,
   "id": "db7224fc",
   "metadata": {
    "ExecutionIndicator": {
     "show": true
    },
    "execution": {
     "iopub.execute_input": "2025-08-07T03:16:38.819331Z",
     "iopub.status.busy": "2025-08-07T03:16:38.818898Z",
     "iopub.status.idle": "2025-08-07T03:16:38.836078Z",
     "shell.execute_reply": "2025-08-07T03:16:38.835667Z",
     "shell.execute_reply.started": "2025-08-07T03:16:38.819311Z"
    },
    "tags": []
   },
   "outputs": [
    {
     "data": {
      "text/html": [
       "<div>\n",
       "<style scoped>\n",
       "    .dataframe tbody tr th:only-of-type {\n",
       "        vertical-align: middle;\n",
       "    }\n",
       "\n",
       "    .dataframe tbody tr th {\n",
       "        vertical-align: top;\n",
       "    }\n",
       "\n",
       "    .dataframe thead th {\n",
       "        text-align: right;\n",
       "    }\n",
       "</style>\n",
       "<table border=\"1\" class=\"dataframe\">\n",
       "  <thead>\n",
       "    <tr style=\"text-align: right;\">\n",
       "      <th></th>\n",
       "      <th>utt</th>\n",
       "      <th>reference_speech</th>\n",
       "      <th>text</th>\n",
       "      <th>text_llm</th>\n",
       "    </tr>\n",
       "  </thead>\n",
       "  <tbody>\n",
       "    <tr>\n",
       "      <th>0</th>\n",
       "      <td>1</td>\n",
       "      <td>reference_1.wav</td>\n",
       "      <td>六</td>\n",
       "      <td>六</td>\n",
       "    </tr>\n",
       "    <tr>\n",
       "      <th>1</th>\n",
       "      <td>2</td>\n",
       "      <td>reference_2.wav</td>\n",
       "      <td>缴纳罚款单，交警大队开具的违停罚单，编号20240305</td>\n",
       "      <td>缴纳罚款单，交警大队开具的违停罚单，编号二零二四年零三月零五日</td>\n",
       "    </tr>\n",
       "    <tr>\n",
       "      <th>2</th>\n",
       "      <td>3</td>\n",
       "      <td>reference_3.wav</td>\n",
       "      <td>腾地而起的风关上了门卷起满屋幽幽檀香味他广袖被风吹起拂过我的眉眼</td>\n",
       "      <td>腾地而起的风关上了门，卷起满屋幽幽檀香味。他广袖被风吹起，拂过我的眉眼。</td>\n",
       "    </tr>\n",
       "    <tr>\n",
       "      <th>3</th>\n",
       "      <td>4</td>\n",
       "      <td>reference_4.wav</td>\n",
       "      <td>但这还不是定局一切都将充满变数</td>\n",
       "      <td>但这就不是定局，一切都将充满变数。</td>\n",
       "    </tr>\n",
       "    <tr>\n",
       "      <th>4</th>\n",
       "      <td>5</td>\n",
       "      <td>reference_5.wav</td>\n",
       "      <td>从屏风后面转出来看看镜子中的自己，瑞博甚至有种换了个人的感觉</td>\n",
       "      <td>从屏风后面转出来，看看镜子中的自己，瑞博甚至有种换了个人的感觉。</td>\n",
       "    </tr>\n",
       "  </tbody>\n",
       "</table>\n",
       "</div>"
      ],
      "text/plain": [
       "   utt reference_speech                              text  \\\n",
       "0    1  reference_1.wav                                 六   \n",
       "1    2  reference_2.wav      缴纳罚款单，交警大队开具的违停罚单，编号20240305   \n",
       "2    3  reference_3.wav  腾地而起的风关上了门卷起满屋幽幽檀香味他广袖被风吹起拂过我的眉眼   \n",
       "3    4  reference_4.wav                   但这还不是定局一切都将充满变数   \n",
       "4    5  reference_5.wav    从屏风后面转出来看看镜子中的自己，瑞博甚至有种换了个人的感觉   \n",
       "\n",
       "                               text_llm  \n",
       "0                                     六  \n",
       "1       缴纳罚款单，交警大队开具的违停罚单，编号二零二四年零三月零五日  \n",
       "2  腾地而起的风关上了门，卷起满屋幽幽檀香味。他广袖被风吹起，拂过我的眉眼。  \n",
       "3                     但这就不是定局，一切都将充满变数。  \n",
       "4      从屏风后面转出来，看看镜子中的自己，瑞博甚至有种换了个人的感觉。  "
      ]
     },
     "execution_count": 4,
     "metadata": {},
     "output_type": "execute_result"
    }
   ],
   "source": [
    "load_dotenv()\n",
    "API_KEY = os.getenv(\"DASHSCOPE_API_KEY\")\n",
    "if not API_KEY:\n",
    "    raise EnvironmentError(\"DASHSCOPE_API_KEY Not Found\")\n",
    "\n",
    "INPUT_CSV = Path(\"aigc_speech_generation_tasks/aigc_speech_generation_tasks.csv\")\n",
    "REFERENCE_DIR = INPUT_CSV.parent\n",
    "MODEL_DIR = model_dir\n",
    "RESULT_DIR = Path(\"result\")\n",
    "RESULT_DIR.mkdir(parents=True, exist_ok=True)\n",
    "\n",
    "tasks = pd.read_csv(INPUT_CSV)\n",
    "tasks.head()"
   ]
  },
  {
   "cell_type": "markdown",
   "id": "0a9809f6-97eb-4b65-8e09-fbe064ad9803",
   "metadata": {},
   "source": [
    "# LLM 前置文本清洗\n",
    "\n",
    "考虑以下情形：\n",
    "1. 数字没读好：（2024.12，在不同的场景下读法不一样，例如逐个朗读，还是两千零二十四点一二）价格1280元（十二八） 甲状旁腺激素受体（PTH1R）\n",
    "2. 标点/符号/单位没读好： mL ℃ +，例如 22 - 24，这里到底是读减号还是读“至/到”，例如 7-9 小时\n",
    "3. 多音字没读好：例如 奇（鸡音）变偶不变\n",
    "4. 长段断句：142 199 停不下来\n",
    "5. 存在空输出 [23, 28, 35, 41, 53, 61, 67, 70, 78， 89, 130，132, 144, 149, 160, 166, 191] (存疑)\n",
    "6. 没读全/结尾停顿/过长停顿 [84, 90, 94, 97， 136] 例如，94 是一个极长文本，难道是按照句号分隔的么"
   ]
  },
  {
   "cell_type": "code",
   "execution_count": 5,
   "id": "d5d2caf9-d569-4e0a-baa7-6ed4c7c2fe79",
   "metadata": {
    "ExecutionIndicator": {
     "show": true
    },
    "execution": {
     "iopub.execute_input": "2025-08-07T03:16:56.544803Z",
     "iopub.status.busy": "2025-08-07T03:16:56.544280Z",
     "iopub.status.idle": "2025-08-07T03:16:56.549281Z",
     "shell.execute_reply": "2025-08-07T03:16:56.548705Z",
     "shell.execute_reply.started": "2025-08-07T03:16:56.544784Z"
    },
    "tags": []
   },
   "outputs": [],
   "source": [
    "def call_llm(msg: str, model: str = \"qwen-turbo\", api_key: str = API_KEY) -> str:\n",
    "    messages = [{\"role\": \"system\", \"content\": \"\"\"你是 tts 前置文本清洗专家，回答直接，将以下内容转换为适合语音合成的中文表达，包括：\n",
    "1. 明确的数字读法；\n",
    "2. 单位、符号、标点转换；\n",
    "3. 多音字 disambiguation，用单音字replace多音字；\n",
    "4. 对没有标点的句子添加适当断句停顿标记（例如逗号、句号、顿号）；\n",
    "\n",
    "限制：不要随意添加或删减原文不存在的内容，不需要“读作”标识，不需要额外补充信息，你只需要输出转换后的内容。\n",
    "\n",
    "例如，输入：2024.12是一个重要时间点，那一天我要去兑奖20024.12元，我的彩票编号是20241216，建议每天饮水量为2000-2500 mL，当时是冬天气温应该在20 ℃左右，PTH1R是甲状旁腺激素受体我们都知道1-1=0，奇变偶不变符号看象限。\n",
    "输出：二零二四年十二月是一个重要的时间点，那一天我要去兑奖两万零二十四点一二元，我的彩票编号是二零二四一二一六。建议每天饮水量为两千到两千五百毫升。当时是冬天，气温应该在二十摄氏度左右。P、T、H、一、R，是甲状旁腺激素受体。我们都知道，一减一等于零。鸡变偶不变，符号看象限。\n",
    "\"\"\"}, {\"role\": \"user\", \"content\": msg}]\n",
    "\n",
    "    responses = dashscope.Generation.call(\n",
    "        model=model,\n",
    "        api_key=api_key,\n",
    "        messages=messages,\n",
    "        stream=False,\n",
    "        result_format='message',  # 将返回结果格式设置为 message\n",
    "        top_p=0.8,\n",
    "        temperature=0.6,\n",
    "        enable_search=False,\n",
    "        enable_thinking=False,\n",
    "        thinking_budget=4000\n",
    "    )\n",
    "\n",
    "    if responses.status_code == HTTPStatus.OK:\n",
    "        return responses.output.choices[0]['message']['content']\n",
    "\n",
    "    raise RuntimeError(f\"LLM Error: {responses.message}\")"
   ]
  },
  {
   "cell_type": "code",
   "execution_count": 6,
   "id": "e4813219-ef66-4187-8074-a46e98269847",
   "metadata": {
    "ExecutionIndicator": {
     "show": true
    },
    "execution": {
     "iopub.execute_input": "2025-08-07T03:17:04.195698Z",
     "iopub.status.busy": "2025-08-07T03:17:04.195397Z",
     "iopub.status.idle": "2025-08-07T03:19:40.645181Z",
     "shell.execute_reply": "2025-08-07T03:19:40.644631Z",
     "shell.execute_reply.started": "2025-08-07T03:17:04.195681Z"
    },
    "tags": []
   },
   "outputs": [
    {
     "data": {
      "application/vnd.jupyter.widget-view+json": {
       "model_id": "c84f540a8e1e453b887de1d6a3717253",
       "version_major": 2,
       "version_minor": 0
      },
      "text/plain": [
       "  0%|          | 0/200 [00:00<?, ?it/s]"
      ]
     },
     "metadata": {},
     "output_type": "display_data"
    }
   ],
   "source": [
    "tasks = pd.read_csv(INPUT_CSV)\n",
    "if \"text_llm\" not in tasks.columns:\n",
    "    tasks[\"text_llm\"] = None\n",
    "\n",
    "for idx, row in tqdm(tasks.iterrows(), total=len(tasks)):\n",
    "    if pd.isna(row[\"text_llm\"]) or row[\"text_llm\"].strip() == \"\":\n",
    "        try:\n",
    "            cleaned = call_llm(str(row[\"text\"]))\n",
    "            tasks.at[idx, \"text_llm\"] = cleaned.strip()\n",
    "        except Exception as e:\n",
    "            print(f\"[ERROR] LLM failed on utt {row['utt']} with error: {e}\")\n",
    "            tasks.at[idx, \"text_llm\"] = None\n",
    "\n",
    "tasks[[\"utt\", \"reference_speech\", \"text\", \"text_llm\"]].to_csv(INPUT_CSV, index=False, encoding=\"utf-8\")"
   ]
  },
  {
   "cell_type": "code",
   "execution_count": 7,
   "id": "0f24e171-9367-4bd4-bf81-f408c7267a46",
   "metadata": {
    "execution": {
     "iopub.execute_input": "2025-08-07T03:19:41.893311Z",
     "iopub.status.busy": "2025-08-07T03:19:41.892997Z",
     "iopub.status.idle": "2025-08-07T03:19:41.900220Z",
     "shell.execute_reply": "2025-08-07T03:19:41.899813Z",
     "shell.execute_reply.started": "2025-08-07T03:19:41.893290Z"
    },
    "tags": []
   },
   "outputs": [
    {
     "data": {
      "text/html": [
       "<div>\n",
       "<style scoped>\n",
       "    .dataframe tbody tr th:only-of-type {\n",
       "        vertical-align: middle;\n",
       "    }\n",
       "\n",
       "    .dataframe tbody tr th {\n",
       "        vertical-align: top;\n",
       "    }\n",
       "\n",
       "    .dataframe thead th {\n",
       "        text-align: right;\n",
       "    }\n",
       "</style>\n",
       "<table border=\"1\" class=\"dataframe\">\n",
       "  <thead>\n",
       "    <tr style=\"text-align: right;\">\n",
       "      <th></th>\n",
       "      <th>utt</th>\n",
       "      <th>reference_speech</th>\n",
       "      <th>text</th>\n",
       "      <th>text_llm</th>\n",
       "    </tr>\n",
       "  </thead>\n",
       "  <tbody>\n",
       "    <tr>\n",
       "      <th>0</th>\n",
       "      <td>1</td>\n",
       "      <td>reference_1.wav</td>\n",
       "      <td>六</td>\n",
       "      <td>六</td>\n",
       "    </tr>\n",
       "    <tr>\n",
       "      <th>1</th>\n",
       "      <td>2</td>\n",
       "      <td>reference_2.wav</td>\n",
       "      <td>缴纳罚款单，交警大队开具的违停罚单，编号20240305</td>\n",
       "      <td>缴纳罚款单，交警大队开具的违停罚单，编号二零二四零三零五。</td>\n",
       "    </tr>\n",
       "    <tr>\n",
       "      <th>2</th>\n",
       "      <td>3</td>\n",
       "      <td>reference_3.wav</td>\n",
       "      <td>腾地而起的风关上了门卷起满屋幽幽檀香味他广袖被风吹起拂过我的眉眼</td>\n",
       "      <td>腾地而起的风关上了门，卷起满屋幽幽檀香味。他广袖被风吹起，拂过我的眉眼。</td>\n",
       "    </tr>\n",
       "    <tr>\n",
       "      <th>3</th>\n",
       "      <td>4</td>\n",
       "      <td>reference_4.wav</td>\n",
       "      <td>但这还不是定局一切都将充满变数</td>\n",
       "      <td>但這還不是定局，一切將充滿變數。</td>\n",
       "    </tr>\n",
       "    <tr>\n",
       "      <th>4</th>\n",
       "      <td>5</td>\n",
       "      <td>reference_5.wav</td>\n",
       "      <td>从屏风后面转出来看看镜子中的自己，瑞博甚至有种换了个人的感觉</td>\n",
       "      <td>从屏风后面转出来，看看镜子中的自己，瑞博甚至有种换了个人的感觉。</td>\n",
       "    </tr>\n",
       "    <tr>\n",
       "      <th>...</th>\n",
       "      <td>...</td>\n",
       "      <td>...</td>\n",
       "      <td>...</td>\n",
       "      <td>...</td>\n",
       "    </tr>\n",
       "    <tr>\n",
       "      <th>195</th>\n",
       "      <td>196</td>\n",
       "      <td>reference_196.wav</td>\n",
       "      <td>在旅途中那位来自银行的同行告诉我，虽然他是第一次跟我们公司的人一起出差，但他走路的速度一点也...</td>\n",
       "      <td>在旅途中，那位来自银行的同行告诉我，虽然他是第一次跟我们公司的人一起出差，但他的走路速度一点...</td>\n",
       "    </tr>\n",
       "    <tr>\n",
       "      <th>196</th>\n",
       "      <td>197</td>\n",
       "      <td>reference_197.wav</td>\n",
       "      <td>未来短视频创作又将走向何方？</td>\n",
       "      <td>未来短视频创作又将走向何方？</td>\n",
       "    </tr>\n",
       "    <tr>\n",
       "      <th>197</th>\n",
       "      <td>198</td>\n",
       "      <td>reference_198.wav</td>\n",
       "      <td>虽然他还欠我十块钱没还，但我还是决定再借给他一些，因为他答应下个月一定还清，而且他还一再保证...</td>\n",
       "      <td>虽然他还欠我十块钱没还，但我还是决定再借给他一些，因为他答应下个月一定还清。而且他还一再保证...</td>\n",
       "    </tr>\n",
       "    <tr>\n",
       "      <th>198</th>\n",
       "      <td>199</td>\n",
       "      <td>reference_199.wav</td>\n",
       "      <td>伊犁州林业和草原局与伊犁州气象局2023年3月31日17时联合发布森林（草原）火险气象风险橙...</td>\n",
       "      <td>二零二三年三月三十一日十七时，伊犁州林业和草原局与伊犁州气象局联合发布森林（草原）火险气象风...</td>\n",
       "    </tr>\n",
       "    <tr>\n",
       "      <th>199</th>\n",
       "      <td>200</td>\n",
       "      <td>reference_200.wav</td>\n",
       "      <td>买体检套餐，基础项目+肿瘤筛查，价格1280元，用医保支付</td>\n",
       "      <td>买体检套餐，基础项目加肿瘤筛查，价格一千二百八十元，用医保支付。</td>\n",
       "    </tr>\n",
       "  </tbody>\n",
       "</table>\n",
       "<p>200 rows × 4 columns</p>\n",
       "</div>"
      ],
      "text/plain": [
       "     utt   reference_speech  \\\n",
       "0      1    reference_1.wav   \n",
       "1      2    reference_2.wav   \n",
       "2      3    reference_3.wav   \n",
       "3      4    reference_4.wav   \n",
       "4      5    reference_5.wav   \n",
       "..   ...                ...   \n",
       "195  196  reference_196.wav   \n",
       "196  197  reference_197.wav   \n",
       "197  198  reference_198.wav   \n",
       "198  199  reference_199.wav   \n",
       "199  200  reference_200.wav   \n",
       "\n",
       "                                                  text  \\\n",
       "0                                                    六   \n",
       "1                         缴纳罚款单，交警大队开具的违停罚单，编号20240305   \n",
       "2                     腾地而起的风关上了门卷起满屋幽幽檀香味他广袖被风吹起拂过我的眉眼   \n",
       "3                                      但这还不是定局一切都将充满变数   \n",
       "4                       从屏风后面转出来看看镜子中的自己，瑞博甚至有种换了个人的感觉   \n",
       "..                                                 ...   \n",
       "195  在旅途中那位来自银行的同行告诉我，虽然他是第一次跟我们公司的人一起出差，但他走路的速度一点也...   \n",
       "196                                     未来短视频创作又将走向何方？   \n",
       "197  虽然他还欠我十块钱没还，但我还是决定再借给他一些，因为他答应下个月一定还清，而且他还一再保证...   \n",
       "198  伊犁州林业和草原局与伊犁州气象局2023年3月31日17时联合发布森林（草原）火险气象风险橙...   \n",
       "199                      买体检套餐，基础项目+肿瘤筛查，价格1280元，用医保支付   \n",
       "\n",
       "                                              text_llm  \n",
       "0                                                    六  \n",
       "1                        缴纳罚款单，交警大队开具的违停罚单，编号二零二四零三零五。  \n",
       "2                 腾地而起的风关上了门，卷起满屋幽幽檀香味。他广袖被风吹起，拂过我的眉眼。  \n",
       "3                                     但這還不是定局，一切將充滿變數。  \n",
       "4                     从屏风后面转出来，看看镜子中的自己，瑞博甚至有种换了个人的感觉。  \n",
       "..                                                 ...  \n",
       "195  在旅途中，那位来自银行的同行告诉我，虽然他是第一次跟我们公司的人一起出差，但他的走路速度一点...  \n",
       "196                                     未来短视频创作又将走向何方？  \n",
       "197  虽然他还欠我十块钱没还，但我还是决定再借给他一些，因为他答应下个月一定还清。而且他还一再保证...  \n",
       "198  二零二三年三月三十一日十七时，伊犁州林业和草原局与伊犁州气象局联合发布森林（草原）火险气象风...  \n",
       "199                   买体检套餐，基础项目加肿瘤筛查，价格一千二百八十元，用医保支付。  \n",
       "\n",
       "[200 rows x 4 columns]"
      ]
     },
     "execution_count": 7,
     "metadata": {},
     "output_type": "execute_result"
    }
   ],
   "source": [
    "tasks"
   ]
  },
  {
   "cell_type": "code",
   "execution_count": 8,
   "id": "0a094b30",
   "metadata": {
    "ExecutionIndicator": {
     "show": true
    },
    "execution": {
     "iopub.execute_input": "2025-08-07T03:19:47.604658Z",
     "iopub.status.busy": "2025-08-07T03:19:47.604350Z",
     "iopub.status.idle": "2025-08-07T04:02:21.325019Z",
     "shell.execute_reply": "2025-08-07T04:02:21.324397Z",
     "shell.execute_reply.started": "2025-08-07T03:19:47.604638Z"
    },
    "tags": []
   },
   "outputs": [
    {
     "name": "stderr",
     "output_type": "stream",
     "text": [
      "/usr/local/lib/python3.11/site-packages/torch/nn/utils/weight_norm.py:28: UserWarning: torch.nn.utils.weight_norm is deprecated in favor of torch.nn.utils.parametrizations.weight_norm.\n",
      "  warnings.warn(\"torch.nn.utils.weight_norm is deprecated in favor of torch.nn.utils.parametrizations.weight_norm.\")\n"
     ]
    },
    {
     "name": "stdout",
     "output_type": "stream",
     "text": [
      "Missing tensor: mel_transformer.spectrogram.window\n",
      "Missing tensor: mel_transformer.mel_scale.fb\n"
     ]
    },
    {
     "data": {
      "application/vnd.jupyter.widget-view+json": {
       "model_id": "2934a671b41647709e5779947db582ab",
       "version_major": 2,
       "version_minor": 0
      },
      "text/plain": [
       "0it [00:00, ?it/s]"
      ]
     },
     "metadata": {},
     "output_type": "display_data"
    },
    {
     "name": "stdout",
     "output_type": "stream",
     "text": [
      "1 六 aigc_speech_generation_tasks/reference_1.wav\n"
     ]
    },
    {
     "name": "stderr",
     "output_type": "stream",
     "text": [
      "Setting `pad_token_id` to `eos_token_id`:None for open-end generation.\n",
      "Setting `pad_token_id` to `eos_token_id`:None for open-end generation.\n"
     ]
    },
    {
     "name": "stdout",
     "output_type": "stream",
     "text": [
      "2 缴纳罚款单，交警大队开具的违停罚单，编号二零二四零三零五。 aigc_speech_generation_tasks/reference_2.wav\n"
     ]
    },
    {
     "name": "stderr",
     "output_type": "stream",
     "text": [
      "Setting `pad_token_id` to `eos_token_id`:None for open-end generation.\n"
     ]
    },
    {
     "name": "stdout",
     "output_type": "stream",
     "text": [
      "3 腾地而起的风关上了门，卷起满屋幽幽檀香味。他广袖被风吹起，拂过我的眉眼。 aigc_speech_generation_tasks/reference_3.wav\n"
     ]
    },
    {
     "name": "stderr",
     "output_type": "stream",
     "text": [
      "Setting `pad_token_id` to `eos_token_id`:None for open-end generation.\n"
     ]
    },
    {
     "name": "stdout",
     "output_type": "stream",
     "text": [
      "4 但這還不是定局，一切將充滿變數。 aigc_speech_generation_tasks/reference_4.wav\n"
     ]
    },
    {
     "name": "stderr",
     "output_type": "stream",
     "text": [
      "Setting `pad_token_id` to `eos_token_id`:None for open-end generation.\n"
     ]
    },
    {
     "name": "stdout",
     "output_type": "stream",
     "text": [
      "5 从屏风后面转出来，看看镜子中的自己，瑞博甚至有种换了个人的感觉。 aigc_speech_generation_tasks/reference_5.wav\n"
     ]
    },
    {
     "name": "stderr",
     "output_type": "stream",
     "text": [
      "Setting `pad_token_id` to `eos_token_id`:None for open-end generation.\n"
     ]
    },
    {
     "name": "stdout",
     "output_type": "stream",
     "text": [
      "6 雨下得很大，像是要把整个城市淹没。他靠在窗边，望着远方模糊的灯火，心中却是一片空荡。手机已经静默了整整三天，而他知道，有些等待，是永远不会有回音的。 aigc_speech_generation_tasks/reference_6.wav\n"
     ]
    },
    {
     "name": "stderr",
     "output_type": "stream",
     "text": [
      "Setting `pad_token_id` to `eos_token_id`:None for open-end generation.\n"
     ]
    },
    {
     "name": "stdout",
     "output_type": "stream",
     "text": [
      "7 用我的支付宝账户里的余额给我定一套优衣库的家居服，选择的是粉红色和灰色相间的那款。 aigc_speech_generation_tasks/reference_7.wav\n"
     ]
    },
    {
     "name": "stderr",
     "output_type": "stream",
     "text": [
      "Setting `pad_token_id` to `eos_token_id`:None for open-end generation.\n"
     ]
    },
    {
     "name": "stdout",
     "output_type": "stream",
     "text": [
      "8 但任天堂和以上四类都不太一样。 aigc_speech_generation_tasks/reference_8.wav\n"
     ]
    },
    {
     "name": "stderr",
     "output_type": "stream",
     "text": [
      "Setting `pad_token_id` to `eos_token_id`:None for open-end generation.\n"
     ]
    },
    {
     "name": "stdout",
     "output_type": "stream",
     "text": [
      "9 每股美国存托股ADS基本和摊薄亏损均为人民币零点七五元，约合零点一一美元。而上年同期每股ADS基本和摊薄亏损均为人民币零点八八元。 aigc_speech_generation_tasks/reference_9.wav\n"
     ]
    },
    {
     "name": "stderr",
     "output_type": "stream",
     "text": [
      "Setting `pad_token_id` to `eos_token_id`:None for open-end generation.\n"
     ]
    },
    {
     "name": "stdout",
     "output_type": "stream",
     "text": [
      "10 可见金融资产的不均衡程度更显著。 aigc_speech_generation_tasks/reference_10.wav\n"
     ]
    },
    {
     "name": "stderr",
     "output_type": "stream",
     "text": [
      "Setting `pad_token_id` to `eos_token_id`:None for open-end generation.\n"
     ]
    },
    {
     "name": "stdout",
     "output_type": "stream",
     "text": [
      "11 因此，更为成熟的市场则会出现更多生态式并购。 aigc_speech_generation_tasks/reference_11.wav\n"
     ]
    },
    {
     "name": "stderr",
     "output_type": "stream",
     "text": [
      "Setting `pad_token_id` to `eos_token_id`:None for open-end generation.\n"
     ]
    },
    {
     "name": "stdout",
     "output_type": "stream",
     "text": [
      "12 预定网约车，车型选SUV，司机需有儿童座椅。 aigc_speech_generation_tasks/reference_12.wav\n",
      "13 不客气，我很高兴能帮到你。如果你需要再聊，可以随时找我。 aigc_speech_generation_tasks/reference_13.wav\n"
     ]
    },
    {
     "name": "stderr",
     "output_type": "stream",
     "text": [
      "Setting `pad_token_id` to `eos_token_id`:None for open-end generation.\n",
      "Setting `pad_token_id` to `eos_token_id`:None for open-end generation.\n"
     ]
    },
    {
     "name": "stdout",
     "output_type": "stream",
     "text": [
      "14 哎呀妈呀，这个天儿真热，心里直犯闷。今天咱们得找个地儿好好歇歇。 aigc_speech_generation_tasks/reference_14.wav\n"
     ]
    },
    {
     "name": "stderr",
     "output_type": "stream",
     "text": [
      "Setting `pad_token_id` to `eos_token_id`:None for open-end generation.\n"
     ]
    },
    {
     "name": "stdout",
     "output_type": "stream",
     "text": [
      "15 在这里，自由电子的数量足以影响电波的传播。 aigc_speech_generation_tasks/reference_15.wav\n"
     ]
    },
    {
     "name": "stderr",
     "output_type": "stream",
     "text": [
      "Setting `pad_token_id` to `eos_token_id`:None for open-end generation.\n"
     ]
    },
    {
     "name": "stdout",
     "output_type": "stream",
     "text": [
      "16 量子力学的核心概念是波函数。 aigc_speech_generation_tasks/reference_16.wav\n",
      "17 植物病害的发生往往与病原微生物的侵染有关，例如真菌、细菌、病毒等都可能引起植物组织病变，影响其正常生长和产量。因此在农业生产中，需加强病害监测与防治。 aigc_speech_generation_tasks/reference_17.wav\n"
     ]
    },
    {
     "name": "stderr",
     "output_type": "stream",
     "text": [
      "Setting `pad_token_id` to `eos_token_id`:None for open-end generation.\n",
      "Setting `pad_token_id` to `eos_token_id`:None for open-end generation.\n"
     ]
    },
    {
     "name": "stdout",
     "output_type": "stream",
     "text": [
      "18 现时环球金融中心也因形状如同开瓶器而遭到民众调侃。 aigc_speech_generation_tasks/reference_18.wav\n"
     ]
    },
    {
     "name": "stderr",
     "output_type": "stream",
     "text": [
      "Setting `pad_token_id` to `eos_token_id`:None for open-end generation.\n"
     ]
    },
    {
     "name": "stdout",
     "output_type": "stream",
     "text": [
      "19 因为他好勇斗狠，在平时并不是好相处的。所以大家在与他交往时都比较谨慎，生怕一不小心就惹怒了他。 aigc_speech_generation_tasks/reference_19.wav\n"
     ]
    },
    {
     "name": "stderr",
     "output_type": "stream",
     "text": [
      "Setting `pad_token_id` to `eos_token_id`:None for open-end generation.\n"
     ]
    },
    {
     "name": "stdout",
     "output_type": "stream",
     "text": [
      "20 租用共享汽车，需要自动挡SUV车型。 aigc_speech_generation_tasks/reference_20.wav\n"
     ]
    },
    {
     "name": "stderr",
     "output_type": "stream",
     "text": [
      "Setting `pad_token_id` to `eos_token_id`:None for open-end generation.\n"
     ]
    },
    {
     "name": "stdout",
     "output_type": "stream",
     "text": [
      "21 她一边看着窗外淅淅沥沥的小雨，一边回忆起小时候和奶奶一起包饺子的情景，那种温暖的感觉至今还留在心里。 aigc_speech_generation_tasks/reference_21.wav\n"
     ]
    },
    {
     "name": "stderr",
     "output_type": "stream",
     "text": [
      "Setting `pad_token_id` to `eos_token_id`:None for open-end generation.\n"
     ]
    },
    {
     "name": "stdout",
     "output_type": "stream",
     "text": [
      "22 订单号是零八一九五七六一。 aigc_speech_generation_tasks/reference_22.wav\n"
     ]
    },
    {
     "name": "stderr",
     "output_type": "stream",
     "text": [
      "Setting `pad_token_id` to `eos_token_id`:None for open-end generation.\n"
     ]
    },
    {
     "name": "stdout",
     "output_type": "stream",
     "text": [
      "23 我就是卖一下惨，寂寞清冷，还有明月为伴。 aigc_speech_generation_tasks/reference_23.wav\n"
     ]
    },
    {
     "name": "stderr",
     "output_type": "stream",
     "text": [
      "Setting `pad_token_id` to `eos_token_id`:None for open-end generation.\n"
     ]
    },
    {
     "name": "stdout",
     "output_type": "stream",
     "text": [
      "24 厉害厉害，我说句心里话，他的成绩让我有一些意外。 aigc_speech_generation_tasks/reference_24.wav\n"
     ]
    },
    {
     "name": "stderr",
     "output_type": "stream",
     "text": [
      "Setting `pad_token_id` to `eos_token_id`:None for open-end generation.\n"
     ]
    },
    {
     "name": "stdout",
     "output_type": "stream",
     "text": [
      "25 叫叮咚买菜送两斤基围虾，要活蹦乱跳的。 aigc_speech_generation_tasks/reference_25.wav\n",
      "26 对方称需要提供资产证明，让其将支付宝借呗、微信微粒贷等额度取出，并凑齐一万元。并电话中提供给其一个银行账户，让其按照提示操作。被骗五万元。 aigc_speech_generation_tasks/reference_26.wav\n"
     ]
    },
    {
     "name": "stderr",
     "output_type": "stream",
     "text": [
      "Setting `pad_token_id` to `eos_token_id`:None for open-end generation.\n",
      "Setting `pad_token_id` to `eos_token_id`:None for open-end generation.\n"
     ]
    },
    {
     "name": "stdout",
     "output_type": "stream",
     "text": [
      "27 因为安全是最重要的，无论做什么事情，首先都要确保自己和他人的安全。只要小心谨慎，很多问题都能避免。 aigc_speech_generation_tasks/reference_27.wav\n"
     ]
    },
    {
     "name": "stderr",
     "output_type": "stream",
     "text": [
      "Setting `pad_token_id` to `eos_token_id`:None for open-end generation.\n"
     ]
    },
    {
     "name": "stdout",
     "output_type": "stream",
     "text": [
      "28 我想购买一套新的床单被罩，花色简单大方的，预算两百元，请安排付款。 aigc_speech_generation_tasks/reference_28.wav\n"
     ]
    },
    {
     "name": "stderr",
     "output_type": "stream",
     "text": [
      "Setting `pad_token_id` to `eos_token_id`:None for open-end generation.\n"
     ]
    },
    {
     "name": "stdout",
     "output_type": "stream",
     "text": [
      "29 听起来，他们试图利用某些装置净化诅咒，可能就是之前我们看到过的那件物品。 aigc_speech_generation_tasks/reference_29.wav\n"
     ]
    },
    {
     "name": "stderr",
     "output_type": "stream",
     "text": [
      "Setting `pad_token_id` to `eos_token_id`:None for open-end generation.\n"
     ]
    },
    {
     "name": "stdout",
     "output_type": "stream",
     "text": [
      "30 给我购买一台新款苹果电脑，配上十六GB内存和五百一十二GB硬盘的那种。 aigc_speech_generation_tasks/reference_30.wav\n"
     ]
    },
    {
     "name": "stderr",
     "output_type": "stream",
     "text": [
      "Setting `pad_token_id` to `eos_token_id`:None for open-end generation.\n"
     ]
    },
    {
     "name": "stdout",
     "output_type": "stream",
     "text": [
      "31 这叫富贵险中求，被砍头的概率也很高。 aigc_speech_generation_tasks/reference_31.wav\n"
     ]
    },
    {
     "name": "stderr",
     "output_type": "stream",
     "text": [
      "Setting `pad_token_id` to `eos_token_id`:None for open-end generation.\n"
     ]
    },
    {
     "name": "stdout",
     "output_type": "stream",
     "text": [
      "32 我的账户的电话卡余额不足了，请立刻充值一百元。 aigc_speech_generation_tasks/reference_32.wav\n"
     ]
    },
    {
     "name": "stderr",
     "output_type": "stream",
     "text": [
      "Setting `pad_token_id` to `eos_token_id`:None for open-end generation.\n"
     ]
    },
    {
     "name": "stdout",
     "output_type": "stream",
     "text": [
      "33 舌下神经核位于脑干的延髓部分。舌下神经核是控制舌肌运动的重要神经核，它发出的神经纤维通过舌下神经，支配舌部肌肉的运动。如果您感觉舌部活动不灵活，或有其他相关症状，建议及时就医进行详细检查。 aigc_speech_generation_tasks/reference_33.wav\n"
     ]
    },
    {
     "name": "stderr",
     "output_type": "stream",
     "text": [
      "Setting `pad_token_id` to `eos_token_id`:None for open-end generation.\n"
     ]
    },
    {
     "name": "stdout",
     "output_type": "stream",
     "text": [
      "34 我来付钱。 aigc_speech_generation_tasks/reference_34.wav\n"
     ]
    },
    {
     "name": "stderr",
     "output_type": "stream",
     "text": [
      "Setting `pad_token_id` to `eos_token_id`:None for open-end generation.\n"
     ]
    },
    {
     "name": "stdout",
     "output_type": "stream",
     "text": [
      "35 我要给我家宽带账户缴费三百元，现在就办。 aigc_speech_generation_tasks/reference_35.wav\n"
     ]
    },
    {
     "name": "stderr",
     "output_type": "stream",
     "text": [
      "Setting `pad_token_id` to `eos_token_id`:None for open-end generation.\n"
     ]
    },
    {
     "name": "stdout",
     "output_type": "stream",
     "text": [
      "36 本班列车是第二班由海南省前往东北地区的旅客列车。 aigc_speech_generation_tasks/reference_36.wav\n",
      "37 该冲锋枪的一个特点是位于扳机护环后方的拆卸螺栓。 aigc_speech_generation_tasks/reference_37.wav\n"
     ]
    },
    {
     "name": "stderr",
     "output_type": "stream",
     "text": [
      "Setting `pad_token_id` to `eos_token_id`:None for open-end generation.\n",
      "Setting `pad_token_id` to `eos_token_id`:None for open-end generation.\n"
     ]
    },
    {
     "name": "stdout",
     "output_type": "stream",
     "text": [
      "38 每次看到那张老照片，他都会想起大学时期和室友们熬夜复习考试的日子，那种拼搏的精神让他至今难忘。 aigc_speech_generation_tasks/reference_38.wav\n"
     ]
    },
    {
     "name": "stderr",
     "output_type": "stream",
     "text": [
      "Setting `pad_token_id` to `eos_token_id`:None for open-end generation.\n"
     ]
    },
    {
     "name": "stdout",
     "output_type": "stream",
     "text": [
      "39 超市满减券今天到期，快帮我凑单到两百元。 aigc_speech_generation_tasks/reference_39.wav\n"
     ]
    },
    {
     "name": "stderr",
     "output_type": "stream",
     "text": [
      "Setting `pad_token_id` to `eos_token_id`:None for open-end generation.\n"
     ]
    },
    {
     "name": "stdout",
     "output_type": "stream",
     "text": [
      "40 随着人工智能技术的不断进步，越来越多的企业开始将AI应用于医疗诊断、金融分析和制造业自动化等领域。 aigc_speech_generation_tasks/reference_40.wav\n"
     ]
    },
    {
     "name": "stderr",
     "output_type": "stream",
     "text": [
      "Setting `pad_token_id` to `eos_token_id`:None for open-end generation.\n"
     ]
    },
    {
     "name": "stdout",
     "output_type": "stream",
     "text": [
      "41 预约后天早上的机场贵宾厅服务。 aigc_speech_generation_tasks/reference_41.wav\n",
      "42 您需要上传医保电子凭证，或者社会保障卡，或者身份证，或者户口簿，或者护照，或者港澳居民来往内地通行证，或者港澳台居民居住证，或者中华人民共和国外国人永久居留身份证。 aigc_speech_generation_tasks/reference_42.wav\n"
     ]
    },
    {
     "name": "stderr",
     "output_type": "stream",
     "text": [
      "Setting `pad_token_id` to `eos_token_id`:None for open-end generation.\n",
      "Setting `pad_token_id` to `eos_token_id`:None for open-end generation.\n"
     ]
    },
    {
     "name": "stdout",
     "output_type": "stream",
     "text": [
      "43 德国土木工程师利林塔尔所设计的滑翔机，把无动力载人飞行试验推向高潮。 aigc_speech_generation_tasks/reference_43.wav\n",
      "44 门锁没有被破坏，然后家里面翻动痕迹也不大，再就是而且是白天作案。 aigc_speech_generation_tasks/reference_44.wav\n"
     ]
    },
    {
     "name": "stderr",
     "output_type": "stream",
     "text": [
      "Setting `pad_token_id` to `eos_token_id`:None for open-end generation.\n",
      "Setting `pad_token_id` to `eos_token_id`:None for open-end generation.\n"
     ]
    },
    {
     "name": "stdout",
     "output_type": "stream",
     "text": [
      "45 每一个新动作的完成都需要经历上百次的尝试和打磨。 aigc_speech_generation_tasks/reference_45.wav\n"
     ]
    },
    {
     "name": "stderr",
     "output_type": "stream",
     "text": [
      "Setting `pad_token_id` to `eos_token_id`:None for open-end generation.\n"
     ]
    },
    {
     "name": "stdout",
     "output_type": "stream",
     "text": [
      "46 就是说我们看到的生活，好像都是挺自然的。 aigc_speech_generation_tasks/reference_46.wav\n"
     ]
    },
    {
     "name": "stderr",
     "output_type": "stream",
     "text": [
      "Setting `pad_token_id` to `eos_token_id`:None for open-end generation.\n"
     ]
    },
    {
     "name": "stdout",
     "output_type": "stream",
     "text": [
      "47 给我买一批日用品，包括卷纸、洗发水和牙膏，总共不要超过二百块。 aigc_speech_generation_tasks/reference_47.wav\n"
     ]
    },
    {
     "name": "stderr",
     "output_type": "stream",
     "text": [
      "Setting `pad_token_id` to `eos_token_id`:None for open-end generation.\n"
     ]
    },
    {
     "name": "stdout",
     "output_type": "stream",
     "text": [
      "48 引用轮转换位发表的笑笑，昨天我做梦，怎么下雨有点黄呢。 aigc_speech_generation_tasks/reference_48.wav\n"
     ]
    },
    {
     "name": "stderr",
     "output_type": "stream",
     "text": [
      "Setting `pad_token_id` to `eos_token_id`:None for open-end generation.\n"
     ]
    },
    {
     "name": "stdout",
     "output_type": "stream",
     "text": [
      "49 申请电子营业执照，个体工商户，经营范围食品零售。 aigc_speech_generation_tasks/reference_49.wav\n"
     ]
    },
    {
     "name": "stderr",
     "output_type": "stream",
     "text": [
      "Setting `pad_token_id` to `eos_token_id`:None for open-end generation.\n"
     ]
    },
    {
     "name": "stdout",
     "output_type": "stream",
     "text": [
      "50 城市的尽头有一座废弃的剧院。据说几十年前，这里上演过一场轰动一时的歌剧。后来因为一场大火而被永久关闭。有人说，每到午夜，还能听到隐约的歌声从里面传出。 aigc_speech_generation_tasks/reference_50.wav\n"
     ]
    },
    {
     "name": "stderr",
     "output_type": "stream",
     "text": [
      "Setting `pad_token_id` to `eos_token_id`:None for open-end generation.\n"
     ]
    },
    {
     "name": "stdout",
     "output_type": "stream",
     "text": [
      "51 不吵，也要表达自己的观点。 aigc_speech_generation_tasks/reference_51.wav\n"
     ]
    },
    {
     "name": "stderr",
     "output_type": "stream",
     "text": [
      "Setting `pad_token_id` to `eos_token_id`:None for open-end generation.\n"
     ]
    },
    {
     "name": "stdout",
     "output_type": "stream",
     "text": [
      "52 在这种情况下，首先要确保你使用了合适的优化算法，例如Adam或者RMSprop。此外，调整学习率和批次大小也会对结果产生显著影响。 aigc_speech_generation_tasks/reference_52.wav\n"
     ]
    },
    {
     "name": "stderr",
     "output_type": "stream",
     "text": [
      "Setting `pad_token_id` to `eos_token_id`:None for open-end generation.\n"
     ]
    },
    {
     "name": "stdout",
     "output_type": "stream",
     "text": [
      "53 这时期的年轻亚历山大不满，使他成了卡里亚公主的追求者，以取代他的白痴兄弟。 aigc_speech_generation_tasks/reference_53.wav\n"
     ]
    },
    {
     "name": "stderr",
     "output_type": "stream",
     "text": [
      "Setting `pad_token_id` to `eos_token_id`:None for open-end generation.\n"
     ]
    },
    {
     "name": "stdout",
     "output_type": "stream",
     "text": [
      "54 我要给妈妈买一条木材香色的真丝睡裙，直接用我手机里的支付宝支付。 aigc_speech_generation_tasks/reference_54.wav\n"
     ]
    },
    {
     "name": "stderr",
     "output_type": "stream",
     "text": [
      "Setting `pad_token_id` to `eos_token_id`:None for open-end generation.\n"
     ]
    },
    {
     "name": "stdout",
     "output_type": "stream",
     "text": [
      "55 附生杜鹃为杜鹃花科杜鹃属下的一个种。 aigc_speech_generation_tasks/reference_55.wav\n"
     ]
    },
    {
     "name": "stderr",
     "output_type": "stream",
     "text": [
      "Setting `pad_token_id` to `eos_token_id`:None for open-end generation.\n"
     ]
    },
    {
     "name": "stdout",
     "output_type": "stream",
     "text": [
      "56 那个孩子一边吃着冰淇淋，一边蹦蹦跳跳地跑向游乐场，脸上洋溢着幸福的笑容，仿佛整个世界都是他的。 aigc_speech_generation_tasks/reference_56.wav\n",
      "57 那几年我能做到的只是零星写点东西，聊以自慰。 aigc_speech_generation_tasks/reference_57.wav\n"
     ]
    },
    {
     "name": "stderr",
     "output_type": "stream",
     "text": [
      "Setting `pad_token_id` to `eos_token_id`:None for open-end generation.\n",
      "Setting `pad_token_id` to `eos_token_id`:None for open-end generation.\n"
     ]
    },
    {
     "name": "stdout",
     "output_type": "stream",
     "text": [
      "58 上呼吸道阻力症候群是一种常见的睡眠障碍。 aigc_speech_generation_tasks/reference_58.wav\n"
     ]
    },
    {
     "name": "stderr",
     "output_type": "stream",
     "text": [
      "Setting `pad_token_id` to `eos_token_id`:None for open-end generation.\n"
     ]
    },
    {
     "name": "stdout",
     "output_type": "stream",
     "text": [
      "59 邹氏作为沛国出身的人，我们丞相想跟她叙叙旧都不行么？ aigc_speech_generation_tasks/reference_59.wav\n"
     ]
    },
    {
     "name": "stderr",
     "output_type": "stream",
     "text": [
      "Setting `pad_token_id` to `eos_token_id`:None for open-end generation.\n"
     ]
    },
    {
     "name": "stdout",
     "output_type": "stream",
     "text": [
      "60 根是植物吸收水分和矿质元素的主要器官，其内部由根毛、皮层、内皮层和维管束组成。其中根毛极大地增加了吸收面积，提高了对土壤中水分和养分的摄取效率。 aigc_speech_generation_tasks/reference_60.wav\n"
     ]
    },
    {
     "name": "stderr",
     "output_type": "stream",
     "text": [
      "Setting `pad_token_id` to `eos_token_id`:None for open-end generation.\n"
     ]
    },
    {
     "name": "stdout",
     "output_type": "stream",
     "text": [
      "61 订三月十五日MU五幺一五上海飞北京经济舱靠窗座位 aigc_speech_generation_tasks/reference_61.wav\n"
     ]
    },
    {
     "name": "stderr",
     "output_type": "stream",
     "text": [
      "Setting `pad_token_id` to `eos_token_id`:None for open-end generation.\n"
     ]
    },
    {
     "name": "stdout",
     "output_type": "stream",
     "text": [
      "62 在超市买一打洗洁精，从我的余额宝里扣款吧。 aigc_speech_generation_tasks/reference_62.wav\n"
     ]
    },
    {
     "name": "stderr",
     "output_type": "stream",
     "text": [
      "Setting `pad_token_id` to `eos_token_id`:None for open-end generation.\n"
     ]
    },
    {
     "name": "stdout",
     "output_type": "stream",
     "text": [
      "63 旧书置换活动换到绝版书，预约快递取件。 aigc_speech_generation_tasks/reference_63.wav\n"
     ]
    },
    {
     "name": "stderr",
     "output_type": "stream",
     "text": [
      "Setting `pad_token_id` to `eos_token_id`:None for open-end generation.\n"
     ]
    },
    {
     "name": "stdout",
     "output_type": "stream",
     "text": [
      "64 如约而至，但真正的实力派齐国、晋国和秦国的代表却根本没有踪影。 aigc_speech_generation_tasks/reference_64.wav\n"
     ]
    },
    {
     "name": "stderr",
     "output_type": "stream",
     "text": [
      "Setting `pad_token_id` to `eos_token_id`:None for open-end generation.\n"
     ]
    },
    {
     "name": "stdout",
     "output_type": "stream",
     "text": [
      "65 这和照镜子时左右对调的性质有关。 aigc_speech_generation_tasks/reference_65.wav\n"
     ]
    },
    {
     "name": "stderr",
     "output_type": "stream",
     "text": [
      "Setting `pad_token_id` to `eos_token_id`:None for open-end generation.\n"
     ]
    },
    {
     "name": "stdout",
     "output_type": "stream",
     "text": [
      "66 太妙了！你当时一定是非常惊讶吧？ aigc_speech_generation_tasks/reference_66.wav\n"
     ]
    },
    {
     "name": "stderr",
     "output_type": "stream",
     "text": [
      "Setting `pad_token_id` to `eos_token_id`:None for open-end generation.\n"
     ]
    },
    {
     "name": "stdout",
     "output_type": "stream",
     "text": [
      "67 为什么我们需要哲学？哲学可以帮助我们更深刻地思考生命、世界和人类存在的本质问题。它不仅是对这些问题的探索，而且也是对人类的认知和思想的探究。通过哲学，我们能够理解不同的思维方式和不同的文化传统，并且能够建立全球和谐的文化和哲学框架。另外，哲学可以帮助我们独立思考和分析问题，不仅仅停留在表面现象，而是深入探究根源。这种思考方式不仅有益于我们个人的生活和成长，也可以有助于解决社会和全球性的问题。哲学如何启发我们的思维？哲学涉及一系列思考方法和工具，这些方法和工具可以培养我们思考问题的深度和广度。一些哲学方法包括：一、逻辑分析：哲学家常常运用逻辑分析来解决问题，通过将问题分解为更小的部分并分析它们之间的关系来理解它们。二、反思：哲学家强调反思自我和他人的思想和经验，并通过对这些经验和思想的思考来获得新的见解和理解。三、举例：哲学家借助实际案例，通过逻辑推理和类比等方法来解决问题和理解问题。四、思维实验：哲学家用想象，创造新的思想实验来探究现实的问题。这些方法可以帮助我们在个人和社会层面上，更好地思考和解决问题。通过哲学的学习，我们能够更好地理解这个世界和我们自己，从而帮助我们更好地面对未来的挑战。 aigc_speech_generation_tasks/reference_67.wav\n"
     ]
    },
    {
     "name": "stderr",
     "output_type": "stream",
     "text": [
      "Setting `pad_token_id` to `eos_token_id`:None for open-end generation.\n"
     ]
    },
    {
     "name": "stdout",
     "output_type": "stream",
     "text": [
      "68 正是由于有了建立在高度政治觉悟基础上的革命纪律，将士们哪怕烈火焚身，也岿然不动，直至付出生命。 aigc_speech_generation_tasks/reference_68.wav\n"
     ]
    },
    {
     "name": "stderr",
     "output_type": "stream",
     "text": [
      "Setting `pad_token_id` to `eos_token_id`:None for open-end generation.\n"
     ]
    },
    {
     "name": "stdout",
     "output_type": "stream",
     "text": [
      "69 似形古尖腭扁虫为尖腭扁虫科中一个已灭绝的物种。 aigc_speech_generation_tasks/reference_69.wav\n",
      "70 阳光太舒服了，帮我在我小区的健身房预约下午三点的瑜伽课。 aigc_speech_generation_tasks/reference_70.wav\n"
     ]
    },
    {
     "name": "stderr",
     "output_type": "stream",
     "text": [
      "Setting `pad_token_id` to `eos_token_id`:None for open-end generation.\n",
      "Setting `pad_token_id` to `eos_token_id`:None for open-end generation.\n"
     ]
    },
    {
     "name": "stdout",
     "output_type": "stream",
     "text": [
      "71 但遗憾的是，他的理论并没有能够在旧俄罗斯变为现实。 aigc_speech_generation_tasks/reference_71.wav\n"
     ]
    },
    {
     "name": "stderr",
     "output_type": "stream",
     "text": [
      "Setting `pad_token_id` to `eos_token_id`:None for open-end generation.\n"
     ]
    },
    {
     "name": "stdout",
     "output_type": "stream",
     "text": [
      "72 帮我预约下周三上午的家政服务，需要清洁加熨烫衣服。 aigc_speech_generation_tasks/reference_72.wav\n"
     ]
    },
    {
     "name": "stderr",
     "output_type": "stream",
     "text": [
      "Setting `pad_token_id` to `eos_token_id`:None for open-end generation.\n"
     ]
    },
    {
     "name": "stdout",
     "output_type": "stream",
     "text": [
      "73 关于作者和年代，历来有不同说法。 aigc_speech_generation_tasks/reference_73.wav\n"
     ]
    },
    {
     "name": "stderr",
     "output_type": "stream",
     "text": [
      "Setting `pad_token_id` to `eos_token_id`:None for open-end generation.\n"
     ]
    },
    {
     "name": "stdout",
     "output_type": "stream",
     "text": [
      "74 实不相瞒，我觉得我的理想已经实现了。 aigc_speech_generation_tasks/reference_74.wav\n"
     ]
    },
    {
     "name": "stderr",
     "output_type": "stream",
     "text": [
      "Setting `pad_token_id` to `eos_token_id`:None for open-end generation.\n"
     ]
    },
    {
     "name": "stdout",
     "output_type": "stream",
     "text": [
      "75 哎哟，你这事儿办得也太不地道了吧，我差点就被你给骗过去了。 aigc_speech_generation_tasks/reference_75.wav\n"
     ]
    },
    {
     "name": "stderr",
     "output_type": "stream",
     "text": [
      "Setting `pad_token_id` to `eos_token_id`:None for open-end generation.\n"
     ]
    },
    {
     "name": "stdout",
     "output_type": "stream",
     "text": [
      "76 在超市里，他花了将近一个小时才决定买哪一款洗发水，因为每个品牌都说自己是最适合干性头发的。 aigc_speech_generation_tasks/reference_76.wav\n"
     ]
    },
    {
     "name": "stderr",
     "output_type": "stream",
     "text": [
      "Setting `pad_token_id` to `eos_token_id`:None for open-end generation.\n"
     ]
    },
    {
     "name": "stdout",
     "output_type": "stream",
     "text": [
      "77 修武县气象台二零二三年六月十一日二十时五十三分发布雷暴大风橙色预警信号：预计未来三小时，我县城关镇、七贤镇、郇封镇、周庄镇、云台山镇、王屯乡、五里源乡、西村乡等乡镇将受雷暴大风天气影响，阵风风力达七到九级，并伴有强雷电，局地短时强降水和局地冰雹，请注意防范雷暴大风造成的不利影响。 aigc_speech_generation_tasks/reference_77.wav\n"
     ]
    },
    {
     "name": "stderr",
     "output_type": "stream",
     "text": [
      "Setting `pad_token_id` to `eos_token_id`:None for open-end generation.\n"
     ]
    },
    {
     "name": "stdout",
     "output_type": "stream",
     "text": [
      "78 尽管深度学习模型在图像识别任务中表现出色，但其对小样本数据的学习能力仍然有限，尤其是在类别不平衡或者噪声干扰严重的场景下。因此，研究人员正在探索基于元学习的方法来提升模型的泛化性能，并尝试结合自监督学习策略，以减少对标注数据的依赖。 aigc_speech_generation_tasks/reference_78.wav\n",
      "79 庞大的用户数使脸书反欺诈团队头痛不已。 aigc_speech_generation_tasks/reference_79.wav\n"
     ]
    },
    {
     "name": "stderr",
     "output_type": "stream",
     "text": [
      "Setting `pad_token_id` to `eos_token_id`:None for open-end generation.\n",
      "Setting `pad_token_id` to `eos_token_id`:None for open-end generation.\n"
     ]
    },
    {
     "name": "stdout",
     "output_type": "stream",
     "text": [
      "80 晚睡晚起是否算熬夜，主要取决于你的睡眠时间是否足够，以及你的生物钟是否被打乱。如果你晚睡但能保证足够的睡眠时间，成人通常需要七到九小时，并且第二天能自然醒来，不感觉疲劳或影响日常生活，这不算严格意义上的熬夜。然而，如果晚睡导致睡眠时间不足，或者晚起后感觉疲劳、注意力不集中，这可能被视为一种不规律的睡眠模式，长期下去可能会影响健康。建议尽量保持规律的睡眠时间，以维护身体和心理健康。如果出现睡眠问题，建议咨询医生。 aigc_speech_generation_tasks/reference_80.wav\n"
     ]
    },
    {
     "name": "stderr",
     "output_type": "stream",
     "text": [
      "Setting `pad_token_id` to `eos_token_id`:None for open-end generation.\n"
     ]
    },
    {
     "name": "stdout",
     "output_type": "stream",
     "text": [
      "81 购买一台电视，六十五英寸，四K分辨率，直接从我的银行卡扣款。 aigc_speech_generation_tasks/reference_81.wav\n",
      "82 帮我查一下我昨天在淘宝上买的所有生活用品有没有付款成功，如未成功请帮我处理。 aigc_speech_generation_tasks/reference_82.wav\n"
     ]
    },
    {
     "name": "stderr",
     "output_type": "stream",
     "text": [
      "Setting `pad_token_id` to `eos_token_id`:None for open-end generation.\n",
      "Setting `pad_token_id` to `eos_token_id`:None for open-end generation.\n"
     ]
    },
    {
     "name": "stdout",
     "output_type": "stream",
     "text": [
      "83 随便播放一首周杰伦的歌。 aigc_speech_generation_tasks/reference_83.wav\n"
     ]
    },
    {
     "name": "stderr",
     "output_type": "stream",
     "text": [
      "Setting `pad_token_id` to `eos_token_id`:None for open-end generation.\n"
     ]
    },
    {
     "name": "stdout",
     "output_type": "stream",
     "text": [
      "84 虽然该企业拥有一级安全生产资质，但其一般操作规程中明确标注：若未通过量子计算平台对非线性负载进行实时校准——这种极端情况下一级工程师通常不会手动干预——系统就可能会因谐波震荡导致崩溃。然而这种崩溃一般不会触发基础熔断机制，除非运营商同时忽略三级告警。 aigc_speech_generation_tasks/reference_84.wav\n"
     ]
    },
    {
     "name": "stderr",
     "output_type": "stream",
     "text": [
      "Setting `pad_token_id` to `eos_token_id`:None for open-end generation.\n"
     ]
    },
    {
     "name": "stdout",
     "output_type": "stream",
     "text": [
      "85 你该为自己转来转去的行为感到羞耻。 aigc_speech_generation_tasks/reference_85.wav\n",
      "86 它的脚爪整天都在滑倒。 aigc_speech_generation_tasks/reference_86.wav\n"
     ]
    },
    {
     "name": "stderr",
     "output_type": "stream",
     "text": [
      "Setting `pad_token_id` to `eos_token_id`:None for open-end generation.\n",
      "Setting `pad_token_id` to `eos_token_id`:None for open-end generation.\n"
     ]
    },
    {
     "name": "stdout",
     "output_type": "stream",
     "text": [
      "87 一些更复杂的方案会改变这些持续时间，以传达更多信息。 aigc_speech_generation_tasks/reference_87.wav\n"
     ]
    },
    {
     "name": "stderr",
     "output_type": "stream",
     "text": [
      "Setting `pad_token_id` to `eos_token_id`:None for open-end generation.\n"
     ]
    },
    {
     "name": "stdout",
     "output_type": "stream",
     "text": [
      "88 请替我缴纳下个月的网络宽带费，金额大概是一百元。 aigc_speech_generation_tasks/reference_88.wav\n"
     ]
    },
    {
     "name": "stderr",
     "output_type": "stream",
     "text": [
      "Setting `pad_token_id` to `eos_token_id`:None for open-end generation.\n"
     ]
    },
    {
     "name": "stdout",
     "output_type": "stream",
     "text": [
      "89 为我报名参加这个周末的烘焙课程，支付费用，并发送详细信息给我。 aigc_speech_generation_tasks/reference_89.wav\n"
     ]
    },
    {
     "name": "stderr",
     "output_type": "stream",
     "text": [
      "Setting `pad_token_id` to `eos_token_id`:None for open-end generation.\n"
     ]
    },
    {
     "name": "stdout",
     "output_type": "stream",
     "text": [
      "90 把杭州西湖区那家五星级酒店的行政套房定两天，下个月的十五号到十七号。 aigc_speech_generation_tasks/reference_90.wav\n"
     ]
    },
    {
     "name": "stderr",
     "output_type": "stream",
     "text": [
      "Setting `pad_token_id` to `eos_token_id`:None for open-end generation.\n"
     ]
    },
    {
     "name": "stdout",
     "output_type": "stream",
     "text": [
      "91 支付一百三十七点九元 aigc_speech_generation_tasks/reference_91.wav\n"
     ]
    },
    {
     "name": "stderr",
     "output_type": "stream",
     "text": [
      "Setting `pad_token_id` to `eos_token_id`:None for open-end generation.\n"
     ]
    },
    {
     "name": "stdout",
     "output_type": "stream",
     "text": [
      "92 为我家的宽带账户结算下个月的上网费用。 aigc_speech_generation_tasks/reference_92.wav\n"
     ]
    },
    {
     "name": "stderr",
     "output_type": "stream",
     "text": [
      "Setting `pad_token_id` to `eos_token_id`:None for open-end generation.\n"
     ]
    },
    {
     "name": "stdout",
     "output_type": "stream",
     "text": [
      "93 剩下几名猛虎帮的人吓得魂飞魄散，一个个哪还敢回头还击，只恨爹娘少给自己生两条腿，跑得更快！ aigc_speech_generation_tasks/reference_93.wav\n"
     ]
    },
    {
     "name": "stderr",
     "output_type": "stream",
     "text": [
      "Setting `pad_token_id` to `eos_token_id`:None for open-end generation.\n"
     ]
    },
    {
     "name": "stdout",
     "output_type": "stream",
     "text": [
      "94 防御指南：一、政府及相关部门应及时关注雷暴大风最新消息和有关防御通知，随时准备启动抢险应急方案。二、立即停止户外活动和作业。三、公园、景区、游乐场等户外场所应当及时发出警示信息，关闭相关区域，停止营业，组织居民避险。四、居民应当关紧门窗，妥善安置室外搁置物和悬挂物。人员切勿外出，外出时远离户外广告牌、棚架、铁皮屋、板房等易被大风吹动的搭建物，切勿在树下、电杆下、塔吊下躲避，应当留在有雷电防护装置的安全场所暂避。五、在建工地应当采取防护措施，加强工棚、脚手架、井架等设施和塔吊、龙门吊、升降机等机械、电器设备的安全防护，保障人员安全。六、铁路、公路等经营管理单位应当迅速采取措施，确保安全。预警信息来源：国家预警信息发布中心。 aigc_speech_generation_tasks/reference_94.wav\n"
     ]
    },
    {
     "name": "stderr",
     "output_type": "stream",
     "text": [
      "Setting `pad_token_id` to `eos_token_id`:None for open-end generation.\n"
     ]
    },
    {
     "name": "stdout",
     "output_type": "stream",
     "text": [
      "95 凡东汉明帝以前的重大历史事件和重要的历史人物，都被按鉴编入。 aigc_speech_generation_tasks/reference_95.wav\n"
     ]
    },
    {
     "name": "stderr",
     "output_type": "stream",
     "text": [
      "Setting `pad_token_id` to `eos_token_id`:None for open-end generation.\n"
     ]
    },
    {
     "name": "stdout",
     "output_type": "stream",
     "text": [
      "96 虽然今天天气不太好，下着雨，但他还是坚持准时出门去上班。因为他不想让同事们觉得他不够负责。 aigc_speech_generation_tasks/reference_96.wav\n"
     ]
    },
    {
     "name": "stderr",
     "output_type": "stream",
     "text": [
      "Setting `pad_token_id` to `eos_token_id`:None for open-end generation.\n"
     ]
    },
    {
     "name": "stdout",
     "output_type": "stream",
     "text": [
      "97 月光透过窗帘的缝隙洒进房间，照亮了桌上那张泛黄的照片。照片上的男孩笑得很灿烂，背景是一座早已被拆除的老房子。她盯着看了很久，仿佛那些记忆正一点一点地从黑暗中浮现出来。 aigc_speech_generation_tasks/reference_97.wav\n",
      "98 同时这也标志着两位大作曲家终身友谊的开始。 aigc_speech_generation_tasks/reference_98.wav\n"
     ]
    },
    {
     "name": "stderr",
     "output_type": "stream",
     "text": [
      "Setting `pad_token_id` to `eos_token_id`:None for open-end generation.\n",
      "Setting `pad_token_id` to `eos_token_id`:None for open-end generation.\n"
     ]
    },
    {
     "name": "stdout",
     "output_type": "stream",
     "text": [
      "99 每个人对生活的感受不同。对于我来说，理性与有序的生活方式让我感到安心和踏实。 aigc_speech_generation_tasks/reference_99.wav\n"
     ]
    },
    {
     "name": "stderr",
     "output_type": "stream",
     "text": [
      "Setting `pad_token_id` to `eos_token_id`:None for open-end generation.\n"
     ]
    },
    {
     "name": "stdout",
     "output_type": "stream",
     "text": [
      "100 我要给我家宽带账户缴费三百元，现在就办。 aigc_speech_generation_tasks/reference_100.wav\n"
     ]
    },
    {
     "name": "stderr",
     "output_type": "stream",
     "text": [
      "Setting `pad_token_id` to `eos_token_id`:None for open-end generation.\n"
     ]
    },
    {
     "name": "stdout",
     "output_type": "stream",
     "text": [
      "101 中年人吃痛本能，一缩腿的功夫，我已经到了近处。他抬手还要再还击，我又一次劈拳跟着落下去了。 aigc_speech_generation_tasks/reference_101.wav\n"
     ]
    },
    {
     "name": "stderr",
     "output_type": "stream",
     "text": [
      "Setting `pad_token_id` to `eos_token_id`:None for open-end generation.\n"
     ]
    },
    {
     "name": "stdout",
     "output_type": "stream",
     "text": [
      "102 把我孩子的艺术班学费结算了，二百元。 aigc_speech_generation_tasks/reference_102.wav\n"
     ]
    },
    {
     "name": "stderr",
     "output_type": "stream",
     "text": [
      "Setting `pad_token_id` to `eos_token_id`:None for open-end generation.\n"
     ]
    },
    {
     "name": "stdout",
     "output_type": "stream",
     "text": [
      "103 取景换了好几个，拍摄国家特别美丽 aigc_speech_generation_tasks/reference_103.wav\n",
      "104 穿着笔挺礼服，打着漂亮领结的侍者，原本在餐厅忙碌地穿来穿去。瑞博就着白开水，啃完干面包，走出了别墅。马车已经在门外等候着了。 aigc_speech_generation_tasks/reference_104.wav\n"
     ]
    },
    {
     "name": "stderr",
     "output_type": "stream",
     "text": [
      "Setting `pad_token_id` to `eos_token_id`:None for open-end generation.\n"
     ]
    },
    {
     "name": "stdout",
     "output_type": "stream",
     "text": [
      "105 预订一周的云南旅游套餐，包括昆明、大理和丽江的住宿和交通。 aigc_speech_generation_tasks/reference_105.wav\n"
     ]
    },
    {
     "name": "stderr",
     "output_type": "stream",
     "text": [
      "Setting `pad_token_id` to `eos_token_id`:None for open-end generation.\n",
      "Setting `pad_token_id` to `eos_token_id`:None for open-end generation.\n"
     ]
    },
    {
     "name": "stdout",
     "output_type": "stream",
     "text": [
      "106 G女士收到一条短信，写着快递丢失，点进链接可以帮助理赔退款。G女士加了客服的联系方式，并指导她下载某会议APP。视频指导她先发送支付宝口令红包，并告知马上即可给她退款。G女士打完款后被拉黑，遂意识到被骗。 aigc_speech_generation_tasks/reference_106.wav\n"
     ]
    },
    {
     "name": "stderr",
     "output_type": "stream",
     "text": [
      "Setting `pad_token_id` to `eos_token_id`:None for open-end generation.\n"
     ]
    },
    {
     "name": "stdout",
     "output_type": "stream",
     "text": [
      "107 不少凡人害怕打雷，无法理解，这分明很寻常。 aigc_speech_generation_tasks/reference_107.wav\n"
     ]
    },
    {
     "name": "stderr",
     "output_type": "stream",
     "text": [
      "Setting `pad_token_id` to `eos_token_id`:None for open-end generation.\n"
     ]
    },
    {
     "name": "stdout",
     "output_type": "stream",
     "text": [
      "108 为我在故宫边上的老北京烤鸭店订一桌宴席，并支付订金。 aigc_speech_generation_tasks/reference_108.wav\n"
     ]
    },
    {
     "name": "stderr",
     "output_type": "stream",
     "text": [
      "Setting `pad_token_id` to `eos_token_id`:None for open-end generation.\n"
     ]
    },
    {
     "name": "stdout",
     "output_type": "stream",
     "text": [
      "109 字根是字形类中文输入法拆字的基本形状单位。 aigc_speech_generation_tasks/reference_109.wav\n"
     ]
    },
    {
     "name": "stderr",
     "output_type": "stream",
     "text": [
      "Setting `pad_token_id` to `eos_token_id`:None for open-end generation.\n"
     ]
    },
    {
     "name": "stdout",
     "output_type": "stream",
     "text": [
      "110 所以方案型代餐切中的人群相对小众。 aigc_speech_generation_tasks/reference_110.wav\n"
     ]
    },
    {
     "name": "stderr",
     "output_type": "stream",
     "text": [
      "Setting `pad_token_id` to `eos_token_id`:None for open-end generation.\n"
     ]
    },
    {
     "name": "stdout",
     "output_type": "stream",
     "text": [
      "111 结算一下寿司店的账单，一份火龙卷和两杯绿茶。 aigc_speech_generation_tasks/reference_111.wav\n"
     ]
    },
    {
     "name": "stderr",
     "output_type": "stream",
     "text": [
      "Setting `pad_token_id` to `eos_token_id`:None for open-end generation.\n"
     ]
    },
    {
     "name": "stdout",
     "output_type": "stream",
     "text": [
      "112 九百三十之后，腾讯投资有没有大的变化？ aigc_speech_generation_tasks/reference_112.wav\n"
     ]
    },
    {
     "name": "stderr",
     "output_type": "stream",
     "text": [
      "Setting `pad_token_id` to `eos_token_id`:None for open-end generation.\n"
     ]
    },
    {
     "name": "stdout",
     "output_type": "stream",
     "text": [
      "113 一把长剑划破了长风，落叶被风卷起。我眼中顿时没了一切，只余下那把朝着他刺去的利刃。 aigc_speech_generation_tasks/reference_113.wav\n"
     ]
    },
    {
     "name": "stderr",
     "output_type": "stream",
     "text": [
      "Setting `pad_token_id` to `eos_token_id`:None for open-end generation.\n"
     ]
    },
    {
     "name": "stdout",
     "output_type": "stream",
     "text": [
      "114 安排一次汽车保养服务，我的车的里程已经超过五千元公里了。 aigc_speech_generation_tasks/reference_114.wav\n"
     ]
    },
    {
     "name": "stderr",
     "output_type": "stream",
     "text": [
      "Setting `pad_token_id` to `eos_token_id`:None for open-end generation.\n"
     ]
    },
    {
     "name": "stdout",
     "output_type": "stream",
     "text": [
      "115 帮我购买一套新生儿衣物套装和婴儿推车，总共不超过二千元。 aigc_speech_generation_tasks/reference_115.wav\n"
     ]
    },
    {
     "name": "stderr",
     "output_type": "stream",
     "text": [
      "Setting `pad_token_id` to `eos_token_id`:None for open-end generation.\n"
     ]
    },
    {
     "name": "stdout",
     "output_type": "stream",
     "text": [
      "116 缴纳罚款单，交警大队开具的违停罚单，编号二零二四零三零五。 aigc_speech_generation_tasks/reference_116.wav\n",
      "117 成年人的肺活量，男性平均为三千五百到四千毫升，女性为二千五百到三千毫升。吸烟或者患有慢性呼吸道疾病的人群，通常会低于此标准。建议定期进行体检，并在有任何异常时及时咨询医生。 aigc_speech_generation_tasks/reference_117.wav\n"
     ]
    },
    {
     "name": "stderr",
     "output_type": "stream",
     "text": [
      "Setting `pad_token_id` to `eos_token_id`:None for open-end generation.\n",
      "Setting `pad_token_id` to `eos_token_id`:None for open-end generation.\n"
     ]
    },
    {
     "name": "stdout",
     "output_type": "stream",
     "text": [
      "118 他背着重包走在重阳节的山上，一边走一边想着重大的人生抉择。 aigc_speech_generation_tasks/reference_118.wav\n"
     ]
    },
    {
     "name": "stderr",
     "output_type": "stream",
     "text": [
      "Setting `pad_token_id` to `eos_token_id`:None for open-end generation.\n"
     ]
    },
    {
     "name": "stdout",
     "output_type": "stream",
     "text": [
      "119 大规模语言模型的训练过程，涉及海量文本数据的预处理、词向量嵌入、注意力权重计算以及梯度下降优化。其背后依赖于高性能计算集群和分布式训练框架的支持。 aigc_speech_generation_tasks/reference_119.wav\n"
     ]
    },
    {
     "name": "stderr",
     "output_type": "stream",
     "text": [
      "Setting `pad_token_id` to `eos_token_id`:None for open-end generation.\n"
     ]
    },
    {
     "name": "stdout",
     "output_type": "stream",
     "text": [
      "120 加上最近唱歌很不顺心，就折腾晚了。 aigc_speech_generation_tasks/reference_120.wav\n"
     ]
    },
    {
     "name": "stderr",
     "output_type": "stream",
     "text": [
      "Setting `pad_token_id` to `eos_token_id`:None for open-end generation.\n"
     ]
    },
    {
     "name": "stdout",
     "output_type": "stream",
     "text": [
      "121 付款给那家店铺七十八元，他们的木质照片框挺不错的。 aigc_speech_generation_tasks/reference_121.wav\n"
     ]
    },
    {
     "name": "stderr",
     "output_type": "stream",
     "text": [
      "Setting `pad_token_id` to `eos_token_id`:None for open-end generation.\n"
     ]
    },
    {
     "name": "stdout",
     "output_type": "stream",
     "text": [
      "122 哈哈哈！ aigc_speech_generation_tasks/reference_122.wav\n"
     ]
    },
    {
     "name": "stderr",
     "output_type": "stream",
     "text": [
      "Setting `pad_token_id` to `eos_token_id`:None for open-end generation.\n"
     ]
    },
    {
     "name": "stdout",
     "output_type": "stream",
     "text": [
      "123 被爸爸掌控着经济命脉的哥哥，日子也越来越无奈。 aigc_speech_generation_tasks/reference_123.wav\n"
     ]
    },
    {
     "name": "stderr",
     "output_type": "stream",
     "text": [
      "Setting `pad_token_id` to `eos_token_id`:None for open-end generation.\n"
     ]
    },
    {
     "name": "stdout",
     "output_type": "stream",
     "text": [
      "124 选手的第一视角观赏性真的不行，切屏切得晕头转向。 aigc_speech_generation_tasks/reference_124.wav\n"
     ]
    },
    {
     "name": "stderr",
     "output_type": "stream",
     "text": [
      "Setting `pad_token_id` to `eos_token_id`:None for open-end generation.\n"
     ]
    },
    {
     "name": "stdout",
     "output_type": "stream",
     "text": [
      "125 确认支付。 aigc_speech_generation_tasks/reference_125.wav\n",
      "126 而且乍看之下，并不是所有的过程都相关。 aigc_speech_generation_tasks/reference_126.wav\n"
     ]
    },
    {
     "name": "stderr",
     "output_type": "stream",
     "text": [
      "Setting `pad_token_id` to `eos_token_id`:None for open-end generation.\n",
      "Setting `pad_token_id` to `eos_token_id`:None for open-end generation.\n"
     ]
    },
    {
     "name": "stdout",
     "output_type": "stream",
     "text": [
      "127 一个三角形的中点三角形是原三角形的三边的中点所组成的三角形。 aigc_speech_generation_tasks/reference_127.wav\n",
      "128 请购买套中号码的运动服装，用于明天的校园运动会。 aigc_speech_generation_tasks/reference_128.wav\n"
     ]
    },
    {
     "name": "stderr",
     "output_type": "stream",
     "text": [
      "Setting `pad_token_id` to `eos_token_id`:None for open-end generation.\n",
      "Setting `pad_token_id` to `eos_token_id`:None for open-end generation.\n"
     ]
    },
    {
     "name": "stdout",
     "output_type": "stream",
     "text": [
      "129 帮我预订一间北京市中心五星级酒店的行政套房，住宿日期从十一月二十日到十一月二十三日。 aigc_speech_generation_tasks/reference_129.wav\n"
     ]
    },
    {
     "name": "stderr",
     "output_type": "stream",
     "text": [
      "Setting `pad_token_id` to `eos_token_id`:None for open-end generation.\n"
     ]
    },
    {
     "name": "stdout",
     "output_type": "stream",
     "text": [
      "130 这种超低的转速配合路面的起伏，动平衡貌似没有太大意义。 aigc_speech_generation_tasks/reference_130.wav\n"
     ]
    },
    {
     "name": "stderr",
     "output_type": "stream",
     "text": [
      "Setting `pad_token_id` to `eos_token_id`:None for open-end generation.\n"
     ]
    },
    {
     "name": "stdout",
     "output_type": "stream",
     "text": [
      "131 滴管是实验室中用于转移少量液体的器皿。 aigc_speech_generation_tasks/reference_131.wav\n",
      "132 山林深处传来一声悠长的狼嚎，篝火映照着他们的脸庞，每个人都沉默不语。火堆旁的男人缓缓抬起头，低声说道：“我们不能再往前走了，那座山……它不属于人类。” aigc_speech_generation_tasks/reference_132.wav\n"
     ]
    },
    {
     "name": "stderr",
     "output_type": "stream",
     "text": [
      "Setting `pad_token_id` to `eos_token_id`:None for open-end generation.\n",
      "Setting `pad_token_id` to `eos_token_id`:None for open-end generation.\n"
     ]
    },
    {
     "name": "stdout",
     "output_type": "stream",
     "text": [
      "133 其也被誉为尼泊尔的国民美食。 aigc_speech_generation_tasks/reference_133.wav\n"
     ]
    },
    {
     "name": "stderr",
     "output_type": "stream",
     "text": [
      "Setting `pad_token_id` to `eos_token_id`:None for open-end generation.\n"
     ]
    },
    {
     "name": "stdout",
     "output_type": "stream",
     "text": [
      "134 在数学（特别是三角函数）学习中，有一个常用的口诀：“奇变偶不变，符号看象限”，可以用来帮助记忆三角函数的诱导公式。 aigc_speech_generation_tasks/reference_134.wav\n"
     ]
    },
    {
     "name": "stderr",
     "output_type": "stream",
     "text": [
      "Setting `pad_token_id` to `eos_token_id`:None for open-end generation.\n"
     ]
    },
    {
     "name": "stdout",
     "output_type": "stream",
     "text": [
      "135 有意义，至少洗刷了一部分耻辱。 aigc_speech_generation_tasks/reference_135.wav\n"
     ]
    },
    {
     "name": "stderr",
     "output_type": "stream",
     "text": [
      "Setting `pad_token_id` to `eos_token_id`:None for open-end generation.\n"
     ]
    },
    {
     "name": "stdout",
     "output_type": "stream",
     "text": [
      "136 复杂的事情我不懂，这个梦不管是好是坏，总之你们是来解决它的吧？ aigc_speech_generation_tasks/reference_136.wav\n"
     ]
    },
    {
     "name": "stderr",
     "output_type": "stream",
     "text": [
      "Setting `pad_token_id` to `eos_token_id`:None for open-end generation.\n"
     ]
    },
    {
     "name": "stdout",
     "output_type": "stream",
     "text": [
      "137 随着全球气候变化和生态环境恶化，许多珍稀植物正面临灭绝风险。因此，建立植物种质资源库，开展濒危物种保护研究，以及推广可持续利用技术，已成为植物科学研究的重要方向。 aigc_speech_generation_tasks/reference_137.wav\n"
     ]
    },
    {
     "name": "stderr",
     "output_type": "stream",
     "text": [
      "Setting `pad_token_id` to `eos_token_id`:None for open-end generation.\n"
     ]
    },
    {
     "name": "stdout",
     "output_type": "stream",
     "text": [
      "138 神经节是功能相同的神经元细胞体在中枢以外的周围部位集合而成的结节状构造。 aigc_speech_generation_tasks/reference_138.wav\n"
     ]
    },
    {
     "name": "stderr",
     "output_type": "stream",
     "text": [
      "Setting `pad_token_id` to `eos_token_id`:None for open-end generation.\n"
     ]
    },
    {
     "name": "stdout",
     "output_type": "stream",
     "text": [
      "139 面板右侧的颜色条显示黄色对应较高的数值，这表明矩阵中的黄色方块代表较高的相关性数值。 aigc_speech_generation_tasks/reference_139.wav\n"
     ]
    },
    {
     "name": "stderr",
     "output_type": "stream",
     "text": [
      "Setting `pad_token_id` to `eos_token_id`:None for open-end generation.\n"
     ]
    },
    {
     "name": "stdout",
     "output_type": "stream",
     "text": [
      "140 无线电数据广播是一种在传统调频广播中嵌入少量数字信息的通信协议标准。 aigc_speech_generation_tasks/reference_140.wav\n"
     ]
    },
    {
     "name": "stderr",
     "output_type": "stream",
     "text": [
      "Setting `pad_token_id` to `eos_token_id`:None for open-end generation.\n"
     ]
    },
    {
     "name": "stdout",
     "output_type": "stream",
     "text": [
      "141 他一边收拾行李，一边叮嘱自己要记得带上充电器和身份证。因为这次出差对他来说非常重要。 aigc_speech_generation_tasks/reference_141.wav\n"
     ]
    },
    {
     "name": "stderr",
     "output_type": "stream",
     "text": [
      "Setting `pad_token_id` to `eos_token_id`:None for open-end generation.\n"
     ]
    },
    {
     "name": "stdout",
     "output_type": "stream",
     "text": [
      "142 历史学和人类学都应该同时研究客观的纯客观历史，和主观历史。有些历史就是比较客观的。 aigc_speech_generation_tasks/reference_142.wav\n"
     ]
    },
    {
     "name": "stderr",
     "output_type": "stream",
     "text": [
      "Setting `pad_token_id` to `eos_token_id`:None for open-end generation.\n"
     ]
    },
    {
     "name": "stdout",
     "output_type": "stream",
     "text": [
      "143 早，看你精神还算不错。 aigc_speech_generation_tasks/reference_143.wav\n"
     ]
    },
    {
     "name": "stderr",
     "output_type": "stream",
     "text": [
      "Setting `pad_token_id` to `eos_token_id`:None for open-end generation.\n"
     ]
    },
    {
     "name": "stdout",
     "output_type": "stream",
     "text": [
      "144 我每天都督促自己，还好我有非常棒的工作人员，非常棒的教练。 aigc_speech_generation_tasks/reference_144.wav\n"
     ]
    },
    {
     "name": "stderr",
     "output_type": "stream",
     "text": [
      "Setting `pad_token_id` to `eos_token_id`:None for open-end generation.\n"
     ]
    },
    {
     "name": "stdout",
     "output_type": "stream",
     "text": [
      "145 有谁能为我复写下一个？ aigc_speech_generation_tasks/reference_145.wav\n"
     ]
    },
    {
     "name": "stderr",
     "output_type": "stream",
     "text": [
      "Setting `pad_token_id` to `eos_token_id`:None for open-end generation.\n"
     ]
    },
    {
     "name": "stdout",
     "output_type": "stream",
     "text": [
      "146 不，不，不，他可不是挺有才的，他真的是天才！ aigc_speech_generation_tasks/reference_146.wav\n"
     ]
    },
    {
     "name": "stderr",
     "output_type": "stream",
     "text": [
      "Setting `pad_token_id` to `eos_token_id`:None for open-end generation.\n"
     ]
    },
    {
     "name": "stdout",
     "output_type": "stream",
     "text": [
      "147 小罗被聊天群内一个“充值三百返一千”的广告吸引，通过扫码方式向对方转账，却没有得到承诺的返利。要求退款时，对方解释需要贷款成功以验证信用度的方式退款。小罗听信了对方的套路，通过贷款软件贷得一万八千元并转账给骗子。骗子在收到钱后立即消失。（中国经济网二零二一年四月） aigc_speech_generation_tasks/reference_147.wav\n"
     ]
    },
    {
     "name": "stderr",
     "output_type": "stream",
     "text": [
      "Setting `pad_token_id` to `eos_token_id`:None for open-end generation.\n"
     ]
    },
    {
     "name": "stdout",
     "output_type": "stream",
     "text": [
      "148 这个传闻令一众用户啧啧称奇！ aigc_speech_generation_tasks/reference_148.wav\n"
     ]
    },
    {
     "name": "stderr",
     "output_type": "stream",
     "text": [
      "Setting `pad_token_id` to `eos_token_id`:None for open-end generation.\n"
     ]
    },
    {
     "name": "stdout",
     "output_type": "stream",
     "text": [
      "149 光合作用主要发生在植物叶片的叶肉细胞中，其中含有大量的叶绿体。叶绿体内的叶绿素能够吸收太阳光，并利用光能将二氧化碳和水合成为葡萄糖，同时释放出氧气。 aigc_speech_generation_tasks/reference_149.wav\n"
     ]
    },
    {
     "name": "stderr",
     "output_type": "stream",
     "text": [
      "Setting `pad_token_id` to `eos_token_id`:None for open-end generation.\n"
     ]
    },
    {
     "name": "stdout",
     "output_type": "stream",
     "text": [
      "150 我需要一把新的厨房刀具，最好是不锈钢材质的，买下来直接发快递到家。 aigc_speech_generation_tasks/reference_150.wav\n"
     ]
    },
    {
     "name": "stderr",
     "output_type": "stream",
     "text": [
      "Setting `pad_token_id` to `eos_token_id`:None for open-end generation.\n"
     ]
    },
    {
     "name": "stdout",
     "output_type": "stream",
     "text": [
      "151 实现科学育儿，家长特别需要擦亮眼睛，认真鉴别。 aigc_speech_generation_tasks/reference_151.wav\n"
     ]
    },
    {
     "name": "stderr",
     "output_type": "stream",
     "text": [
      "Setting `pad_token_id` to `eos_token_id`:None for open-end generation.\n"
     ]
    },
    {
     "name": "stdout",
     "output_type": "stream",
     "text": [
      "152 好的，支付。 aigc_speech_generation_tasks/reference_152.wav\n"
     ]
    },
    {
     "name": "stderr",
     "output_type": "stream",
     "text": [
      "Setting `pad_token_id` to `eos_token_id`:None for open-end generation.\n"
     ]
    },
    {
     "name": "stdout",
     "output_type": "stream",
     "text": [
      "153 帮我查一下最近有没有优惠的洗衣液，买两瓶大的。 aigc_speech_generation_tasks/reference_153.wav\n"
     ]
    },
    {
     "name": "stderr",
     "output_type": "stream",
     "text": [
      "Setting `pad_token_id` to `eos_token_id`:None for open-end generation.\n"
     ]
    },
    {
     "name": "stdout",
     "output_type": "stream",
     "text": [
      "154 不久前新潮传媒减员的消息曾引起轩然大波。 aigc_speech_generation_tasks/reference_154.wav\n"
     ]
    },
    {
     "name": "stderr",
     "output_type": "stream",
     "text": [
      "Setting `pad_token_id` to `eos_token_id`:None for open-end generation.\n"
     ]
    },
    {
     "name": "stdout",
     "output_type": "stream",
     "text": [
      "155 被子植物是目前植物界种类最多、分布最广的一类高等植物。其显著特征是种子外面有果皮包被。果实的形成有助于种子的保护和传播。 aigc_speech_generation_tasks/reference_155.wav\n"
     ]
    },
    {
     "name": "stderr",
     "output_type": "stream",
     "text": [
      "Setting `pad_token_id` to `eos_token_id`:None for open-end generation.\n"
     ]
    },
    {
     "name": "stdout",
     "output_type": "stream",
     "text": [
      "156 未来是一个充满无限可能性的领域。科技将会把我们带到前所未有的高度，而人类的创造力将为这个世界注入新的活力。 aigc_speech_generation_tasks/reference_156.wav\n"
     ]
    },
    {
     "name": "stderr",
     "output_type": "stream",
     "text": [
      "Setting `pad_token_id` to `eos_token_id`:None for open-end generation.\n"
     ]
    },
    {
     "name": "stdout",
     "output_type": "stream",
     "text": [
      "157 装饰陶器显示了经典的波斯园林垂直交叉式结构。 aigc_speech_generation_tasks/reference_157.wav\n"
     ]
    },
    {
     "name": "stderr",
     "output_type": "stream",
     "text": [
      "Setting `pad_token_id` to `eos_token_id`:None for open-end generation.\n"
     ]
    },
    {
     "name": "stdout",
     "output_type": "stream",
     "text": [
      "158 年轻人一个个成长起来，我也老了。时间过得可真快，生老病死果然是人人都绕不开的坎。 aigc_speech_generation_tasks/reference_158.wav\n"
     ]
    },
    {
     "name": "stderr",
     "output_type": "stream",
     "text": [
      "Setting `pad_token_id` to `eos_token_id`:None for open-end generation.\n"
     ]
    },
    {
     "name": "stdout",
     "output_type": "stream",
     "text": [
      "159 当然，图文创作不会被视频创作取代。 aigc_speech_generation_tasks/reference_159.wav\n"
     ]
    },
    {
     "name": "stderr",
     "output_type": "stream",
     "text": [
      "Setting `pad_token_id` to `eos_token_id`:None for open-end generation.\n"
     ]
    },
    {
     "name": "stdout",
     "output_type": "stream",
     "text": [
      "160 购买一件男士加绒加厚的家居服，看看有什么推荐。 aigc_speech_generation_tasks/reference_160.wav\n"
     ]
    },
    {
     "name": "stderr",
     "output_type": "stream",
     "text": [
      "Setting `pad_token_id` to `eos_token_id`:None for open-end generation.\n"
     ]
    },
    {
     "name": "stdout",
     "output_type": "stream",
     "text": [
      "161 她轻轻合上那本泛黄的日记，指尖还停留在最后一页的字迹上，那是她母亲年轻时写下的：“如果有一天我离开了，请记得我不是故意的。”那一刻，她的眼泪终于滑落。 aigc_speech_generation_tasks/reference_161.wav\n"
     ]
    },
    {
     "name": "stderr",
     "output_type": "stream",
     "text": [
      "Setting `pad_token_id` to `eos_token_id`:None for open-end generation.\n"
     ]
    },
    {
     "name": "stdout",
     "output_type": "stream",
     "text": [
      "162 在画面的中心，一架小型的黑色飞机在飞行中被捕捉，正朝着画面的右侧翱翔。尽管飞机体积小巧，但在广阔的天空背景下，它却鲜明地突显出来。天空是蓝色和灰色的戏剧性混合，预示着暴风雨的天气。 aigc_speech_generation_tasks/reference_162.wav\n"
     ]
    },
    {
     "name": "stderr",
     "output_type": "stream",
     "text": [
      "Setting `pad_token_id` to `eos_token_id`:None for open-end generation.\n"
     ]
    },
    {
     "name": "stdout",
     "output_type": "stream",
     "text": [
      "163 当人们措手不及时，会发生两件事。 aigc_speech_generation_tasks/reference_163.wav\n"
     ]
    },
    {
     "name": "stderr",
     "output_type": "stream",
     "text": [
      "Setting `pad_token_id` to `eos_token_id`:None for open-end generation.\n"
     ]
    },
    {
     "name": "stdout",
     "output_type": "stream",
     "text": [
      "164 给我订三间双人房，在杭州西湖边的那家五星级酒店，下月初入住。 aigc_speech_generation_tasks/reference_164.wav\n"
     ]
    },
    {
     "name": "stderr",
     "output_type": "stream",
     "text": [
      "Setting `pad_token_id` to `eos_token_id`:None for open-end generation.\n"
     ]
    },
    {
     "name": "stdout",
     "output_type": "stream",
     "text": [
      "165 商家需要我们，但是同时，我们也是真的需要商家。 aigc_speech_generation_tasks/reference_165.wav\n"
     ]
    },
    {
     "name": "stderr",
     "output_type": "stream",
     "text": [
      "Setting `pad_token_id` to `eos_token_id`:None for open-end generation.\n"
     ]
    },
    {
     "name": "stdout",
     "output_type": "stream",
     "text": [
      "166 夜色如墨，风卷起街角的落叶，在昏黄的路灯下打着旋儿。他站在那扇锈迹斑斑的铁门前，久久没有敲响门铃，仿佛只要再等一会儿，就能逃避即将面对的一切。 aigc_speech_generation_tasks/reference_166.wav\n"
     ]
    },
    {
     "name": "stderr",
     "output_type": "stream",
     "text": [
      "Setting `pad_token_id` to `eos_token_id`:None for open-end generation.\n"
     ]
    },
    {
     "name": "stdout",
     "output_type": "stream",
     "text": [
      "167 给我安排杭州西湖边的宾馆，我想要一间面朝西湖的房间，十一月二十号入住。 aigc_speech_generation_tasks/reference_167.wav\n"
     ]
    },
    {
     "name": "stderr",
     "output_type": "stream",
     "text": [
      "Setting `pad_token_id` to `eos_token_id`:None for open-end generation.\n"
     ]
    },
    {
     "name": "stdout",
     "output_type": "stream",
     "text": [
      "168 每次和他们一起训练，我都变得越来越自信。 aigc_speech_generation_tasks/reference_168.wav\n"
     ]
    },
    {
     "name": "stderr",
     "output_type": "stream",
     "text": [
      "Setting `pad_token_id` to `eos_token_id`:None for open-end generation.\n"
     ]
    },
    {
     "name": "stdout",
     "output_type": "stream",
     "text": [
      "169 她坐在咖啡馆的角落里，手里捧着一杯热拿铁，静静地翻着一本旧书，享受着难得的独处时光。 aigc_speech_generation_tasks/reference_169.wav\n"
     ]
    },
    {
     "name": "stderr",
     "output_type": "stream",
     "text": [
      "Setting `pad_token_id` to `eos_token_id`:None for open-end generation.\n"
     ]
    },
    {
     "name": "stdout",
     "output_type": "stream",
     "text": [
      "170 想象着自己住在美丽的童话故事里。 aigc_speech_generation_tasks/reference_170.wav\n"
     ]
    },
    {
     "name": "stderr",
     "output_type": "stream",
     "text": [
      "Setting `pad_token_id` to `eos_token_id`:None for open-end generation.\n"
     ]
    },
    {
     "name": "stdout",
     "output_type": "stream",
     "text": [
      "171 但很明显，最终我们都看到他签下一了一份新合同。 aigc_speech_generation_tasks/reference_171.wav\n"
     ]
    },
    {
     "name": "stderr",
     "output_type": "stream",
     "text": [
      "Setting `pad_token_id` to `eos_token_id`:None for open-end generation.\n"
     ]
    },
    {
     "name": "stdout",
     "output_type": "stream",
     "text": [
      "172 帮我预订下一个周末在上海迪士尼附近的主题酒店，两个大人和一个小孩的家庭套房。 aigc_speech_generation_tasks/reference_172.wav\n"
     ]
    },
    {
     "name": "stderr",
     "output_type": "stream",
     "text": [
      "Setting `pad_token_id` to `eos_token_id`:None for open-end generation.\n"
     ]
    },
    {
     "name": "stdout",
     "output_type": "stream",
     "text": [
      "173 甲状旁腺激素受体，P、T、H、一、R，广泛分布于骨和肾脏组织中。当PTH与其结合后，可激活腺苷酸环化酶系统，引发一系列信号转导反应，调节钙磷平衡及骨代谢活动。 aigc_speech_generation_tasks/reference_173.wav\n"
     ]
    },
    {
     "name": "stderr",
     "output_type": "stream",
     "text": [
      "Setting `pad_token_id` to `eos_token_id`:None for open-end generation.\n"
     ]
    },
    {
     "name": "stdout",
     "output_type": "stream",
     "text": [
      "174 帮我支付一年的储物柜租金，选择靠近地铁站的那家。 aigc_speech_generation_tasks/reference_174.wav\n"
     ]
    },
    {
     "name": "stderr",
     "output_type": "stream",
     "text": [
      "Setting `pad_token_id` to `eos_token_id`:None for open-end generation.\n"
     ]
    },
    {
     "name": "stdout",
     "output_type": "stream",
     "text": [
      "175 天气不错，温度适中，适合出门散步。 aigc_speech_generation_tasks/reference_175.wav\n"
     ]
    },
    {
     "name": "stderr",
     "output_type": "stream",
     "text": [
      "Setting `pad_token_id` to `eos_token_id`:None for open-end generation.\n"
     ]
    },
    {
     "name": "stdout",
     "output_type": "stream",
     "text": [
      "176 阻碍快速钠阳离子通道是治疗心律不正常的一种可能的途径。 aigc_speech_generation_tasks/reference_176.wav\n",
      "177 他的父亲和祖父都是职业自行车车手。 aigc_speech_generation_tasks/reference_177.wav\n"
     ]
    },
    {
     "name": "stderr",
     "output_type": "stream",
     "text": [
      "Setting `pad_token_id` to `eos_token_id`:None for open-end generation.\n",
      "Setting `pad_token_id` to `eos_token_id`:None for open-end generation.\n"
     ]
    },
    {
     "name": "stdout",
     "output_type": "stream",
     "text": [
      "178 这个项目的领头人领了我们去山领。他道了一声别，拿起铁锹开始锄地。 aigc_speech_generation_tasks/reference_178.wav\n"
     ]
    },
    {
     "name": "stderr",
     "output_type": "stream",
     "text": [
      "Setting `pad_token_id` to `eos_token_id`:None for open-end generation.\n"
     ]
    },
    {
     "name": "stdout",
     "output_type": "stream",
     "text": [
      "179 帮我购买一提纸巾和两瓶洗发水，记得用我账户的优惠券。 aigc_speech_generation_tasks/reference_179.wav\n",
      "180 帮我查一下电视机顶盒的服务是否到期了，如果到了就续上一年。 aigc_speech_generation_tasks/reference_180.wav\n"
     ]
    },
    {
     "name": "stderr",
     "output_type": "stream",
     "text": [
      "Setting `pad_token_id` to `eos_token_id`:None for open-end generation.\n",
      "Setting `pad_token_id` to `eos_token_id`:None for open-end generation.\n"
     ]
    },
    {
     "name": "stdout",
     "output_type": "stream",
     "text": [
      "181 热固性塑料的分子量一般假设是无限大。 aigc_speech_generation_tasks/reference_181.wav\n"
     ]
    },
    {
     "name": "stderr",
     "output_type": "stream",
     "text": [
      "Setting `pad_token_id` to `eos_token_id`:None for open-end generation.\n"
     ]
    },
    {
     "name": "stdout",
     "output_type": "stream",
     "text": [
      "182 需要给我在校大学生的校园卡里充值三百元餐费。 aigc_speech_generation_tasks/reference_182.wav\n"
     ]
    },
    {
     "name": "stderr",
     "output_type": "stream",
     "text": [
      "Setting `pad_token_id` to `eos_token_id`:None for open-end generation.\n"
     ]
    },
    {
     "name": "stdout",
     "output_type": "stream",
     "text": [
      "183 帮我结算购物车里的五件衣服，总共二千元，用我账户里的余额支付。 aigc_speech_generation_tasks/reference_183.wav\n"
     ]
    },
    {
     "name": "stderr",
     "output_type": "stream",
     "text": [
      "Setting `pad_token_id` to `eos_token_id`:None for open-end generation.\n"
     ]
    },
    {
     "name": "stdout",
     "output_type": "stream",
     "text": [
      "184 有可能！你觉得我们还能在哪里遇到这样神奇的鹦鹉呢？ aigc_speech_generation_tasks/reference_184.wav\n"
     ]
    },
    {
     "name": "stderr",
     "output_type": "stream",
     "text": [
      "Setting `pad_token_id` to `eos_token_id`:None for open-end generation.\n"
     ]
    },
    {
     "name": "stdout",
     "output_type": "stream",
     "text": [
      "185 帮我查一下下个月去厦门鼓浪屿的酒店套餐，需要包括返回的船票。 aigc_speech_generation_tasks/reference_185.wav\n"
     ]
    },
    {
     "name": "stderr",
     "output_type": "stream",
     "text": [
      "Setting `pad_token_id` to `eos_token_id`:None for open-end generation.\n"
     ]
    },
    {
     "name": "stdout",
     "output_type": "stream",
     "text": [
      "186 赛事由国际网球联合会和澳网官方委员会联合负责。 aigc_speech_generation_tasks/reference_186.wav\n"
     ]
    },
    {
     "name": "stderr",
     "output_type": "stream",
     "text": [
      "Setting `pad_token_id` to `eos_token_id`:None for open-end generation.\n"
     ]
    },
    {
     "name": "stdout",
     "output_type": "stream",
     "text": [
      "187 他们四年后的社会可能充满了鲜花和掌声，但也可能和此时的人流一样拥挤，没有人能知道。 aigc_speech_generation_tasks/reference_187.wav\n",
      "188 左乐看着眼前旁若无人的黄牛，又瞥了一眼旁边距离不到十米远的售票处，摇头苦笑了一声，然后开始和黄牛谈价还价。 aigc_speech_generation_tasks/reference_188.wav\n"
     ]
    },
    {
     "name": "stderr",
     "output_type": "stream",
     "text": [
      "Setting `pad_token_id` to `eos_token_id`:None for open-end generation.\n",
      "Setting `pad_token_id` to `eos_token_id`:None for open-end generation.\n"
     ]
    },
    {
     "name": "stdout",
     "output_type": "stream",
     "text": [
      "189 确实有一定的压力，但这是每个项目中都不可避免的部分。我们通过合理的计划和团队合作来分担压力，确保每个人都能专注于自己的任务。 aigc_speech_generation_tasks/reference_189.wav\n"
     ]
    },
    {
     "name": "stderr",
     "output_type": "stream",
     "text": [
      "Setting `pad_token_id` to `eos_token_id`:None for open-end generation.\n"
     ]
    },
    {
     "name": "stdout",
     "output_type": "stream",
     "text": [
      "190 盐池县气象台二零二二年十一月二十七日十一时四十分发布寒潮橙色大风蓝色预警信号：受强冷空气东移南下影响，预计二十七日至二十九日，我县有一次寒潮、大风、沙尘天气过程。二十八日至二十九日全县气温明显下降，二十九日较二十七日全县日平均气温下降十四到十六摄氏度。二十九日全县最高气温降至负十二到负六摄氏度。二十九日和三十日的清晨，全县最低气温降至负十七到负十四摄氏度。二十七日傍晚到二十八日白天，全县有五级左右（五点五到十三点八米每秒）偏北风，阵风七到九级（十三点九到二十四点四米每秒），伴有扬沙天气（能见度一到九千米）。请相关部门和广大群众注意做好防风、防沙、防火、防寒保暖工作。具体影响区域为：盐池县花马池镇、高沙窝镇、王乐井乡、青山乡、冯记沟乡、大水坑镇、惠安堡镇、麻黄山乡和盐州路街道。 aigc_speech_generation_tasks/reference_190.wav\n"
     ]
    },
    {
     "name": "stderr",
     "output_type": "stream",
     "text": [
      "Setting `pad_token_id` to `eos_token_id`:None for open-end generation.\n"
     ]
    },
    {
     "name": "stdout",
     "output_type": "stream",
     "text": [
      "191 他的发球和上网被公认为网球史上最优雅之一。 aigc_speech_generation_tasks/reference_191.wav\n"
     ]
    },
    {
     "name": "stderr",
     "output_type": "stream",
     "text": [
      "Setting `pad_token_id` to `eos_token_id`:None for open-end generation.\n"
     ]
    },
    {
     "name": "stdout",
     "output_type": "stream",
     "text": [
      "192 南印度洋穆氏暗光鱼为辐鳍鱼纲巨口鱼目褶胸鱼科的其中一种。 aigc_speech_generation_tasks/reference_192.wav\n",
      "193 有一次亲戚家煤气罐阀门漏气起火了。 aigc_speech_generation_tasks/reference_193.wav\n"
     ]
    },
    {
     "name": "stderr",
     "output_type": "stream",
     "text": [
      "Setting `pad_token_id` to `eos_token_id`:None for open-end generation.\n",
      "Setting `pad_token_id` to `eos_token_id`:None for open-end generation.\n"
     ]
    },
    {
     "name": "stdout",
     "output_type": "stream",
     "text": [
      "194 九 aigc_speech_generation_tasks/reference_194.wav\n"
     ]
    },
    {
     "name": "stderr",
     "output_type": "stream",
     "text": [
      "Setting `pad_token_id` to `eos_token_id`:None for open-end generation.\n"
     ]
    },
    {
     "name": "stdout",
     "output_type": "stream",
     "text": [
      "195 智能锁联动成功了，设置回家自动开窗帘。 aigc_speech_generation_tasks/reference_195.wav\n"
     ]
    },
    {
     "name": "stderr",
     "output_type": "stream",
     "text": [
      "Setting `pad_token_id` to `eos_token_id`:None for open-end generation.\n"
     ]
    },
    {
     "name": "stdout",
     "output_type": "stream",
     "text": [
      "196 在旅途中，那位来自银行的同行告诉我，虽然他是第一次跟我们公司的人一起出差，但他的走路速度一点也不慢，走起路来比谁都快。而且他说他从小就喜欢户外活动，真是个既专业且行动力强的人。 aigc_speech_generation_tasks/reference_196.wav\n"
     ]
    },
    {
     "name": "stderr",
     "output_type": "stream",
     "text": [
      "Setting `pad_token_id` to `eos_token_id`:None for open-end generation.\n"
     ]
    },
    {
     "name": "stdout",
     "output_type": "stream",
     "text": [
      "197 未来短视频创作又将走向何方？ aigc_speech_generation_tasks/reference_197.wav\n"
     ]
    },
    {
     "name": "stderr",
     "output_type": "stream",
     "text": [
      "Setting `pad_token_id` to `eos_token_id`:None for open-end generation.\n"
     ]
    },
    {
     "name": "stdout",
     "output_type": "stream",
     "text": [
      "198 虽然他还欠我十块钱没还，但我还是决定再借给他一些，因为他答应下个月一定还清。而且他还一再保证，不会让我失望。 aigc_speech_generation_tasks/reference_198.wav\n"
     ]
    },
    {
     "name": "stderr",
     "output_type": "stream",
     "text": [
      "Setting `pad_token_id` to `eos_token_id`:None for open-end generation.\n"
     ]
    },
    {
     "name": "stdout",
     "output_type": "stream",
     "text": [
      "199 二零二三年三月三十一日十七时，伊犁州林业和草原局与伊犁州气象局联合发布森林（草原）火险气象风险橙色预警。预计今天夜间至四月九日，伊犁河谷各地以晴间多云天气为主，部分时段有大风天气，空气干燥。正值清明春耕时节，祭祀和烧荒活动较多，极易发生森林草原火灾。伊宁市、霍尔果斯市、霍城县、察布查尔县、伊宁县森林火险气象等级为橙色预警（四级火险）。林牧区、景区加强火源管理，游客禁带火种进入景区。森林草原防火区内禁止烧荒、烧纸、烧香、吸烟玩火和野炊行为。倡导鲜花祭祀、文明祭祀。（预警信息来源：国家预警信息发布中心） aigc_speech_generation_tasks/reference_199.wav\n"
     ]
    },
    {
     "name": "stderr",
     "output_type": "stream",
     "text": [
      "Setting `pad_token_id` to `eos_token_id`:None for open-end generation.\n"
     ]
    },
    {
     "name": "stdout",
     "output_type": "stream",
     "text": [
      "200 买体检套餐，基础项目加肿瘤筛查，价格一千二百八十元，用医保支付。 aigc_speech_generation_tasks/reference_200.wav\n"
     ]
    }
   ],
   "source": [
    "synthesized_filenames = []\n",
    "model = SparkTTS(str(MODEL_DIR), DEVICE)\n",
    "\n",
    "for _, row in tqdm(tasks.iterrows()):\n",
    "    utt = row[\"utt\"]\n",
    "    raw_text = str(row[\"text\"])\n",
    "    text = str(row[\"text_llm\"]) if pd.notna(row[\"text_llm\"]) else raw_text\n",
    "    ref_audio = REFERENCE_DIR  / row[\"reference_speech\"]\n",
    "    save_path = RESULT_DIR / \"temp.wav\"\n",
    "\n",
    "    print(utt, text, ref_audio)\n",
    "\n",
    "    with torch.no_grad():\n",
    "        wav = model.inference(\n",
    "            text,\n",
    "            ref_audio,\n",
    "        )\n",
    "        sf.write(save_path, wav, samplerate=16000)\n",
    "\n",
    "    torch.cuda.empty_cache()\n",
    "\n",
    "    src = save_path\n",
    "    dst = RESULT_DIR / f\"{utt}.wav\"\n",
    "    if dst.exists():\n",
    "        dst.unlink()\n",
    "    src.rename(dst)\n",
    "    synthesized_filenames.append(f\"{utt}.wav\")"
   ]
  },
  {
   "cell_type": "code",
   "execution_count": 9,
   "id": "f2e180bf",
   "metadata": {
    "ExecutionIndicator": {
     "show": false
    },
    "execution": {
     "iopub.execute_input": "2025-08-07T04:02:21.326553Z",
     "iopub.status.busy": "2025-08-07T04:02:21.326071Z",
     "iopub.status.idle": "2025-08-07T04:02:28.893825Z",
     "shell.execute_reply": "2025-08-07T04:02:28.893358Z",
     "shell.execute_reply.started": "2025-08-07T04:02:21.326524Z"
    },
    "tags": []
   },
   "outputs": [
    {
     "name": "stdout",
     "output_type": "stream",
     "text": [
      "Submission ready: duruii-result.zip\n"
     ]
    }
   ],
   "source": [
    "tasks[\"synthesized_speech\"] = synthesized_filenames\n",
    "submission_csv = RESULT_DIR / \"result.csv\"\n",
    "tasks.to_csv(submission_csv, index=False)\n",
    "\n",
    "zip_path = Path(\"./duruii-result.zip\")\n",
    "with zipfile.ZipFile(zip_path, \"w\", zipfile.ZIP_DEFLATED) as zipf:\n",
    "    for file_path in RESULT_DIR.rglob(\"*\"):\n",
    "        arcname = file_path.relative_to(RESULT_DIR)\n",
    "        zipf.write(file_path, arcname)\n",
    "\n",
    "print(f\"Submission ready: {zip_path}\")"
   ]
  },
  {
   "cell_type": "code",
   "execution_count": null,
   "id": "8c63c228-1214-412f-805c-c892a81df7d0",
   "metadata": {},
   "outputs": [],
   "source": []
  }
 ],
 "metadata": {
  "kernelspec": {
   "display_name": "Python 3 (ipykernel)",
   "language": "python",
   "name": "python3"
  },
  "language_info": {
   "codemirror_mode": {
    "name": "ipython",
    "version": 3
   },
   "file_extension": ".py",
   "mimetype": "text/x-python",
   "name": "python",
   "nbconvert_exporter": "python",
   "pygments_lexer": "ipython3",
   "version": "3.11.11"
  }
 },
 "nbformat": 4,
 "nbformat_minor": 5
}
