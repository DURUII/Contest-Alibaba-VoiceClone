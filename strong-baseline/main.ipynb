{
 "cells": [
  {
   "cell_type": "code",
   "execution_count": 1,
   "id": "db8af1ac",
   "metadata": {
    "ExecutionIndicator": {
     "show": true
    },
    "execution": {
     "iopub.execute_input": "2025-08-05T09:24:08.722328Z",
     "iopub.status.busy": "2025-08-05T09:24:08.722185Z",
     "iopub.status.idle": "2025-08-05T09:24:11.156168Z",
     "shell.execute_reply": "2025-08-05T09:24:11.155760Z",
     "shell.execute_reply.started": "2025-08-05T09:24:08.722314Z"
    },
    "tags": []
   },
   "outputs": [
    {
     "name": "stdout",
     "output_type": "stream",
     "text": [
      "Downloading Model from https://www.modelscope.cn to directory: /mnt/workspace/.cache/modelscope/models/SparkAudio/Spark-TTS-0.5B\n"
     ]
    },
    {
     "name": "stderr",
     "output_type": "stream",
     "text": [
      "2025-08-05 17:24:11,144 - modelscope - INFO - Target directory already exists, skipping creation.\n"
     ]
    }
   ],
   "source": [
    "#模型下载\n",
    "from modelscope import snapshot_download\n",
    "model_dir = snapshot_download('SparkAudio/Spark-TTS-0.5B')"
   ]
  },
  {
   "cell_type": "code",
   "execution_count": 2,
   "id": "9fa3a837-7f19-4a36-b674-ebd34ff48072",
   "metadata": {
    "ExecutionIndicator": {
     "show": true
    },
    "execution": {
     "iopub.execute_input": "2025-08-05T09:24:11.157212Z",
     "iopub.status.busy": "2025-08-05T09:24:11.156988Z",
     "iopub.status.idle": "2025-08-05T09:24:11.162228Z",
     "shell.execute_reply": "2025-08-05T09:24:11.161870Z",
     "shell.execute_reply.started": "2025-08-05T09:24:11.157196Z"
    },
    "tags": []
   },
   "outputs": [
    {
     "data": {
      "text/plain": [
       "'/mnt/workspace/my-solution/Spark-TTS'"
      ]
     },
     "execution_count": 2,
     "metadata": {},
     "output_type": "execute_result"
    }
   ],
   "source": [
    "%pwd"
   ]
  },
  {
   "cell_type": "code",
   "execution_count": 3,
   "id": "db7224fc",
   "metadata": {
    "ExecutionIndicator": {
     "show": true
    },
    "execution": {
     "iopub.execute_input": "2025-08-05T09:24:11.162717Z",
     "iopub.status.busy": "2025-08-05T09:24:11.162596Z",
     "iopub.status.idle": "2025-08-05T09:24:11.406045Z",
     "shell.execute_reply": "2025-08-05T09:24:11.405621Z",
     "shell.execute_reply.started": "2025-08-05T09:24:11.162707Z"
    },
    "tags": []
   },
   "outputs": [
    {
     "data": {
      "text/html": [
       "<div>\n",
       "<style scoped>\n",
       "    .dataframe tbody tr th:only-of-type {\n",
       "        vertical-align: middle;\n",
       "    }\n",
       "\n",
       "    .dataframe tbody tr th {\n",
       "        vertical-align: top;\n",
       "    }\n",
       "\n",
       "    .dataframe thead th {\n",
       "        text-align: right;\n",
       "    }\n",
       "</style>\n",
       "<table border=\"1\" class=\"dataframe\">\n",
       "  <thead>\n",
       "    <tr style=\"text-align: right;\">\n",
       "      <th></th>\n",
       "      <th>utt</th>\n",
       "      <th>reference_speech</th>\n",
       "      <th>text</th>\n",
       "    </tr>\n",
       "  </thead>\n",
       "  <tbody>\n",
       "    <tr>\n",
       "      <th>0</th>\n",
       "      <td>1</td>\n",
       "      <td>reference_1.wav</td>\n",
       "      <td>六</td>\n",
       "    </tr>\n",
       "    <tr>\n",
       "      <th>1</th>\n",
       "      <td>2</td>\n",
       "      <td>reference_2.wav</td>\n",
       "      <td>缴纳罚款单，交警大队开具的违停罚单，编号20240305</td>\n",
       "    </tr>\n",
       "    <tr>\n",
       "      <th>2</th>\n",
       "      <td>3</td>\n",
       "      <td>reference_3.wav</td>\n",
       "      <td>腾地而起的风关上了门卷起满屋幽幽檀香味他广袖被风吹起拂过我的眉眼</td>\n",
       "    </tr>\n",
       "    <tr>\n",
       "      <th>3</th>\n",
       "      <td>4</td>\n",
       "      <td>reference_4.wav</td>\n",
       "      <td>但这还不是定局一切都将充满变数</td>\n",
       "    </tr>\n",
       "    <tr>\n",
       "      <th>4</th>\n",
       "      <td>5</td>\n",
       "      <td>reference_5.wav</td>\n",
       "      <td>从屏风后面转出来看看镜子中的自己，瑞博甚至有种换了个人的感觉</td>\n",
       "    </tr>\n",
       "  </tbody>\n",
       "</table>\n",
       "</div>"
      ],
      "text/plain": [
       "   utt reference_speech                              text\n",
       "0    1  reference_1.wav                                 六\n",
       "1    2  reference_2.wav      缴纳罚款单，交警大队开具的违停罚单，编号20240305\n",
       "2    3  reference_3.wav  腾地而起的风关上了门卷起满屋幽幽檀香味他广袖被风吹起拂过我的眉眼\n",
       "3    4  reference_4.wav                   但这还不是定局一切都将充满变数\n",
       "4    5  reference_5.wav    从屏风后面转出来看看镜子中的自己，瑞博甚至有种换了个人的感觉"
      ]
     },
     "execution_count": 3,
     "metadata": {},
     "output_type": "execute_result"
    }
   ],
   "source": [
    "from pathlib import Path\n",
    "import pandas as pd\n",
    "\n",
    "tasks_csv = Path(\"aigc_speech_generation_tasks/aigc_speech_generation_tasks.csv\")\n",
    "reference_dir = tasks_csv.parent\n",
    "result_dir = Path(\"result\")\n",
    "result_dir.mkdir(parents=True, exist_ok=True)\n",
    "\n",
    "tasks = pd.read_csv(tasks_csv)\n",
    "tasks.head()"
   ]
  },
  {
   "cell_type": "code",
   "execution_count": 4,
   "id": "03ff55fd",
   "metadata": {
    "ExecutionIndicator": {
     "show": true
    },
    "execution": {
     "iopub.execute_input": "2025-08-05T09:24:11.407279Z",
     "iopub.status.busy": "2025-08-05T09:24:11.406932Z",
     "iopub.status.idle": "2025-08-05T09:24:16.546675Z",
     "shell.execute_reply": "2025-08-05T09:24:16.546162Z",
     "shell.execute_reply.started": "2025-08-05T09:24:11.407263Z"
    },
    "tags": []
   },
   "outputs": [
    {
     "name": "stdout",
     "output_type": "stream",
     "text": [
      "Looking in indexes: https://mirrors.cloud.aliyuncs.com/pypi/simple\n",
      "Requirement already satisfied: einops==0.8.1 in /usr/local/lib/python3.11/site-packages (from -r requirements.txt (line 1)) (0.8.1)\n",
      "Requirement already satisfied: einx==0.3.0 in /usr/local/lib/python3.11/site-packages (from -r requirements.txt (line 2)) (0.3.0)\n",
      "Requirement already satisfied: numpy==1.26.4 in /usr/local/lib/python3.11/site-packages (from -r requirements.txt (line 3)) (1.26.4)\n",
      "Requirement already satisfied: omegaconf==2.3.0 in /usr/local/lib/python3.11/site-packages (from -r requirements.txt (line 4)) (2.3.0)\n",
      "Requirement already satisfied: packaging==24.2 in /usr/local/lib/python3.11/site-packages (from -r requirements.txt (line 5)) (24.2)\n",
      "Requirement already satisfied: safetensors==0.5.2 in /usr/local/lib/python3.11/site-packages (from -r requirements.txt (line 6)) (0.5.2)\n",
      "Requirement already satisfied: soundfile==0.12.1 in /usr/local/lib/python3.11/site-packages (from -r requirements.txt (line 7)) (0.12.1)\n",
      "Requirement already satisfied: soxr==0.5.0.post1 in /usr/local/lib/python3.11/site-packages (from -r requirements.txt (line 8)) (0.5.0.post1)\n",
      "Requirement already satisfied: torch==2.5.1 in /usr/local/lib/python3.11/site-packages (from -r requirements.txt (line 9)) (2.5.1)\n",
      "Requirement already satisfied: torchaudio==2.5.1 in /usr/local/lib/python3.11/site-packages (from -r requirements.txt (line 10)) (2.5.1)\n",
      "Requirement already satisfied: torchvision==0.20.1 in /usr/local/lib/python3.11/site-packages (from -r requirements.txt (line 11)) (0.20.1)\n",
      "Requirement already satisfied: tqdm==4.66.5 in /usr/local/lib/python3.11/site-packages (from -r requirements.txt (line 12)) (4.66.5)\n",
      "Requirement already satisfied: transformers==4.46.2 in /usr/local/lib/python3.11/site-packages (from -r requirements.txt (line 13)) (4.46.2)\n",
      "Requirement already satisfied: gradio==5.18.0 in /usr/local/lib/python3.11/site-packages (from -r requirements.txt (line 14)) (5.18.0)\n",
      "Requirement already satisfied: sympy in /usr/local/lib/python3.11/site-packages (from einx==0.3.0->-r requirements.txt (line 2)) (1.13.1)\n",
      "Requirement already satisfied: frozendict in /usr/local/lib/python3.11/site-packages (from einx==0.3.0->-r requirements.txt (line 2)) (2.4.6)\n",
      "Requirement already satisfied: antlr4-python3-runtime==4.9.* in /usr/local/lib/python3.11/site-packages (from omegaconf==2.3.0->-r requirements.txt (line 4)) (4.9.3)\n",
      "Requirement already satisfied: PyYAML>=5.1.0 in /usr/local/lib/python3.11/site-packages (from omegaconf==2.3.0->-r requirements.txt (line 4)) (6.0.2)\n",
      "Requirement already satisfied: cffi>=1.0 in /usr/local/lib/python3.11/site-packages (from soundfile==0.12.1->-r requirements.txt (line 7)) (1.17.1)\n",
      "Requirement already satisfied: filelock in /usr/local/lib/python3.11/site-packages (from torch==2.5.1->-r requirements.txt (line 9)) (3.17.0)\n",
      "Requirement already satisfied: typing-extensions>=4.8.0 in /usr/local/lib/python3.11/site-packages (from torch==2.5.1->-r requirements.txt (line 9)) (4.12.2)\n",
      "Requirement already satisfied: networkx in /usr/local/lib/python3.11/site-packages (from torch==2.5.1->-r requirements.txt (line 9)) (3.4.2)\n",
      "Requirement already satisfied: jinja2 in /usr/local/lib/python3.11/site-packages (from torch==2.5.1->-r requirements.txt (line 9)) (3.1.6)\n",
      "Requirement already satisfied: fsspec in /usr/local/lib/python3.11/site-packages (from torch==2.5.1->-r requirements.txt (line 9)) (2024.9.0)\n",
      "Requirement already satisfied: nvidia-cuda-nvrtc-cu12==12.4.127 in /usr/local/lib/python3.11/site-packages (from torch==2.5.1->-r requirements.txt (line 9)) (12.4.127)\n",
      "Requirement already satisfied: nvidia-cuda-runtime-cu12==12.4.127 in /usr/local/lib/python3.11/site-packages (from torch==2.5.1->-r requirements.txt (line 9)) (12.4.127)\n",
      "Requirement already satisfied: nvidia-cuda-cupti-cu12==12.4.127 in /usr/local/lib/python3.11/site-packages (from torch==2.5.1->-r requirements.txt (line 9)) (12.4.127)\n",
      "Requirement already satisfied: nvidia-cudnn-cu12==9.1.0.70 in /usr/local/lib/python3.11/site-packages (from torch==2.5.1->-r requirements.txt (line 9)) (9.1.0.70)\n",
      "Requirement already satisfied: nvidia-cublas-cu12==12.4.5.8 in /usr/local/lib/python3.11/site-packages (from torch==2.5.1->-r requirements.txt (line 9)) (12.4.5.8)\n",
      "Requirement already satisfied: nvidia-cufft-cu12==11.2.1.3 in /usr/local/lib/python3.11/site-packages (from torch==2.5.1->-r requirements.txt (line 9)) (11.2.1.3)\n",
      "Requirement already satisfied: nvidia-curand-cu12==10.3.5.147 in /usr/local/lib/python3.11/site-packages (from torch==2.5.1->-r requirements.txt (line 9)) (10.3.5.147)\n",
      "Requirement already satisfied: nvidia-cusolver-cu12==11.6.1.9 in /usr/local/lib/python3.11/site-packages (from torch==2.5.1->-r requirements.txt (line 9)) (11.6.1.9)\n",
      "Requirement already satisfied: nvidia-cusparse-cu12==12.3.1.170 in /usr/local/lib/python3.11/site-packages (from torch==2.5.1->-r requirements.txt (line 9)) (12.3.1.170)\n",
      "Requirement already satisfied: nvidia-nccl-cu12==2.21.5 in /usr/local/lib/python3.11/site-packages (from torch==2.5.1->-r requirements.txt (line 9)) (2.21.5)\n",
      "Requirement already satisfied: nvidia-nvtx-cu12==12.4.127 in /usr/local/lib/python3.11/site-packages (from torch==2.5.1->-r requirements.txt (line 9)) (12.4.127)\n",
      "Requirement already satisfied: nvidia-nvjitlink-cu12==12.4.127 in /usr/local/lib/python3.11/site-packages (from torch==2.5.1->-r requirements.txt (line 9)) (12.4.127)\n",
      "Requirement already satisfied: triton==3.1.0 in /usr/local/lib/python3.11/site-packages (from torch==2.5.1->-r requirements.txt (line 9)) (3.1.0)\n",
      "Requirement already satisfied: pillow!=8.3.*,>=5.3.0 in /usr/local/lib/python3.11/site-packages (from torchvision==0.20.1->-r requirements.txt (line 11)) (11.1.0)\n",
      "Requirement already satisfied: huggingface-hub<1.0,>=0.23.2 in /usr/local/lib/python3.11/site-packages (from transformers==4.46.2->-r requirements.txt (line 13)) (0.33.2)\n",
      "Requirement already satisfied: regex!=2019.12.17 in /usr/local/lib/python3.11/site-packages (from transformers==4.46.2->-r requirements.txt (line 13)) (2024.11.6)\n",
      "Requirement already satisfied: requests in /usr/local/lib/python3.11/site-packages (from transformers==4.46.2->-r requirements.txt (line 13)) (2.32.3)\n",
      "Requirement already satisfied: tokenizers<0.21,>=0.20 in /usr/local/lib/python3.11/site-packages (from transformers==4.46.2->-r requirements.txt (line 13)) (0.20.3)\n",
      "Requirement already satisfied: aiofiles<24.0,>=22.0 in /usr/local/lib/python3.11/site-packages (from gradio==5.18.0->-r requirements.txt (line 14)) (23.2.1)\n",
      "Requirement already satisfied: anyio<5.0,>=3.0 in /usr/local/lib/python3.11/site-packages (from gradio==5.18.0->-r requirements.txt (line 14)) (4.9.0)\n",
      "Requirement already satisfied: fastapi<1.0,>=0.115.2 in /usr/local/lib/python3.11/site-packages (from gradio==5.18.0->-r requirements.txt (line 14)) (0.115.14)\n",
      "Requirement already satisfied: ffmpy in /usr/local/lib/python3.11/site-packages (from gradio==5.18.0->-r requirements.txt (line 14)) (0.6.0)\n",
      "Requirement already satisfied: gradio-client==1.7.2 in /usr/local/lib/python3.11/site-packages (from gradio==5.18.0->-r requirements.txt (line 14)) (1.7.2)\n",
      "Requirement already satisfied: httpx>=0.24.1 in /usr/local/lib/python3.11/site-packages (from gradio==5.18.0->-r requirements.txt (line 14)) (0.28.1)\n",
      "Requirement already satisfied: markupsafe~=2.0 in /usr/local/lib/python3.11/site-packages (from gradio==5.18.0->-r requirements.txt (line 14)) (2.1.5)\n",
      "Requirement already satisfied: orjson~=3.0 in /usr/local/lib/python3.11/site-packages (from gradio==5.18.0->-r requirements.txt (line 14)) (3.10.18)\n",
      "Requirement already satisfied: pandas<3.0,>=1.0 in /usr/local/lib/python3.11/site-packages (from gradio==5.18.0->-r requirements.txt (line 14)) (2.3.0)\n",
      "Requirement already satisfied: pydantic>=2.0 in /usr/local/lib/python3.11/site-packages (from gradio==5.18.0->-r requirements.txt (line 14)) (2.11.7)\n",
      "Requirement already satisfied: pydub in /usr/local/lib/python3.11/site-packages (from gradio==5.18.0->-r requirements.txt (line 14)) (0.25.1)\n",
      "Requirement already satisfied: python-multipart>=0.0.18 in /usr/local/lib/python3.11/site-packages (from gradio==5.18.0->-r requirements.txt (line 14)) (0.0.20)\n",
      "Requirement already satisfied: ruff>=0.9.3 in /usr/local/lib/python3.11/site-packages (from gradio==5.18.0->-r requirements.txt (line 14)) (0.12.2)\n",
      "Requirement already satisfied: safehttpx<0.2.0,>=0.1.6 in /usr/local/lib/python3.11/site-packages (from gradio==5.18.0->-r requirements.txt (line 14)) (0.1.6)\n",
      "Requirement already satisfied: semantic-version~=2.0 in /usr/local/lib/python3.11/site-packages (from gradio==5.18.0->-r requirements.txt (line 14)) (2.10.0)\n",
      "Requirement already satisfied: starlette<1.0,>=0.40.0 in /usr/local/lib/python3.11/site-packages (from gradio==5.18.0->-r requirements.txt (line 14)) (0.46.2)\n",
      "Requirement already satisfied: tomlkit<0.14.0,>=0.12.0 in /usr/local/lib/python3.11/site-packages (from gradio==5.18.0->-r requirements.txt (line 14)) (0.13.3)\n",
      "Requirement already satisfied: typer<1.0,>=0.12 in /usr/local/lib/python3.11/site-packages (from gradio==5.18.0->-r requirements.txt (line 14)) (0.16.0)\n",
      "Requirement already satisfied: uvicorn>=0.14.0 in /usr/local/lib/python3.11/site-packages (from gradio==5.18.0->-r requirements.txt (line 14)) (0.35.0)\n",
      "Requirement already satisfied: websockets<16.0,>=10.0 in /usr/local/lib/python3.11/site-packages (from gradio-client==1.7.2->gradio==5.18.0->-r requirements.txt (line 14)) (15.0.1)\n",
      "Requirement already satisfied: mpmath<1.4,>=1.1.0 in /usr/local/lib/python3.11/site-packages (from sympy->einx==0.3.0->-r requirements.txt (line 2)) (1.3.0)\n",
      "Requirement already satisfied: idna>=2.8 in /usr/local/lib/python3.11/site-packages (from anyio<5.0,>=3.0->gradio==5.18.0->-r requirements.txt (line 14)) (3.10)\n",
      "Requirement already satisfied: sniffio>=1.1 in /usr/local/lib/python3.11/site-packages (from anyio<5.0,>=3.0->gradio==5.18.0->-r requirements.txt (line 14)) (1.3.1)\n",
      "Requirement already satisfied: pycparser in /usr/local/lib/python3.11/site-packages (from cffi>=1.0->soundfile==0.12.1->-r requirements.txt (line 7)) (2.22)\n",
      "Requirement already satisfied: certifi in /usr/local/lib/python3.11/site-packages (from httpx>=0.24.1->gradio==5.18.0->-r requirements.txt (line 14)) (2025.1.31)\n",
      "Requirement already satisfied: httpcore==1.* in /usr/local/lib/python3.11/site-packages (from httpx>=0.24.1->gradio==5.18.0->-r requirements.txt (line 14)) (1.0.9)\n",
      "Requirement already satisfied: h11>=0.16 in /usr/local/lib/python3.11/site-packages (from httpcore==1.*->httpx>=0.24.1->gradio==5.18.0->-r requirements.txt (line 14)) (0.16.0)\n",
      "Requirement already satisfied: hf-xet<2.0.0,>=1.1.2 in /usr/local/lib/python3.11/site-packages (from huggingface-hub<1.0,>=0.23.2->transformers==4.46.2->-r requirements.txt (line 13)) (1.1.5)\n",
      "Requirement already satisfied: python-dateutil>=2.8.2 in /usr/local/lib/python3.11/site-packages (from pandas<3.0,>=1.0->gradio==5.18.0->-r requirements.txt (line 14)) (2.9.0.post0)\n",
      "Requirement already satisfied: pytz>=2020.1 in /usr/local/lib/python3.11/site-packages (from pandas<3.0,>=1.0->gradio==5.18.0->-r requirements.txt (line 14)) (2025.2)\n",
      "Requirement already satisfied: tzdata>=2022.7 in /usr/local/lib/python3.11/site-packages (from pandas<3.0,>=1.0->gradio==5.18.0->-r requirements.txt (line 14)) (2025.2)\n",
      "Requirement already satisfied: annotated-types>=0.6.0 in /usr/local/lib/python3.11/site-packages (from pydantic>=2.0->gradio==5.18.0->-r requirements.txt (line 14)) (0.7.0)\n",
      "Requirement already satisfied: pydantic-core==2.33.2 in /usr/local/lib/python3.11/site-packages (from pydantic>=2.0->gradio==5.18.0->-r requirements.txt (line 14)) (2.33.2)\n",
      "Requirement already satisfied: typing-inspection>=0.4.0 in /usr/local/lib/python3.11/site-packages (from pydantic>=2.0->gradio==5.18.0->-r requirements.txt (line 14)) (0.4.1)\n",
      "Requirement already satisfied: click>=8.0.0 in /usr/local/lib/python3.11/site-packages (from typer<1.0,>=0.12->gradio==5.18.0->-r requirements.txt (line 14)) (8.1.8)\n",
      "Requirement already satisfied: shellingham>=1.3.0 in /usr/local/lib/python3.11/site-packages (from typer<1.0,>=0.12->gradio==5.18.0->-r requirements.txt (line 14)) (1.5.4)\n",
      "Requirement already satisfied: rich>=10.11.0 in /usr/local/lib/python3.11/site-packages (from typer<1.0,>=0.12->gradio==5.18.0->-r requirements.txt (line 14)) (13.9.4)\n",
      "Requirement already satisfied: charset-normalizer<4,>=2 in /usr/local/lib/python3.11/site-packages (from requests->transformers==4.46.2->-r requirements.txt (line 13)) (3.4.1)\n",
      "Requirement already satisfied: urllib3<3,>=1.21.1 in /usr/local/lib/python3.11/site-packages (from requests->transformers==4.46.2->-r requirements.txt (line 13)) (2.3.0)\n",
      "Requirement already satisfied: six>=1.5 in /usr/local/lib/python3.11/site-packages (from python-dateutil>=2.8.2->pandas<3.0,>=1.0->gradio==5.18.0->-r requirements.txt (line 14)) (1.17.0)\n",
      "Requirement already satisfied: markdown-it-py>=2.2.0 in /usr/local/lib/python3.11/site-packages (from rich>=10.11.0->typer<1.0,>=0.12->gradio==5.18.0->-r requirements.txt (line 14)) (3.0.0)\n",
      "Requirement already satisfied: pygments<3.0.0,>=2.13.0 in /usr/local/lib/python3.11/site-packages (from rich>=10.11.0->typer<1.0,>=0.12->gradio==5.18.0->-r requirements.txt (line 14)) (2.19.1)\n",
      "Requirement already satisfied: mdurl~=0.1 in /usr/local/lib/python3.11/site-packages (from markdown-it-py>=2.2.0->rich>=10.11.0->typer<1.0,>=0.12->gradio==5.18.0->-r requirements.txt (line 14)) (0.1.2)\n",
      "\u001b[33mDEPRECATION: pytorch-lightning 1.7.7 has a non-standard dependency specifier torch>=1.9.*. pip 24.0 will enforce this behaviour change. A possible replacement is to upgrade to a newer version of pytorch-lightning or contact the author to suggest that they release a version with a conforming dependency specifiers. Discussion can be found at https://github.com/pypa/pip/issues/12063\u001b[0m\u001b[33m\n",
      "\u001b[0m\u001b[33mWARNING: Running pip as the 'root' user can result in broken permissions and conflicting behaviour with the system package manager. It is recommended to use a virtual environment instead: https://pip.pypa.io/warnings/venv\u001b[0m\u001b[33m\n",
      "\u001b[0m\n",
      "\u001b[1m[\u001b[0m\u001b[34;49mnotice\u001b[0m\u001b[1;39;49m]\u001b[0m\u001b[39;49m A new release of pip is available: \u001b[0m\u001b[31;49m23.3.2\u001b[0m\u001b[39;49m -> \u001b[0m\u001b[32;49m25.2\u001b[0m\n",
      "\u001b[1m[\u001b[0m\u001b[34;49mnotice\u001b[0m\u001b[1;39;49m]\u001b[0m\u001b[39;49m To update, run: \u001b[0m\u001b[32;49mpip install --upgrade pip\u001b[0m\n",
      "Note: you may need to restart the kernel to use updated packages.\n"
     ]
    }
   ],
   "source": [
    "%pip install -r requirements.txt"
   ]
  },
  {
   "cell_type": "markdown",
   "id": "500f8967",
   "metadata": {},
   "source": [
    "考虑以下情形：\n",
    "1. 数字：（2024.12，在不同的场景下读法不一样，例如逐个朗读，还是两千零二十四点一二）价格1280元（十二八） 甲状旁腺激素受体（PTH1R）\n",
    "2. 标点/符号/单位： mL ℃ +，例如 22 - 24，这里到底是读减号还是读“至/到”，例如 7-9 小时\n",
    "3. 多音字：例如 奇（鸡）\n",
    "4. 断句：142 199 停不下来\n",
    "5. 空输出 [23, 28, 35, 41, 53, 61, 67, 70, 78， 89, 130，132, 144, 149, 160, 166, 191] (降噪？)\n",
    "6. 没读全/结尾停顿/过长停顿 [84, 90, 94, 97， 136] 94 是一个极长文本 难道是按照句号分隔的么"
   ]
  },
  {
   "cell_type": "code",
   "execution_count": 5,
   "id": "0a094b30",
   "metadata": {
    "execution": {
     "iopub.execute_input": "2025-08-05T09:24:16.547454Z",
     "iopub.status.busy": "2025-08-05T09:24:16.547279Z",
     "iopub.status.idle": "2025-08-05T10:50:23.833706Z",
     "shell.execute_reply": "2025-08-05T10:50:23.833291Z",
     "shell.execute_reply.started": "2025-08-05T09:24:16.547438Z"
    },
    "tags": []
   },
   "outputs": [
    {
     "data": {
      "application/vnd.jupyter.widget-view+json": {
       "model_id": "008b28073d22467bbf8e3438bc0b5a97",
       "version_major": 2,
       "version_minor": 0
      },
      "text/plain": [
       "0it [00:00, ?it/s]"
      ]
     },
     "metadata": {},
     "output_type": "display_data"
    },
    {
     "name": "stdout",
     "output_type": "stream",
     "text": [
      "1 六 aigc_speech_generation_tasks/reference_1.wav\n"
     ]
    },
    {
     "name": "stderr",
     "output_type": "stream",
     "text": [
      "2025-08-05 17:24:19.540099: I tensorflow/core/util/port.cc:113] oneDNN custom operations are on. You may see slightly different numerical results due to floating-point round-off errors from different computation orders. To turn them off, set the environment variable `TF_ENABLE_ONEDNN_OPTS=0`.\n",
      "2025-08-05 17:24:19.579911: I tensorflow/core/platform/cpu_feature_guard.cc:210] This TensorFlow binary is optimized to use available CPU instructions in performance-critical operations.\n",
      "To enable the following instructions: AVX2 AVX512F AVX512_VNNI FMA, in other operations, rebuild TensorFlow with the appropriate compiler flags.\n",
      "2025-08-05 17:24:20.444072: W tensorflow/compiler/tf2tensorrt/utils/py_utils.cc:38] TF-TRT Warning: Could not find TensorRT\n",
      "2025-08-05 17:24:22,235 - INFO - Using model from: /mnt/workspace/.cache/modelscope/models/SparkAudio/Spark-TTS-0___5B\n",
      "2025-08-05 17:24:22,235 - INFO - Saving audio to: result\n",
      "2025-08-05 17:24:22,237 - INFO - Using CUDA device: cuda:0\n",
      "/usr/local/lib/python3.11/site-packages/torch/nn/utils/weight_norm.py:143: FutureWarning: `torch.nn.utils.weight_norm` is deprecated in favor of `torch.nn.utils.parametrizations.weight_norm`.\n",
      "  WeightNorm.apply(module, name, dim)\n"
     ]
    },
    {
     "name": "stdout",
     "output_type": "stream",
     "text": [
      "Missing tensor: mel_transformer.spectrogram.window\n",
      "Missing tensor: mel_transformer.mel_scale.fb\n"
     ]
    },
    {
     "name": "stderr",
     "output_type": "stream",
     "text": [
      "2025-08-05 17:24:27,062 - INFO - Starting inference...\n",
      "Setting `pad_token_id` to `eos_token_id`:None for open-end generation.\n",
      "2025-08-05 17:24:28,560 - INFO - Audio saved at: result/temp.wav\n"
     ]
    },
    {
     "name": "stdout",
     "output_type": "stream",
     "text": [
      "2 缴纳罚款单，交警大队开具的违停罚单，编号20240305 aigc_speech_generation_tasks/reference_2.wav\n"
     ]
    },
    {
     "name": "stderr",
     "output_type": "stream",
     "text": [
      "2025-08-05 17:24:32.665655: I tensorflow/core/util/port.cc:113] oneDNN custom operations are on. You may see slightly different numerical results due to floating-point round-off errors from different computation orders. To turn them off, set the environment variable `TF_ENABLE_ONEDNN_OPTS=0`.\n",
      "2025-08-05 17:24:32.704939: I tensorflow/core/platform/cpu_feature_guard.cc:210] This TensorFlow binary is optimized to use available CPU instructions in performance-critical operations.\n",
      "To enable the following instructions: AVX2 AVX512F AVX512_VNNI FMA, in other operations, rebuild TensorFlow with the appropriate compiler flags.\n",
      "2025-08-05 17:24:33.556687: W tensorflow/compiler/tf2tensorrt/utils/py_utils.cc:38] TF-TRT Warning: Could not find TensorRT\n",
      "2025-08-05 17:24:35,212 - INFO - Using model from: /mnt/workspace/.cache/modelscope/models/SparkAudio/Spark-TTS-0___5B\n",
      "2025-08-05 17:24:35,212 - INFO - Saving audio to: result\n",
      "2025-08-05 17:24:35,214 - INFO - Using CUDA device: cuda:0\n",
      "/usr/local/lib/python3.11/site-packages/torch/nn/utils/weight_norm.py:143: FutureWarning: `torch.nn.utils.weight_norm` is deprecated in favor of `torch.nn.utils.parametrizations.weight_norm`.\n",
      "  WeightNorm.apply(module, name, dim)\n"
     ]
    },
    {
     "name": "stdout",
     "output_type": "stream",
     "text": [
      "Missing tensor: mel_transformer.spectrogram.window\n",
      "Missing tensor: mel_transformer.mel_scale.fb\n"
     ]
    },
    {
     "name": "stderr",
     "output_type": "stream",
     "text": [
      "2025-08-05 17:24:40,303 - INFO - Starting inference...\n",
      "Setting `pad_token_id` to `eos_token_id`:None for open-end generation.\n",
      "2025-08-05 17:24:46,019 - INFO - Audio saved at: result/temp.wav\n"
     ]
    },
    {
     "name": "stdout",
     "output_type": "stream",
     "text": [
      "3 腾地而起的风关上了门卷起满屋幽幽檀香味他广袖被风吹起拂过我的眉眼 aigc_speech_generation_tasks/reference_3.wav\n"
     ]
    },
    {
     "name": "stderr",
     "output_type": "stream",
     "text": [
      "2025-08-05 17:24:50.058393: I tensorflow/core/util/port.cc:113] oneDNN custom operations are on. You may see slightly different numerical results due to floating-point round-off errors from different computation orders. To turn them off, set the environment variable `TF_ENABLE_ONEDNN_OPTS=0`.\n",
      "2025-08-05 17:24:50.097696: I tensorflow/core/platform/cpu_feature_guard.cc:210] This TensorFlow binary is optimized to use available CPU instructions in performance-critical operations.\n",
      "To enable the following instructions: AVX2 AVX512F AVX512_VNNI FMA, in other operations, rebuild TensorFlow with the appropriate compiler flags.\n",
      "2025-08-05 17:24:51.017928: W tensorflow/compiler/tf2tensorrt/utils/py_utils.cc:38] TF-TRT Warning: Could not find TensorRT\n",
      "2025-08-05 17:24:52,695 - INFO - Using model from: /mnt/workspace/.cache/modelscope/models/SparkAudio/Spark-TTS-0___5B\n",
      "2025-08-05 17:24:52,695 - INFO - Saving audio to: result\n",
      "2025-08-05 17:24:52,696 - INFO - Using CUDA device: cuda:0\n",
      "/usr/local/lib/python3.11/site-packages/torch/nn/utils/weight_norm.py:143: FutureWarning: `torch.nn.utils.weight_norm` is deprecated in favor of `torch.nn.utils.parametrizations.weight_norm`.\n",
      "  WeightNorm.apply(module, name, dim)\n"
     ]
    },
    {
     "name": "stdout",
     "output_type": "stream",
     "text": [
      "Missing tensor: mel_transformer.spectrogram.window\n",
      "Missing tensor: mel_transformer.mel_scale.fb\n"
     ]
    },
    {
     "name": "stderr",
     "output_type": "stream",
     "text": [
      "2025-08-05 17:24:57,469 - INFO - Starting inference...\n",
      "Setting `pad_token_id` to `eos_token_id`:None for open-end generation.\n",
      "2025-08-05 17:25:11,213 - INFO - Audio saved at: result/temp.wav\n"
     ]
    },
    {
     "name": "stdout",
     "output_type": "stream",
     "text": [
      "4 但这还不是定局一切都将充满变数 aigc_speech_generation_tasks/reference_4.wav\n"
     ]
    },
    {
     "name": "stderr",
     "output_type": "stream",
     "text": [
      "2025-08-05 17:25:15.305375: I tensorflow/core/util/port.cc:113] oneDNN custom operations are on. You may see slightly different numerical results due to floating-point round-off errors from different computation orders. To turn them off, set the environment variable `TF_ENABLE_ONEDNN_OPTS=0`.\n",
      "2025-08-05 17:25:15.345023: I tensorflow/core/platform/cpu_feature_guard.cc:210] This TensorFlow binary is optimized to use available CPU instructions in performance-critical operations.\n",
      "To enable the following instructions: AVX2 AVX512F AVX512_VNNI FMA, in other operations, rebuild TensorFlow with the appropriate compiler flags.\n",
      "2025-08-05 17:25:16.212434: W tensorflow/compiler/tf2tensorrt/utils/py_utils.cc:38] TF-TRT Warning: Could not find TensorRT\n",
      "2025-08-05 17:25:17,878 - INFO - Using model from: /mnt/workspace/.cache/modelscope/models/SparkAudio/Spark-TTS-0___5B\n",
      "2025-08-05 17:25:17,878 - INFO - Saving audio to: result\n",
      "2025-08-05 17:25:17,879 - INFO - Using CUDA device: cuda:0\n",
      "/usr/local/lib/python3.11/site-packages/torch/nn/utils/weight_norm.py:143: FutureWarning: `torch.nn.utils.weight_norm` is deprecated in favor of `torch.nn.utils.parametrizations.weight_norm`.\n",
      "  WeightNorm.apply(module, name, dim)\n"
     ]
    },
    {
     "name": "stdout",
     "output_type": "stream",
     "text": [
      "Missing tensor: mel_transformer.spectrogram.window\n",
      "Missing tensor: mel_transformer.mel_scale.fb\n"
     ]
    },
    {
     "name": "stderr",
     "output_type": "stream",
     "text": [
      "2025-08-05 17:25:23,650 - INFO - Starting inference...\n",
      "Setting `pad_token_id` to `eos_token_id`:None for open-end generation.\n",
      "2025-08-05 17:25:28,494 - INFO - Audio saved at: result/temp.wav\n"
     ]
    },
    {
     "name": "stdout",
     "output_type": "stream",
     "text": [
      "5 从屏风后面转出来看看镜子中的自己，瑞博甚至有种换了个人的感觉 aigc_speech_generation_tasks/reference_5.wav\n"
     ]
    },
    {
     "name": "stderr",
     "output_type": "stream",
     "text": [
      "2025-08-05 17:25:32.601209: I tensorflow/core/util/port.cc:113] oneDNN custom operations are on. You may see slightly different numerical results due to floating-point round-off errors from different computation orders. To turn them off, set the environment variable `TF_ENABLE_ONEDNN_OPTS=0`.\n",
      "2025-08-05 17:25:32.639980: I tensorflow/core/platform/cpu_feature_guard.cc:210] This TensorFlow binary is optimized to use available CPU instructions in performance-critical operations.\n",
      "To enable the following instructions: AVX2 AVX512F AVX512_VNNI FMA, in other operations, rebuild TensorFlow with the appropriate compiler flags.\n",
      "2025-08-05 17:25:33.499172: W tensorflow/compiler/tf2tensorrt/utils/py_utils.cc:38] TF-TRT Warning: Could not find TensorRT\n",
      "2025-08-05 17:25:35,169 - INFO - Using model from: /mnt/workspace/.cache/modelscope/models/SparkAudio/Spark-TTS-0___5B\n",
      "2025-08-05 17:25:35,169 - INFO - Saving audio to: result\n",
      "2025-08-05 17:25:35,171 - INFO - Using CUDA device: cuda:0\n",
      "/usr/local/lib/python3.11/site-packages/torch/nn/utils/weight_norm.py:143: FutureWarning: `torch.nn.utils.weight_norm` is deprecated in favor of `torch.nn.utils.parametrizations.weight_norm`.\n",
      "  WeightNorm.apply(module, name, dim)\n"
     ]
    },
    {
     "name": "stdout",
     "output_type": "stream",
     "text": [
      "Missing tensor: mel_transformer.spectrogram.window\n",
      "Missing tensor: mel_transformer.mel_scale.fb\n"
     ]
    },
    {
     "name": "stderr",
     "output_type": "stream",
     "text": [
      "2025-08-05 17:25:40,322 - INFO - Starting inference...\n",
      "Setting `pad_token_id` to `eos_token_id`:None for open-end generation.\n",
      "2025-08-05 17:25:48,157 - INFO - Audio saved at: result/temp.wav\n"
     ]
    },
    {
     "name": "stdout",
     "output_type": "stream",
     "text": [
      "6 雨下得很大，像是要把整个城市淹没。他靠在窗边，望着远方模糊的灯火，心中却是一片空荡。手机已经静默了整整三天，而他知道，有些等待，是永远不会有回音的。 aigc_speech_generation_tasks/reference_6.wav\n"
     ]
    },
    {
     "name": "stderr",
     "output_type": "stream",
     "text": [
      "2025-08-05 17:25:52.366452: I tensorflow/core/util/port.cc:113] oneDNN custom operations are on. You may see slightly different numerical results due to floating-point round-off errors from different computation orders. To turn them off, set the environment variable `TF_ENABLE_ONEDNN_OPTS=0`.\n",
      "2025-08-05 17:25:52.405921: I tensorflow/core/platform/cpu_feature_guard.cc:210] This TensorFlow binary is optimized to use available CPU instructions in performance-critical operations.\n",
      "To enable the following instructions: AVX2 AVX512F AVX512_VNNI FMA, in other operations, rebuild TensorFlow with the appropriate compiler flags.\n",
      "2025-08-05 17:25:53.264928: W tensorflow/compiler/tf2tensorrt/utils/py_utils.cc:38] TF-TRT Warning: Could not find TensorRT\n",
      "2025-08-05 17:25:54,910 - INFO - Using model from: /mnt/workspace/.cache/modelscope/models/SparkAudio/Spark-TTS-0___5B\n",
      "2025-08-05 17:25:54,910 - INFO - Saving audio to: result\n",
      "2025-08-05 17:25:54,911 - INFO - Using CUDA device: cuda:0\n",
      "/usr/local/lib/python3.11/site-packages/torch/nn/utils/weight_norm.py:143: FutureWarning: `torch.nn.utils.weight_norm` is deprecated in favor of `torch.nn.utils.parametrizations.weight_norm`.\n",
      "  WeightNorm.apply(module, name, dim)\n"
     ]
    },
    {
     "name": "stdout",
     "output_type": "stream",
     "text": [
      "Missing tensor: mel_transformer.spectrogram.window\n",
      "Missing tensor: mel_transformer.mel_scale.fb\n"
     ]
    },
    {
     "name": "stderr",
     "output_type": "stream",
     "text": [
      "2025-08-05 17:25:59,550 - INFO - Starting inference...\n",
      "Setting `pad_token_id` to `eos_token_id`:None for open-end generation.\n",
      "2025-08-05 17:26:14,350 - INFO - Audio saved at: result/temp.wav\n"
     ]
    },
    {
     "name": "stdout",
     "output_type": "stream",
     "text": [
      "7 用我支付宝账户里的余额给我定一套优衣库的家居服，选择的是粉红色和灰色相间的那款 aigc_speech_generation_tasks/reference_7.wav\n"
     ]
    },
    {
     "name": "stderr",
     "output_type": "stream",
     "text": [
      "2025-08-05 17:26:18.526353: I tensorflow/core/util/port.cc:113] oneDNN custom operations are on. You may see slightly different numerical results due to floating-point round-off errors from different computation orders. To turn them off, set the environment variable `TF_ENABLE_ONEDNN_OPTS=0`.\n",
      "2025-08-05 17:26:18.565732: I tensorflow/core/platform/cpu_feature_guard.cc:210] This TensorFlow binary is optimized to use available CPU instructions in performance-critical operations.\n",
      "To enable the following instructions: AVX2 AVX512F AVX512_VNNI FMA, in other operations, rebuild TensorFlow with the appropriate compiler flags.\n",
      "2025-08-05 17:26:19.427313: W tensorflow/compiler/tf2tensorrt/utils/py_utils.cc:38] TF-TRT Warning: Could not find TensorRT\n",
      "2025-08-05 17:26:21,147 - INFO - Using model from: /mnt/workspace/.cache/modelscope/models/SparkAudio/Spark-TTS-0___5B\n",
      "2025-08-05 17:26:21,147 - INFO - Saving audio to: result\n",
      "2025-08-05 17:26:21,150 - INFO - Using CUDA device: cuda:0\n",
      "/usr/local/lib/python3.11/site-packages/torch/nn/utils/weight_norm.py:143: FutureWarning: `torch.nn.utils.weight_norm` is deprecated in favor of `torch.nn.utils.parametrizations.weight_norm`.\n",
      "  WeightNorm.apply(module, name, dim)\n"
     ]
    },
    {
     "name": "stdout",
     "output_type": "stream",
     "text": [
      "Missing tensor: mel_transformer.spectrogram.window\n",
      "Missing tensor: mel_transformer.mel_scale.fb\n"
     ]
    },
    {
     "name": "stderr",
     "output_type": "stream",
     "text": [
      "2025-08-05 17:26:25,813 - INFO - Starting inference...\n",
      "Setting `pad_token_id` to `eos_token_id`:None for open-end generation.\n",
      "2025-08-05 17:26:36,915 - INFO - Audio saved at: result/temp.wav\n"
     ]
    },
    {
     "name": "stdout",
     "output_type": "stream",
     "text": [
      "8 但任天堂和以上四类都不太一样 aigc_speech_generation_tasks/reference_8.wav\n"
     ]
    },
    {
     "name": "stderr",
     "output_type": "stream",
     "text": [
      "2025-08-05 17:26:40.992894: I tensorflow/core/util/port.cc:113] oneDNN custom operations are on. You may see slightly different numerical results due to floating-point round-off errors from different computation orders. To turn them off, set the environment variable `TF_ENABLE_ONEDNN_OPTS=0`.\n",
      "2025-08-05 17:26:41.032070: I tensorflow/core/platform/cpu_feature_guard.cc:210] This TensorFlow binary is optimized to use available CPU instructions in performance-critical operations.\n",
      "To enable the following instructions: AVX2 AVX512F AVX512_VNNI FMA, in other operations, rebuild TensorFlow with the appropriate compiler flags.\n",
      "2025-08-05 17:26:41.874189: W tensorflow/compiler/tf2tensorrt/utils/py_utils.cc:38] TF-TRT Warning: Could not find TensorRT\n",
      "2025-08-05 17:26:43,516 - INFO - Using model from: /mnt/workspace/.cache/modelscope/models/SparkAudio/Spark-TTS-0___5B\n",
      "2025-08-05 17:26:43,516 - INFO - Saving audio to: result\n",
      "2025-08-05 17:26:43,517 - INFO - Using CUDA device: cuda:0\n",
      "/usr/local/lib/python3.11/site-packages/torch/nn/utils/weight_norm.py:143: FutureWarning: `torch.nn.utils.weight_norm` is deprecated in favor of `torch.nn.utils.parametrizations.weight_norm`.\n",
      "  WeightNorm.apply(module, name, dim)\n"
     ]
    },
    {
     "name": "stdout",
     "output_type": "stream",
     "text": [
      "Missing tensor: mel_transformer.spectrogram.window\n",
      "Missing tensor: mel_transformer.mel_scale.fb\n"
     ]
    },
    {
     "name": "stderr",
     "output_type": "stream",
     "text": [
      "2025-08-05 17:26:48,275 - INFO - Starting inference...\n",
      "Setting `pad_token_id` to `eos_token_id`:None for open-end generation.\n",
      "2025-08-05 17:26:52,437 - INFO - Audio saved at: result/temp.wav\n"
     ]
    },
    {
     "name": "stdout",
     "output_type": "stream",
     "text": [
      "9 每股美国存托股（ADS）基本和摊薄亏损均为人民币0.75元（约合0.11美元），而上年同期每股ADS基本和摊薄亏损均为人民币0.88元。 aigc_speech_generation_tasks/reference_9.wav\n"
     ]
    },
    {
     "name": "stderr",
     "output_type": "stream",
     "text": [
      "2025-08-05 17:26:56.486161: I tensorflow/core/util/port.cc:113] oneDNN custom operations are on. You may see slightly different numerical results due to floating-point round-off errors from different computation orders. To turn them off, set the environment variable `TF_ENABLE_ONEDNN_OPTS=0`.\n",
      "2025-08-05 17:26:56.529783: I tensorflow/core/platform/cpu_feature_guard.cc:210] This TensorFlow binary is optimized to use available CPU instructions in performance-critical operations.\n",
      "To enable the following instructions: AVX2 AVX512F AVX512_VNNI FMA, in other operations, rebuild TensorFlow with the appropriate compiler flags.\n",
      "2025-08-05 17:26:57.370642: W tensorflow/compiler/tf2tensorrt/utils/py_utils.cc:38] TF-TRT Warning: Could not find TensorRT\n",
      "2025-08-05 17:26:59,039 - INFO - Using model from: /mnt/workspace/.cache/modelscope/models/SparkAudio/Spark-TTS-0___5B\n",
      "2025-08-05 17:26:59,039 - INFO - Saving audio to: result\n",
      "2025-08-05 17:26:59,040 - INFO - Using CUDA device: cuda:0\n",
      "/usr/local/lib/python3.11/site-packages/torch/nn/utils/weight_norm.py:143: FutureWarning: `torch.nn.utils.weight_norm` is deprecated in favor of `torch.nn.utils.parametrizations.weight_norm`.\n",
      "  WeightNorm.apply(module, name, dim)\n"
     ]
    },
    {
     "name": "stdout",
     "output_type": "stream",
     "text": [
      "Missing tensor: mel_transformer.spectrogram.window\n",
      "Missing tensor: mel_transformer.mel_scale.fb\n"
     ]
    },
    {
     "name": "stderr",
     "output_type": "stream",
     "text": [
      "2025-08-05 17:27:03,830 - INFO - Starting inference...\n",
      "Setting `pad_token_id` to `eos_token_id`:None for open-end generation.\n",
      "2025-08-05 17:27:22,133 - INFO - Audio saved at: result/temp.wav\n"
     ]
    },
    {
     "name": "stdout",
     "output_type": "stream",
     "text": [
      "10 可见金融资产的不均衡程度更显著 aigc_speech_generation_tasks/reference_10.wav\n"
     ]
    },
    {
     "name": "stderr",
     "output_type": "stream",
     "text": [
      "2025-08-05 17:27:26.240857: I tensorflow/core/util/port.cc:113] oneDNN custom operations are on. You may see slightly different numerical results due to floating-point round-off errors from different computation orders. To turn them off, set the environment variable `TF_ENABLE_ONEDNN_OPTS=0`.\n",
      "2025-08-05 17:27:26.280175: I tensorflow/core/platform/cpu_feature_guard.cc:210] This TensorFlow binary is optimized to use available CPU instructions in performance-critical operations.\n",
      "To enable the following instructions: AVX2 AVX512F AVX512_VNNI FMA, in other operations, rebuild TensorFlow with the appropriate compiler flags.\n",
      "2025-08-05 17:27:27.143183: W tensorflow/compiler/tf2tensorrt/utils/py_utils.cc:38] TF-TRT Warning: Could not find TensorRT\n",
      "2025-08-05 17:27:28,805 - INFO - Using model from: /mnt/workspace/.cache/modelscope/models/SparkAudio/Spark-TTS-0___5B\n",
      "2025-08-05 17:27:28,805 - INFO - Saving audio to: result\n",
      "2025-08-05 17:27:28,807 - INFO - Using CUDA device: cuda:0\n",
      "/usr/local/lib/python3.11/site-packages/torch/nn/utils/weight_norm.py:143: FutureWarning: `torch.nn.utils.weight_norm` is deprecated in favor of `torch.nn.utils.parametrizations.weight_norm`.\n",
      "  WeightNorm.apply(module, name, dim)\n"
     ]
    },
    {
     "name": "stdout",
     "output_type": "stream",
     "text": [
      "Missing tensor: mel_transformer.spectrogram.window\n",
      "Missing tensor: mel_transformer.mel_scale.fb\n"
     ]
    },
    {
     "name": "stderr",
     "output_type": "stream",
     "text": [
      "2025-08-05 17:27:33,583 - INFO - Starting inference...\n",
      "Setting `pad_token_id` to `eos_token_id`:None for open-end generation.\n",
      "2025-08-05 17:27:37,172 - INFO - Audio saved at: result/temp.wav\n"
     ]
    },
    {
     "name": "stdout",
     "output_type": "stream",
     "text": [
      "11 因此更为成熟的市场则会出现更多生态式并购 aigc_speech_generation_tasks/reference_11.wav\n"
     ]
    },
    {
     "name": "stderr",
     "output_type": "stream",
     "text": [
      "2025-08-05 17:27:41.322979: I tensorflow/core/util/port.cc:113] oneDNN custom operations are on. You may see slightly different numerical results due to floating-point round-off errors from different computation orders. To turn them off, set the environment variable `TF_ENABLE_ONEDNN_OPTS=0`.\n",
      "2025-08-05 17:27:41.362399: I tensorflow/core/platform/cpu_feature_guard.cc:210] This TensorFlow binary is optimized to use available CPU instructions in performance-critical operations.\n",
      "To enable the following instructions: AVX2 AVX512F AVX512_VNNI FMA, in other operations, rebuild TensorFlow with the appropriate compiler flags.\n",
      "2025-08-05 17:27:42.210562: W tensorflow/compiler/tf2tensorrt/utils/py_utils.cc:38] TF-TRT Warning: Could not find TensorRT\n",
      "2025-08-05 17:27:43,881 - INFO - Using model from: /mnt/workspace/.cache/modelscope/models/SparkAudio/Spark-TTS-0___5B\n",
      "2025-08-05 17:27:43,881 - INFO - Saving audio to: result\n",
      "2025-08-05 17:27:43,883 - INFO - Using CUDA device: cuda:0\n",
      "/usr/local/lib/python3.11/site-packages/torch/nn/utils/weight_norm.py:143: FutureWarning: `torch.nn.utils.weight_norm` is deprecated in favor of `torch.nn.utils.parametrizations.weight_norm`.\n",
      "  WeightNorm.apply(module, name, dim)\n"
     ]
    },
    {
     "name": "stdout",
     "output_type": "stream",
     "text": [
      "Missing tensor: mel_transformer.spectrogram.window\n",
      "Missing tensor: mel_transformer.mel_scale.fb\n"
     ]
    },
    {
     "name": "stderr",
     "output_type": "stream",
     "text": [
      "2025-08-05 17:27:48,475 - INFO - Starting inference...\n",
      "Setting `pad_token_id` to `eos_token_id`:None for open-end generation.\n",
      "2025-08-05 17:27:53,507 - INFO - Audio saved at: result/temp.wav\n"
     ]
    },
    {
     "name": "stdout",
     "output_type": "stream",
     "text": [
      "12 预定网约车，车型选SUV，司机需有儿童座椅 aigc_speech_generation_tasks/reference_12.wav\n"
     ]
    },
    {
     "name": "stderr",
     "output_type": "stream",
     "text": [
      "2025-08-05 17:27:57.609643: I tensorflow/core/util/port.cc:113] oneDNN custom operations are on. You may see slightly different numerical results due to floating-point round-off errors from different computation orders. To turn them off, set the environment variable `TF_ENABLE_ONEDNN_OPTS=0`.\n",
      "2025-08-05 17:27:57.648977: I tensorflow/core/platform/cpu_feature_guard.cc:210] This TensorFlow binary is optimized to use available CPU instructions in performance-critical operations.\n",
      "To enable the following instructions: AVX2 AVX512F AVX512_VNNI FMA, in other operations, rebuild TensorFlow with the appropriate compiler flags.\n",
      "2025-08-05 17:27:58.502474: W tensorflow/compiler/tf2tensorrt/utils/py_utils.cc:38] TF-TRT Warning: Could not find TensorRT\n",
      "2025-08-05 17:28:00,186 - INFO - Using model from: /mnt/workspace/.cache/modelscope/models/SparkAudio/Spark-TTS-0___5B\n",
      "2025-08-05 17:28:00,186 - INFO - Saving audio to: result\n",
      "2025-08-05 17:28:00,188 - INFO - Using CUDA device: cuda:0\n",
      "/usr/local/lib/python3.11/site-packages/torch/nn/utils/weight_norm.py:143: FutureWarning: `torch.nn.utils.weight_norm` is deprecated in favor of `torch.nn.utils.parametrizations.weight_norm`.\n",
      "  WeightNorm.apply(module, name, dim)\n"
     ]
    },
    {
     "name": "stdout",
     "output_type": "stream",
     "text": [
      "Missing tensor: mel_transformer.spectrogram.window\n",
      "Missing tensor: mel_transformer.mel_scale.fb\n"
     ]
    },
    {
     "name": "stderr",
     "output_type": "stream",
     "text": [
      "2025-08-05 17:28:04,785 - INFO - Starting inference...\n",
      "Setting `pad_token_id` to `eos_token_id`:None for open-end generation.\n",
      "2025-08-05 17:28:10,710 - INFO - Audio saved at: result/temp.wav\n"
     ]
    },
    {
     "name": "stdout",
     "output_type": "stream",
     "text": [
      "13 不客气，我很高兴能帮到你。如果你需要再聊，可以随时找我。 aigc_speech_generation_tasks/reference_13.wav\n"
     ]
    },
    {
     "name": "stderr",
     "output_type": "stream",
     "text": [
      "2025-08-05 17:28:14.797028: I tensorflow/core/util/port.cc:113] oneDNN custom operations are on. You may see slightly different numerical results due to floating-point round-off errors from different computation orders. To turn them off, set the environment variable `TF_ENABLE_ONEDNN_OPTS=0`.\n",
      "2025-08-05 17:28:14.835994: I tensorflow/core/platform/cpu_feature_guard.cc:210] This TensorFlow binary is optimized to use available CPU instructions in performance-critical operations.\n",
      "To enable the following instructions: AVX2 AVX512F AVX512_VNNI FMA, in other operations, rebuild TensorFlow with the appropriate compiler flags.\n",
      "2025-08-05 17:28:15.690256: W tensorflow/compiler/tf2tensorrt/utils/py_utils.cc:38] TF-TRT Warning: Could not find TensorRT\n",
      "2025-08-05 17:28:17,340 - INFO - Using model from: /mnt/workspace/.cache/modelscope/models/SparkAudio/Spark-TTS-0___5B\n",
      "2025-08-05 17:28:17,340 - INFO - Saving audio to: result\n",
      "2025-08-05 17:28:17,341 - INFO - Using CUDA device: cuda:0\n",
      "/usr/local/lib/python3.11/site-packages/torch/nn/utils/weight_norm.py:143: FutureWarning: `torch.nn.utils.weight_norm` is deprecated in favor of `torch.nn.utils.parametrizations.weight_norm`.\n",
      "  WeightNorm.apply(module, name, dim)\n"
     ]
    },
    {
     "name": "stdout",
     "output_type": "stream",
     "text": [
      "Missing tensor: mel_transformer.spectrogram.window\n",
      "Missing tensor: mel_transformer.mel_scale.fb\n"
     ]
    },
    {
     "name": "stderr",
     "output_type": "stream",
     "text": [
      "2025-08-05 17:28:22,787 - INFO - Starting inference...\n",
      "Setting `pad_token_id` to `eos_token_id`:None for open-end generation.\n",
      "2025-08-05 17:28:31,539 - INFO - Audio saved at: result/temp.wav\n"
     ]
    },
    {
     "name": "stdout",
     "output_type": "stream",
     "text": [
      "14 哎呀妈呀，这个天儿真热，心里直犯闷。今儿个咱们得找个地儿好好歇歇。 aigc_speech_generation_tasks/reference_14.wav\n"
     ]
    },
    {
     "name": "stderr",
     "output_type": "stream",
     "text": [
      "2025-08-05 17:28:35.582644: I tensorflow/core/util/port.cc:113] oneDNN custom operations are on. You may see slightly different numerical results due to floating-point round-off errors from different computation orders. To turn them off, set the environment variable `TF_ENABLE_ONEDNN_OPTS=0`.\n",
      "2025-08-05 17:28:35.621673: I tensorflow/core/platform/cpu_feature_guard.cc:210] This TensorFlow binary is optimized to use available CPU instructions in performance-critical operations.\n",
      "To enable the following instructions: AVX2 AVX512F AVX512_VNNI FMA, in other operations, rebuild TensorFlow with the appropriate compiler flags.\n",
      "2025-08-05 17:28:36.513130: W tensorflow/compiler/tf2tensorrt/utils/py_utils.cc:38] TF-TRT Warning: Could not find TensorRT\n",
      "2025-08-05 17:28:38,199 - INFO - Using model from: /mnt/workspace/.cache/modelscope/models/SparkAudio/Spark-TTS-0___5B\n",
      "2025-08-05 17:28:38,199 - INFO - Saving audio to: result\n",
      "2025-08-05 17:28:38,201 - INFO - Using CUDA device: cuda:0\n",
      "/usr/local/lib/python3.11/site-packages/torch/nn/utils/weight_norm.py:143: FutureWarning: `torch.nn.utils.weight_norm` is deprecated in favor of `torch.nn.utils.parametrizations.weight_norm`.\n",
      "  WeightNorm.apply(module, name, dim)\n"
     ]
    },
    {
     "name": "stdout",
     "output_type": "stream",
     "text": [
      "Missing tensor: mel_transformer.spectrogram.window\n",
      "Missing tensor: mel_transformer.mel_scale.fb\n"
     ]
    },
    {
     "name": "stderr",
     "output_type": "stream",
     "text": [
      "2025-08-05 17:28:43,113 - INFO - Starting inference...\n",
      "Setting `pad_token_id` to `eos_token_id`:None for open-end generation.\n",
      "2025-08-05 17:28:47,789 - INFO - Audio saved at: result/temp.wav\n"
     ]
    },
    {
     "name": "stdout",
     "output_type": "stream",
     "text": [
      "15 在这里自由电子的数量足以影响电波的传播。 aigc_speech_generation_tasks/reference_15.wav\n"
     ]
    },
    {
     "name": "stderr",
     "output_type": "stream",
     "text": [
      "2025-08-05 17:28:51.909557: I tensorflow/core/util/port.cc:113] oneDNN custom operations are on. You may see slightly different numerical results due to floating-point round-off errors from different computation orders. To turn them off, set the environment variable `TF_ENABLE_ONEDNN_OPTS=0`.\n",
      "2025-08-05 17:28:51.949157: I tensorflow/core/platform/cpu_feature_guard.cc:210] This TensorFlow binary is optimized to use available CPU instructions in performance-critical operations.\n",
      "To enable the following instructions: AVX2 AVX512F AVX512_VNNI FMA, in other operations, rebuild TensorFlow with the appropriate compiler flags.\n",
      "2025-08-05 17:28:52.813522: W tensorflow/compiler/tf2tensorrt/utils/py_utils.cc:38] TF-TRT Warning: Could not find TensorRT\n",
      "2025-08-05 17:28:54,476 - INFO - Using model from: /mnt/workspace/.cache/modelscope/models/SparkAudio/Spark-TTS-0___5B\n",
      "2025-08-05 17:28:54,476 - INFO - Saving audio to: result\n",
      "2025-08-05 17:28:54,477 - INFO - Using CUDA device: cuda:0\n",
      "/usr/local/lib/python3.11/site-packages/torch/nn/utils/weight_norm.py:143: FutureWarning: `torch.nn.utils.weight_norm` is deprecated in favor of `torch.nn.utils.parametrizations.weight_norm`.\n",
      "  WeightNorm.apply(module, name, dim)\n"
     ]
    },
    {
     "name": "stdout",
     "output_type": "stream",
     "text": [
      "Missing tensor: mel_transformer.spectrogram.window\n",
      "Missing tensor: mel_transformer.mel_scale.fb\n"
     ]
    },
    {
     "name": "stderr",
     "output_type": "stream",
     "text": [
      "2025-08-05 17:28:59,272 - INFO - Starting inference...\n",
      "Setting `pad_token_id` to `eos_token_id`:None for open-end generation.\n",
      "2025-08-05 17:29:04,171 - INFO - Audio saved at: result/temp.wav\n"
     ]
    },
    {
     "name": "stdout",
     "output_type": "stream",
     "text": [
      "16 量子力学的核心概念是波函数 aigc_speech_generation_tasks/reference_16.wav\n"
     ]
    },
    {
     "name": "stderr",
     "output_type": "stream",
     "text": [
      "2025-08-05 17:29:08.269641: I tensorflow/core/util/port.cc:113] oneDNN custom operations are on. You may see slightly different numerical results due to floating-point round-off errors from different computation orders. To turn them off, set the environment variable `TF_ENABLE_ONEDNN_OPTS=0`.\n",
      "2025-08-05 17:29:08.308743: I tensorflow/core/platform/cpu_feature_guard.cc:210] This TensorFlow binary is optimized to use available CPU instructions in performance-critical operations.\n",
      "To enable the following instructions: AVX2 AVX512F AVX512_VNNI FMA, in other operations, rebuild TensorFlow with the appropriate compiler flags.\n",
      "2025-08-05 17:29:09.169995: W tensorflow/compiler/tf2tensorrt/utils/py_utils.cc:38] TF-TRT Warning: Could not find TensorRT\n",
      "2025-08-05 17:29:10,832 - INFO - Using model from: /mnt/workspace/.cache/modelscope/models/SparkAudio/Spark-TTS-0___5B\n",
      "2025-08-05 17:29:10,832 - INFO - Saving audio to: result\n",
      "2025-08-05 17:29:10,833 - INFO - Using CUDA device: cuda:0\n",
      "/usr/local/lib/python3.11/site-packages/torch/nn/utils/weight_norm.py:143: FutureWarning: `torch.nn.utils.weight_norm` is deprecated in favor of `torch.nn.utils.parametrizations.weight_norm`.\n",
      "  WeightNorm.apply(module, name, dim)\n"
     ]
    },
    {
     "name": "stdout",
     "output_type": "stream",
     "text": [
      "Missing tensor: mel_transformer.spectrogram.window\n",
      "Missing tensor: mel_transformer.mel_scale.fb\n"
     ]
    },
    {
     "name": "stderr",
     "output_type": "stream",
     "text": [
      "2025-08-05 17:29:15,408 - INFO - Starting inference...\n",
      "Setting `pad_token_id` to `eos_token_id`:None for open-end generation.\n",
      "2025-08-05 17:29:19,395 - INFO - Audio saved at: result/temp.wav\n"
     ]
    },
    {
     "name": "stdout",
     "output_type": "stream",
     "text": [
      "17 植物病害的发生往往与病原微生物的侵染有关，例如真菌、细菌、病毒等都可能引起植物组织病变，影响其正常生长和产量，因此在农业生产中需加强病害监测与防治。 aigc_speech_generation_tasks/reference_17.wav\n"
     ]
    },
    {
     "name": "stderr",
     "output_type": "stream",
     "text": [
      "2025-08-05 17:29:23.612030: I tensorflow/core/util/port.cc:113] oneDNN custom operations are on. You may see slightly different numerical results due to floating-point round-off errors from different computation orders. To turn them off, set the environment variable `TF_ENABLE_ONEDNN_OPTS=0`.\n",
      "2025-08-05 17:29:23.651632: I tensorflow/core/platform/cpu_feature_guard.cc:210] This TensorFlow binary is optimized to use available CPU instructions in performance-critical operations.\n",
      "To enable the following instructions: AVX2 AVX512F AVX512_VNNI FMA, in other operations, rebuild TensorFlow with the appropriate compiler flags.\n",
      "2025-08-05 17:29:24.511340: W tensorflow/compiler/tf2tensorrt/utils/py_utils.cc:38] TF-TRT Warning: Could not find TensorRT\n",
      "2025-08-05 17:29:26,198 - INFO - Using model from: /mnt/workspace/.cache/modelscope/models/SparkAudio/Spark-TTS-0___5B\n",
      "2025-08-05 17:29:26,198 - INFO - Saving audio to: result\n",
      "2025-08-05 17:29:26,200 - INFO - Using CUDA device: cuda:0\n",
      "/usr/local/lib/python3.11/site-packages/torch/nn/utils/weight_norm.py:143: FutureWarning: `torch.nn.utils.weight_norm` is deprecated in favor of `torch.nn.utils.parametrizations.weight_norm`.\n",
      "  WeightNorm.apply(module, name, dim)\n"
     ]
    },
    {
     "name": "stdout",
     "output_type": "stream",
     "text": [
      "Missing tensor: mel_transformer.spectrogram.window\n",
      "Missing tensor: mel_transformer.mel_scale.fb\n"
     ]
    },
    {
     "name": "stderr",
     "output_type": "stream",
     "text": [
      "2025-08-05 17:29:30,926 - INFO - Starting inference...\n",
      "Setting `pad_token_id` to `eos_token_id`:None for open-end generation.\n",
      "2025-08-05 17:30:09,832 - INFO - Audio saved at: result/temp.wav\n"
     ]
    },
    {
     "name": "stdout",
     "output_type": "stream",
     "text": [
      "18 现时环球金融中心也因形如开瓶器而遭到民众调侃。 aigc_speech_generation_tasks/reference_18.wav\n"
     ]
    },
    {
     "name": "stderr",
     "output_type": "stream",
     "text": [
      "2025-08-05 17:30:13.939047: I tensorflow/core/util/port.cc:113] oneDNN custom operations are on. You may see slightly different numerical results due to floating-point round-off errors from different computation orders. To turn them off, set the environment variable `TF_ENABLE_ONEDNN_OPTS=0`.\n",
      "2025-08-05 17:30:13.978574: I tensorflow/core/platform/cpu_feature_guard.cc:210] This TensorFlow binary is optimized to use available CPU instructions in performance-critical operations.\n",
      "To enable the following instructions: AVX2 AVX512F AVX512_VNNI FMA, in other operations, rebuild TensorFlow with the appropriate compiler flags.\n",
      "2025-08-05 17:30:14.835519: W tensorflow/compiler/tf2tensorrt/utils/py_utils.cc:38] TF-TRT Warning: Could not find TensorRT\n",
      "2025-08-05 17:30:16,517 - INFO - Using model from: /mnt/workspace/.cache/modelscope/models/SparkAudio/Spark-TTS-0___5B\n",
      "2025-08-05 17:30:16,517 - INFO - Saving audio to: result\n",
      "2025-08-05 17:30:16,519 - INFO - Using CUDA device: cuda:0\n",
      "/usr/local/lib/python3.11/site-packages/torch/nn/utils/weight_norm.py:143: FutureWarning: `torch.nn.utils.weight_norm` is deprecated in favor of `torch.nn.utils.parametrizations.weight_norm`.\n",
      "  WeightNorm.apply(module, name, dim)\n"
     ]
    },
    {
     "name": "stdout",
     "output_type": "stream",
     "text": [
      "Missing tensor: mel_transformer.spectrogram.window\n",
      "Missing tensor: mel_transformer.mel_scale.fb\n"
     ]
    },
    {
     "name": "stderr",
     "output_type": "stream",
     "text": [
      "2025-08-05 17:30:21,139 - INFO - Starting inference...\n",
      "Setting `pad_token_id` to `eos_token_id`:None for open-end generation.\n",
      "2025-08-05 17:30:26,952 - INFO - Audio saved at: result/temp.wav\n"
     ]
    },
    {
     "name": "stdout",
     "output_type": "stream",
     "text": [
      "19 因为他好勇斗狠，在平时并不是好相处。所以大家在与他交往时都比较谨慎，生怕一不小心就惹怒了他。 aigc_speech_generation_tasks/reference_19.wav\n"
     ]
    },
    {
     "name": "stderr",
     "output_type": "stream",
     "text": [
      "2025-08-05 17:30:31.108040: I tensorflow/core/util/port.cc:113] oneDNN custom operations are on. You may see slightly different numerical results due to floating-point round-off errors from different computation orders. To turn them off, set the environment variable `TF_ENABLE_ONEDNN_OPTS=0`.\n",
      "2025-08-05 17:30:31.147481: I tensorflow/core/platform/cpu_feature_guard.cc:210] This TensorFlow binary is optimized to use available CPU instructions in performance-critical operations.\n",
      "To enable the following instructions: AVX2 AVX512F AVX512_VNNI FMA, in other operations, rebuild TensorFlow with the appropriate compiler flags.\n",
      "2025-08-05 17:30:32.023847: W tensorflow/compiler/tf2tensorrt/utils/py_utils.cc:38] TF-TRT Warning: Could not find TensorRT\n",
      "2025-08-05 17:30:33,705 - INFO - Using model from: /mnt/workspace/.cache/modelscope/models/SparkAudio/Spark-TTS-0___5B\n",
      "2025-08-05 17:30:33,705 - INFO - Saving audio to: result\n",
      "2025-08-05 17:30:33,706 - INFO - Using CUDA device: cuda:0\n",
      "/usr/local/lib/python3.11/site-packages/torch/nn/utils/weight_norm.py:143: FutureWarning: `torch.nn.utils.weight_norm` is deprecated in favor of `torch.nn.utils.parametrizations.weight_norm`.\n",
      "  WeightNorm.apply(module, name, dim)\n"
     ]
    },
    {
     "name": "stdout",
     "output_type": "stream",
     "text": [
      "Missing tensor: mel_transformer.spectrogram.window\n",
      "Missing tensor: mel_transformer.mel_scale.fb\n"
     ]
    },
    {
     "name": "stderr",
     "output_type": "stream",
     "text": [
      "2025-08-05 17:30:39,407 - INFO - Starting inference...\n",
      "Setting `pad_token_id` to `eos_token_id`:None for open-end generation.\n",
      "2025-08-05 17:30:48,614 - INFO - Audio saved at: result/temp.wav\n"
     ]
    },
    {
     "name": "stdout",
     "output_type": "stream",
     "text": [
      "20 租用共享汽车，需要自动挡SUV车型 aigc_speech_generation_tasks/reference_20.wav\n"
     ]
    },
    {
     "name": "stderr",
     "output_type": "stream",
     "text": [
      "2025-08-05 17:30:52.813959: I tensorflow/core/util/port.cc:113] oneDNN custom operations are on. You may see slightly different numerical results due to floating-point round-off errors from different computation orders. To turn them off, set the environment variable `TF_ENABLE_ONEDNN_OPTS=0`.\n",
      "2025-08-05 17:30:52.853455: I tensorflow/core/platform/cpu_feature_guard.cc:210] This TensorFlow binary is optimized to use available CPU instructions in performance-critical operations.\n",
      "To enable the following instructions: AVX2 AVX512F AVX512_VNNI FMA, in other operations, rebuild TensorFlow with the appropriate compiler flags.\n",
      "2025-08-05 17:30:53.711649: W tensorflow/compiler/tf2tensorrt/utils/py_utils.cc:38] TF-TRT Warning: Could not find TensorRT\n",
      "2025-08-05 17:30:55,353 - INFO - Using model from: /mnt/workspace/.cache/modelscope/models/SparkAudio/Spark-TTS-0___5B\n",
      "2025-08-05 17:30:55,353 - INFO - Saving audio to: result\n",
      "2025-08-05 17:30:55,354 - INFO - Using CUDA device: cuda:0\n",
      "/usr/local/lib/python3.11/site-packages/torch/nn/utils/weight_norm.py:143: FutureWarning: `torch.nn.utils.weight_norm` is deprecated in favor of `torch.nn.utils.parametrizations.weight_norm`.\n",
      "  WeightNorm.apply(module, name, dim)\n"
     ]
    },
    {
     "name": "stdout",
     "output_type": "stream",
     "text": [
      "Missing tensor: mel_transformer.spectrogram.window\n",
      "Missing tensor: mel_transformer.mel_scale.fb\n"
     ]
    },
    {
     "name": "stderr",
     "output_type": "stream",
     "text": [
      "2025-08-05 17:30:59,939 - INFO - Starting inference...\n",
      "Setting `pad_token_id` to `eos_token_id`:None for open-end generation.\n",
      "2025-08-05 17:31:04,021 - INFO - Audio saved at: result/temp.wav\n"
     ]
    },
    {
     "name": "stdout",
     "output_type": "stream",
     "text": [
      "21 她一边看着窗外淅淅沥沥的小雨，一边回忆起小时候和奶奶一起包饺子的情景，那种温暖的感觉至今还留在心里。 aigc_speech_generation_tasks/reference_21.wav\n"
     ]
    },
    {
     "name": "stderr",
     "output_type": "stream",
     "text": [
      "2025-08-05 17:31:08.153029: I tensorflow/core/util/port.cc:113] oneDNN custom operations are on. You may see slightly different numerical results due to floating-point round-off errors from different computation orders. To turn them off, set the environment variable `TF_ENABLE_ONEDNN_OPTS=0`.\n",
      "2025-08-05 17:31:08.192200: I tensorflow/core/platform/cpu_feature_guard.cc:210] This TensorFlow binary is optimized to use available CPU instructions in performance-critical operations.\n",
      "To enable the following instructions: AVX2 AVX512F AVX512_VNNI FMA, in other operations, rebuild TensorFlow with the appropriate compiler flags.\n",
      "2025-08-05 17:31:09.050850: W tensorflow/compiler/tf2tensorrt/utils/py_utils.cc:38] TF-TRT Warning: Could not find TensorRT\n",
      "2025-08-05 17:31:10,716 - INFO - Using model from: /mnt/workspace/.cache/modelscope/models/SparkAudio/Spark-TTS-0___5B\n",
      "2025-08-05 17:31:10,716 - INFO - Saving audio to: result\n",
      "2025-08-05 17:31:10,718 - INFO - Using CUDA device: cuda:0\n",
      "/usr/local/lib/python3.11/site-packages/torch/nn/utils/weight_norm.py:143: FutureWarning: `torch.nn.utils.weight_norm` is deprecated in favor of `torch.nn.utils.parametrizations.weight_norm`.\n",
      "  WeightNorm.apply(module, name, dim)\n"
     ]
    },
    {
     "name": "stdout",
     "output_type": "stream",
     "text": [
      "Missing tensor: mel_transformer.spectrogram.window\n",
      "Missing tensor: mel_transformer.mel_scale.fb\n"
     ]
    },
    {
     "name": "stderr",
     "output_type": "stream",
     "text": [
      "2025-08-05 17:31:15,351 - INFO - Starting inference...\n",
      "Setting `pad_token_id` to `eos_token_id`:None for open-end generation.\n",
      "2025-08-05 17:31:27,192 - INFO - Audio saved at: result/temp.wav\n"
     ]
    },
    {
     "name": "stdout",
     "output_type": "stream",
     "text": [
      "22 订单号是：08195761 aigc_speech_generation_tasks/reference_22.wav\n"
     ]
    },
    {
     "name": "stderr",
     "output_type": "stream",
     "text": [
      "2025-08-05 17:31:31.277266: I tensorflow/core/util/port.cc:113] oneDNN custom operations are on. You may see slightly different numerical results due to floating-point round-off errors from different computation orders. To turn them off, set the environment variable `TF_ENABLE_ONEDNN_OPTS=0`.\n",
      "2025-08-05 17:31:31.316145: I tensorflow/core/platform/cpu_feature_guard.cc:210] This TensorFlow binary is optimized to use available CPU instructions in performance-critical operations.\n",
      "To enable the following instructions: AVX2 AVX512F AVX512_VNNI FMA, in other operations, rebuild TensorFlow with the appropriate compiler flags.\n",
      "2025-08-05 17:31:32.175252: W tensorflow/compiler/tf2tensorrt/utils/py_utils.cc:38] TF-TRT Warning: Could not find TensorRT\n",
      "2025-08-05 17:31:33,839 - INFO - Using model from: /mnt/workspace/.cache/modelscope/models/SparkAudio/Spark-TTS-0___5B\n",
      "2025-08-05 17:31:33,839 - INFO - Saving audio to: result\n",
      "2025-08-05 17:31:33,840 - INFO - Using CUDA device: cuda:0\n",
      "/usr/local/lib/python3.11/site-packages/torch/nn/utils/weight_norm.py:143: FutureWarning: `torch.nn.utils.weight_norm` is deprecated in favor of `torch.nn.utils.parametrizations.weight_norm`.\n",
      "  WeightNorm.apply(module, name, dim)\n"
     ]
    },
    {
     "name": "stdout",
     "output_type": "stream",
     "text": [
      "Missing tensor: mel_transformer.spectrogram.window\n",
      "Missing tensor: mel_transformer.mel_scale.fb\n"
     ]
    },
    {
     "name": "stderr",
     "output_type": "stream",
     "text": [
      "2025-08-05 17:31:39,608 - INFO - Starting inference...\n",
      "Setting `pad_token_id` to `eos_token_id`:None for open-end generation.\n",
      "2025-08-05 17:31:42,799 - INFO - Audio saved at: result/temp.wav\n"
     ]
    },
    {
     "name": "stdout",
     "output_type": "stream",
     "text": [
      "23 我就是卖一下惨寂寞清冷还有明月为伴 aigc_speech_generation_tasks/reference_23.wav\n"
     ]
    },
    {
     "name": "stderr",
     "output_type": "stream",
     "text": [
      "2025-08-05 17:31:46.884880: I tensorflow/core/util/port.cc:113] oneDNN custom operations are on. You may see slightly different numerical results due to floating-point round-off errors from different computation orders. To turn them off, set the environment variable `TF_ENABLE_ONEDNN_OPTS=0`.\n",
      "2025-08-05 17:31:46.924441: I tensorflow/core/platform/cpu_feature_guard.cc:210] This TensorFlow binary is optimized to use available CPU instructions in performance-critical operations.\n",
      "To enable the following instructions: AVX2 AVX512F AVX512_VNNI FMA, in other operations, rebuild TensorFlow with the appropriate compiler flags.\n",
      "2025-08-05 17:31:47.772778: W tensorflow/compiler/tf2tensorrt/utils/py_utils.cc:38] TF-TRT Warning: Could not find TensorRT\n",
      "2025-08-05 17:31:49,427 - INFO - Using model from: /mnt/workspace/.cache/modelscope/models/SparkAudio/Spark-TTS-0___5B\n",
      "2025-08-05 17:31:49,427 - INFO - Saving audio to: result\n",
      "2025-08-05 17:31:49,429 - INFO - Using CUDA device: cuda:0\n",
      "/usr/local/lib/python3.11/site-packages/torch/nn/utils/weight_norm.py:143: FutureWarning: `torch.nn.utils.weight_norm` is deprecated in favor of `torch.nn.utils.parametrizations.weight_norm`.\n",
      "  WeightNorm.apply(module, name, dim)\n"
     ]
    },
    {
     "name": "stdout",
     "output_type": "stream",
     "text": [
      "Missing tensor: mel_transformer.spectrogram.window\n",
      "Missing tensor: mel_transformer.mel_scale.fb\n"
     ]
    },
    {
     "name": "stderr",
     "output_type": "stream",
     "text": [
      "2025-08-05 17:31:54,413 - INFO - Starting inference...\n",
      "Setting `pad_token_id` to `eos_token_id`:None for open-end generation.\n",
      "2025-08-05 17:32:48,223 - INFO - Audio saved at: result/temp.wav\n"
     ]
    },
    {
     "name": "stdout",
     "output_type": "stream",
     "text": [
      "24 厉害厉害，我说句心里话，他的成绩让我有一些意外 aigc_speech_generation_tasks/reference_24.wav\n"
     ]
    },
    {
     "name": "stderr",
     "output_type": "stream",
     "text": [
      "2025-08-05 17:32:52.431549: I tensorflow/core/util/port.cc:113] oneDNN custom operations are on. You may see slightly different numerical results due to floating-point round-off errors from different computation orders. To turn them off, set the environment variable `TF_ENABLE_ONEDNN_OPTS=0`.\n",
      "2025-08-05 17:32:52.470765: I tensorflow/core/platform/cpu_feature_guard.cc:210] This TensorFlow binary is optimized to use available CPU instructions in performance-critical operations.\n",
      "To enable the following instructions: AVX2 AVX512F AVX512_VNNI FMA, in other operations, rebuild TensorFlow with the appropriate compiler flags.\n",
      "2025-08-05 17:32:53.321212: W tensorflow/compiler/tf2tensorrt/utils/py_utils.cc:38] TF-TRT Warning: Could not find TensorRT\n",
      "2025-08-05 17:32:55,001 - INFO - Using model from: /mnt/workspace/.cache/modelscope/models/SparkAudio/Spark-TTS-0___5B\n",
      "2025-08-05 17:32:55,001 - INFO - Saving audio to: result\n",
      "2025-08-05 17:32:55,005 - INFO - Using CUDA device: cuda:0\n",
      "/usr/local/lib/python3.11/site-packages/torch/nn/utils/weight_norm.py:143: FutureWarning: `torch.nn.utils.weight_norm` is deprecated in favor of `torch.nn.utils.parametrizations.weight_norm`.\n",
      "  WeightNorm.apply(module, name, dim)\n"
     ]
    },
    {
     "name": "stdout",
     "output_type": "stream",
     "text": [
      "Missing tensor: mel_transformer.spectrogram.window\n",
      "Missing tensor: mel_transformer.mel_scale.fb\n"
     ]
    },
    {
     "name": "stderr",
     "output_type": "stream",
     "text": [
      "2025-08-05 17:32:59,640 - INFO - Starting inference...\n",
      "Setting `pad_token_id` to `eos_token_id`:None for open-end generation.\n",
      "2025-08-05 17:33:05,164 - INFO - Audio saved at: result/temp.wav\n"
     ]
    },
    {
     "name": "stdout",
     "output_type": "stream",
     "text": [
      "25 叫叮咚买菜送两斤基围虾，要活蹦乱跳的 aigc_speech_generation_tasks/reference_25.wav\n"
     ]
    },
    {
     "name": "stderr",
     "output_type": "stream",
     "text": [
      "2025-08-05 17:33:09.306065: I tensorflow/core/util/port.cc:113] oneDNN custom operations are on. You may see slightly different numerical results due to floating-point round-off errors from different computation orders. To turn them off, set the environment variable `TF_ENABLE_ONEDNN_OPTS=0`.\n",
      "2025-08-05 17:33:09.345133: I tensorflow/core/platform/cpu_feature_guard.cc:210] This TensorFlow binary is optimized to use available CPU instructions in performance-critical operations.\n",
      "To enable the following instructions: AVX2 AVX512F AVX512_VNNI FMA, in other operations, rebuild TensorFlow with the appropriate compiler flags.\n",
      "2025-08-05 17:33:10.189207: W tensorflow/compiler/tf2tensorrt/utils/py_utils.cc:38] TF-TRT Warning: Could not find TensorRT\n",
      "2025-08-05 17:33:11,874 - INFO - Using model from: /mnt/workspace/.cache/modelscope/models/SparkAudio/Spark-TTS-0___5B\n",
      "2025-08-05 17:33:11,874 - INFO - Saving audio to: result\n",
      "2025-08-05 17:33:11,876 - INFO - Using CUDA device: cuda:0\n",
      "/usr/local/lib/python3.11/site-packages/torch/nn/utils/weight_norm.py:143: FutureWarning: `torch.nn.utils.weight_norm` is deprecated in favor of `torch.nn.utils.parametrizations.weight_norm`.\n",
      "  WeightNorm.apply(module, name, dim)\n"
     ]
    },
    {
     "name": "stdout",
     "output_type": "stream",
     "text": [
      "Missing tensor: mel_transformer.spectrogram.window\n",
      "Missing tensor: mel_transformer.mel_scale.fb\n"
     ]
    },
    {
     "name": "stderr",
     "output_type": "stream",
     "text": [
      "2025-08-05 17:33:16,538 - INFO - Starting inference...\n",
      "Setting `pad_token_id` to `eos_token_id`:None for open-end generation.\n",
      "2025-08-05 17:33:21,212 - INFO - Audio saved at: result/temp.wav\n"
     ]
    },
    {
     "name": "stdout",
     "output_type": "stream",
     "text": [
      "26 对方称需要提供资产证明，让其将支付宝借呗、微信微粒贷等额度取出并凑齐1万元，并电话中提供给其一个银行账户，让其按照提示操作，被骗五万元 aigc_speech_generation_tasks/reference_26.wav\n"
     ]
    },
    {
     "name": "stderr",
     "output_type": "stream",
     "text": [
      "2025-08-05 17:33:25.299968: I tensorflow/core/util/port.cc:113] oneDNN custom operations are on. You may see slightly different numerical results due to floating-point round-off errors from different computation orders. To turn them off, set the environment variable `TF_ENABLE_ONEDNN_OPTS=0`.\n",
      "2025-08-05 17:33:25.339470: I tensorflow/core/platform/cpu_feature_guard.cc:210] This TensorFlow binary is optimized to use available CPU instructions in performance-critical operations.\n",
      "To enable the following instructions: AVX2 AVX512F AVX512_VNNI FMA, in other operations, rebuild TensorFlow with the appropriate compiler flags.\n",
      "2025-08-05 17:33:26.210393: W tensorflow/compiler/tf2tensorrt/utils/py_utils.cc:38] TF-TRT Warning: Could not find TensorRT\n",
      "2025-08-05 17:33:27,864 - INFO - Using model from: /mnt/workspace/.cache/modelscope/models/SparkAudio/Spark-TTS-0___5B\n",
      "2025-08-05 17:33:27,864 - INFO - Saving audio to: result\n",
      "2025-08-05 17:33:27,865 - INFO - Using CUDA device: cuda:0\n",
      "/usr/local/lib/python3.11/site-packages/torch/nn/utils/weight_norm.py:143: FutureWarning: `torch.nn.utils.weight_norm` is deprecated in favor of `torch.nn.utils.parametrizations.weight_norm`.\n",
      "  WeightNorm.apply(module, name, dim)\n"
     ]
    },
    {
     "name": "stdout",
     "output_type": "stream",
     "text": [
      "Missing tensor: mel_transformer.spectrogram.window\n",
      "Missing tensor: mel_transformer.mel_scale.fb\n"
     ]
    },
    {
     "name": "stderr",
     "output_type": "stream",
     "text": [
      "2025-08-05 17:33:32,513 - INFO - Starting inference...\n",
      "Setting `pad_token_id` to `eos_token_id`:None for open-end generation.\n",
      "2025-08-05 17:34:07,729 - INFO - Audio saved at: result/temp.wav\n"
     ]
    },
    {
     "name": "stdout",
     "output_type": "stream",
     "text": [
      "27 因为安全是最重要的，无论做什么事情，首先都要确保自己和他人的安全。只要小心谨慎，很多问题都能避免。 aigc_speech_generation_tasks/reference_27.wav\n"
     ]
    },
    {
     "name": "stderr",
     "output_type": "stream",
     "text": [
      "2025-08-05 17:34:11.874688: I tensorflow/core/util/port.cc:113] oneDNN custom operations are on. You may see slightly different numerical results due to floating-point round-off errors from different computation orders. To turn them off, set the environment variable `TF_ENABLE_ONEDNN_OPTS=0`.\n",
      "2025-08-05 17:34:11.914149: I tensorflow/core/platform/cpu_feature_guard.cc:210] This TensorFlow binary is optimized to use available CPU instructions in performance-critical operations.\n",
      "To enable the following instructions: AVX2 AVX512F AVX512_VNNI FMA, in other operations, rebuild TensorFlow with the appropriate compiler flags.\n",
      "2025-08-05 17:34:12.774052: W tensorflow/compiler/tf2tensorrt/utils/py_utils.cc:38] TF-TRT Warning: Could not find TensorRT\n",
      "2025-08-05 17:34:14,451 - INFO - Using model from: /mnt/workspace/.cache/modelscope/models/SparkAudio/Spark-TTS-0___5B\n",
      "2025-08-05 17:34:14,451 - INFO - Saving audio to: result\n",
      "2025-08-05 17:34:14,452 - INFO - Using CUDA device: cuda:0\n",
      "/usr/local/lib/python3.11/site-packages/torch/nn/utils/weight_norm.py:143: FutureWarning: `torch.nn.utils.weight_norm` is deprecated in favor of `torch.nn.utils.parametrizations.weight_norm`.\n",
      "  WeightNorm.apply(module, name, dim)\n"
     ]
    },
    {
     "name": "stdout",
     "output_type": "stream",
     "text": [
      "Missing tensor: mel_transformer.spectrogram.window\n",
      "Missing tensor: mel_transformer.mel_scale.fb\n"
     ]
    },
    {
     "name": "stderr",
     "output_type": "stream",
     "text": [
      "2025-08-05 17:34:19,068 - INFO - Starting inference...\n",
      "Setting `pad_token_id` to `eos_token_id`:None for open-end generation.\n",
      "2025-08-05 17:34:37,020 - INFO - Audio saved at: result/temp.wav\n"
     ]
    },
    {
     "name": "stdout",
     "output_type": "stream",
     "text": [
      "28 我想购买一套新的床单被罩，花色简单大方的，预算200元，请安排付款 aigc_speech_generation_tasks/reference_28.wav\n"
     ]
    },
    {
     "name": "stderr",
     "output_type": "stream",
     "text": [
      "2025-08-05 17:34:41.119298: I tensorflow/core/util/port.cc:113] oneDNN custom operations are on. You may see slightly different numerical results due to floating-point round-off errors from different computation orders. To turn them off, set the environment variable `TF_ENABLE_ONEDNN_OPTS=0`.\n",
      "2025-08-05 17:34:41.158857: I tensorflow/core/platform/cpu_feature_guard.cc:210] This TensorFlow binary is optimized to use available CPU instructions in performance-critical operations.\n",
      "To enable the following instructions: AVX2 AVX512F AVX512_VNNI FMA, in other operations, rebuild TensorFlow with the appropriate compiler flags.\n",
      "2025-08-05 17:34:42.002415: W tensorflow/compiler/tf2tensorrt/utils/py_utils.cc:38] TF-TRT Warning: Could not find TensorRT\n",
      "2025-08-05 17:34:43,646 - INFO - Using model from: /mnt/workspace/.cache/modelscope/models/SparkAudio/Spark-TTS-0___5B\n",
      "2025-08-05 17:34:43,646 - INFO - Saving audio to: result\n",
      "2025-08-05 17:34:43,647 - INFO - Using CUDA device: cuda:0\n",
      "/usr/local/lib/python3.11/site-packages/torch/nn/utils/weight_norm.py:143: FutureWarning: `torch.nn.utils.weight_norm` is deprecated in favor of `torch.nn.utils.parametrizations.weight_norm`.\n",
      "  WeightNorm.apply(module, name, dim)\n"
     ]
    },
    {
     "name": "stdout",
     "output_type": "stream",
     "text": [
      "Missing tensor: mel_transformer.spectrogram.window\n",
      "Missing tensor: mel_transformer.mel_scale.fb\n"
     ]
    },
    {
     "name": "stderr",
     "output_type": "stream",
     "text": [
      "2025-08-05 17:34:48,323 - INFO - Starting inference...\n",
      "Setting `pad_token_id` to `eos_token_id`:None for open-end generation.\n",
      "2025-08-05 17:35:42,579 - INFO - Audio saved at: result/temp.wav\n"
     ]
    },
    {
     "name": "stdout",
     "output_type": "stream",
     "text": [
      "29 听起来，他们试图利用某些装置净化诅咒，可能就是之前我们看到过的那件物品。 aigc_speech_generation_tasks/reference_29.wav\n"
     ]
    },
    {
     "name": "stderr",
     "output_type": "stream",
     "text": [
      "2025-08-05 17:35:46.755313: I tensorflow/core/util/port.cc:113] oneDNN custom operations are on. You may see slightly different numerical results due to floating-point round-off errors from different computation orders. To turn them off, set the environment variable `TF_ENABLE_ONEDNN_OPTS=0`.\n",
      "2025-08-05 17:35:46.794236: I tensorflow/core/platform/cpu_feature_guard.cc:210] This TensorFlow binary is optimized to use available CPU instructions in performance-critical operations.\n",
      "To enable the following instructions: AVX2 AVX512F AVX512_VNNI FMA, in other operations, rebuild TensorFlow with the appropriate compiler flags.\n",
      "2025-08-05 17:35:47.663690: W tensorflow/compiler/tf2tensorrt/utils/py_utils.cc:38] TF-TRT Warning: Could not find TensorRT\n",
      "2025-08-05 17:35:49,328 - INFO - Using model from: /mnt/workspace/.cache/modelscope/models/SparkAudio/Spark-TTS-0___5B\n",
      "2025-08-05 17:35:49,328 - INFO - Saving audio to: result\n",
      "2025-08-05 17:35:49,330 - INFO - Using CUDA device: cuda:0\n",
      "/usr/local/lib/python3.11/site-packages/torch/nn/utils/weight_norm.py:143: FutureWarning: `torch.nn.utils.weight_norm` is deprecated in favor of `torch.nn.utils.parametrizations.weight_norm`.\n",
      "  WeightNorm.apply(module, name, dim)\n"
     ]
    },
    {
     "name": "stdout",
     "output_type": "stream",
     "text": [
      "Missing tensor: mel_transformer.spectrogram.window\n",
      "Missing tensor: mel_transformer.mel_scale.fb\n"
     ]
    },
    {
     "name": "stderr",
     "output_type": "stream",
     "text": [
      "2025-08-05 17:35:54,468 - INFO - Starting inference...\n",
      "Setting `pad_token_id` to `eos_token_id`:None for open-end generation.\n",
      "2025-08-05 17:36:01,801 - INFO - Audio saved at: result/temp.wav\n"
     ]
    },
    {
     "name": "stdout",
     "output_type": "stream",
     "text": [
      "30 给我购买一台新款苹果电脑，配上16GB内存和512GB硬盘的那种 aigc_speech_generation_tasks/reference_30.wav\n"
     ]
    },
    {
     "name": "stderr",
     "output_type": "stream",
     "text": [
      "2025-08-05 17:36:05.919754: I tensorflow/core/util/port.cc:113] oneDNN custom operations are on. You may see slightly different numerical results due to floating-point round-off errors from different computation orders. To turn them off, set the environment variable `TF_ENABLE_ONEDNN_OPTS=0`.\n",
      "2025-08-05 17:36:05.958629: I tensorflow/core/platform/cpu_feature_guard.cc:210] This TensorFlow binary is optimized to use available CPU instructions in performance-critical operations.\n",
      "To enable the following instructions: AVX2 AVX512F AVX512_VNNI FMA, in other operations, rebuild TensorFlow with the appropriate compiler flags.\n",
      "2025-08-05 17:36:06.837254: W tensorflow/compiler/tf2tensorrt/utils/py_utils.cc:38] TF-TRT Warning: Could not find TensorRT\n",
      "2025-08-05 17:36:08,516 - INFO - Using model from: /mnt/workspace/.cache/modelscope/models/SparkAudio/Spark-TTS-0___5B\n",
      "2025-08-05 17:36:08,516 - INFO - Saving audio to: result\n",
      "2025-08-05 17:36:08,517 - INFO - Using CUDA device: cuda:0\n",
      "/usr/local/lib/python3.11/site-packages/torch/nn/utils/weight_norm.py:143: FutureWarning: `torch.nn.utils.weight_norm` is deprecated in favor of `torch.nn.utils.parametrizations.weight_norm`.\n",
      "  WeightNorm.apply(module, name, dim)\n"
     ]
    },
    {
     "name": "stdout",
     "output_type": "stream",
     "text": [
      "Missing tensor: mel_transformer.spectrogram.window\n",
      "Missing tensor: mel_transformer.mel_scale.fb\n"
     ]
    },
    {
     "name": "stderr",
     "output_type": "stream",
     "text": [
      "2025-08-05 17:36:13,272 - INFO - Starting inference...\n",
      "Setting `pad_token_id` to `eos_token_id`:None for open-end generation.\n",
      "2025-08-05 17:36:20,593 - INFO - Audio saved at: result/temp.wav\n"
     ]
    },
    {
     "name": "stdout",
     "output_type": "stream",
     "text": [
      "31 这叫富贵险中求，被砍头的概率也很高 aigc_speech_generation_tasks/reference_31.wav\n"
     ]
    },
    {
     "name": "stderr",
     "output_type": "stream",
     "text": [
      "2025-08-05 17:36:24.765002: I tensorflow/core/util/port.cc:113] oneDNN custom operations are on. You may see slightly different numerical results due to floating-point round-off errors from different computation orders. To turn them off, set the environment variable `TF_ENABLE_ONEDNN_OPTS=0`.\n",
      "2025-08-05 17:36:24.803840: I tensorflow/core/platform/cpu_feature_guard.cc:210] This TensorFlow binary is optimized to use available CPU instructions in performance-critical operations.\n",
      "To enable the following instructions: AVX2 AVX512F AVX512_VNNI FMA, in other operations, rebuild TensorFlow with the appropriate compiler flags.\n",
      "2025-08-05 17:36:25.653326: W tensorflow/compiler/tf2tensorrt/utils/py_utils.cc:38] TF-TRT Warning: Could not find TensorRT\n",
      "2025-08-05 17:36:27,351 - INFO - Using model from: /mnt/workspace/.cache/modelscope/models/SparkAudio/Spark-TTS-0___5B\n",
      "2025-08-05 17:36:27,351 - INFO - Saving audio to: result\n",
      "2025-08-05 17:36:27,352 - INFO - Using CUDA device: cuda:0\n",
      "/usr/local/lib/python3.11/site-packages/torch/nn/utils/weight_norm.py:143: FutureWarning: `torch.nn.utils.weight_norm` is deprecated in favor of `torch.nn.utils.parametrizations.weight_norm`.\n",
      "  WeightNorm.apply(module, name, dim)\n"
     ]
    },
    {
     "name": "stdout",
     "output_type": "stream",
     "text": [
      "Missing tensor: mel_transformer.spectrogram.window\n",
      "Missing tensor: mel_transformer.mel_scale.fb\n"
     ]
    },
    {
     "name": "stderr",
     "output_type": "stream",
     "text": [
      "2025-08-05 17:36:32,251 - INFO - Starting inference...\n",
      "Setting `pad_token_id` to `eos_token_id`:None for open-end generation.\n",
      "2025-08-05 17:36:36,751 - INFO - Audio saved at: result/temp.wav\n"
     ]
    },
    {
     "name": "stdout",
     "output_type": "stream",
     "text": [
      "32 我帐户的电话卡余额不足了，请立刻充值100元 aigc_speech_generation_tasks/reference_32.wav\n"
     ]
    },
    {
     "name": "stderr",
     "output_type": "stream",
     "text": [
      "2025-08-05 17:36:40.898940: I tensorflow/core/util/port.cc:113] oneDNN custom operations are on. You may see slightly different numerical results due to floating-point round-off errors from different computation orders. To turn them off, set the environment variable `TF_ENABLE_ONEDNN_OPTS=0`.\n",
      "2025-08-05 17:36:40.937962: I tensorflow/core/platform/cpu_feature_guard.cc:210] This TensorFlow binary is optimized to use available CPU instructions in performance-critical operations.\n",
      "To enable the following instructions: AVX2 AVX512F AVX512_VNNI FMA, in other operations, rebuild TensorFlow with the appropriate compiler flags.\n",
      "2025-08-05 17:36:41.803153: W tensorflow/compiler/tf2tensorrt/utils/py_utils.cc:38] TF-TRT Warning: Could not find TensorRT\n",
      "2025-08-05 17:36:43,479 - INFO - Using model from: /mnt/workspace/.cache/modelscope/models/SparkAudio/Spark-TTS-0___5B\n",
      "2025-08-05 17:36:43,479 - INFO - Saving audio to: result\n",
      "2025-08-05 17:36:43,481 - INFO - Using CUDA device: cuda:0\n",
      "/usr/local/lib/python3.11/site-packages/torch/nn/utils/weight_norm.py:143: FutureWarning: `torch.nn.utils.weight_norm` is deprecated in favor of `torch.nn.utils.parametrizations.weight_norm`.\n",
      "  WeightNorm.apply(module, name, dim)\n"
     ]
    },
    {
     "name": "stdout",
     "output_type": "stream",
     "text": [
      "Missing tensor: mel_transformer.spectrogram.window\n",
      "Missing tensor: mel_transformer.mel_scale.fb\n"
     ]
    },
    {
     "name": "stderr",
     "output_type": "stream",
     "text": [
      "2025-08-05 17:36:48,241 - INFO - Starting inference...\n",
      "Setting `pad_token_id` to `eos_token_id`:None for open-end generation.\n",
      "2025-08-05 17:36:54,370 - INFO - Audio saved at: result/temp.wav\n"
     ]
    },
    {
     "name": "stdout",
     "output_type": "stream",
     "text": [
      "33 舌下神经核位于脑干的延髓部分。舌下神经核是控制舌肌运动的重要神经核，它发出的神经纤维通过舌下神经，支配舌部肌肉的运动。如果您感觉舌部活动不灵活或有其他相关症状，建议及时就医进行详细检查。 aigc_speech_generation_tasks/reference_33.wav\n"
     ]
    },
    {
     "name": "stderr",
     "output_type": "stream",
     "text": [
      "2025-08-05 17:36:58.455036: I tensorflow/core/util/port.cc:113] oneDNN custom operations are on. You may see slightly different numerical results due to floating-point round-off errors from different computation orders. To turn them off, set the environment variable `TF_ENABLE_ONEDNN_OPTS=0`.\n",
      "2025-08-05 17:36:58.494441: I tensorflow/core/platform/cpu_feature_guard.cc:210] This TensorFlow binary is optimized to use available CPU instructions in performance-critical operations.\n",
      "To enable the following instructions: AVX2 AVX512F AVX512_VNNI FMA, in other operations, rebuild TensorFlow with the appropriate compiler flags.\n",
      "2025-08-05 17:36:59.339090: W tensorflow/compiler/tf2tensorrt/utils/py_utils.cc:38] TF-TRT Warning: Could not find TensorRT\n",
      "2025-08-05 17:37:01,014 - INFO - Using model from: /mnt/workspace/.cache/modelscope/models/SparkAudio/Spark-TTS-0___5B\n",
      "2025-08-05 17:37:01,014 - INFO - Saving audio to: result\n",
      "2025-08-05 17:37:01,016 - INFO - Using CUDA device: cuda:0\n",
      "/usr/local/lib/python3.11/site-packages/torch/nn/utils/weight_norm.py:143: FutureWarning: `torch.nn.utils.weight_norm` is deprecated in favor of `torch.nn.utils.parametrizations.weight_norm`.\n",
      "  WeightNorm.apply(module, name, dim)\n"
     ]
    },
    {
     "name": "stdout",
     "output_type": "stream",
     "text": [
      "Missing tensor: mel_transformer.spectrogram.window\n",
      "Missing tensor: mel_transformer.mel_scale.fb\n"
     ]
    },
    {
     "name": "stderr",
     "output_type": "stream",
     "text": [
      "2025-08-05 17:37:05,601 - INFO - Starting inference...\n",
      "Setting `pad_token_id` to `eos_token_id`:None for open-end generation.\n",
      "2025-08-05 17:37:23,417 - INFO - Audio saved at: result/temp.wav\n"
     ]
    },
    {
     "name": "stdout",
     "output_type": "stream",
     "text": [
      "34 帮我付款 aigc_speech_generation_tasks/reference_34.wav\n"
     ]
    },
    {
     "name": "stderr",
     "output_type": "stream",
     "text": [
      "2025-08-05 17:37:27.623871: I tensorflow/core/util/port.cc:113] oneDNN custom operations are on. You may see slightly different numerical results due to floating-point round-off errors from different computation orders. To turn them off, set the environment variable `TF_ENABLE_ONEDNN_OPTS=0`.\n",
      "2025-08-05 17:37:27.663033: I tensorflow/core/platform/cpu_feature_guard.cc:210] This TensorFlow binary is optimized to use available CPU instructions in performance-critical operations.\n",
      "To enable the following instructions: AVX2 AVX512F AVX512_VNNI FMA, in other operations, rebuild TensorFlow with the appropriate compiler flags.\n",
      "2025-08-05 17:37:28.520891: W tensorflow/compiler/tf2tensorrt/utils/py_utils.cc:38] TF-TRT Warning: Could not find TensorRT\n",
      "2025-08-05 17:37:30,182 - INFO - Using model from: /mnt/workspace/.cache/modelscope/models/SparkAudio/Spark-TTS-0___5B\n",
      "2025-08-05 17:37:30,182 - INFO - Saving audio to: result\n",
      "2025-08-05 17:37:30,184 - INFO - Using CUDA device: cuda:0\n",
      "/usr/local/lib/python3.11/site-packages/torch/nn/utils/weight_norm.py:143: FutureWarning: `torch.nn.utils.weight_norm` is deprecated in favor of `torch.nn.utils.parametrizations.weight_norm`.\n",
      "  WeightNorm.apply(module, name, dim)\n"
     ]
    },
    {
     "name": "stdout",
     "output_type": "stream",
     "text": [
      "Missing tensor: mel_transformer.spectrogram.window\n",
      "Missing tensor: mel_transformer.mel_scale.fb\n"
     ]
    },
    {
     "name": "stderr",
     "output_type": "stream",
     "text": [
      "2025-08-05 17:37:35,025 - INFO - Starting inference...\n",
      "Setting `pad_token_id` to `eos_token_id`:None for open-end generation.\n",
      "2025-08-05 17:37:37,685 - INFO - Audio saved at: result/temp.wav\n"
     ]
    },
    {
     "name": "stdout",
     "output_type": "stream",
     "text": [
      "35 我要给我家宽带账户缴费300元，现在就办 aigc_speech_generation_tasks/reference_35.wav\n"
     ]
    },
    {
     "name": "stderr",
     "output_type": "stream",
     "text": [
      "2025-08-05 17:37:41.828286: I tensorflow/core/util/port.cc:113] oneDNN custom operations are on. You may see slightly different numerical results due to floating-point round-off errors from different computation orders. To turn them off, set the environment variable `TF_ENABLE_ONEDNN_OPTS=0`.\n",
      "2025-08-05 17:37:41.867947: I tensorflow/core/platform/cpu_feature_guard.cc:210] This TensorFlow binary is optimized to use available CPU instructions in performance-critical operations.\n",
      "To enable the following instructions: AVX2 AVX512F AVX512_VNNI FMA, in other operations, rebuild TensorFlow with the appropriate compiler flags.\n",
      "2025-08-05 17:37:42.740932: W tensorflow/compiler/tf2tensorrt/utils/py_utils.cc:38] TF-TRT Warning: Could not find TensorRT\n",
      "2025-08-05 17:37:44,428 - INFO - Using model from: /mnt/workspace/.cache/modelscope/models/SparkAudio/Spark-TTS-0___5B\n",
      "2025-08-05 17:37:44,428 - INFO - Saving audio to: result\n",
      "2025-08-05 17:37:44,429 - INFO - Using CUDA device: cuda:0\n",
      "/usr/local/lib/python3.11/site-packages/torch/nn/utils/weight_norm.py:143: FutureWarning: `torch.nn.utils.weight_norm` is deprecated in favor of `torch.nn.utils.parametrizations.weight_norm`.\n",
      "  WeightNorm.apply(module, name, dim)\n"
     ]
    },
    {
     "name": "stdout",
     "output_type": "stream",
     "text": [
      "Missing tensor: mel_transformer.spectrogram.window\n",
      "Missing tensor: mel_transformer.mel_scale.fb\n"
     ]
    },
    {
     "name": "stderr",
     "output_type": "stream",
     "text": [
      "2025-08-05 17:37:49,104 - INFO - Starting inference...\n",
      "Setting `pad_token_id` to `eos_token_id`:None for open-end generation.\n",
      "2025-08-05 17:38:43,690 - INFO - Audio saved at: result/temp.wav\n"
     ]
    },
    {
     "name": "stdout",
     "output_type": "stream",
     "text": [
      "36 本班列车是第二班由海南省前往东北地区的旅客列车。 aigc_speech_generation_tasks/reference_36.wav\n"
     ]
    },
    {
     "name": "stderr",
     "output_type": "stream",
     "text": [
      "2025-08-05 17:38:47.751166: I tensorflow/core/util/port.cc:113] oneDNN custom operations are on. You may see slightly different numerical results due to floating-point round-off errors from different computation orders. To turn them off, set the environment variable `TF_ENABLE_ONEDNN_OPTS=0`.\n",
      "2025-08-05 17:38:47.790384: I tensorflow/core/platform/cpu_feature_guard.cc:210] This TensorFlow binary is optimized to use available CPU instructions in performance-critical operations.\n",
      "To enable the following instructions: AVX2 AVX512F AVX512_VNNI FMA, in other operations, rebuild TensorFlow with the appropriate compiler flags.\n",
      "2025-08-05 17:38:48.644721: W tensorflow/compiler/tf2tensorrt/utils/py_utils.cc:38] TF-TRT Warning: Could not find TensorRT\n",
      "2025-08-05 17:38:50,398 - INFO - Using model from: /mnt/workspace/.cache/modelscope/models/SparkAudio/Spark-TTS-0___5B\n",
      "2025-08-05 17:38:50,398 - INFO - Saving audio to: result\n",
      "2025-08-05 17:38:50,399 - INFO - Using CUDA device: cuda:0\n",
      "/usr/local/lib/python3.11/site-packages/torch/nn/utils/weight_norm.py:143: FutureWarning: `torch.nn.utils.weight_norm` is deprecated in favor of `torch.nn.utils.parametrizations.weight_norm`.\n",
      "  WeightNorm.apply(module, name, dim)\n"
     ]
    },
    {
     "name": "stdout",
     "output_type": "stream",
     "text": [
      "Missing tensor: mel_transformer.spectrogram.window\n",
      "Missing tensor: mel_transformer.mel_scale.fb\n"
     ]
    },
    {
     "name": "stderr",
     "output_type": "stream",
     "text": [
      "2025-08-05 17:38:55,095 - INFO - Starting inference...\n",
      "Setting `pad_token_id` to `eos_token_id`:None for open-end generation.\n",
      "2025-08-05 17:39:02,967 - INFO - Audio saved at: result/temp.wav\n"
     ]
    },
    {
     "name": "stdout",
     "output_type": "stream",
     "text": [
      "37 该冲锋枪的一个特点是位于扳机护环后方的拆卸螺栓。 aigc_speech_generation_tasks/reference_37.wav\n"
     ]
    },
    {
     "name": "stderr",
     "output_type": "stream",
     "text": [
      "2025-08-05 17:39:07.106707: I tensorflow/core/util/port.cc:113] oneDNN custom operations are on. You may see slightly different numerical results due to floating-point round-off errors from different computation orders. To turn them off, set the environment variable `TF_ENABLE_ONEDNN_OPTS=0`.\n",
      "2025-08-05 17:39:07.146102: I tensorflow/core/platform/cpu_feature_guard.cc:210] This TensorFlow binary is optimized to use available CPU instructions in performance-critical operations.\n",
      "To enable the following instructions: AVX2 AVX512F AVX512_VNNI FMA, in other operations, rebuild TensorFlow with the appropriate compiler flags.\n",
      "2025-08-05 17:39:08.002840: W tensorflow/compiler/tf2tensorrt/utils/py_utils.cc:38] TF-TRT Warning: Could not find TensorRT\n",
      "2025-08-05 17:39:09,663 - INFO - Using model from: /mnt/workspace/.cache/modelscope/models/SparkAudio/Spark-TTS-0___5B\n",
      "2025-08-05 17:39:09,663 - INFO - Saving audio to: result\n",
      "2025-08-05 17:39:09,664 - INFO - Using CUDA device: cuda:0\n",
      "/usr/local/lib/python3.11/site-packages/torch/nn/utils/weight_norm.py:143: FutureWarning: `torch.nn.utils.weight_norm` is deprecated in favor of `torch.nn.utils.parametrizations.weight_norm`.\n",
      "  WeightNorm.apply(module, name, dim)\n"
     ]
    },
    {
     "name": "stdout",
     "output_type": "stream",
     "text": [
      "Missing tensor: mel_transformer.spectrogram.window\n",
      "Missing tensor: mel_transformer.mel_scale.fb\n"
     ]
    },
    {
     "name": "stderr",
     "output_type": "stream",
     "text": [
      "2025-08-05 17:39:14,281 - INFO - Starting inference...\n",
      "Setting `pad_token_id` to `eos_token_id`:None for open-end generation.\n",
      "2025-08-05 17:39:21,640 - INFO - Audio saved at: result/temp.wav\n"
     ]
    },
    {
     "name": "stdout",
     "output_type": "stream",
     "text": [
      "38 每次看到那张老照片，他都会想起大学时期和室友们熬夜复习考试的日子，那种拼搏的精神让他至今难忘。 aigc_speech_generation_tasks/reference_38.wav\n"
     ]
    },
    {
     "name": "stderr",
     "output_type": "stream",
     "text": [
      "2025-08-05 17:39:25.704093: I tensorflow/core/util/port.cc:113] oneDNN custom operations are on. You may see slightly different numerical results due to floating-point round-off errors from different computation orders. To turn them off, set the environment variable `TF_ENABLE_ONEDNN_OPTS=0`.\n",
      "2025-08-05 17:39:25.750575: I tensorflow/core/platform/cpu_feature_guard.cc:210] This TensorFlow binary is optimized to use available CPU instructions in performance-critical operations.\n",
      "To enable the following instructions: AVX2 AVX512F AVX512_VNNI FMA, in other operations, rebuild TensorFlow with the appropriate compiler flags.\n",
      "2025-08-05 17:39:26.629989: W tensorflow/compiler/tf2tensorrt/utils/py_utils.cc:38] TF-TRT Warning: Could not find TensorRT\n",
      "2025-08-05 17:39:28,283 - INFO - Using model from: /mnt/workspace/.cache/modelscope/models/SparkAudio/Spark-TTS-0___5B\n",
      "2025-08-05 17:39:28,283 - INFO - Saving audio to: result\n",
      "2025-08-05 17:39:28,285 - INFO - Using CUDA device: cuda:0\n",
      "/usr/local/lib/python3.11/site-packages/torch/nn/utils/weight_norm.py:143: FutureWarning: `torch.nn.utils.weight_norm` is deprecated in favor of `torch.nn.utils.parametrizations.weight_norm`.\n",
      "  WeightNorm.apply(module, name, dim)\n"
     ]
    },
    {
     "name": "stdout",
     "output_type": "stream",
     "text": [
      "Missing tensor: mel_transformer.spectrogram.window\n",
      "Missing tensor: mel_transformer.mel_scale.fb\n"
     ]
    },
    {
     "name": "stderr",
     "output_type": "stream",
     "text": [
      "2025-08-05 17:39:33,125 - INFO - Starting inference...\n",
      "Setting `pad_token_id` to `eos_token_id`:None for open-end generation.\n",
      "2025-08-05 17:39:46,306 - INFO - Audio saved at: result/temp.wav\n"
     ]
    },
    {
     "name": "stdout",
     "output_type": "stream",
     "text": [
      "39 超市满减券今天到期，快帮我凑单到200元 aigc_speech_generation_tasks/reference_39.wav\n"
     ]
    },
    {
     "name": "stderr",
     "output_type": "stream",
     "text": [
      "2025-08-05 17:39:50.376790: I tensorflow/core/util/port.cc:113] oneDNN custom operations are on. You may see slightly different numerical results due to floating-point round-off errors from different computation orders. To turn them off, set the environment variable `TF_ENABLE_ONEDNN_OPTS=0`.\n",
      "2025-08-05 17:39:50.416217: I tensorflow/core/platform/cpu_feature_guard.cc:210] This TensorFlow binary is optimized to use available CPU instructions in performance-critical operations.\n",
      "To enable the following instructions: AVX2 AVX512F AVX512_VNNI FMA, in other operations, rebuild TensorFlow with the appropriate compiler flags.\n",
      "2025-08-05 17:39:51.319313: W tensorflow/compiler/tf2tensorrt/utils/py_utils.cc:38] TF-TRT Warning: Could not find TensorRT\n",
      "2025-08-05 17:39:52,963 - INFO - Using model from: /mnt/workspace/.cache/modelscope/models/SparkAudio/Spark-TTS-0___5B\n",
      "2025-08-05 17:39:52,963 - INFO - Saving audio to: result\n",
      "2025-08-05 17:39:52,965 - INFO - Using CUDA device: cuda:0\n",
      "/usr/local/lib/python3.11/site-packages/torch/nn/utils/weight_norm.py:143: FutureWarning: `torch.nn.utils.weight_norm` is deprecated in favor of `torch.nn.utils.parametrizations.weight_norm`.\n",
      "  WeightNorm.apply(module, name, dim)\n"
     ]
    },
    {
     "name": "stdout",
     "output_type": "stream",
     "text": [
      "Missing tensor: mel_transformer.spectrogram.window\n",
      "Missing tensor: mel_transformer.mel_scale.fb\n"
     ]
    },
    {
     "name": "stderr",
     "output_type": "stream",
     "text": [
      "2025-08-05 17:39:57,682 - INFO - Starting inference...\n",
      "Setting `pad_token_id` to `eos_token_id`:None for open-end generation.\n",
      "2025-08-05 17:40:03,004 - INFO - Audio saved at: result/temp.wav\n"
     ]
    },
    {
     "name": "stdout",
     "output_type": "stream",
     "text": [
      "40 随着人工智能技术的不断进步，越来越多的企业开始将AI应用于医疗诊断、金融分析和制造业自动化等领域。 aigc_speech_generation_tasks/reference_40.wav\n"
     ]
    },
    {
     "name": "stderr",
     "output_type": "stream",
     "text": [
      "2025-08-05 17:40:07.142672: I tensorflow/core/util/port.cc:113] oneDNN custom operations are on. You may see slightly different numerical results due to floating-point round-off errors from different computation orders. To turn them off, set the environment variable `TF_ENABLE_ONEDNN_OPTS=0`.\n",
      "2025-08-05 17:40:07.182779: I tensorflow/core/platform/cpu_feature_guard.cc:210] This TensorFlow binary is optimized to use available CPU instructions in performance-critical operations.\n",
      "To enable the following instructions: AVX2 AVX512F AVX512_VNNI FMA, in other operations, rebuild TensorFlow with the appropriate compiler flags.\n",
      "2025-08-05 17:40:08.036551: W tensorflow/compiler/tf2tensorrt/utils/py_utils.cc:38] TF-TRT Warning: Could not find TensorRT\n",
      "2025-08-05 17:40:09,706 - INFO - Using model from: /mnt/workspace/.cache/modelscope/models/SparkAudio/Spark-TTS-0___5B\n",
      "2025-08-05 17:40:09,707 - INFO - Saving audio to: result\n",
      "2025-08-05 17:40:09,708 - INFO - Using CUDA device: cuda:0\n",
      "/usr/local/lib/python3.11/site-packages/torch/nn/utils/weight_norm.py:143: FutureWarning: `torch.nn.utils.weight_norm` is deprecated in favor of `torch.nn.utils.parametrizations.weight_norm`.\n",
      "  WeightNorm.apply(module, name, dim)\n"
     ]
    },
    {
     "name": "stdout",
     "output_type": "stream",
     "text": [
      "Missing tensor: mel_transformer.spectrogram.window\n",
      "Missing tensor: mel_transformer.mel_scale.fb\n"
     ]
    },
    {
     "name": "stderr",
     "output_type": "stream",
     "text": [
      "2025-08-05 17:40:14,342 - INFO - Starting inference...\n",
      "Setting `pad_token_id` to `eos_token_id`:None for open-end generation.\n",
      "2025-08-05 17:40:23,276 - INFO - Audio saved at: result/temp.wav\n"
     ]
    },
    {
     "name": "stdout",
     "output_type": "stream",
     "text": [
      "41 预约后天早上的机场贵宾厅服务 aigc_speech_generation_tasks/reference_41.wav\n"
     ]
    },
    {
     "name": "stderr",
     "output_type": "stream",
     "text": [
      "2025-08-05 17:40:27.380211: I tensorflow/core/util/port.cc:113] oneDNN custom operations are on. You may see slightly different numerical results due to floating-point round-off errors from different computation orders. To turn them off, set the environment variable `TF_ENABLE_ONEDNN_OPTS=0`.\n",
      "2025-08-05 17:40:27.420173: I tensorflow/core/platform/cpu_feature_guard.cc:210] This TensorFlow binary is optimized to use available CPU instructions in performance-critical operations.\n",
      "To enable the following instructions: AVX2 AVX512F AVX512_VNNI FMA, in other operations, rebuild TensorFlow with the appropriate compiler flags.\n",
      "2025-08-05 17:40:28.274892: W tensorflow/compiler/tf2tensorrt/utils/py_utils.cc:38] TF-TRT Warning: Could not find TensorRT\n",
      "2025-08-05 17:40:29,922 - INFO - Using model from: /mnt/workspace/.cache/modelscope/models/SparkAudio/Spark-TTS-0___5B\n",
      "2025-08-05 17:40:29,922 - INFO - Saving audio to: result\n",
      "2025-08-05 17:40:29,924 - INFO - Using CUDA device: cuda:0\n",
      "/usr/local/lib/python3.11/site-packages/torch/nn/utils/weight_norm.py:143: FutureWarning: `torch.nn.utils.weight_norm` is deprecated in favor of `torch.nn.utils.parametrizations.weight_norm`.\n",
      "  WeightNorm.apply(module, name, dim)\n"
     ]
    },
    {
     "name": "stdout",
     "output_type": "stream",
     "text": [
      "Missing tensor: mel_transformer.spectrogram.window\n",
      "Missing tensor: mel_transformer.mel_scale.fb\n"
     ]
    },
    {
     "name": "stderr",
     "output_type": "stream",
     "text": [
      "2025-08-05 17:40:34,562 - INFO - Starting inference...\n",
      "Setting `pad_token_id` to `eos_token_id`:None for open-end generation.\n",
      "2025-08-05 17:41:28,890 - INFO - Audio saved at: result/temp.wav\n"
     ]
    },
    {
     "name": "stdout",
     "output_type": "stream",
     "text": [
      "42 您需要上传医保电子凭证或社会保障卡或身份证或户口簿或护照或港澳居民来往内地通行证或港澳台居民居住证或中华人民共和国外国人永久居留身份证。 aigc_speech_generation_tasks/reference_42.wav\n"
     ]
    },
    {
     "name": "stderr",
     "output_type": "stream",
     "text": [
      "2025-08-05 17:41:32.972998: I tensorflow/core/util/port.cc:113] oneDNN custom operations are on. You may see slightly different numerical results due to floating-point round-off errors from different computation orders. To turn them off, set the environment variable `TF_ENABLE_ONEDNN_OPTS=0`.\n",
      "2025-08-05 17:41:33.012525: I tensorflow/core/platform/cpu_feature_guard.cc:210] This TensorFlow binary is optimized to use available CPU instructions in performance-critical operations.\n",
      "To enable the following instructions: AVX2 AVX512F AVX512_VNNI FMA, in other operations, rebuild TensorFlow with the appropriate compiler flags.\n",
      "2025-08-05 17:41:33.867116: W tensorflow/compiler/tf2tensorrt/utils/py_utils.cc:38] TF-TRT Warning: Could not find TensorRT\n",
      "2025-08-05 17:41:35,512 - INFO - Using model from: /mnt/workspace/.cache/modelscope/models/SparkAudio/Spark-TTS-0___5B\n",
      "2025-08-05 17:41:35,512 - INFO - Saving audio to: result\n",
      "2025-08-05 17:41:35,513 - INFO - Using CUDA device: cuda:0\n",
      "/usr/local/lib/python3.11/site-packages/torch/nn/utils/weight_norm.py:143: FutureWarning: `torch.nn.utils.weight_norm` is deprecated in favor of `torch.nn.utils.parametrizations.weight_norm`.\n",
      "  WeightNorm.apply(module, name, dim)\n"
     ]
    },
    {
     "name": "stdout",
     "output_type": "stream",
     "text": [
      "Missing tensor: mel_transformer.spectrogram.window\n",
      "Missing tensor: mel_transformer.mel_scale.fb\n"
     ]
    },
    {
     "name": "stderr",
     "output_type": "stream",
     "text": [
      "2025-08-05 17:41:40,603 - INFO - Starting inference...\n",
      "Setting `pad_token_id` to `eos_token_id`:None for open-end generation.\n",
      "2025-08-05 17:41:56,106 - INFO - Audio saved at: result/temp.wav\n"
     ]
    },
    {
     "name": "stdout",
     "output_type": "stream",
     "text": [
      "43 德国土木工程师利林塔尔所设计的滑翔机把无动力载人飞行试验推向高潮。 aigc_speech_generation_tasks/reference_43.wav\n"
     ]
    },
    {
     "name": "stderr",
     "output_type": "stream",
     "text": [
      "2025-08-05 17:42:00.216268: I tensorflow/core/util/port.cc:113] oneDNN custom operations are on. You may see slightly different numerical results due to floating-point round-off errors from different computation orders. To turn them off, set the environment variable `TF_ENABLE_ONEDNN_OPTS=0`.\n",
      "2025-08-05 17:42:00.255276: I tensorflow/core/platform/cpu_feature_guard.cc:210] This TensorFlow binary is optimized to use available CPU instructions in performance-critical operations.\n",
      "To enable the following instructions: AVX2 AVX512F AVX512_VNNI FMA, in other operations, rebuild TensorFlow with the appropriate compiler flags.\n",
      "2025-08-05 17:42:01.113064: W tensorflow/compiler/tf2tensorrt/utils/py_utils.cc:38] TF-TRT Warning: Could not find TensorRT\n",
      "2025-08-05 17:42:02,771 - INFO - Using model from: /mnt/workspace/.cache/modelscope/models/SparkAudio/Spark-TTS-0___5B\n",
      "2025-08-05 17:42:02,771 - INFO - Saving audio to: result\n",
      "2025-08-05 17:42:02,772 - INFO - Using CUDA device: cuda:0\n",
      "/usr/local/lib/python3.11/site-packages/torch/nn/utils/weight_norm.py:143: FutureWarning: `torch.nn.utils.weight_norm` is deprecated in favor of `torch.nn.utils.parametrizations.weight_norm`.\n",
      "  WeightNorm.apply(module, name, dim)\n"
     ]
    },
    {
     "name": "stdout",
     "output_type": "stream",
     "text": [
      "Missing tensor: mel_transformer.spectrogram.window\n",
      "Missing tensor: mel_transformer.mel_scale.fb\n"
     ]
    },
    {
     "name": "stderr",
     "output_type": "stream",
     "text": [
      "2025-08-05 17:42:07,854 - INFO - Starting inference...\n",
      "Setting `pad_token_id` to `eos_token_id`:None for open-end generation.\n",
      "2025-08-05 17:42:14,447 - INFO - Audio saved at: result/temp.wav\n"
     ]
    },
    {
     "name": "stdout",
     "output_type": "stream",
     "text": [
      "44 门锁没有被破坏然后家里面翻动痕迹也不大再就是而且是白天作案 aigc_speech_generation_tasks/reference_44.wav\n"
     ]
    },
    {
     "name": "stderr",
     "output_type": "stream",
     "text": [
      "2025-08-05 17:42:18.521216: I tensorflow/core/util/port.cc:113] oneDNN custom operations are on. You may see slightly different numerical results due to floating-point round-off errors from different computation orders. To turn them off, set the environment variable `TF_ENABLE_ONEDNN_OPTS=0`.\n",
      "2025-08-05 17:42:18.560388: I tensorflow/core/platform/cpu_feature_guard.cc:210] This TensorFlow binary is optimized to use available CPU instructions in performance-critical operations.\n",
      "To enable the following instructions: AVX2 AVX512F AVX512_VNNI FMA, in other operations, rebuild TensorFlow with the appropriate compiler flags.\n",
      "2025-08-05 17:42:19.395265: W tensorflow/compiler/tf2tensorrt/utils/py_utils.cc:38] TF-TRT Warning: Could not find TensorRT\n",
      "2025-08-05 17:42:21,085 - INFO - Using model from: /mnt/workspace/.cache/modelscope/models/SparkAudio/Spark-TTS-0___5B\n",
      "2025-08-05 17:42:21,085 - INFO - Saving audio to: result\n",
      "2025-08-05 17:42:21,087 - INFO - Using CUDA device: cuda:0\n",
      "/usr/local/lib/python3.11/site-packages/torch/nn/utils/weight_norm.py:143: FutureWarning: `torch.nn.utils.weight_norm` is deprecated in favor of `torch.nn.utils.parametrizations.weight_norm`.\n",
      "  WeightNorm.apply(module, name, dim)\n"
     ]
    },
    {
     "name": "stdout",
     "output_type": "stream",
     "text": [
      "Missing tensor: mel_transformer.spectrogram.window\n",
      "Missing tensor: mel_transformer.mel_scale.fb\n"
     ]
    },
    {
     "name": "stderr",
     "output_type": "stream",
     "text": [
      "2025-08-05 17:42:25,693 - INFO - Starting inference...\n",
      "Setting `pad_token_id` to `eos_token_id`:None for open-end generation.\n",
      "2025-08-05 17:42:32,777 - INFO - Audio saved at: result/temp.wav\n"
     ]
    },
    {
     "name": "stdout",
     "output_type": "stream",
     "text": [
      "45 每一个新动作的完成都需要经历上百次的尝试和打磨。 aigc_speech_generation_tasks/reference_45.wav\n"
     ]
    },
    {
     "name": "stderr",
     "output_type": "stream",
     "text": [
      "2025-08-05 17:42:36.957957: I tensorflow/core/util/port.cc:113] oneDNN custom operations are on. You may see slightly different numerical results due to floating-point round-off errors from different computation orders. To turn them off, set the environment variable `TF_ENABLE_ONEDNN_OPTS=0`.\n",
      "2025-08-05 17:42:36.997766: I tensorflow/core/platform/cpu_feature_guard.cc:210] This TensorFlow binary is optimized to use available CPU instructions in performance-critical operations.\n",
      "To enable the following instructions: AVX2 AVX512F AVX512_VNNI FMA, in other operations, rebuild TensorFlow with the appropriate compiler flags.\n",
      "2025-08-05 17:42:37.870640: W tensorflow/compiler/tf2tensorrt/utils/py_utils.cc:38] TF-TRT Warning: Could not find TensorRT\n",
      "2025-08-05 17:42:39,560 - INFO - Using model from: /mnt/workspace/.cache/modelscope/models/SparkAudio/Spark-TTS-0___5B\n",
      "2025-08-05 17:42:39,560 - INFO - Saving audio to: result\n",
      "2025-08-05 17:42:39,562 - INFO - Using CUDA device: cuda:0\n",
      "/usr/local/lib/python3.11/site-packages/torch/nn/utils/weight_norm.py:143: FutureWarning: `torch.nn.utils.weight_norm` is deprecated in favor of `torch.nn.utils.parametrizations.weight_norm`.\n",
      "  WeightNorm.apply(module, name, dim)\n"
     ]
    },
    {
     "name": "stdout",
     "output_type": "stream",
     "text": [
      "Missing tensor: mel_transformer.spectrogram.window\n",
      "Missing tensor: mel_transformer.mel_scale.fb\n"
     ]
    },
    {
     "name": "stderr",
     "output_type": "stream",
     "text": [
      "2025-08-05 17:42:44,183 - INFO - Starting inference...\n",
      "Setting `pad_token_id` to `eos_token_id`:None for open-end generation.\n",
      "2025-08-05 17:42:49,282 - INFO - Audio saved at: result/temp.wav\n"
     ]
    },
    {
     "name": "stdout",
     "output_type": "stream",
     "text": [
      "46 就是说我们看到的生活好像都是挺自然的 aigc_speech_generation_tasks/reference_46.wav\n"
     ]
    },
    {
     "name": "stderr",
     "output_type": "stream",
     "text": [
      "2025-08-05 17:42:53.529352: I tensorflow/core/util/port.cc:113] oneDNN custom operations are on. You may see slightly different numerical results due to floating-point round-off errors from different computation orders. To turn them off, set the environment variable `TF_ENABLE_ONEDNN_OPTS=0`.\n",
      "2025-08-05 17:42:53.568385: I tensorflow/core/platform/cpu_feature_guard.cc:210] This TensorFlow binary is optimized to use available CPU instructions in performance-critical operations.\n",
      "To enable the following instructions: AVX2 AVX512F AVX512_VNNI FMA, in other operations, rebuild TensorFlow with the appropriate compiler flags.\n",
      "2025-08-05 17:42:54.409559: W tensorflow/compiler/tf2tensorrt/utils/py_utils.cc:38] TF-TRT Warning: Could not find TensorRT\n",
      "2025-08-05 17:42:56,190 - INFO - Using model from: /mnt/workspace/.cache/modelscope/models/SparkAudio/Spark-TTS-0___5B\n",
      "2025-08-05 17:42:56,190 - INFO - Saving audio to: result\n",
      "2025-08-05 17:42:56,193 - INFO - Using CUDA device: cuda:0\n",
      "/usr/local/lib/python3.11/site-packages/torch/nn/utils/weight_norm.py:143: FutureWarning: `torch.nn.utils.weight_norm` is deprecated in favor of `torch.nn.utils.parametrizations.weight_norm`.\n",
      "  WeightNorm.apply(module, name, dim)\n"
     ]
    },
    {
     "name": "stdout",
     "output_type": "stream",
     "text": [
      "Missing tensor: mel_transformer.spectrogram.window\n",
      "Missing tensor: mel_transformer.mel_scale.fb\n"
     ]
    },
    {
     "name": "stderr",
     "output_type": "stream",
     "text": [
      "2025-08-05 17:43:00,886 - INFO - Starting inference...\n",
      "Setting `pad_token_id` to `eos_token_id`:None for open-end generation.\n",
      "2025-08-05 17:43:05,103 - INFO - Audio saved at: result/temp.wav\n"
     ]
    },
    {
     "name": "stdout",
     "output_type": "stream",
     "text": [
      "47 给我买一批日用品，包括卷纸、洗发水和牙膏，总共不要超过两百块 aigc_speech_generation_tasks/reference_47.wav\n"
     ]
    },
    {
     "name": "stderr",
     "output_type": "stream",
     "text": [
      "2025-08-05 17:43:09.301684: I tensorflow/core/util/port.cc:113] oneDNN custom operations are on. You may see slightly different numerical results due to floating-point round-off errors from different computation orders. To turn them off, set the environment variable `TF_ENABLE_ONEDNN_OPTS=0`.\n",
      "2025-08-05 17:43:09.340597: I tensorflow/core/platform/cpu_feature_guard.cc:210] This TensorFlow binary is optimized to use available CPU instructions in performance-critical operations.\n",
      "To enable the following instructions: AVX2 AVX512F AVX512_VNNI FMA, in other operations, rebuild TensorFlow with the appropriate compiler flags.\n",
      "2025-08-05 17:43:10.180003: W tensorflow/compiler/tf2tensorrt/utils/py_utils.cc:38] TF-TRT Warning: Could not find TensorRT\n",
      "2025-08-05 17:43:11,875 - INFO - Using model from: /mnt/workspace/.cache/modelscope/models/SparkAudio/Spark-TTS-0___5B\n",
      "2025-08-05 17:43:11,875 - INFO - Saving audio to: result\n",
      "2025-08-05 17:43:11,877 - INFO - Using CUDA device: cuda:0\n",
      "/usr/local/lib/python3.11/site-packages/torch/nn/utils/weight_norm.py:143: FutureWarning: `torch.nn.utils.weight_norm` is deprecated in favor of `torch.nn.utils.parametrizations.weight_norm`.\n",
      "  WeightNorm.apply(module, name, dim)\n"
     ]
    },
    {
     "name": "stdout",
     "output_type": "stream",
     "text": [
      "Missing tensor: mel_transformer.spectrogram.window\n",
      "Missing tensor: mel_transformer.mel_scale.fb\n"
     ]
    },
    {
     "name": "stderr",
     "output_type": "stream",
     "text": [
      "2025-08-05 17:43:16,505 - INFO - Starting inference...\n",
      "Setting `pad_token_id` to `eos_token_id`:None for open-end generation.\n",
      "2025-08-05 17:43:22,310 - INFO - Audio saved at: result/temp.wav\n"
     ]
    },
    {
     "name": "stdout",
     "output_type": "stream",
     "text": [
      "48 引用轮转换位发表的笑笑，昨天我做梦怎么下雨有点黄呢 aigc_speech_generation_tasks/reference_48.wav\n"
     ]
    },
    {
     "name": "stderr",
     "output_type": "stream",
     "text": [
      "2025-08-05 17:43:26.415346: I tensorflow/core/util/port.cc:113] oneDNN custom operations are on. You may see slightly different numerical results due to floating-point round-off errors from different computation orders. To turn them off, set the environment variable `TF_ENABLE_ONEDNN_OPTS=0`.\n",
      "2025-08-05 17:43:26.455838: I tensorflow/core/platform/cpu_feature_guard.cc:210] This TensorFlow binary is optimized to use available CPU instructions in performance-critical operations.\n",
      "To enable the following instructions: AVX2 AVX512F AVX512_VNNI FMA, in other operations, rebuild TensorFlow with the appropriate compiler flags.\n",
      "2025-08-05 17:43:27.309146: W tensorflow/compiler/tf2tensorrt/utils/py_utils.cc:38] TF-TRT Warning: Could not find TensorRT\n",
      "2025-08-05 17:43:28,980 - INFO - Using model from: /mnt/workspace/.cache/modelscope/models/SparkAudio/Spark-TTS-0___5B\n",
      "2025-08-05 17:43:28,980 - INFO - Saving audio to: result\n",
      "2025-08-05 17:43:28,981 - INFO - Using CUDA device: cuda:0\n",
      "/usr/local/lib/python3.11/site-packages/torch/nn/utils/weight_norm.py:143: FutureWarning: `torch.nn.utils.weight_norm` is deprecated in favor of `torch.nn.utils.parametrizations.weight_norm`.\n",
      "  WeightNorm.apply(module, name, dim)\n"
     ]
    },
    {
     "name": "stdout",
     "output_type": "stream",
     "text": [
      "Missing tensor: mel_transformer.spectrogram.window\n",
      "Missing tensor: mel_transformer.mel_scale.fb\n"
     ]
    },
    {
     "name": "stderr",
     "output_type": "stream",
     "text": [
      "2025-08-05 17:43:33,915 - INFO - Starting inference...\n",
      "Setting `pad_token_id` to `eos_token_id`:None for open-end generation.\n",
      "2025-08-05 17:43:39,372 - INFO - Audio saved at: result/temp.wav\n"
     ]
    },
    {
     "name": "stdout",
     "output_type": "stream",
     "text": [
      "49 申请电子营业执照，个体工商户，经营范围食品零售 aigc_speech_generation_tasks/reference_49.wav\n"
     ]
    },
    {
     "name": "stderr",
     "output_type": "stream",
     "text": [
      "2025-08-05 17:43:43.527633: I tensorflow/core/util/port.cc:113] oneDNN custom operations are on. You may see slightly different numerical results due to floating-point round-off errors from different computation orders. To turn them off, set the environment variable `TF_ENABLE_ONEDNN_OPTS=0`.\n",
      "2025-08-05 17:43:43.566951: I tensorflow/core/platform/cpu_feature_guard.cc:210] This TensorFlow binary is optimized to use available CPU instructions in performance-critical operations.\n",
      "To enable the following instructions: AVX2 AVX512F AVX512_VNNI FMA, in other operations, rebuild TensorFlow with the appropriate compiler flags.\n",
      "2025-08-05 17:43:44.411405: W tensorflow/compiler/tf2tensorrt/utils/py_utils.cc:38] TF-TRT Warning: Could not find TensorRT\n",
      "2025-08-05 17:43:46,185 - INFO - Using model from: /mnt/workspace/.cache/modelscope/models/SparkAudio/Spark-TTS-0___5B\n",
      "2025-08-05 17:43:46,186 - INFO - Saving audio to: result\n",
      "2025-08-05 17:43:46,187 - INFO - Using CUDA device: cuda:0\n",
      "/usr/local/lib/python3.11/site-packages/torch/nn/utils/weight_norm.py:143: FutureWarning: `torch.nn.utils.weight_norm` is deprecated in favor of `torch.nn.utils.parametrizations.weight_norm`.\n",
      "  WeightNorm.apply(module, name, dim)\n"
     ]
    },
    {
     "name": "stdout",
     "output_type": "stream",
     "text": [
      "Missing tensor: mel_transformer.spectrogram.window\n",
      "Missing tensor: mel_transformer.mel_scale.fb\n"
     ]
    },
    {
     "name": "stderr",
     "output_type": "stream",
     "text": [
      "2025-08-05 17:43:50,813 - INFO - Starting inference...\n",
      "Setting `pad_token_id` to `eos_token_id`:None for open-end generation.\n",
      "2025-08-05 17:43:56,563 - INFO - Audio saved at: result/temp.wav\n"
     ]
    },
    {
     "name": "stdout",
     "output_type": "stream",
     "text": [
      "50 城市的尽头有一座废弃的剧院，据说几十年前这里上演过一场轰动一时的歌剧，后来因为一场大火而被永久关闭。有人说，每到午夜，还能听到隐约的歌声从里面传出。 aigc_speech_generation_tasks/reference_50.wav\n"
     ]
    },
    {
     "name": "stderr",
     "output_type": "stream",
     "text": [
      "2025-08-05 17:44:00.654721: I tensorflow/core/util/port.cc:113] oneDNN custom operations are on. You may see slightly different numerical results due to floating-point round-off errors from different computation orders. To turn them off, set the environment variable `TF_ENABLE_ONEDNN_OPTS=0`.\n",
      "2025-08-05 17:44:00.700627: I tensorflow/core/platform/cpu_feature_guard.cc:210] This TensorFlow binary is optimized to use available CPU instructions in performance-critical operations.\n",
      "To enable the following instructions: AVX2 AVX512F AVX512_VNNI FMA, in other operations, rebuild TensorFlow with the appropriate compiler flags.\n",
      "2025-08-05 17:44:01.571878: W tensorflow/compiler/tf2tensorrt/utils/py_utils.cc:38] TF-TRT Warning: Could not find TensorRT\n",
      "2025-08-05 17:44:03,255 - INFO - Using model from: /mnt/workspace/.cache/modelscope/models/SparkAudio/Spark-TTS-0___5B\n",
      "2025-08-05 17:44:03,255 - INFO - Saving audio to: result\n",
      "2025-08-05 17:44:03,256 - INFO - Using CUDA device: cuda:0\n",
      "/usr/local/lib/python3.11/site-packages/torch/nn/utils/weight_norm.py:143: FutureWarning: `torch.nn.utils.weight_norm` is deprecated in favor of `torch.nn.utils.parametrizations.weight_norm`.\n",
      "  WeightNorm.apply(module, name, dim)\n"
     ]
    },
    {
     "name": "stdout",
     "output_type": "stream",
     "text": [
      "Missing tensor: mel_transformer.spectrogram.window\n",
      "Missing tensor: mel_transformer.mel_scale.fb\n"
     ]
    },
    {
     "name": "stderr",
     "output_type": "stream",
     "text": [
      "2025-08-05 17:44:08,135 - INFO - Starting inference...\n",
      "Setting `pad_token_id` to `eos_token_id`:None for open-end generation.\n",
      "2025-08-05 17:44:25,050 - INFO - Audio saved at: result/temp.wav\n"
     ]
    },
    {
     "name": "stdout",
     "output_type": "stream",
     "text": [
      "51 不吵也要表达自己的观点 aigc_speech_generation_tasks/reference_51.wav\n"
     ]
    },
    {
     "name": "stderr",
     "output_type": "stream",
     "text": [
      "2025-08-05 17:44:29.230066: I tensorflow/core/util/port.cc:113] oneDNN custom operations are on. You may see slightly different numerical results due to floating-point round-off errors from different computation orders. To turn them off, set the environment variable `TF_ENABLE_ONEDNN_OPTS=0`.\n",
      "2025-08-05 17:44:29.269508: I tensorflow/core/platform/cpu_feature_guard.cc:210] This TensorFlow binary is optimized to use available CPU instructions in performance-critical operations.\n",
      "To enable the following instructions: AVX2 AVX512F AVX512_VNNI FMA, in other operations, rebuild TensorFlow with the appropriate compiler flags.\n",
      "2025-08-05 17:44:30.107677: W tensorflow/compiler/tf2tensorrt/utils/py_utils.cc:38] TF-TRT Warning: Could not find TensorRT\n",
      "2025-08-05 17:44:31,839 - INFO - Using model from: /mnt/workspace/.cache/modelscope/models/SparkAudio/Spark-TTS-0___5B\n",
      "2025-08-05 17:44:31,839 - INFO - Saving audio to: result\n",
      "2025-08-05 17:44:31,841 - INFO - Using CUDA device: cuda:0\n",
      "/usr/local/lib/python3.11/site-packages/torch/nn/utils/weight_norm.py:143: FutureWarning: `torch.nn.utils.weight_norm` is deprecated in favor of `torch.nn.utils.parametrizations.weight_norm`.\n",
      "  WeightNorm.apply(module, name, dim)\n"
     ]
    },
    {
     "name": "stdout",
     "output_type": "stream",
     "text": [
      "Missing tensor: mel_transformer.spectrogram.window\n",
      "Missing tensor: mel_transformer.mel_scale.fb\n"
     ]
    },
    {
     "name": "stderr",
     "output_type": "stream",
     "text": [
      "2025-08-05 17:44:36,483 - INFO - Starting inference...\n",
      "Setting `pad_token_id` to `eos_token_id`:None for open-end generation.\n",
      "2025-08-05 17:44:40,620 - INFO - Audio saved at: result/temp.wav\n"
     ]
    },
    {
     "name": "stdout",
     "output_type": "stream",
     "text": [
      "52 在这种情况下，首先要确保你使用了合适的优化算法，例如Adam或RMSprop。此外，调整学习率和批次大小也会对结果产生显著影响。 aigc_speech_generation_tasks/reference_52.wav\n"
     ]
    },
    {
     "name": "stderr",
     "output_type": "stream",
     "text": [
      "2025-08-05 17:44:44.717269: I tensorflow/core/util/port.cc:113] oneDNN custom operations are on. You may see slightly different numerical results due to floating-point round-off errors from different computation orders. To turn them off, set the environment variable `TF_ENABLE_ONEDNN_OPTS=0`.\n",
      "2025-08-05 17:44:44.756087: I tensorflow/core/platform/cpu_feature_guard.cc:210] This TensorFlow binary is optimized to use available CPU instructions in performance-critical operations.\n",
      "To enable the following instructions: AVX2 AVX512F AVX512_VNNI FMA, in other operations, rebuild TensorFlow with the appropriate compiler flags.\n",
      "2025-08-05 17:44:45.614995: W tensorflow/compiler/tf2tensorrt/utils/py_utils.cc:38] TF-TRT Warning: Could not find TensorRT\n",
      "2025-08-05 17:44:47,289 - INFO - Using model from: /mnt/workspace/.cache/modelscope/models/SparkAudio/Spark-TTS-0___5B\n",
      "2025-08-05 17:44:47,289 - INFO - Saving audio to: result\n",
      "2025-08-05 17:44:47,291 - INFO - Using CUDA device: cuda:0\n",
      "/usr/local/lib/python3.11/site-packages/torch/nn/utils/weight_norm.py:143: FutureWarning: `torch.nn.utils.weight_norm` is deprecated in favor of `torch.nn.utils.parametrizations.weight_norm`.\n",
      "  WeightNorm.apply(module, name, dim)\n"
     ]
    },
    {
     "name": "stdout",
     "output_type": "stream",
     "text": [
      "Missing tensor: mel_transformer.spectrogram.window\n",
      "Missing tensor: mel_transformer.mel_scale.fb\n"
     ]
    },
    {
     "name": "stderr",
     "output_type": "stream",
     "text": [
      "2025-08-05 17:44:52,913 - INFO - Starting inference...\n",
      "Setting `pad_token_id` to `eos_token_id`:None for open-end generation.\n",
      "2025-08-05 17:45:05,188 - INFO - Audio saved at: result/temp.wav\n"
     ]
    },
    {
     "name": "stdout",
     "output_type": "stream",
     "text": [
      "53 这时期的年轻亚历山大的不满使他成了卡里亚公主的追求者以取代他的白痴兄弟。 aigc_speech_generation_tasks/reference_53.wav\n"
     ]
    },
    {
     "name": "stderr",
     "output_type": "stream",
     "text": [
      "2025-08-05 17:45:09.423988: I tensorflow/core/util/port.cc:113] oneDNN custom operations are on. You may see slightly different numerical results due to floating-point round-off errors from different computation orders. To turn them off, set the environment variable `TF_ENABLE_ONEDNN_OPTS=0`.\n",
      "2025-08-05 17:45:09.463625: I tensorflow/core/platform/cpu_feature_guard.cc:210] This TensorFlow binary is optimized to use available CPU instructions in performance-critical operations.\n",
      "To enable the following instructions: AVX2 AVX512F AVX512_VNNI FMA, in other operations, rebuild TensorFlow with the appropriate compiler flags.\n",
      "2025-08-05 17:45:10.316636: W tensorflow/compiler/tf2tensorrt/utils/py_utils.cc:38] TF-TRT Warning: Could not find TensorRT\n",
      "2025-08-05 17:45:12,007 - INFO - Using model from: /mnt/workspace/.cache/modelscope/models/SparkAudio/Spark-TTS-0___5B\n",
      "2025-08-05 17:45:12,007 - INFO - Saving audio to: result\n",
      "2025-08-05 17:45:12,008 - INFO - Using CUDA device: cuda:0\n",
      "/usr/local/lib/python3.11/site-packages/torch/nn/utils/weight_norm.py:143: FutureWarning: `torch.nn.utils.weight_norm` is deprecated in favor of `torch.nn.utils.parametrizations.weight_norm`.\n",
      "  WeightNorm.apply(module, name, dim)\n"
     ]
    },
    {
     "name": "stdout",
     "output_type": "stream",
     "text": [
      "Missing tensor: mel_transformer.spectrogram.window\n",
      "Missing tensor: mel_transformer.mel_scale.fb\n"
     ]
    },
    {
     "name": "stderr",
     "output_type": "stream",
     "text": [
      "2025-08-05 17:45:16,629 - INFO - Starting inference...\n",
      "Setting `pad_token_id` to `eos_token_id`:None for open-end generation.\n",
      "2025-08-05 17:46:11,299 - INFO - Audio saved at: result/temp.wav\n"
     ]
    },
    {
     "name": "stdout",
     "output_type": "stream",
     "text": [
      "54 我要给妈妈买一条木材香色的真丝睡裙，直接用我手机里的支付宝支付 aigc_speech_generation_tasks/reference_54.wav\n"
     ]
    },
    {
     "name": "stderr",
     "output_type": "stream",
     "text": [
      "2025-08-05 17:46:15.398797: I tensorflow/core/util/port.cc:113] oneDNN custom operations are on. You may see slightly different numerical results due to floating-point round-off errors from different computation orders. To turn them off, set the environment variable `TF_ENABLE_ONEDNN_OPTS=0`.\n",
      "2025-08-05 17:46:15.437874: I tensorflow/core/platform/cpu_feature_guard.cc:210] This TensorFlow binary is optimized to use available CPU instructions in performance-critical operations.\n",
      "To enable the following instructions: AVX2 AVX512F AVX512_VNNI FMA, in other operations, rebuild TensorFlow with the appropriate compiler flags.\n",
      "2025-08-05 17:46:16.282305: W tensorflow/compiler/tf2tensorrt/utils/py_utils.cc:38] TF-TRT Warning: Could not find TensorRT\n",
      "2025-08-05 17:46:17,942 - INFO - Using model from: /mnt/workspace/.cache/modelscope/models/SparkAudio/Spark-TTS-0___5B\n",
      "2025-08-05 17:46:17,942 - INFO - Saving audio to: result\n",
      "2025-08-05 17:46:17,944 - INFO - Using CUDA device: cuda:0\n",
      "/usr/local/lib/python3.11/site-packages/torch/nn/utils/weight_norm.py:143: FutureWarning: `torch.nn.utils.weight_norm` is deprecated in favor of `torch.nn.utils.parametrizations.weight_norm`.\n",
      "  WeightNorm.apply(module, name, dim)\n"
     ]
    },
    {
     "name": "stdout",
     "output_type": "stream",
     "text": [
      "Missing tensor: mel_transformer.spectrogram.window\n",
      "Missing tensor: mel_transformer.mel_scale.fb\n"
     ]
    },
    {
     "name": "stderr",
     "output_type": "stream",
     "text": [
      "2025-08-05 17:46:23,724 - INFO - Starting inference...\n",
      "Setting `pad_token_id` to `eos_token_id`:None for open-end generation.\n",
      "2025-08-05 17:46:30,080 - INFO - Audio saved at: result/temp.wav\n"
     ]
    },
    {
     "name": "stdout",
     "output_type": "stream",
     "text": [
      "55 附生杜鹃为杜鹃花科杜鹃属下的一个种。 aigc_speech_generation_tasks/reference_55.wav\n"
     ]
    },
    {
     "name": "stderr",
     "output_type": "stream",
     "text": [
      "2025-08-05 17:46:34.292153: I tensorflow/core/util/port.cc:113] oneDNN custom operations are on. You may see slightly different numerical results due to floating-point round-off errors from different computation orders. To turn them off, set the environment variable `TF_ENABLE_ONEDNN_OPTS=0`.\n",
      "2025-08-05 17:46:34.331545: I tensorflow/core/platform/cpu_feature_guard.cc:210] This TensorFlow binary is optimized to use available CPU instructions in performance-critical operations.\n",
      "To enable the following instructions: AVX2 AVX512F AVX512_VNNI FMA, in other operations, rebuild TensorFlow with the appropriate compiler flags.\n",
      "2025-08-05 17:46:35.183963: W tensorflow/compiler/tf2tensorrt/utils/py_utils.cc:38] TF-TRT Warning: Could not find TensorRT\n",
      "2025-08-05 17:46:36,888 - INFO - Using model from: /mnt/workspace/.cache/modelscope/models/SparkAudio/Spark-TTS-0___5B\n",
      "2025-08-05 17:46:36,888 - INFO - Saving audio to: result\n",
      "2025-08-05 17:46:36,889 - INFO - Using CUDA device: cuda:0\n",
      "/usr/local/lib/python3.11/site-packages/torch/nn/utils/weight_norm.py:143: FutureWarning: `torch.nn.utils.weight_norm` is deprecated in favor of `torch.nn.utils.parametrizations.weight_norm`.\n",
      "  WeightNorm.apply(module, name, dim)\n"
     ]
    },
    {
     "name": "stdout",
     "output_type": "stream",
     "text": [
      "Missing tensor: mel_transformer.spectrogram.window\n",
      "Missing tensor: mel_transformer.mel_scale.fb\n"
     ]
    },
    {
     "name": "stderr",
     "output_type": "stream",
     "text": [
      "2025-08-05 17:46:41,622 - INFO - Starting inference...\n",
      "Setting `pad_token_id` to `eos_token_id`:None for open-end generation.\n",
      "2025-08-05 17:46:46,926 - INFO - Audio saved at: result/temp.wav\n"
     ]
    },
    {
     "name": "stdout",
     "output_type": "stream",
     "text": [
      "56 那个孩子一边吃着冰淇淋，一边蹦蹦跳跳地跑向游乐场，脸上洋溢着幸福的笑容，仿佛整个世界都是他的。 aigc_speech_generation_tasks/reference_56.wav\n"
     ]
    },
    {
     "name": "stderr",
     "output_type": "stream",
     "text": [
      "2025-08-05 17:46:51.080111: I tensorflow/core/util/port.cc:113] oneDNN custom operations are on. You may see slightly different numerical results due to floating-point round-off errors from different computation orders. To turn them off, set the environment variable `TF_ENABLE_ONEDNN_OPTS=0`.\n",
      "2025-08-05 17:46:51.119983: I tensorflow/core/platform/cpu_feature_guard.cc:210] This TensorFlow binary is optimized to use available CPU instructions in performance-critical operations.\n",
      "To enable the following instructions: AVX2 AVX512F AVX512_VNNI FMA, in other operations, rebuild TensorFlow with the appropriate compiler flags.\n",
      "2025-08-05 17:46:51.983026: W tensorflow/compiler/tf2tensorrt/utils/py_utils.cc:38] TF-TRT Warning: Could not find TensorRT\n",
      "2025-08-05 17:46:53,624 - INFO - Using model from: /mnt/workspace/.cache/modelscope/models/SparkAudio/Spark-TTS-0___5B\n",
      "2025-08-05 17:46:53,625 - INFO - Saving audio to: result\n",
      "2025-08-05 17:46:53,626 - INFO - Using CUDA device: cuda:0\n",
      "/usr/local/lib/python3.11/site-packages/torch/nn/utils/weight_norm.py:143: FutureWarning: `torch.nn.utils.weight_norm` is deprecated in favor of `torch.nn.utils.parametrizations.weight_norm`.\n",
      "  WeightNorm.apply(module, name, dim)\n"
     ]
    },
    {
     "name": "stdout",
     "output_type": "stream",
     "text": [
      "Missing tensor: mel_transformer.spectrogram.window\n",
      "Missing tensor: mel_transformer.mel_scale.fb\n"
     ]
    },
    {
     "name": "stderr",
     "output_type": "stream",
     "text": [
      "2025-08-05 17:46:58,560 - INFO - Starting inference...\n",
      "Setting `pad_token_id` to `eos_token_id`:None for open-end generation.\n",
      "2025-08-05 17:47:09,850 - INFO - Audio saved at: result/temp.wav\n"
     ]
    },
    {
     "name": "stdout",
     "output_type": "stream",
     "text": [
      "57 那几年我能做到的只是零星写点东西聊以自慰 aigc_speech_generation_tasks/reference_57.wav\n"
     ]
    },
    {
     "name": "stderr",
     "output_type": "stream",
     "text": [
      "2025-08-05 17:47:14.020965: I tensorflow/core/util/port.cc:113] oneDNN custom operations are on. You may see slightly different numerical results due to floating-point round-off errors from different computation orders. To turn them off, set the environment variable `TF_ENABLE_ONEDNN_OPTS=0`.\n",
      "2025-08-05 17:47:14.060730: I tensorflow/core/platform/cpu_feature_guard.cc:210] This TensorFlow binary is optimized to use available CPU instructions in performance-critical operations.\n",
      "To enable the following instructions: AVX2 AVX512F AVX512_VNNI FMA, in other operations, rebuild TensorFlow with the appropriate compiler flags.\n",
      "2025-08-05 17:47:14.917172: W tensorflow/compiler/tf2tensorrt/utils/py_utils.cc:38] TF-TRT Warning: Could not find TensorRT\n",
      "2025-08-05 17:47:16,579 - INFO - Using model from: /mnt/workspace/.cache/modelscope/models/SparkAudio/Spark-TTS-0___5B\n",
      "2025-08-05 17:47:16,579 - INFO - Saving audio to: result\n",
      "2025-08-05 17:47:16,581 - INFO - Using CUDA device: cuda:0\n",
      "/usr/local/lib/python3.11/site-packages/torch/nn/utils/weight_norm.py:143: FutureWarning: `torch.nn.utils.weight_norm` is deprecated in favor of `torch.nn.utils.parametrizations.weight_norm`.\n",
      "  WeightNorm.apply(module, name, dim)\n"
     ]
    },
    {
     "name": "stdout",
     "output_type": "stream",
     "text": [
      "Missing tensor: mel_transformer.spectrogram.window\n",
      "Missing tensor: mel_transformer.mel_scale.fb\n"
     ]
    },
    {
     "name": "stderr",
     "output_type": "stream",
     "text": [
      "2025-08-05 17:47:21,259 - INFO - Starting inference...\n",
      "Setting `pad_token_id` to `eos_token_id`:None for open-end generation.\n",
      "2025-08-05 17:47:45,015 - INFO - Audio saved at: result/temp.wav\n"
     ]
    },
    {
     "name": "stdout",
     "output_type": "stream",
     "text": [
      "58 上呼吸道阻力症候群是一种常见的睡眠障碍。 aigc_speech_generation_tasks/reference_58.wav\n"
     ]
    },
    {
     "name": "stderr",
     "output_type": "stream",
     "text": [
      "2025-08-05 17:47:49.118179: I tensorflow/core/util/port.cc:113] oneDNN custom operations are on. You may see slightly different numerical results due to floating-point round-off errors from different computation orders. To turn them off, set the environment variable `TF_ENABLE_ONEDNN_OPTS=0`.\n",
      "2025-08-05 17:47:49.157595: I tensorflow/core/platform/cpu_feature_guard.cc:210] This TensorFlow binary is optimized to use available CPU instructions in performance-critical operations.\n",
      "To enable the following instructions: AVX2 AVX512F AVX512_VNNI FMA, in other operations, rebuild TensorFlow with the appropriate compiler flags.\n",
      "2025-08-05 17:47:50.006624: W tensorflow/compiler/tf2tensorrt/utils/py_utils.cc:38] TF-TRT Warning: Could not find TensorRT\n",
      "2025-08-05 17:47:51,712 - INFO - Using model from: /mnt/workspace/.cache/modelscope/models/SparkAudio/Spark-TTS-0___5B\n",
      "2025-08-05 17:47:51,712 - INFO - Saving audio to: result\n",
      "2025-08-05 17:47:51,713 - INFO - Using CUDA device: cuda:0\n",
      "/usr/local/lib/python3.11/site-packages/torch/nn/utils/weight_norm.py:143: FutureWarning: `torch.nn.utils.weight_norm` is deprecated in favor of `torch.nn.utils.parametrizations.weight_norm`.\n",
      "  WeightNorm.apply(module, name, dim)\n"
     ]
    },
    {
     "name": "stdout",
     "output_type": "stream",
     "text": [
      "Missing tensor: mel_transformer.spectrogram.window\n",
      "Missing tensor: mel_transformer.mel_scale.fb\n"
     ]
    },
    {
     "name": "stderr",
     "output_type": "stream",
     "text": [
      "2025-08-05 17:47:56,390 - INFO - Starting inference...\n",
      "Setting `pad_token_id` to `eos_token_id`:None for open-end generation.\n",
      "2025-08-05 17:48:01,993 - INFO - Audio saved at: result/temp.wav\n"
     ]
    },
    {
     "name": "stdout",
     "output_type": "stream",
     "text": [
      "59 邹氏作为沛国出身的人我们丞相想跟她叙叙旧都不行么？ aigc_speech_generation_tasks/reference_59.wav\n"
     ]
    },
    {
     "name": "stderr",
     "output_type": "stream",
     "text": [
      "2025-08-05 17:48:06.117317: I tensorflow/core/util/port.cc:113] oneDNN custom operations are on. You may see slightly different numerical results due to floating-point round-off errors from different computation orders. To turn them off, set the environment variable `TF_ENABLE_ONEDNN_OPTS=0`.\n",
      "2025-08-05 17:48:06.158054: I tensorflow/core/platform/cpu_feature_guard.cc:210] This TensorFlow binary is optimized to use available CPU instructions in performance-critical operations.\n",
      "To enable the following instructions: AVX2 AVX512F AVX512_VNNI FMA, in other operations, rebuild TensorFlow with the appropriate compiler flags.\n",
      "2025-08-05 17:48:07.044222: W tensorflow/compiler/tf2tensorrt/utils/py_utils.cc:38] TF-TRT Warning: Could not find TensorRT\n",
      "2025-08-05 17:48:08,723 - INFO - Using model from: /mnt/workspace/.cache/modelscope/models/SparkAudio/Spark-TTS-0___5B\n",
      "2025-08-05 17:48:08,724 - INFO - Saving audio to: result\n",
      "2025-08-05 17:48:08,726 - INFO - Using CUDA device: cuda:0\n",
      "/usr/local/lib/python3.11/site-packages/torch/nn/utils/weight_norm.py:143: FutureWarning: `torch.nn.utils.weight_norm` is deprecated in favor of `torch.nn.utils.parametrizations.weight_norm`.\n",
      "  WeightNorm.apply(module, name, dim)\n"
     ]
    },
    {
     "name": "stdout",
     "output_type": "stream",
     "text": [
      "Missing tensor: mel_transformer.spectrogram.window\n",
      "Missing tensor: mel_transformer.mel_scale.fb\n"
     ]
    },
    {
     "name": "stderr",
     "output_type": "stream",
     "text": [
      "2025-08-05 17:48:13,608 - INFO - Starting inference...\n",
      "Setting `pad_token_id` to `eos_token_id`:None for open-end generation.\n",
      "2025-08-05 17:48:19,095 - INFO - Audio saved at: result/temp.wav\n"
     ]
    },
    {
     "name": "stdout",
     "output_type": "stream",
     "text": [
      "60 根是植物吸收水分和矿质元素的主要器官，其内部由根毛、皮层、内皮层和维管束组成，其中根毛极大地增加了吸收面积，提高了对土壤中水分和养分的摄取效率。 aigc_speech_generation_tasks/reference_60.wav\n"
     ]
    },
    {
     "name": "stderr",
     "output_type": "stream",
     "text": [
      "2025-08-05 17:48:23.230465: I tensorflow/core/util/port.cc:113] oneDNN custom operations are on. You may see slightly different numerical results due to floating-point round-off errors from different computation orders. To turn them off, set the environment variable `TF_ENABLE_ONEDNN_OPTS=0`.\n",
      "2025-08-05 17:48:23.270403: I tensorflow/core/platform/cpu_feature_guard.cc:210] This TensorFlow binary is optimized to use available CPU instructions in performance-critical operations.\n",
      "To enable the following instructions: AVX2 AVX512F AVX512_VNNI FMA, in other operations, rebuild TensorFlow with the appropriate compiler flags.\n",
      "2025-08-05 17:48:24.119783: W tensorflow/compiler/tf2tensorrt/utils/py_utils.cc:38] TF-TRT Warning: Could not find TensorRT\n",
      "2025-08-05 17:48:25,768 - INFO - Using model from: /mnt/workspace/.cache/modelscope/models/SparkAudio/Spark-TTS-0___5B\n",
      "2025-08-05 17:48:25,768 - INFO - Saving audio to: result\n",
      "2025-08-05 17:48:25,769 - INFO - Using CUDA device: cuda:0\n",
      "/usr/local/lib/python3.11/site-packages/torch/nn/utils/weight_norm.py:143: FutureWarning: `torch.nn.utils.weight_norm` is deprecated in favor of `torch.nn.utils.parametrizations.weight_norm`.\n",
      "  WeightNorm.apply(module, name, dim)\n"
     ]
    },
    {
     "name": "stdout",
     "output_type": "stream",
     "text": [
      "Missing tensor: mel_transformer.spectrogram.window\n",
      "Missing tensor: mel_transformer.mel_scale.fb\n"
     ]
    },
    {
     "name": "stderr",
     "output_type": "stream",
     "text": [
      "2025-08-05 17:48:30,487 - INFO - Starting inference...\n",
      "Setting `pad_token_id` to `eos_token_id`:None for open-end generation.\n",
      "2025-08-05 17:48:46,141 - INFO - Audio saved at: result/temp.wav\n"
     ]
    },
    {
     "name": "stdout",
     "output_type": "stream",
     "text": [
      "61 订3月15日MU5115上海飞北京经济舱靠窗座位 aigc_speech_generation_tasks/reference_61.wav\n"
     ]
    },
    {
     "name": "stderr",
     "output_type": "stream",
     "text": [
      "2025-08-05 17:48:50.259701: I tensorflow/core/util/port.cc:113] oneDNN custom operations are on. You may see slightly different numerical results due to floating-point round-off errors from different computation orders. To turn them off, set the environment variable `TF_ENABLE_ONEDNN_OPTS=0`.\n",
      "2025-08-05 17:48:50.299364: I tensorflow/core/platform/cpu_feature_guard.cc:210] This TensorFlow binary is optimized to use available CPU instructions in performance-critical operations.\n",
      "To enable the following instructions: AVX2 AVX512F AVX512_VNNI FMA, in other operations, rebuild TensorFlow with the appropriate compiler flags.\n",
      "2025-08-05 17:48:51.246171: W tensorflow/compiler/tf2tensorrt/utils/py_utils.cc:38] TF-TRT Warning: Could not find TensorRT\n",
      "2025-08-05 17:48:52,879 - INFO - Using model from: /mnt/workspace/.cache/modelscope/models/SparkAudio/Spark-TTS-0___5B\n",
      "2025-08-05 17:48:52,879 - INFO - Saving audio to: result\n",
      "2025-08-05 17:48:52,880 - INFO - Using CUDA device: cuda:0\n",
      "/usr/local/lib/python3.11/site-packages/torch/nn/utils/weight_norm.py:143: FutureWarning: `torch.nn.utils.weight_norm` is deprecated in favor of `torch.nn.utils.parametrizations.weight_norm`.\n",
      "  WeightNorm.apply(module, name, dim)\n"
     ]
    },
    {
     "name": "stdout",
     "output_type": "stream",
     "text": [
      "Missing tensor: mel_transformer.spectrogram.window\n",
      "Missing tensor: mel_transformer.mel_scale.fb\n"
     ]
    },
    {
     "name": "stderr",
     "output_type": "stream",
     "text": [
      "2025-08-05 17:48:57,615 - INFO - Starting inference...\n",
      "Setting `pad_token_id` to `eos_token_id`:None for open-end generation.\n",
      "2025-08-05 17:49:52,585 - INFO - Audio saved at: result/temp.wav\n"
     ]
    },
    {
     "name": "stdout",
     "output_type": "stream",
     "text": [
      "62 在超市买一打洗洁精，从我的余额宝里扣款吧 aigc_speech_generation_tasks/reference_62.wav\n"
     ]
    },
    {
     "name": "stderr",
     "output_type": "stream",
     "text": [
      "2025-08-05 17:49:56.685892: I tensorflow/core/util/port.cc:113] oneDNN custom operations are on. You may see slightly different numerical results due to floating-point round-off errors from different computation orders. To turn them off, set the environment variable `TF_ENABLE_ONEDNN_OPTS=0`.\n",
      "2025-08-05 17:49:56.725012: I tensorflow/core/platform/cpu_feature_guard.cc:210] This TensorFlow binary is optimized to use available CPU instructions in performance-critical operations.\n",
      "To enable the following instructions: AVX2 AVX512F AVX512_VNNI FMA, in other operations, rebuild TensorFlow with the appropriate compiler flags.\n",
      "2025-08-05 17:49:57.569128: W tensorflow/compiler/tf2tensorrt/utils/py_utils.cc:38] TF-TRT Warning: Could not find TensorRT\n",
      "2025-08-05 17:49:59,220 - INFO - Using model from: /mnt/workspace/.cache/modelscope/models/SparkAudio/Spark-TTS-0___5B\n",
      "2025-08-05 17:49:59,220 - INFO - Saving audio to: result\n",
      "2025-08-05 17:49:59,222 - INFO - Using CUDA device: cuda:0\n",
      "/usr/local/lib/python3.11/site-packages/torch/nn/utils/weight_norm.py:143: FutureWarning: `torch.nn.utils.weight_norm` is deprecated in favor of `torch.nn.utils.parametrizations.weight_norm`.\n",
      "  WeightNorm.apply(module, name, dim)\n"
     ]
    },
    {
     "name": "stdout",
     "output_type": "stream",
     "text": [
      "Missing tensor: mel_transformer.spectrogram.window\n",
      "Missing tensor: mel_transformer.mel_scale.fb\n"
     ]
    },
    {
     "name": "stderr",
     "output_type": "stream",
     "text": [
      "2025-08-05 17:50:03,814 - INFO - Starting inference...\n",
      "Setting `pad_token_id` to `eos_token_id`:None for open-end generation.\n",
      "2025-08-05 17:50:08,997 - INFO - Audio saved at: result/temp.wav\n"
     ]
    },
    {
     "name": "stdout",
     "output_type": "stream",
     "text": [
      "63 旧书置换活动换到绝版书，预约快递取件 aigc_speech_generation_tasks/reference_63.wav\n"
     ]
    },
    {
     "name": "stderr",
     "output_type": "stream",
     "text": [
      "2025-08-05 17:50:13.115829: I tensorflow/core/util/port.cc:113] oneDNN custom operations are on. You may see slightly different numerical results due to floating-point round-off errors from different computation orders. To turn them off, set the environment variable `TF_ENABLE_ONEDNN_OPTS=0`.\n",
      "2025-08-05 17:50:13.155214: I tensorflow/core/platform/cpu_feature_guard.cc:210] This TensorFlow binary is optimized to use available CPU instructions in performance-critical operations.\n",
      "To enable the following instructions: AVX2 AVX512F AVX512_VNNI FMA, in other operations, rebuild TensorFlow with the appropriate compiler flags.\n",
      "2025-08-05 17:50:14.018039: W tensorflow/compiler/tf2tensorrt/utils/py_utils.cc:38] TF-TRT Warning: Could not find TensorRT\n",
      "2025-08-05 17:50:15,703 - INFO - Using model from: /mnt/workspace/.cache/modelscope/models/SparkAudio/Spark-TTS-0___5B\n",
      "2025-08-05 17:50:15,703 - INFO - Saving audio to: result\n",
      "2025-08-05 17:50:15,704 - INFO - Using CUDA device: cuda:0\n",
      "/usr/local/lib/python3.11/site-packages/torch/nn/utils/weight_norm.py:143: FutureWarning: `torch.nn.utils.weight_norm` is deprecated in favor of `torch.nn.utils.parametrizations.weight_norm`.\n",
      "  WeightNorm.apply(module, name, dim)\n"
     ]
    },
    {
     "name": "stdout",
     "output_type": "stream",
     "text": [
      "Missing tensor: mel_transformer.spectrogram.window\n",
      "Missing tensor: mel_transformer.mel_scale.fb\n"
     ]
    },
    {
     "name": "stderr",
     "output_type": "stream",
     "text": [
      "2025-08-05 17:50:20,457 - INFO - Starting inference...\n",
      "Setting `pad_token_id` to `eos_token_id`:None for open-end generation.\n",
      "2025-08-05 17:50:26,902 - INFO - Audio saved at: result/temp.wav\n"
     ]
    },
    {
     "name": "stdout",
     "output_type": "stream",
     "text": [
      "64 如约而至但真正的实力派齐国晋国和秦国的代表却根本没有踪影 aigc_speech_generation_tasks/reference_64.wav\n"
     ]
    },
    {
     "name": "stderr",
     "output_type": "stream",
     "text": [
      "2025-08-05 17:50:31.031628: I tensorflow/core/util/port.cc:113] oneDNN custom operations are on. You may see slightly different numerical results due to floating-point round-off errors from different computation orders. To turn them off, set the environment variable `TF_ENABLE_ONEDNN_OPTS=0`.\n",
      "2025-08-05 17:50:31.072087: I tensorflow/core/platform/cpu_feature_guard.cc:210] This TensorFlow binary is optimized to use available CPU instructions in performance-critical operations.\n",
      "To enable the following instructions: AVX2 AVX512F AVX512_VNNI FMA, in other operations, rebuild TensorFlow with the appropriate compiler flags.\n",
      "2025-08-05 17:50:31.918140: W tensorflow/compiler/tf2tensorrt/utils/py_utils.cc:38] TF-TRT Warning: Could not find TensorRT\n",
      "2025-08-05 17:50:33,580 - INFO - Using model from: /mnt/workspace/.cache/modelscope/models/SparkAudio/Spark-TTS-0___5B\n",
      "2025-08-05 17:50:33,580 - INFO - Saving audio to: result\n",
      "2025-08-05 17:50:33,582 - INFO - Using CUDA device: cuda:0\n",
      "/usr/local/lib/python3.11/site-packages/torch/nn/utils/weight_norm.py:143: FutureWarning: `torch.nn.utils.weight_norm` is deprecated in favor of `torch.nn.utils.parametrizations.weight_norm`.\n",
      "  WeightNorm.apply(module, name, dim)\n"
     ]
    },
    {
     "name": "stdout",
     "output_type": "stream",
     "text": [
      "Missing tensor: mel_transformer.spectrogram.window\n",
      "Missing tensor: mel_transformer.mel_scale.fb\n"
     ]
    },
    {
     "name": "stderr",
     "output_type": "stream",
     "text": [
      "2025-08-05 17:50:38,970 - INFO - Starting inference...\n",
      "Setting `pad_token_id` to `eos_token_id`:None for open-end generation.\n",
      "2025-08-05 17:50:46,096 - INFO - Audio saved at: result/temp.wav\n"
     ]
    },
    {
     "name": "stdout",
     "output_type": "stream",
     "text": [
      "65 这和照镜子时左右对调的性质有关。 aigc_speech_generation_tasks/reference_65.wav\n"
     ]
    },
    {
     "name": "stderr",
     "output_type": "stream",
     "text": [
      "2025-08-05 17:50:50.185266: I tensorflow/core/util/port.cc:113] oneDNN custom operations are on. You may see slightly different numerical results due to floating-point round-off errors from different computation orders. To turn them off, set the environment variable `TF_ENABLE_ONEDNN_OPTS=0`.\n",
      "2025-08-05 17:50:50.224552: I tensorflow/core/platform/cpu_feature_guard.cc:210] This TensorFlow binary is optimized to use available CPU instructions in performance-critical operations.\n",
      "To enable the following instructions: AVX2 AVX512F AVX512_VNNI FMA, in other operations, rebuild TensorFlow with the appropriate compiler flags.\n",
      "2025-08-05 17:50:51.142891: W tensorflow/compiler/tf2tensorrt/utils/py_utils.cc:38] TF-TRT Warning: Could not find TensorRT\n",
      "2025-08-05 17:50:52,790 - INFO - Using model from: /mnt/workspace/.cache/modelscope/models/SparkAudio/Spark-TTS-0___5B\n",
      "2025-08-05 17:50:52,790 - INFO - Saving audio to: result\n",
      "2025-08-05 17:50:52,792 - INFO - Using CUDA device: cuda:0\n",
      "/usr/local/lib/python3.11/site-packages/torch/nn/utils/weight_norm.py:143: FutureWarning: `torch.nn.utils.weight_norm` is deprecated in favor of `torch.nn.utils.parametrizations.weight_norm`.\n",
      "  WeightNorm.apply(module, name, dim)\n"
     ]
    },
    {
     "name": "stdout",
     "output_type": "stream",
     "text": [
      "Missing tensor: mel_transformer.spectrogram.window\n",
      "Missing tensor: mel_transformer.mel_scale.fb\n"
     ]
    },
    {
     "name": "stderr",
     "output_type": "stream",
     "text": [
      "2025-08-05 17:50:57,521 - INFO - Starting inference...\n",
      "Setting `pad_token_id` to `eos_token_id`:None for open-end generation.\n",
      "2025-08-05 17:51:01,174 - INFO - Audio saved at: result/temp.wav\n"
     ]
    },
    {
     "name": "stdout",
     "output_type": "stream",
     "text": [
      "66 太妙了！你当时一定是惊呆了吧？ aigc_speech_generation_tasks/reference_66.wav\n"
     ]
    },
    {
     "name": "stderr",
     "output_type": "stream",
     "text": [
      "2025-08-05 17:51:05.302019: I tensorflow/core/util/port.cc:113] oneDNN custom operations are on. You may see slightly different numerical results due to floating-point round-off errors from different computation orders. To turn them off, set the environment variable `TF_ENABLE_ONEDNN_OPTS=0`.\n",
      "2025-08-05 17:51:05.340934: I tensorflow/core/platform/cpu_feature_guard.cc:210] This TensorFlow binary is optimized to use available CPU instructions in performance-critical operations.\n",
      "To enable the following instructions: AVX2 AVX512F AVX512_VNNI FMA, in other operations, rebuild TensorFlow with the appropriate compiler flags.\n",
      "2025-08-05 17:51:06.210560: W tensorflow/compiler/tf2tensorrt/utils/py_utils.cc:38] TF-TRT Warning: Could not find TensorRT\n",
      "2025-08-05 17:51:07,896 - INFO - Using model from: /mnt/workspace/.cache/modelscope/models/SparkAudio/Spark-TTS-0___5B\n",
      "2025-08-05 17:51:07,897 - INFO - Saving audio to: result\n",
      "2025-08-05 17:51:07,898 - INFO - Using CUDA device: cuda:0\n",
      "/usr/local/lib/python3.11/site-packages/torch/nn/utils/weight_norm.py:143: FutureWarning: `torch.nn.utils.weight_norm` is deprecated in favor of `torch.nn.utils.parametrizations.weight_norm`.\n",
      "  WeightNorm.apply(module, name, dim)\n"
     ]
    },
    {
     "name": "stdout",
     "output_type": "stream",
     "text": [
      "Missing tensor: mel_transformer.spectrogram.window\n",
      "Missing tensor: mel_transformer.mel_scale.fb\n"
     ]
    },
    {
     "name": "stderr",
     "output_type": "stream",
     "text": [
      "2025-08-05 17:51:12,560 - INFO - Starting inference...\n",
      "Setting `pad_token_id` to `eos_token_id`:None for open-end generation.\n",
      "2025-08-05 17:51:16,858 - INFO - Audio saved at: result/temp.wav\n"
     ]
    },
    {
     "name": "stdout",
     "output_type": "stream",
     "text": [
      "67 为什么我们需要哲学？ 哲学可以帮助我们更深刻地思考生命、世界和人类存在的本质问题。它不仅是对这些问题的探索，而且也是对人类的认知和思想的探究。通过哲学，我们能够理解不同的思维方式和不同的文化传统，并且能够建立全球和谐的文化和哲学框架。 另外，哲学可以帮助我们独立思考和分析问题，不仅仅停留在表面现象，而是深入探究根源。这种思考方式不仅有益于我们个人的生活和成长，也可以有助于解决社会和全球性的问题。 哲学如何启发我们的思维？ 哲学涉及一系列思考方法和工具，这些方法和工具可以培养我们思考问题的深度和广度。一些哲学方法包括： 1. 逻辑分析：哲学家常常运用逻辑分析来解决问题，通过将问题分解为更小的部分并分析它们之间的关系来理解它们。 2. 反思：哲学家强调反思自我和他人的思想和经验，并通过对这些经验和思想的思考来获得新的见解和理解。 3. 举例：哲学家借助实际案例，通过逻辑推理和类比等方法来解决问题和理解问题。 4. 思维实验：哲学家用想象，创造新的思想实验来探究现实的问题。 这些方法可以帮助我们在个人和社会层面上，更好的思考和解决问题。通过哲学的学习，我们能够更好地理解这个世界和我们自己，从而帮助我们更好地面对未来的挑战。 aigc_speech_generation_tasks/reference_67.wav\n"
     ]
    },
    {
     "name": "stderr",
     "output_type": "stream",
     "text": [
      "2025-08-05 17:51:20.978569: I tensorflow/core/util/port.cc:113] oneDNN custom operations are on. You may see slightly different numerical results due to floating-point round-off errors from different computation orders. To turn them off, set the environment variable `TF_ENABLE_ONEDNN_OPTS=0`.\n",
      "2025-08-05 17:51:21.017453: I tensorflow/core/platform/cpu_feature_guard.cc:210] This TensorFlow binary is optimized to use available CPU instructions in performance-critical operations.\n",
      "To enable the following instructions: AVX2 AVX512F AVX512_VNNI FMA, in other operations, rebuild TensorFlow with the appropriate compiler flags.\n",
      "2025-08-05 17:51:21.871917: W tensorflow/compiler/tf2tensorrt/utils/py_utils.cc:38] TF-TRT Warning: Could not find TensorRT\n",
      "2025-08-05 17:51:23,533 - INFO - Using model from: /mnt/workspace/.cache/modelscope/models/SparkAudio/Spark-TTS-0___5B\n",
      "2025-08-05 17:51:23,533 - INFO - Saving audio to: result\n",
      "2025-08-05 17:51:23,534 - INFO - Using CUDA device: cuda:0\n",
      "/usr/local/lib/python3.11/site-packages/torch/nn/utils/weight_norm.py:143: FutureWarning: `torch.nn.utils.weight_norm` is deprecated in favor of `torch.nn.utils.parametrizations.weight_norm`.\n",
      "  WeightNorm.apply(module, name, dim)\n"
     ]
    },
    {
     "name": "stdout",
     "output_type": "stream",
     "text": [
      "Missing tensor: mel_transformer.spectrogram.window\n",
      "Missing tensor: mel_transformer.mel_scale.fb\n"
     ]
    },
    {
     "name": "stderr",
     "output_type": "stream",
     "text": [
      "2025-08-05 17:51:28,492 - INFO - Starting inference...\n",
      "Setting `pad_token_id` to `eos_token_id`:None for open-end generation.\n",
      "2025-08-05 17:52:23,460 - INFO - Audio saved at: result/temp.wav\n"
     ]
    },
    {
     "name": "stdout",
     "output_type": "stream",
     "text": [
      "68 正是由于有了建立在高度政治觉悟基础上的革命纪律，将士们哪怕烈火焚身，也岿然不动，直至付出生命。 aigc_speech_generation_tasks/reference_68.wav\n"
     ]
    },
    {
     "name": "stderr",
     "output_type": "stream",
     "text": [
      "2025-08-05 17:52:27.535516: I tensorflow/core/util/port.cc:113] oneDNN custom operations are on. You may see slightly different numerical results due to floating-point round-off errors from different computation orders. To turn them off, set the environment variable `TF_ENABLE_ONEDNN_OPTS=0`.\n",
      "2025-08-05 17:52:27.574773: I tensorflow/core/platform/cpu_feature_guard.cc:210] This TensorFlow binary is optimized to use available CPU instructions in performance-critical operations.\n",
      "To enable the following instructions: AVX2 AVX512F AVX512_VNNI FMA, in other operations, rebuild TensorFlow with the appropriate compiler flags.\n",
      "2025-08-05 17:52:28.419880: W tensorflow/compiler/tf2tensorrt/utils/py_utils.cc:38] TF-TRT Warning: Could not find TensorRT\n",
      "2025-08-05 17:52:30,084 - INFO - Using model from: /mnt/workspace/.cache/modelscope/models/SparkAudio/Spark-TTS-0___5B\n",
      "2025-08-05 17:52:30,084 - INFO - Saving audio to: result\n",
      "2025-08-05 17:52:30,086 - INFO - Using CUDA device: cuda:0\n",
      "/usr/local/lib/python3.11/site-packages/torch/nn/utils/weight_norm.py:143: FutureWarning: `torch.nn.utils.weight_norm` is deprecated in favor of `torch.nn.utils.parametrizations.weight_norm`.\n",
      "  WeightNorm.apply(module, name, dim)\n"
     ]
    },
    {
     "name": "stdout",
     "output_type": "stream",
     "text": [
      "Missing tensor: mel_transformer.spectrogram.window\n",
      "Missing tensor: mel_transformer.mel_scale.fb\n"
     ]
    },
    {
     "name": "stderr",
     "output_type": "stream",
     "text": [
      "2025-08-05 17:52:34,756 - INFO - Starting inference...\n",
      "Setting `pad_token_id` to `eos_token_id`:None for open-end generation.\n",
      "2025-08-05 17:52:45,522 - INFO - Audio saved at: result/temp.wav\n"
     ]
    },
    {
     "name": "stdout",
     "output_type": "stream",
     "text": [
      "69 似形古尖腭扁虫为尖腭扁虫科中一个已灭绝的物种。 aigc_speech_generation_tasks/reference_69.wav\n"
     ]
    },
    {
     "name": "stderr",
     "output_type": "stream",
     "text": [
      "2025-08-05 17:52:49.594639: I tensorflow/core/util/port.cc:113] oneDNN custom operations are on. You may see slightly different numerical results due to floating-point round-off errors from different computation orders. To turn them off, set the environment variable `TF_ENABLE_ONEDNN_OPTS=0`.\n",
      "2025-08-05 17:52:49.635775: I tensorflow/core/platform/cpu_feature_guard.cc:210] This TensorFlow binary is optimized to use available CPU instructions in performance-critical operations.\n",
      "To enable the following instructions: AVX2 AVX512F AVX512_VNNI FMA, in other operations, rebuild TensorFlow with the appropriate compiler flags.\n",
      "2025-08-05 17:52:50.496010: W tensorflow/compiler/tf2tensorrt/utils/py_utils.cc:38] TF-TRT Warning: Could not find TensorRT\n",
      "2025-08-05 17:52:52,261 - INFO - Using model from: /mnt/workspace/.cache/modelscope/models/SparkAudio/Spark-TTS-0___5B\n",
      "2025-08-05 17:52:52,261 - INFO - Saving audio to: result\n",
      "2025-08-05 17:52:52,263 - INFO - Using CUDA device: cuda:0\n",
      "/usr/local/lib/python3.11/site-packages/torch/nn/utils/weight_norm.py:143: FutureWarning: `torch.nn.utils.weight_norm` is deprecated in favor of `torch.nn.utils.parametrizations.weight_norm`.\n",
      "  WeightNorm.apply(module, name, dim)\n"
     ]
    },
    {
     "name": "stdout",
     "output_type": "stream",
     "text": [
      "Missing tensor: mel_transformer.spectrogram.window\n",
      "Missing tensor: mel_transformer.mel_scale.fb\n"
     ]
    },
    {
     "name": "stderr",
     "output_type": "stream",
     "text": [
      "2025-08-05 17:52:56,817 - INFO - Starting inference...\n",
      "Setting `pad_token_id` to `eos_token_id`:None for open-end generation.\n",
      "2025-08-05 17:53:02,148 - INFO - Audio saved at: result/temp.wav\n"
     ]
    },
    {
     "name": "stdout",
     "output_type": "stream",
     "text": [
      "70 阳光太舒服了，帮我在小区健身房预约下午三点的瑜伽课 aigc_speech_generation_tasks/reference_70.wav\n"
     ]
    },
    {
     "name": "stderr",
     "output_type": "stream",
     "text": [
      "2025-08-05 17:53:06.305709: I tensorflow/core/util/port.cc:113] oneDNN custom operations are on. You may see slightly different numerical results due to floating-point round-off errors from different computation orders. To turn them off, set the environment variable `TF_ENABLE_ONEDNN_OPTS=0`.\n",
      "2025-08-05 17:53:06.344799: I tensorflow/core/platform/cpu_feature_guard.cc:210] This TensorFlow binary is optimized to use available CPU instructions in performance-critical operations.\n",
      "To enable the following instructions: AVX2 AVX512F AVX512_VNNI FMA, in other operations, rebuild TensorFlow with the appropriate compiler flags.\n",
      "2025-08-05 17:53:07.234460: W tensorflow/compiler/tf2tensorrt/utils/py_utils.cc:38] TF-TRT Warning: Could not find TensorRT\n",
      "2025-08-05 17:53:08,924 - INFO - Using model from: /mnt/workspace/.cache/modelscope/models/SparkAudio/Spark-TTS-0___5B\n",
      "2025-08-05 17:53:08,925 - INFO - Saving audio to: result\n",
      "2025-08-05 17:53:08,926 - INFO - Using CUDA device: cuda:0\n",
      "/usr/local/lib/python3.11/site-packages/torch/nn/utils/weight_norm.py:143: FutureWarning: `torch.nn.utils.weight_norm` is deprecated in favor of `torch.nn.utils.parametrizations.weight_norm`.\n",
      "  WeightNorm.apply(module, name, dim)\n"
     ]
    },
    {
     "name": "stdout",
     "output_type": "stream",
     "text": [
      "Missing tensor: mel_transformer.spectrogram.window\n",
      "Missing tensor: mel_transformer.mel_scale.fb\n"
     ]
    },
    {
     "name": "stderr",
     "output_type": "stream",
     "text": [
      "2025-08-05 17:53:14,001 - INFO - Starting inference...\n",
      "Setting `pad_token_id` to `eos_token_id`:None for open-end generation.\n",
      "2025-08-05 17:54:08,062 - INFO - Audio saved at: result/temp.wav\n"
     ]
    },
    {
     "name": "stdout",
     "output_type": "stream",
     "text": [
      "71 但遗憾的是他的理论并没有能够在旧俄罗斯变为现实。 aigc_speech_generation_tasks/reference_71.wav\n"
     ]
    },
    {
     "name": "stderr",
     "output_type": "stream",
     "text": [
      "2025-08-05 17:54:12.246872: I tensorflow/core/util/port.cc:113] oneDNN custom operations are on. You may see slightly different numerical results due to floating-point round-off errors from different computation orders. To turn them off, set the environment variable `TF_ENABLE_ONEDNN_OPTS=0`.\n",
      "2025-08-05 17:54:12.286143: I tensorflow/core/platform/cpu_feature_guard.cc:210] This TensorFlow binary is optimized to use available CPU instructions in performance-critical operations.\n",
      "To enable the following instructions: AVX2 AVX512F AVX512_VNNI FMA, in other operations, rebuild TensorFlow with the appropriate compiler flags.\n",
      "2025-08-05 17:54:13.139377: W tensorflow/compiler/tf2tensorrt/utils/py_utils.cc:38] TF-TRT Warning: Could not find TensorRT\n",
      "2025-08-05 17:54:14,808 - INFO - Using model from: /mnt/workspace/.cache/modelscope/models/SparkAudio/Spark-TTS-0___5B\n",
      "2025-08-05 17:54:14,808 - INFO - Saving audio to: result\n",
      "2025-08-05 17:54:14,810 - INFO - Using CUDA device: cuda:0\n",
      "/usr/local/lib/python3.11/site-packages/torch/nn/utils/weight_norm.py:143: FutureWarning: `torch.nn.utils.weight_norm` is deprecated in favor of `torch.nn.utils.parametrizations.weight_norm`.\n",
      "  WeightNorm.apply(module, name, dim)\n"
     ]
    },
    {
     "name": "stdout",
     "output_type": "stream",
     "text": [
      "Missing tensor: mel_transformer.spectrogram.window\n",
      "Missing tensor: mel_transformer.mel_scale.fb\n"
     ]
    },
    {
     "name": "stderr",
     "output_type": "stream",
     "text": [
      "2025-08-05 17:54:19,440 - INFO - Starting inference...\n",
      "Setting `pad_token_id` to `eos_token_id`:None for open-end generation.\n",
      "2025-08-05 17:54:25,377 - INFO - Audio saved at: result/temp.wav\n"
     ]
    },
    {
     "name": "stdout",
     "output_type": "stream",
     "text": [
      "72 帮我预约下周三上午的家政服务，需要清洁加熨烫衣服 aigc_speech_generation_tasks/reference_72.wav\n"
     ]
    },
    {
     "name": "stderr",
     "output_type": "stream",
     "text": [
      "2025-08-05 17:54:29.506770: I tensorflow/core/util/port.cc:113] oneDNN custom operations are on. You may see slightly different numerical results due to floating-point round-off errors from different computation orders. To turn them off, set the environment variable `TF_ENABLE_ONEDNN_OPTS=0`.\n",
      "2025-08-05 17:54:29.546545: I tensorflow/core/platform/cpu_feature_guard.cc:210] This TensorFlow binary is optimized to use available CPU instructions in performance-critical operations.\n",
      "To enable the following instructions: AVX2 AVX512F AVX512_VNNI FMA, in other operations, rebuild TensorFlow with the appropriate compiler flags.\n",
      "2025-08-05 17:54:30.394706: W tensorflow/compiler/tf2tensorrt/utils/py_utils.cc:38] TF-TRT Warning: Could not find TensorRT\n",
      "2025-08-05 17:54:32,065 - INFO - Using model from: /mnt/workspace/.cache/modelscope/models/SparkAudio/Spark-TTS-0___5B\n",
      "2025-08-05 17:54:32,065 - INFO - Saving audio to: result\n",
      "2025-08-05 17:54:32,067 - INFO - Using CUDA device: cuda:0\n",
      "/usr/local/lib/python3.11/site-packages/torch/nn/utils/weight_norm.py:143: FutureWarning: `torch.nn.utils.weight_norm` is deprecated in favor of `torch.nn.utils.parametrizations.weight_norm`.\n",
      "  WeightNorm.apply(module, name, dim)\n"
     ]
    },
    {
     "name": "stdout",
     "output_type": "stream",
     "text": [
      "Missing tensor: mel_transformer.spectrogram.window\n",
      "Missing tensor: mel_transformer.mel_scale.fb\n"
     ]
    },
    {
     "name": "stderr",
     "output_type": "stream",
     "text": [
      "2025-08-05 17:54:36,655 - INFO - Starting inference...\n",
      "Setting `pad_token_id` to `eos_token_id`:None for open-end generation.\n",
      "2025-08-05 17:54:42,237 - INFO - Audio saved at: result/temp.wav\n"
     ]
    },
    {
     "name": "stdout",
     "output_type": "stream",
     "text": [
      "73 关于作者和年代历来有不同说法。 aigc_speech_generation_tasks/reference_73.wav\n"
     ]
    },
    {
     "name": "stderr",
     "output_type": "stream",
     "text": [
      "2025-08-05 17:54:46.299377: I tensorflow/core/util/port.cc:113] oneDNN custom operations are on. You may see slightly different numerical results due to floating-point round-off errors from different computation orders. To turn them off, set the environment variable `TF_ENABLE_ONEDNN_OPTS=0`.\n",
      "2025-08-05 17:54:46.338046: I tensorflow/core/platform/cpu_feature_guard.cc:210] This TensorFlow binary is optimized to use available CPU instructions in performance-critical operations.\n",
      "To enable the following instructions: AVX2 AVX512F AVX512_VNNI FMA, in other operations, rebuild TensorFlow with the appropriate compiler flags.\n",
      "2025-08-05 17:54:47.181980: W tensorflow/compiler/tf2tensorrt/utils/py_utils.cc:38] TF-TRT Warning: Could not find TensorRT\n",
      "2025-08-05 17:54:48,817 - INFO - Using model from: /mnt/workspace/.cache/modelscope/models/SparkAudio/Spark-TTS-0___5B\n",
      "2025-08-05 17:54:48,817 - INFO - Saving audio to: result\n",
      "2025-08-05 17:54:48,819 - INFO - Using CUDA device: cuda:0\n",
      "/usr/local/lib/python3.11/site-packages/torch/nn/utils/weight_norm.py:143: FutureWarning: `torch.nn.utils.weight_norm` is deprecated in favor of `torch.nn.utils.parametrizations.weight_norm`.\n",
      "  WeightNorm.apply(module, name, dim)\n"
     ]
    },
    {
     "name": "stdout",
     "output_type": "stream",
     "text": [
      "Missing tensor: mel_transformer.spectrogram.window\n",
      "Missing tensor: mel_transformer.mel_scale.fb\n"
     ]
    },
    {
     "name": "stderr",
     "output_type": "stream",
     "text": [
      "2025-08-05 17:54:54,276 - INFO - Starting inference...\n",
      "Setting `pad_token_id` to `eos_token_id`:None for open-end generation.\n",
      "2025-08-05 17:54:59,092 - INFO - Audio saved at: result/temp.wav\n"
     ]
    },
    {
     "name": "stdout",
     "output_type": "stream",
     "text": [
      "74 实不相瞒我觉得我的理想已经实现了 aigc_speech_generation_tasks/reference_74.wav\n"
     ]
    },
    {
     "name": "stderr",
     "output_type": "stream",
     "text": [
      "2025-08-05 17:55:03.175180: I tensorflow/core/util/port.cc:113] oneDNN custom operations are on. You may see slightly different numerical results due to floating-point round-off errors from different computation orders. To turn them off, set the environment variable `TF_ENABLE_ONEDNN_OPTS=0`.\n",
      "2025-08-05 17:55:03.214625: I tensorflow/core/platform/cpu_feature_guard.cc:210] This TensorFlow binary is optimized to use available CPU instructions in performance-critical operations.\n",
      "To enable the following instructions: AVX2 AVX512F AVX512_VNNI FMA, in other operations, rebuild TensorFlow with the appropriate compiler flags.\n",
      "2025-08-05 17:55:04.091289: W tensorflow/compiler/tf2tensorrt/utils/py_utils.cc:38] TF-TRT Warning: Could not find TensorRT\n",
      "2025-08-05 17:55:05,799 - INFO - Using model from: /mnt/workspace/.cache/modelscope/models/SparkAudio/Spark-TTS-0___5B\n",
      "2025-08-05 17:55:05,799 - INFO - Saving audio to: result\n",
      "2025-08-05 17:55:05,801 - INFO - Using CUDA device: cuda:0\n",
      "/usr/local/lib/python3.11/site-packages/torch/nn/utils/weight_norm.py:143: FutureWarning: `torch.nn.utils.weight_norm` is deprecated in favor of `torch.nn.utils.parametrizations.weight_norm`.\n",
      "  WeightNorm.apply(module, name, dim)\n"
     ]
    },
    {
     "name": "stdout",
     "output_type": "stream",
     "text": [
      "Missing tensor: mel_transformer.spectrogram.window\n",
      "Missing tensor: mel_transformer.mel_scale.fb\n"
     ]
    },
    {
     "name": "stderr",
     "output_type": "stream",
     "text": [
      "2025-08-05 17:55:10,632 - INFO - Starting inference...\n",
      "Setting `pad_token_id` to `eos_token_id`:None for open-end generation.\n",
      "2025-08-05 17:55:14,578 - INFO - Audio saved at: result/temp.wav\n"
     ]
    },
    {
     "name": "stdout",
     "output_type": "stream",
     "text": [
      "75 哎哟，你这事儿办得也太不地道了吧，我差点就被你给骗过去了。 aigc_speech_generation_tasks/reference_75.wav\n"
     ]
    },
    {
     "name": "stderr",
     "output_type": "stream",
     "text": [
      "2025-08-05 17:55:18.660420: I tensorflow/core/util/port.cc:113] oneDNN custom operations are on. You may see slightly different numerical results due to floating-point round-off errors from different computation orders. To turn them off, set the environment variable `TF_ENABLE_ONEDNN_OPTS=0`.\n",
      "2025-08-05 17:55:18.699232: I tensorflow/core/platform/cpu_feature_guard.cc:210] This TensorFlow binary is optimized to use available CPU instructions in performance-critical operations.\n",
      "To enable the following instructions: AVX2 AVX512F AVX512_VNNI FMA, in other operations, rebuild TensorFlow with the appropriate compiler flags.\n",
      "2025-08-05 17:55:19.543350: W tensorflow/compiler/tf2tensorrt/utils/py_utils.cc:38] TF-TRT Warning: Could not find TensorRT\n",
      "2025-08-05 17:55:21,272 - INFO - Using model from: /mnt/workspace/.cache/modelscope/models/SparkAudio/Spark-TTS-0___5B\n",
      "2025-08-05 17:55:21,272 - INFO - Saving audio to: result\n",
      "2025-08-05 17:55:21,274 - INFO - Using CUDA device: cuda:0\n",
      "/usr/local/lib/python3.11/site-packages/torch/nn/utils/weight_norm.py:143: FutureWarning: `torch.nn.utils.weight_norm` is deprecated in favor of `torch.nn.utils.parametrizations.weight_norm`.\n",
      "  WeightNorm.apply(module, name, dim)\n"
     ]
    },
    {
     "name": "stdout",
     "output_type": "stream",
     "text": [
      "Missing tensor: mel_transformer.spectrogram.window\n",
      "Missing tensor: mel_transformer.mel_scale.fb\n"
     ]
    },
    {
     "name": "stderr",
     "output_type": "stream",
     "text": [
      "2025-08-05 17:55:26,020 - INFO - Starting inference...\n",
      "Setting `pad_token_id` to `eos_token_id`:None for open-end generation.\n",
      "2025-08-05 17:55:33,402 - INFO - Audio saved at: result/temp.wav\n"
     ]
    },
    {
     "name": "stdout",
     "output_type": "stream",
     "text": [
      "76 在超市里，他花了将近一个小时才决定买哪一款洗发水，因为每个品牌都说自己是最适合干性头发的。 aigc_speech_generation_tasks/reference_76.wav\n"
     ]
    },
    {
     "name": "stderr",
     "output_type": "stream",
     "text": [
      "2025-08-05 17:55:37.651732: I tensorflow/core/util/port.cc:113] oneDNN custom operations are on. You may see slightly different numerical results due to floating-point round-off errors from different computation orders. To turn them off, set the environment variable `TF_ENABLE_ONEDNN_OPTS=0`.\n",
      "2025-08-05 17:55:37.691035: I tensorflow/core/platform/cpu_feature_guard.cc:210] This TensorFlow binary is optimized to use available CPU instructions in performance-critical operations.\n",
      "To enable the following instructions: AVX2 AVX512F AVX512_VNNI FMA, in other operations, rebuild TensorFlow with the appropriate compiler flags.\n",
      "2025-08-05 17:55:38.545669: W tensorflow/compiler/tf2tensorrt/utils/py_utils.cc:38] TF-TRT Warning: Could not find TensorRT\n",
      "2025-08-05 17:55:40,200 - INFO - Using model from: /mnt/workspace/.cache/modelscope/models/SparkAudio/Spark-TTS-0___5B\n",
      "2025-08-05 17:55:40,201 - INFO - Saving audio to: result\n",
      "2025-08-05 17:55:40,202 - INFO - Using CUDA device: cuda:0\n",
      "/usr/local/lib/python3.11/site-packages/torch/nn/utils/weight_norm.py:143: FutureWarning: `torch.nn.utils.weight_norm` is deprecated in favor of `torch.nn.utils.parametrizations.weight_norm`.\n",
      "  WeightNorm.apply(module, name, dim)\n"
     ]
    },
    {
     "name": "stdout",
     "output_type": "stream",
     "text": [
      "Missing tensor: mel_transformer.spectrogram.window\n",
      "Missing tensor: mel_transformer.mel_scale.fb\n"
     ]
    },
    {
     "name": "stderr",
     "output_type": "stream",
     "text": [
      "2025-08-05 17:55:44,765 - INFO - Starting inference...\n",
      "Setting `pad_token_id` to `eos_token_id`:None for open-end generation.\n",
      "2025-08-05 17:55:54,541 - INFO - Audio saved at: result/temp.wav\n"
     ]
    },
    {
     "name": "stdout",
     "output_type": "stream",
     "text": [
      "77 修武县气象台2023年6月11日20时53分发布雷暴大风橙色预警信号：预计未来3小时，我县城关镇、七贤镇、郇封镇、周庄镇、云台山镇、王屯乡、五里源乡、西村乡等乡镇将受雷暴大风天气影响，阵风风力达7到9级，并伴有强雷电，局地短时强降水和局地冰雹，请注意防范雷暴大风造成的不利影响。 aigc_speech_generation_tasks/reference_77.wav\n"
     ]
    },
    {
     "name": "stderr",
     "output_type": "stream",
     "text": [
      "2025-08-05 17:55:58.669704: I tensorflow/core/util/port.cc:113] oneDNN custom operations are on. You may see slightly different numerical results due to floating-point round-off errors from different computation orders. To turn them off, set the environment variable `TF_ENABLE_ONEDNN_OPTS=0`.\n",
      "2025-08-05 17:55:58.709205: I tensorflow/core/platform/cpu_feature_guard.cc:210] This TensorFlow binary is optimized to use available CPU instructions in performance-critical operations.\n",
      "To enable the following instructions: AVX2 AVX512F AVX512_VNNI FMA, in other operations, rebuild TensorFlow with the appropriate compiler flags.\n",
      "2025-08-05 17:55:59.570380: W tensorflow/compiler/tf2tensorrt/utils/py_utils.cc:38] TF-TRT Warning: Could not find TensorRT\n",
      "2025-08-05 17:56:01,247 - INFO - Using model from: /mnt/workspace/.cache/modelscope/models/SparkAudio/Spark-TTS-0___5B\n",
      "2025-08-05 17:56:01,247 - INFO - Saving audio to: result\n",
      "2025-08-05 17:56:01,249 - INFO - Using CUDA device: cuda:0\n",
      "/usr/local/lib/python3.11/site-packages/torch/nn/utils/weight_norm.py:143: FutureWarning: `torch.nn.utils.weight_norm` is deprecated in favor of `torch.nn.utils.parametrizations.weight_norm`.\n",
      "  WeightNorm.apply(module, name, dim)\n"
     ]
    },
    {
     "name": "stdout",
     "output_type": "stream",
     "text": [
      "Missing tensor: mel_transformer.spectrogram.window\n",
      "Missing tensor: mel_transformer.mel_scale.fb\n"
     ]
    },
    {
     "name": "stderr",
     "output_type": "stream",
     "text": [
      "2025-08-05 17:56:05,816 - INFO - Starting inference...\n",
      "Setting `pad_token_id` to `eos_token_id`:None for open-end generation.\n",
      "2025-08-05 17:56:32,862 - INFO - Audio saved at: result/temp.wav\n"
     ]
    },
    {
     "name": "stdout",
     "output_type": "stream",
     "text": [
      "78 尽管深度学习模型在图像识别任务中表现出色，但其对小样本数据的学习能力仍然有限，尤其是在类别不平衡或噪声干扰严重的场景下，因此研究人员正在探索基于元学习的方法来提升模型的泛化性能，并尝试结合自监督学习策略以减少对标注数据的依赖。 aigc_speech_generation_tasks/reference_78.wav\n"
     ]
    },
    {
     "name": "stderr",
     "output_type": "stream",
     "text": [
      "2025-08-05 17:56:37.017551: I tensorflow/core/util/port.cc:113] oneDNN custom operations are on. You may see slightly different numerical results due to floating-point round-off errors from different computation orders. To turn them off, set the environment variable `TF_ENABLE_ONEDNN_OPTS=0`.\n",
      "2025-08-05 17:56:37.060037: I tensorflow/core/platform/cpu_feature_guard.cc:210] This TensorFlow binary is optimized to use available CPU instructions in performance-critical operations.\n",
      "To enable the following instructions: AVX2 AVX512F AVX512_VNNI FMA, in other operations, rebuild TensorFlow with the appropriate compiler flags.\n",
      "2025-08-05 17:56:37.917949: W tensorflow/compiler/tf2tensorrt/utils/py_utils.cc:38] TF-TRT Warning: Could not find TensorRT\n",
      "2025-08-05 17:56:39,582 - INFO - Using model from: /mnt/workspace/.cache/modelscope/models/SparkAudio/Spark-TTS-0___5B\n",
      "2025-08-05 17:56:39,583 - INFO - Saving audio to: result\n",
      "2025-08-05 17:56:39,584 - INFO - Using CUDA device: cuda:0\n",
      "/usr/local/lib/python3.11/site-packages/torch/nn/utils/weight_norm.py:143: FutureWarning: `torch.nn.utils.weight_norm` is deprecated in favor of `torch.nn.utils.parametrizations.weight_norm`.\n",
      "  WeightNorm.apply(module, name, dim)\n"
     ]
    },
    {
     "name": "stdout",
     "output_type": "stream",
     "text": [
      "Missing tensor: mel_transformer.spectrogram.window\n",
      "Missing tensor: mel_transformer.mel_scale.fb\n"
     ]
    },
    {
     "name": "stderr",
     "output_type": "stream",
     "text": [
      "2025-08-05 17:56:44,225 - INFO - Starting inference...\n",
      "Setting `pad_token_id` to `eos_token_id`:None for open-end generation.\n",
      "2025-08-05 17:57:38,729 - INFO - Audio saved at: result/temp.wav\n"
     ]
    },
    {
     "name": "stdout",
     "output_type": "stream",
     "text": [
      "79 庞大的用户数使脸书反欺诈团队头痛不已 aigc_speech_generation_tasks/reference_79.wav\n"
     ]
    },
    {
     "name": "stderr",
     "output_type": "stream",
     "text": [
      "2025-08-05 17:57:42.825677: I tensorflow/core/util/port.cc:113] oneDNN custom operations are on. You may see slightly different numerical results due to floating-point round-off errors from different computation orders. To turn them off, set the environment variable `TF_ENABLE_ONEDNN_OPTS=0`.\n",
      "2025-08-05 17:57:42.864404: I tensorflow/core/platform/cpu_feature_guard.cc:210] This TensorFlow binary is optimized to use available CPU instructions in performance-critical operations.\n",
      "To enable the following instructions: AVX2 AVX512F AVX512_VNNI FMA, in other operations, rebuild TensorFlow with the appropriate compiler flags.\n",
      "2025-08-05 17:57:43.723929: W tensorflow/compiler/tf2tensorrt/utils/py_utils.cc:38] TF-TRT Warning: Could not find TensorRT\n",
      "2025-08-05 17:57:45,380 - INFO - Using model from: /mnt/workspace/.cache/modelscope/models/SparkAudio/Spark-TTS-0___5B\n",
      "2025-08-05 17:57:45,381 - INFO - Saving audio to: result\n",
      "2025-08-05 17:57:45,382 - INFO - Using CUDA device: cuda:0\n",
      "/usr/local/lib/python3.11/site-packages/torch/nn/utils/weight_norm.py:143: FutureWarning: `torch.nn.utils.weight_norm` is deprecated in favor of `torch.nn.utils.parametrizations.weight_norm`.\n",
      "  WeightNorm.apply(module, name, dim)\n"
     ]
    },
    {
     "name": "stdout",
     "output_type": "stream",
     "text": [
      "Missing tensor: mel_transformer.spectrogram.window\n",
      "Missing tensor: mel_transformer.mel_scale.fb\n"
     ]
    },
    {
     "name": "stderr",
     "output_type": "stream",
     "text": [
      "2025-08-05 17:57:50,007 - INFO - Starting inference...\n",
      "Setting `pad_token_id` to `eos_token_id`:None for open-end generation.\n",
      "2025-08-05 17:58:27,845 - INFO - Audio saved at: result/temp.wav\n"
     ]
    },
    {
     "name": "stdout",
     "output_type": "stream",
     "text": [
      "80 晚睡晚起是否算熬夜主要取决于你的睡眠时间是否足够，以及你的生物钟是否被打乱。如果你晚睡但能保证足够的睡眠时间（成人通常需要7-9小时），并且第二天能自然醒来，不感觉疲劳或影响日常生活，这不算严格意义上的熬夜。然而，如果晚睡导致睡眠时间不足，或者晚起后感觉疲劳、注意力不集中，这可能被视为一种不规律的睡眠模式，长期下去可能会影响健康。建议尽量保持规律的睡眠时间，以维护身体和心理健康。如果出现睡眠问题，建议咨询医生。 aigc_speech_generation_tasks/reference_80.wav\n"
     ]
    },
    {
     "name": "stderr",
     "output_type": "stream",
     "text": [
      "2025-08-05 17:58:32.014438: I tensorflow/core/util/port.cc:113] oneDNN custom operations are on. You may see slightly different numerical results due to floating-point round-off errors from different computation orders. To turn them off, set the environment variable `TF_ENABLE_ONEDNN_OPTS=0`.\n",
      "2025-08-05 17:58:32.054434: I tensorflow/core/platform/cpu_feature_guard.cc:210] This TensorFlow binary is optimized to use available CPU instructions in performance-critical operations.\n",
      "To enable the following instructions: AVX2 AVX512F AVX512_VNNI FMA, in other operations, rebuild TensorFlow with the appropriate compiler flags.\n",
      "2025-08-05 17:58:32.916057: W tensorflow/compiler/tf2tensorrt/utils/py_utils.cc:38] TF-TRT Warning: Could not find TensorRT\n",
      "2025-08-05 17:58:34,604 - INFO - Using model from: /mnt/workspace/.cache/modelscope/models/SparkAudio/Spark-TTS-0___5B\n",
      "2025-08-05 17:58:34,604 - INFO - Saving audio to: result\n",
      "2025-08-05 17:58:34,605 - INFO - Using CUDA device: cuda:0\n",
      "/usr/local/lib/python3.11/site-packages/torch/nn/utils/weight_norm.py:143: FutureWarning: `torch.nn.utils.weight_norm` is deprecated in favor of `torch.nn.utils.parametrizations.weight_norm`.\n",
      "  WeightNorm.apply(module, name, dim)\n"
     ]
    },
    {
     "name": "stdout",
     "output_type": "stream",
     "text": [
      "Missing tensor: mel_transformer.spectrogram.window\n",
      "Missing tensor: mel_transformer.mel_scale.fb\n"
     ]
    },
    {
     "name": "stderr",
     "output_type": "stream",
     "text": [
      "2025-08-05 17:58:40,160 - INFO - Starting inference...\n",
      "Setting `pad_token_id` to `eos_token_id`:None for open-end generation.\n",
      "2025-08-05 17:59:13,360 - INFO - Audio saved at: result/temp.wav\n"
     ]
    },
    {
     "name": "stdout",
     "output_type": "stream",
     "text": [
      "81 购买一台电视，65英寸，4k分辨率，直接从我的银行卡扣款 aigc_speech_generation_tasks/reference_81.wav\n"
     ]
    },
    {
     "name": "stderr",
     "output_type": "stream",
     "text": [
      "2025-08-05 17:59:17.586431: I tensorflow/core/util/port.cc:113] oneDNN custom operations are on. You may see slightly different numerical results due to floating-point round-off errors from different computation orders. To turn them off, set the environment variable `TF_ENABLE_ONEDNN_OPTS=0`.\n",
      "2025-08-05 17:59:17.625519: I tensorflow/core/platform/cpu_feature_guard.cc:210] This TensorFlow binary is optimized to use available CPU instructions in performance-critical operations.\n",
      "To enable the following instructions: AVX2 AVX512F AVX512_VNNI FMA, in other operations, rebuild TensorFlow with the appropriate compiler flags.\n",
      "2025-08-05 17:59:18.478612: W tensorflow/compiler/tf2tensorrt/utils/py_utils.cc:38] TF-TRT Warning: Could not find TensorRT\n",
      "2025-08-05 17:59:20,142 - INFO - Using model from: /mnt/workspace/.cache/modelscope/models/SparkAudio/Spark-TTS-0___5B\n",
      "2025-08-05 17:59:20,142 - INFO - Saving audio to: result\n",
      "2025-08-05 17:59:20,144 - INFO - Using CUDA device: cuda:0\n",
      "/usr/local/lib/python3.11/site-packages/torch/nn/utils/weight_norm.py:143: FutureWarning: `torch.nn.utils.weight_norm` is deprecated in favor of `torch.nn.utils.parametrizations.weight_norm`.\n",
      "  WeightNorm.apply(module, name, dim)\n"
     ]
    },
    {
     "name": "stdout",
     "output_type": "stream",
     "text": [
      "Missing tensor: mel_transformer.spectrogram.window\n",
      "Missing tensor: mel_transformer.mel_scale.fb\n"
     ]
    },
    {
     "name": "stderr",
     "output_type": "stream",
     "text": [
      "2025-08-05 17:59:24,800 - INFO - Starting inference...\n",
      "Setting `pad_token_id` to `eos_token_id`:None for open-end generation.\n",
      "2025-08-05 17:59:31,131 - INFO - Audio saved at: result/temp.wav\n"
     ]
    },
    {
     "name": "stdout",
     "output_type": "stream",
     "text": [
      "82 帮我查一下我昨天在淘宝上买的所有生活用品有没有付款成功，如未成功请帮我处理 aigc_speech_generation_tasks/reference_82.wav\n"
     ]
    },
    {
     "name": "stderr",
     "output_type": "stream",
     "text": [
      "2025-08-05 17:59:35.218993: I tensorflow/core/util/port.cc:113] oneDNN custom operations are on. You may see slightly different numerical results due to floating-point round-off errors from different computation orders. To turn them off, set the environment variable `TF_ENABLE_ONEDNN_OPTS=0`.\n",
      "2025-08-05 17:59:35.258060: I tensorflow/core/platform/cpu_feature_guard.cc:210] This TensorFlow binary is optimized to use available CPU instructions in performance-critical operations.\n",
      "To enable the following instructions: AVX2 AVX512F AVX512_VNNI FMA, in other operations, rebuild TensorFlow with the appropriate compiler flags.\n",
      "2025-08-05 17:59:36.111557: W tensorflow/compiler/tf2tensorrt/utils/py_utils.cc:38] TF-TRT Warning: Could not find TensorRT\n",
      "2025-08-05 17:59:37,815 - INFO - Using model from: /mnt/workspace/.cache/modelscope/models/SparkAudio/Spark-TTS-0___5B\n",
      "2025-08-05 17:59:37,815 - INFO - Saving audio to: result\n",
      "2025-08-05 17:59:37,817 - INFO - Using CUDA device: cuda:0\n",
      "/usr/local/lib/python3.11/site-packages/torch/nn/utils/weight_norm.py:143: FutureWarning: `torch.nn.utils.weight_norm` is deprecated in favor of `torch.nn.utils.parametrizations.weight_norm`.\n",
      "  WeightNorm.apply(module, name, dim)\n"
     ]
    },
    {
     "name": "stdout",
     "output_type": "stream",
     "text": [
      "Missing tensor: mel_transformer.spectrogram.window\n",
      "Missing tensor: mel_transformer.mel_scale.fb\n"
     ]
    },
    {
     "name": "stderr",
     "output_type": "stream",
     "text": [
      "2025-08-05 17:59:42,433 - INFO - Starting inference...\n",
      "Setting `pad_token_id` to `eos_token_id`:None for open-end generation.\n",
      "2025-08-05 18:00:09,095 - INFO - Audio saved at: result/temp.wav\n"
     ]
    },
    {
     "name": "stdout",
     "output_type": "stream",
     "text": [
      "83 随便播放一首周杰伦的歌 aigc_speech_generation_tasks/reference_83.wav\n"
     ]
    },
    {
     "name": "stderr",
     "output_type": "stream",
     "text": [
      "2025-08-05 18:00:13.430552: I tensorflow/core/util/port.cc:113] oneDNN custom operations are on. You may see slightly different numerical results due to floating-point round-off errors from different computation orders. To turn them off, set the environment variable `TF_ENABLE_ONEDNN_OPTS=0`.\n",
      "2025-08-05 18:00:13.469641: I tensorflow/core/platform/cpu_feature_guard.cc:210] This TensorFlow binary is optimized to use available CPU instructions in performance-critical operations.\n",
      "To enable the following instructions: AVX2 AVX512F AVX512_VNNI FMA, in other operations, rebuild TensorFlow with the appropriate compiler flags.\n",
      "2025-08-05 18:00:14.319342: W tensorflow/compiler/tf2tensorrt/utils/py_utils.cc:38] TF-TRT Warning: Could not find TensorRT\n",
      "2025-08-05 18:00:16,161 - INFO - Using model from: /mnt/workspace/.cache/modelscope/models/SparkAudio/Spark-TTS-0___5B\n",
      "2025-08-05 18:00:16,161 - INFO - Saving audio to: result\n",
      "2025-08-05 18:00:16,163 - INFO - Using CUDA device: cuda:0\n",
      "/usr/local/lib/python3.11/site-packages/torch/nn/utils/weight_norm.py:143: FutureWarning: `torch.nn.utils.weight_norm` is deprecated in favor of `torch.nn.utils.parametrizations.weight_norm`.\n",
      "  WeightNorm.apply(module, name, dim)\n"
     ]
    },
    {
     "name": "stdout",
     "output_type": "stream",
     "text": [
      "Missing tensor: mel_transformer.spectrogram.window\n",
      "Missing tensor: mel_transformer.mel_scale.fb\n"
     ]
    },
    {
     "name": "stderr",
     "output_type": "stream",
     "text": [
      "2025-08-05 18:00:20,851 - INFO - Starting inference...\n",
      "Setting `pad_token_id` to `eos_token_id`:None for open-end generation.\n",
      "2025-08-05 18:00:23,543 - INFO - Audio saved at: result/temp.wav\n"
     ]
    },
    {
     "name": "stdout",
     "output_type": "stream",
     "text": [
      "84 虽然该企业拥有一级安全生产资质，但其一般操作规程中明确标注：若未通过量子计算平台对非线性负载进行实时校准——这种极端情况下一级工程师通常不会手动干预——系统就可能会因谐波震荡导致崩溃，然而这种崩溃一般不会触发基础熔断机制，除非运营商同时忽略三级告警。 aigc_speech_generation_tasks/reference_84.wav\n"
     ]
    },
    {
     "name": "stderr",
     "output_type": "stream",
     "text": [
      "2025-08-05 18:00:27.678633: I tensorflow/core/util/port.cc:113] oneDNN custom operations are on. You may see slightly different numerical results due to floating-point round-off errors from different computation orders. To turn them off, set the environment variable `TF_ENABLE_ONEDNN_OPTS=0`.\n",
      "2025-08-05 18:00:27.717646: I tensorflow/core/platform/cpu_feature_guard.cc:210] This TensorFlow binary is optimized to use available CPU instructions in performance-critical operations.\n",
      "To enable the following instructions: AVX2 AVX512F AVX512_VNNI FMA, in other operations, rebuild TensorFlow with the appropriate compiler flags.\n",
      "2025-08-05 18:00:28.569861: W tensorflow/compiler/tf2tensorrt/utils/py_utils.cc:38] TF-TRT Warning: Could not find TensorRT\n",
      "2025-08-05 18:00:30,256 - INFO - Using model from: /mnt/workspace/.cache/modelscope/models/SparkAudio/Spark-TTS-0___5B\n",
      "2025-08-05 18:00:30,256 - INFO - Saving audio to: result\n",
      "2025-08-05 18:00:30,265 - INFO - Using CUDA device: cuda:0\n",
      "/usr/local/lib/python3.11/site-packages/torch/nn/utils/weight_norm.py:143: FutureWarning: `torch.nn.utils.weight_norm` is deprecated in favor of `torch.nn.utils.parametrizations.weight_norm`.\n",
      "  WeightNorm.apply(module, name, dim)\n"
     ]
    },
    {
     "name": "stdout",
     "output_type": "stream",
     "text": [
      "Missing tensor: mel_transformer.spectrogram.window\n",
      "Missing tensor: mel_transformer.mel_scale.fb\n"
     ]
    },
    {
     "name": "stderr",
     "output_type": "stream",
     "text": [
      "2025-08-05 18:00:34,987 - INFO - Starting inference...\n",
      "Setting `pad_token_id` to `eos_token_id`:None for open-end generation.\n",
      "2025-08-05 18:01:29,373 - INFO - Audio saved at: result/temp.wav\n"
     ]
    },
    {
     "name": "stdout",
     "output_type": "stream",
     "text": [
      "85 你该为自己转来转去的行为感到羞耻 aigc_speech_generation_tasks/reference_85.wav\n"
     ]
    },
    {
     "name": "stderr",
     "output_type": "stream",
     "text": [
      "2025-08-05 18:01:33.468767: I tensorflow/core/util/port.cc:113] oneDNN custom operations are on. You may see slightly different numerical results due to floating-point round-off errors from different computation orders. To turn them off, set the environment variable `TF_ENABLE_ONEDNN_OPTS=0`.\n",
      "2025-08-05 18:01:33.508587: I tensorflow/core/platform/cpu_feature_guard.cc:210] This TensorFlow binary is optimized to use available CPU instructions in performance-critical operations.\n",
      "To enable the following instructions: AVX2 AVX512F AVX512_VNNI FMA, in other operations, rebuild TensorFlow with the appropriate compiler flags.\n",
      "2025-08-05 18:01:34.361735: W tensorflow/compiler/tf2tensorrt/utils/py_utils.cc:38] TF-TRT Warning: Could not find TensorRT\n",
      "2025-08-05 18:01:36,023 - INFO - Using model from: /mnt/workspace/.cache/modelscope/models/SparkAudio/Spark-TTS-0___5B\n",
      "2025-08-05 18:01:36,023 - INFO - Saving audio to: result\n",
      "2025-08-05 18:01:36,025 - INFO - Using CUDA device: cuda:0\n",
      "/usr/local/lib/python3.11/site-packages/torch/nn/utils/weight_norm.py:143: FutureWarning: `torch.nn.utils.weight_norm` is deprecated in favor of `torch.nn.utils.parametrizations.weight_norm`.\n",
      "  WeightNorm.apply(module, name, dim)\n"
     ]
    },
    {
     "name": "stdout",
     "output_type": "stream",
     "text": [
      "Missing tensor: mel_transformer.spectrogram.window\n",
      "Missing tensor: mel_transformer.mel_scale.fb\n"
     ]
    },
    {
     "name": "stderr",
     "output_type": "stream",
     "text": [
      "2025-08-05 18:01:40,700 - INFO - Starting inference...\n",
      "Setting `pad_token_id` to `eos_token_id`:None for open-end generation.\n",
      "2025-08-05 18:01:45,801 - INFO - Audio saved at: result/temp.wav\n"
     ]
    },
    {
     "name": "stdout",
     "output_type": "stream",
     "text": [
      "86 它的脚爪整天都在滑倒 aigc_speech_generation_tasks/reference_86.wav\n"
     ]
    },
    {
     "name": "stderr",
     "output_type": "stream",
     "text": [
      "2025-08-05 18:01:49.848435: I tensorflow/core/util/port.cc:113] oneDNN custom operations are on. You may see slightly different numerical results due to floating-point round-off errors from different computation orders. To turn them off, set the environment variable `TF_ENABLE_ONEDNN_OPTS=0`.\n",
      "2025-08-05 18:01:49.887698: I tensorflow/core/platform/cpu_feature_guard.cc:210] This TensorFlow binary is optimized to use available CPU instructions in performance-critical operations.\n",
      "To enable the following instructions: AVX2 AVX512F AVX512_VNNI FMA, in other operations, rebuild TensorFlow with the appropriate compiler flags.\n",
      "2025-08-05 18:01:50.781561: W tensorflow/compiler/tf2tensorrt/utils/py_utils.cc:38] TF-TRT Warning: Could not find TensorRT\n",
      "2025-08-05 18:01:52,460 - INFO - Using model from: /mnt/workspace/.cache/modelscope/models/SparkAudio/Spark-TTS-0___5B\n",
      "2025-08-05 18:01:52,460 - INFO - Saving audio to: result\n",
      "2025-08-05 18:01:52,461 - INFO - Using CUDA device: cuda:0\n",
      "/usr/local/lib/python3.11/site-packages/torch/nn/utils/weight_norm.py:143: FutureWarning: `torch.nn.utils.weight_norm` is deprecated in favor of `torch.nn.utils.parametrizations.weight_norm`.\n",
      "  WeightNorm.apply(module, name, dim)\n"
     ]
    },
    {
     "name": "stdout",
     "output_type": "stream",
     "text": [
      "Missing tensor: mel_transformer.spectrogram.window\n",
      "Missing tensor: mel_transformer.mel_scale.fb\n"
     ]
    },
    {
     "name": "stderr",
     "output_type": "stream",
     "text": [
      "2025-08-05 18:01:57,147 - INFO - Starting inference...\n",
      "Setting `pad_token_id` to `eos_token_id`:None for open-end generation.\n",
      "2025-08-05 18:02:27,976 - INFO - Audio saved at: result/temp.wav\n"
     ]
    },
    {
     "name": "stdout",
     "output_type": "stream",
     "text": [
      "87 一些更复杂的方案会改变这些持续时间以传达更多信息。 aigc_speech_generation_tasks/reference_87.wav\n"
     ]
    },
    {
     "name": "stderr",
     "output_type": "stream",
     "text": [
      "2025-08-05 18:02:32.086459: I tensorflow/core/util/port.cc:113] oneDNN custom operations are on. You may see slightly different numerical results due to floating-point round-off errors from different computation orders. To turn them off, set the environment variable `TF_ENABLE_ONEDNN_OPTS=0`.\n",
      "2025-08-05 18:02:32.125406: I tensorflow/core/platform/cpu_feature_guard.cc:210] This TensorFlow binary is optimized to use available CPU instructions in performance-critical operations.\n",
      "To enable the following instructions: AVX2 AVX512F AVX512_VNNI FMA, in other operations, rebuild TensorFlow with the appropriate compiler flags.\n",
      "2025-08-05 18:02:32.969045: W tensorflow/compiler/tf2tensorrt/utils/py_utils.cc:38] TF-TRT Warning: Could not find TensorRT\n",
      "2025-08-05 18:02:34,645 - INFO - Using model from: /mnt/workspace/.cache/modelscope/models/SparkAudio/Spark-TTS-0___5B\n",
      "2025-08-05 18:02:34,645 - INFO - Saving audio to: result\n",
      "2025-08-05 18:02:34,646 - INFO - Using CUDA device: cuda:0\n",
      "/usr/local/lib/python3.11/site-packages/torch/nn/utils/weight_norm.py:143: FutureWarning: `torch.nn.utils.weight_norm` is deprecated in favor of `torch.nn.utils.parametrizations.weight_norm`.\n",
      "  WeightNorm.apply(module, name, dim)\n"
     ]
    },
    {
     "name": "stdout",
     "output_type": "stream",
     "text": [
      "Missing tensor: mel_transformer.spectrogram.window\n",
      "Missing tensor: mel_transformer.mel_scale.fb\n"
     ]
    },
    {
     "name": "stderr",
     "output_type": "stream",
     "text": [
      "2025-08-05 18:02:40,137 - INFO - Starting inference...\n",
      "Setting `pad_token_id` to `eos_token_id`:None for open-end generation.\n",
      "2025-08-05 18:02:46,688 - INFO - Audio saved at: result/temp.wav\n"
     ]
    },
    {
     "name": "stdout",
     "output_type": "stream",
     "text": [
      "88 请替我缴纳下个月的网络宽带费，金额大概是100元 aigc_speech_generation_tasks/reference_88.wav\n"
     ]
    },
    {
     "name": "stderr",
     "output_type": "stream",
     "text": [
      "2025-08-05 18:02:50.815419: I tensorflow/core/util/port.cc:113] oneDNN custom operations are on. You may see slightly different numerical results due to floating-point round-off errors from different computation orders. To turn them off, set the environment variable `TF_ENABLE_ONEDNN_OPTS=0`.\n",
      "2025-08-05 18:02:50.855861: I tensorflow/core/platform/cpu_feature_guard.cc:210] This TensorFlow binary is optimized to use available CPU instructions in performance-critical operations.\n",
      "To enable the following instructions: AVX2 AVX512F AVX512_VNNI FMA, in other operations, rebuild TensorFlow with the appropriate compiler flags.\n",
      "2025-08-05 18:02:51.743301: W tensorflow/compiler/tf2tensorrt/utils/py_utils.cc:38] TF-TRT Warning: Could not find TensorRT\n",
      "2025-08-05 18:02:53,419 - INFO - Using model from: /mnt/workspace/.cache/modelscope/models/SparkAudio/Spark-TTS-0___5B\n",
      "2025-08-05 18:02:53,419 - INFO - Saving audio to: result\n",
      "2025-08-05 18:02:53,420 - INFO - Using CUDA device: cuda:0\n",
      "/usr/local/lib/python3.11/site-packages/torch/nn/utils/weight_norm.py:143: FutureWarning: `torch.nn.utils.weight_norm` is deprecated in favor of `torch.nn.utils.parametrizations.weight_norm`.\n",
      "  WeightNorm.apply(module, name, dim)\n"
     ]
    },
    {
     "name": "stdout",
     "output_type": "stream",
     "text": [
      "Missing tensor: mel_transformer.spectrogram.window\n",
      "Missing tensor: mel_transformer.mel_scale.fb\n"
     ]
    },
    {
     "name": "stderr",
     "output_type": "stream",
     "text": [
      "2025-08-05 18:02:58,294 - INFO - Starting inference...\n",
      "Setting `pad_token_id` to `eos_token_id`:None for open-end generation.\n",
      "2025-08-05 18:03:03,799 - INFO - Audio saved at: result/temp.wav\n"
     ]
    },
    {
     "name": "stdout",
     "output_type": "stream",
     "text": [
      "89 为我报名参加这个周末的烘焙课程，支付费用，并发送详细信息给我 aigc_speech_generation_tasks/reference_89.wav\n"
     ]
    },
    {
     "name": "stderr",
     "output_type": "stream",
     "text": [
      "2025-08-05 18:03:07.969444: I tensorflow/core/util/port.cc:113] oneDNN custom operations are on. You may see slightly different numerical results due to floating-point round-off errors from different computation orders. To turn them off, set the environment variable `TF_ENABLE_ONEDNN_OPTS=0`.\n",
      "2025-08-05 18:03:08.008230: I tensorflow/core/platform/cpu_feature_guard.cc:210] This TensorFlow binary is optimized to use available CPU instructions in performance-critical operations.\n",
      "To enable the following instructions: AVX2 AVX512F AVX512_VNNI FMA, in other operations, rebuild TensorFlow with the appropriate compiler flags.\n",
      "2025-08-05 18:03:08.851340: W tensorflow/compiler/tf2tensorrt/utils/py_utils.cc:38] TF-TRT Warning: Could not find TensorRT\n",
      "2025-08-05 18:03:10,506 - INFO - Using model from: /mnt/workspace/.cache/modelscope/models/SparkAudio/Spark-TTS-0___5B\n",
      "2025-08-05 18:03:10,506 - INFO - Saving audio to: result\n",
      "2025-08-05 18:03:10,508 - INFO - Using CUDA device: cuda:0\n",
      "/usr/local/lib/python3.11/site-packages/torch/nn/utils/weight_norm.py:143: FutureWarning: `torch.nn.utils.weight_norm` is deprecated in favor of `torch.nn.utils.parametrizations.weight_norm`.\n",
      "  WeightNorm.apply(module, name, dim)\n"
     ]
    },
    {
     "name": "stdout",
     "output_type": "stream",
     "text": [
      "Missing tensor: mel_transformer.spectrogram.window\n",
      "Missing tensor: mel_transformer.mel_scale.fb\n"
     ]
    },
    {
     "name": "stderr",
     "output_type": "stream",
     "text": [
      "2025-08-05 18:03:15,212 - INFO - Starting inference...\n",
      "Setting `pad_token_id` to `eos_token_id`:None for open-end generation.\n",
      "2025-08-05 18:04:09,925 - INFO - Audio saved at: result/temp.wav\n"
     ]
    },
    {
     "name": "stdout",
     "output_type": "stream",
     "text": [
      "90 把杭州西湖区那家五星级酒店的行政套房定两天，下个月的15号到17号 aigc_speech_generation_tasks/reference_90.wav\n"
     ]
    },
    {
     "name": "stderr",
     "output_type": "stream",
     "text": [
      "2025-08-05 18:04:14.076563: I tensorflow/core/util/port.cc:113] oneDNN custom operations are on. You may see slightly different numerical results due to floating-point round-off errors from different computation orders. To turn them off, set the environment variable `TF_ENABLE_ONEDNN_OPTS=0`.\n",
      "2025-08-05 18:04:14.115890: I tensorflow/core/platform/cpu_feature_guard.cc:210] This TensorFlow binary is optimized to use available CPU instructions in performance-critical operations.\n",
      "To enable the following instructions: AVX2 AVX512F AVX512_VNNI FMA, in other operations, rebuild TensorFlow with the appropriate compiler flags.\n",
      "2025-08-05 18:04:14.977470: W tensorflow/compiler/tf2tensorrt/utils/py_utils.cc:38] TF-TRT Warning: Could not find TensorRT\n",
      "2025-08-05 18:04:16,660 - INFO - Using model from: /mnt/workspace/.cache/modelscope/models/SparkAudio/Spark-TTS-0___5B\n",
      "2025-08-05 18:04:16,660 - INFO - Saving audio to: result\n",
      "2025-08-05 18:04:16,661 - INFO - Using CUDA device: cuda:0\n",
      "/usr/local/lib/python3.11/site-packages/torch/nn/utils/weight_norm.py:143: FutureWarning: `torch.nn.utils.weight_norm` is deprecated in favor of `torch.nn.utils.parametrizations.weight_norm`.\n",
      "  WeightNorm.apply(module, name, dim)\n"
     ]
    },
    {
     "name": "stdout",
     "output_type": "stream",
     "text": [
      "Missing tensor: mel_transformer.spectrogram.window\n",
      "Missing tensor: mel_transformer.mel_scale.fb\n"
     ]
    },
    {
     "name": "stderr",
     "output_type": "stream",
     "text": [
      "2025-08-05 18:04:21,385 - INFO - Starting inference...\n",
      "Setting `pad_token_id` to `eos_token_id`:None for open-end generation.\n",
      "2025-08-05 18:05:15,031 - INFO - Audio saved at: result/temp.wav\n"
     ]
    },
    {
     "name": "stdout",
     "output_type": "stream",
     "text": [
      "91 支付137.9元 aigc_speech_generation_tasks/reference_91.wav\n"
     ]
    },
    {
     "name": "stderr",
     "output_type": "stream",
     "text": [
      "2025-08-05 18:05:19.122773: I tensorflow/core/util/port.cc:113] oneDNN custom operations are on. You may see slightly different numerical results due to floating-point round-off errors from different computation orders. To turn them off, set the environment variable `TF_ENABLE_ONEDNN_OPTS=0`.\n",
      "2025-08-05 18:05:19.162200: I tensorflow/core/platform/cpu_feature_guard.cc:210] This TensorFlow binary is optimized to use available CPU instructions in performance-critical operations.\n",
      "To enable the following instructions: AVX2 AVX512F AVX512_VNNI FMA, in other operations, rebuild TensorFlow with the appropriate compiler flags.\n",
      "2025-08-05 18:05:20.025843: W tensorflow/compiler/tf2tensorrt/utils/py_utils.cc:38] TF-TRT Warning: Could not find TensorRT\n",
      "2025-08-05 18:05:21,769 - INFO - Using model from: /mnt/workspace/.cache/modelscope/models/SparkAudio/Spark-TTS-0___5B\n",
      "2025-08-05 18:05:21,769 - INFO - Saving audio to: result\n",
      "2025-08-05 18:05:21,771 - INFO - Using CUDA device: cuda:0\n",
      "/usr/local/lib/python3.11/site-packages/torch/nn/utils/weight_norm.py:143: FutureWarning: `torch.nn.utils.weight_norm` is deprecated in favor of `torch.nn.utils.parametrizations.weight_norm`.\n",
      "  WeightNorm.apply(module, name, dim)\n"
     ]
    },
    {
     "name": "stdout",
     "output_type": "stream",
     "text": [
      "Missing tensor: mel_transformer.spectrogram.window\n",
      "Missing tensor: mel_transformer.mel_scale.fb\n"
     ]
    },
    {
     "name": "stderr",
     "output_type": "stream",
     "text": [
      "2025-08-05 18:05:26,432 - INFO - Starting inference...\n",
      "Setting `pad_token_id` to `eos_token_id`:None for open-end generation.\n",
      "2025-08-05 18:05:29,624 - INFO - Audio saved at: result/temp.wav\n"
     ]
    },
    {
     "name": "stdout",
     "output_type": "stream",
     "text": [
      "92 为我家的宽带账户结算下个月的上网费用 aigc_speech_generation_tasks/reference_92.wav\n"
     ]
    },
    {
     "name": "stderr",
     "output_type": "stream",
     "text": [
      "2025-08-05 18:05:33.697249: I tensorflow/core/util/port.cc:113] oneDNN custom operations are on. You may see slightly different numerical results due to floating-point round-off errors from different computation orders. To turn them off, set the environment variable `TF_ENABLE_ONEDNN_OPTS=0`.\n",
      "2025-08-05 18:05:33.736529: I tensorflow/core/platform/cpu_feature_guard.cc:210] This TensorFlow binary is optimized to use available CPU instructions in performance-critical operations.\n",
      "To enable the following instructions: AVX2 AVX512F AVX512_VNNI FMA, in other operations, rebuild TensorFlow with the appropriate compiler flags.\n",
      "2025-08-05 18:05:34.585898: W tensorflow/compiler/tf2tensorrt/utils/py_utils.cc:38] TF-TRT Warning: Could not find TensorRT\n",
      "2025-08-05 18:05:36,265 - INFO - Using model from: /mnt/workspace/.cache/modelscope/models/SparkAudio/Spark-TTS-0___5B\n",
      "2025-08-05 18:05:36,265 - INFO - Saving audio to: result\n",
      "2025-08-05 18:05:36,266 - INFO - Using CUDA device: cuda:0\n",
      "/usr/local/lib/python3.11/site-packages/torch/nn/utils/weight_norm.py:143: FutureWarning: `torch.nn.utils.weight_norm` is deprecated in favor of `torch.nn.utils.parametrizations.weight_norm`.\n",
      "  WeightNorm.apply(module, name, dim)\n"
     ]
    },
    {
     "name": "stdout",
     "output_type": "stream",
     "text": [
      "Missing tensor: mel_transformer.spectrogram.window\n",
      "Missing tensor: mel_transformer.mel_scale.fb\n"
     ]
    },
    {
     "name": "stderr",
     "output_type": "stream",
     "text": [
      "2025-08-05 18:05:41,091 - INFO - Starting inference...\n",
      "Setting `pad_token_id` to `eos_token_id`:None for open-end generation.\n",
      "2025-08-05 18:05:46,230 - INFO - Audio saved at: result/temp.wav\n"
     ]
    },
    {
     "name": "stdout",
     "output_type": "stream",
     "text": [
      "93 剩下几名猛虎帮的人直吓的魂飞魄散，一个个哪还敢回头还击，只恨爹娘少给自己生两条腿跑得更快！ aigc_speech_generation_tasks/reference_93.wav\n"
     ]
    },
    {
     "name": "stderr",
     "output_type": "stream",
     "text": [
      "2025-08-05 18:05:50.329625: I tensorflow/core/util/port.cc:113] oneDNN custom operations are on. You may see slightly different numerical results due to floating-point round-off errors from different computation orders. To turn them off, set the environment variable `TF_ENABLE_ONEDNN_OPTS=0`.\n",
      "2025-08-05 18:05:50.369218: I tensorflow/core/platform/cpu_feature_guard.cc:210] This TensorFlow binary is optimized to use available CPU instructions in performance-critical operations.\n",
      "To enable the following instructions: AVX2 AVX512F AVX512_VNNI FMA, in other operations, rebuild TensorFlow with the appropriate compiler flags.\n",
      "2025-08-05 18:05:51.288995: W tensorflow/compiler/tf2tensorrt/utils/py_utils.cc:38] TF-TRT Warning: Could not find TensorRT\n",
      "2025-08-05 18:05:52,929 - INFO - Using model from: /mnt/workspace/.cache/modelscope/models/SparkAudio/Spark-TTS-0___5B\n",
      "2025-08-05 18:05:52,929 - INFO - Saving audio to: result\n",
      "2025-08-05 18:05:52,931 - INFO - Using CUDA device: cuda:0\n",
      "/usr/local/lib/python3.11/site-packages/torch/nn/utils/weight_norm.py:143: FutureWarning: `torch.nn.utils.weight_norm` is deprecated in favor of `torch.nn.utils.parametrizations.weight_norm`.\n",
      "  WeightNorm.apply(module, name, dim)\n"
     ]
    },
    {
     "name": "stdout",
     "output_type": "stream",
     "text": [
      "Missing tensor: mel_transformer.spectrogram.window\n",
      "Missing tensor: mel_transformer.mel_scale.fb\n"
     ]
    },
    {
     "name": "stderr",
     "output_type": "stream",
     "text": [
      "2025-08-05 18:05:57,755 - INFO - Starting inference...\n",
      "Setting `pad_token_id` to `eos_token_id`:None for open-end generation.\n",
      "2025-08-05 18:06:06,916 - INFO - Audio saved at: result/temp.wav\n"
     ]
    },
    {
     "name": "stdout",
     "output_type": "stream",
     "text": [
      "94 防御指南：1.政府及相关部门应及时关注雷暴大风最新消息和有关防御通知，随时准备启动抢险应急方案。2.立即停止户外活动和作业。3.公园、景区、游乐场等户外场所应当及时发出警示信息，关闭相关区域，停止营业，组织居民避险。4.居民应当关紧门窗，妥善安置室外搁置物和悬挂物。人员切勿外出，外出时远离户外广告牌、棚架、铁皮屋、板房等易被大风吹动的搭建物，切勿在树下、电杆下、塔吊下躲避，应当留在有雷电防护装置的安全场所暂避。5.在建工地应当采取防护措施，加强工棚、脚手架、井架等设施和塔吊、龙门吊、升降机等机械、电器设备的安全防护，保障人员安全。6.铁路、公路等经营管理单位应当迅速采取措施，确保安全。（预警信息来源：国家预警信息发布中心） aigc_speech_generation_tasks/reference_94.wav\n"
     ]
    },
    {
     "name": "stderr",
     "output_type": "stream",
     "text": [
      "2025-08-05 18:06:11.041811: I tensorflow/core/util/port.cc:113] oneDNN custom operations are on. You may see slightly different numerical results due to floating-point round-off errors from different computation orders. To turn them off, set the environment variable `TF_ENABLE_ONEDNN_OPTS=0`.\n",
      "2025-08-05 18:06:11.080879: I tensorflow/core/platform/cpu_feature_guard.cc:210] This TensorFlow binary is optimized to use available CPU instructions in performance-critical operations.\n",
      "To enable the following instructions: AVX2 AVX512F AVX512_VNNI FMA, in other operations, rebuild TensorFlow with the appropriate compiler flags.\n",
      "2025-08-05 18:06:11.950926: W tensorflow/compiler/tf2tensorrt/utils/py_utils.cc:38] TF-TRT Warning: Could not find TensorRT\n",
      "2025-08-05 18:06:13,606 - INFO - Using model from: /mnt/workspace/.cache/modelscope/models/SparkAudio/Spark-TTS-0___5B\n",
      "2025-08-05 18:06:13,606 - INFO - Saving audio to: result\n",
      "2025-08-05 18:06:13,607 - INFO - Using CUDA device: cuda:0\n",
      "/usr/local/lib/python3.11/site-packages/torch/nn/utils/weight_norm.py:143: FutureWarning: `torch.nn.utils.weight_norm` is deprecated in favor of `torch.nn.utils.parametrizations.weight_norm`.\n",
      "  WeightNorm.apply(module, name, dim)\n"
     ]
    },
    {
     "name": "stdout",
     "output_type": "stream",
     "text": [
      "Missing tensor: mel_transformer.spectrogram.window\n",
      "Missing tensor: mel_transformer.mel_scale.fb\n"
     ]
    },
    {
     "name": "stderr",
     "output_type": "stream",
     "text": [
      "2025-08-05 18:06:18,348 - INFO - Starting inference...\n",
      "Setting `pad_token_id` to `eos_token_id`:None for open-end generation.\n",
      "2025-08-05 18:07:13,468 - INFO - Audio saved at: result/temp.wav\n"
     ]
    },
    {
     "name": "stdout",
     "output_type": "stream",
     "text": [
      "95 凡东汉明帝以前的重大历史事件和重要的历史人物，都被按鉴编入。 aigc_speech_generation_tasks/reference_95.wav\n"
     ]
    },
    {
     "name": "stderr",
     "output_type": "stream",
     "text": [
      "2025-08-05 18:07:17.564741: I tensorflow/core/util/port.cc:113] oneDNN custom operations are on. You may see slightly different numerical results due to floating-point round-off errors from different computation orders. To turn them off, set the environment variable `TF_ENABLE_ONEDNN_OPTS=0`.\n",
      "2025-08-05 18:07:17.603746: I tensorflow/core/platform/cpu_feature_guard.cc:210] This TensorFlow binary is optimized to use available CPU instructions in performance-critical operations.\n",
      "To enable the following instructions: AVX2 AVX512F AVX512_VNNI FMA, in other operations, rebuild TensorFlow with the appropriate compiler flags.\n",
      "2025-08-05 18:07:18.440659: W tensorflow/compiler/tf2tensorrt/utils/py_utils.cc:38] TF-TRT Warning: Could not find TensorRT\n",
      "2025-08-05 18:07:20,091 - INFO - Using model from: /mnt/workspace/.cache/modelscope/models/SparkAudio/Spark-TTS-0___5B\n",
      "2025-08-05 18:07:20,091 - INFO - Saving audio to: result\n",
      "2025-08-05 18:07:20,092 - INFO - Using CUDA device: cuda:0\n",
      "/usr/local/lib/python3.11/site-packages/torch/nn/utils/weight_norm.py:143: FutureWarning: `torch.nn.utils.weight_norm` is deprecated in favor of `torch.nn.utils.parametrizations.weight_norm`.\n",
      "  WeightNorm.apply(module, name, dim)\n"
     ]
    },
    {
     "name": "stdout",
     "output_type": "stream",
     "text": [
      "Missing tensor: mel_transformer.spectrogram.window\n",
      "Missing tensor: mel_transformer.mel_scale.fb\n"
     ]
    },
    {
     "name": "stderr",
     "output_type": "stream",
     "text": [
      "2025-08-05 18:07:24,725 - INFO - Starting inference...\n",
      "Setting `pad_token_id` to `eos_token_id`:None for open-end generation.\n",
      "2025-08-05 18:07:30,268 - INFO - Audio saved at: result/temp.wav\n"
     ]
    },
    {
     "name": "stdout",
     "output_type": "stream",
     "text": [
      "96 虽然今天天气不太好，下着雨，但他还是坚持准时出门去上班，因为他不想让同事们觉得他不够负责。 aigc_speech_generation_tasks/reference_96.wav\n"
     ]
    },
    {
     "name": "stderr",
     "output_type": "stream",
     "text": [
      "2025-08-05 18:07:34.335846: I tensorflow/core/util/port.cc:113] oneDNN custom operations are on. You may see slightly different numerical results due to floating-point round-off errors from different computation orders. To turn them off, set the environment variable `TF_ENABLE_ONEDNN_OPTS=0`.\n",
      "2025-08-05 18:07:34.374818: I tensorflow/core/platform/cpu_feature_guard.cc:210] This TensorFlow binary is optimized to use available CPU instructions in performance-critical operations.\n",
      "To enable the following instructions: AVX2 AVX512F AVX512_VNNI FMA, in other operations, rebuild TensorFlow with the appropriate compiler flags.\n",
      "2025-08-05 18:07:35.219743: W tensorflow/compiler/tf2tensorrt/utils/py_utils.cc:38] TF-TRT Warning: Could not find TensorRT\n",
      "2025-08-05 18:07:36,929 - INFO - Using model from: /mnt/workspace/.cache/modelscope/models/SparkAudio/Spark-TTS-0___5B\n",
      "2025-08-05 18:07:36,929 - INFO - Saving audio to: result\n",
      "2025-08-05 18:07:36,931 - INFO - Using CUDA device: cuda:0\n",
      "/usr/local/lib/python3.11/site-packages/torch/nn/utils/weight_norm.py:143: FutureWarning: `torch.nn.utils.weight_norm` is deprecated in favor of `torch.nn.utils.parametrizations.weight_norm`.\n",
      "  WeightNorm.apply(module, name, dim)\n"
     ]
    },
    {
     "name": "stdout",
     "output_type": "stream",
     "text": [
      "Missing tensor: mel_transformer.spectrogram.window\n",
      "Missing tensor: mel_transformer.mel_scale.fb\n"
     ]
    },
    {
     "name": "stderr",
     "output_type": "stream",
     "text": [
      "2025-08-05 18:07:41,591 - INFO - Starting inference...\n",
      "Setting `pad_token_id` to `eos_token_id`:None for open-end generation.\n",
      "2025-08-05 18:08:02,402 - INFO - Audio saved at: result/temp.wav\n"
     ]
    },
    {
     "name": "stdout",
     "output_type": "stream",
     "text": [
      "97 月光透过窗帘的缝隙洒进房间，照亮了桌上那张泛黄的照片。照片上的男孩笑得很灿烂，背景是一座早已被拆除的老房子。她盯着看了很久，仿佛那些记忆正一点一点地从黑暗中浮现出来。 aigc_speech_generation_tasks/reference_97.wav\n"
     ]
    },
    {
     "name": "stderr",
     "output_type": "stream",
     "text": [
      "2025-08-05 18:08:06.514064: I tensorflow/core/util/port.cc:113] oneDNN custom operations are on. You may see slightly different numerical results due to floating-point round-off errors from different computation orders. To turn them off, set the environment variable `TF_ENABLE_ONEDNN_OPTS=0`.\n",
      "2025-08-05 18:08:06.562448: I tensorflow/core/platform/cpu_feature_guard.cc:210] This TensorFlow binary is optimized to use available CPU instructions in performance-critical operations.\n",
      "To enable the following instructions: AVX2 AVX512F AVX512_VNNI FMA, in other operations, rebuild TensorFlow with the appropriate compiler flags.\n",
      "2025-08-05 18:08:07.432990: W tensorflow/compiler/tf2tensorrt/utils/py_utils.cc:38] TF-TRT Warning: Could not find TensorRT\n",
      "2025-08-05 18:08:09,092 - INFO - Using model from: /mnt/workspace/.cache/modelscope/models/SparkAudio/Spark-TTS-0___5B\n",
      "2025-08-05 18:08:09,092 - INFO - Saving audio to: result\n",
      "2025-08-05 18:08:09,093 - INFO - Using CUDA device: cuda:0\n",
      "/usr/local/lib/python3.11/site-packages/torch/nn/utils/weight_norm.py:143: FutureWarning: `torch.nn.utils.weight_norm` is deprecated in favor of `torch.nn.utils.parametrizations.weight_norm`.\n",
      "  WeightNorm.apply(module, name, dim)\n"
     ]
    },
    {
     "name": "stdout",
     "output_type": "stream",
     "text": [
      "Missing tensor: mel_transformer.spectrogram.window\n",
      "Missing tensor: mel_transformer.mel_scale.fb\n"
     ]
    },
    {
     "name": "stderr",
     "output_type": "stream",
     "text": [
      "2025-08-05 18:08:14,618 - INFO - Starting inference...\n",
      "Setting `pad_token_id` to `eos_token_id`:None for open-end generation.\n",
      "2025-08-05 18:09:09,271 - INFO - Audio saved at: result/temp.wav\n"
     ]
    },
    {
     "name": "stdout",
     "output_type": "stream",
     "text": [
      "98 同时这也标志着两位大作曲家终身友谊的开始。 aigc_speech_generation_tasks/reference_98.wav\n"
     ]
    },
    {
     "name": "stderr",
     "output_type": "stream",
     "text": [
      "2025-08-05 18:09:13.407434: I tensorflow/core/util/port.cc:113] oneDNN custom operations are on. You may see slightly different numerical results due to floating-point round-off errors from different computation orders. To turn them off, set the environment variable `TF_ENABLE_ONEDNN_OPTS=0`.\n",
      "2025-08-05 18:09:13.447445: I tensorflow/core/platform/cpu_feature_guard.cc:210] This TensorFlow binary is optimized to use available CPU instructions in performance-critical operations.\n",
      "To enable the following instructions: AVX2 AVX512F AVX512_VNNI FMA, in other operations, rebuild TensorFlow with the appropriate compiler flags.\n",
      "2025-08-05 18:09:14.294955: W tensorflow/compiler/tf2tensorrt/utils/py_utils.cc:38] TF-TRT Warning: Could not find TensorRT\n",
      "2025-08-05 18:09:15,950 - INFO - Using model from: /mnt/workspace/.cache/modelscope/models/SparkAudio/Spark-TTS-0___5B\n",
      "2025-08-05 18:09:15,950 - INFO - Saving audio to: result\n",
      "2025-08-05 18:09:15,952 - INFO - Using CUDA device: cuda:0\n",
      "/usr/local/lib/python3.11/site-packages/torch/nn/utils/weight_norm.py:143: FutureWarning: `torch.nn.utils.weight_norm` is deprecated in favor of `torch.nn.utils.parametrizations.weight_norm`.\n",
      "  WeightNorm.apply(module, name, dim)\n"
     ]
    },
    {
     "name": "stdout",
     "output_type": "stream",
     "text": [
      "Missing tensor: mel_transformer.spectrogram.window\n",
      "Missing tensor: mel_transformer.mel_scale.fb\n"
     ]
    },
    {
     "name": "stderr",
     "output_type": "stream",
     "text": [
      "2025-08-05 18:09:20,582 - INFO - Starting inference...\n",
      "Setting `pad_token_id` to `eos_token_id`:None for open-end generation.\n",
      "2025-08-05 18:09:25,718 - INFO - Audio saved at: result/temp.wav\n"
     ]
    },
    {
     "name": "stdout",
     "output_type": "stream",
     "text": [
      "99 每个人对生活的感受不同。对于我来说，理性和有序的生活方式让我感到安心和踏实。 aigc_speech_generation_tasks/reference_99.wav\n"
     ]
    },
    {
     "name": "stderr",
     "output_type": "stream",
     "text": [
      "2025-08-05 18:09:29.847926: I tensorflow/core/util/port.cc:113] oneDNN custom operations are on. You may see slightly different numerical results due to floating-point round-off errors from different computation orders. To turn them off, set the environment variable `TF_ENABLE_ONEDNN_OPTS=0`.\n",
      "2025-08-05 18:09:29.887063: I tensorflow/core/platform/cpu_feature_guard.cc:210] This TensorFlow binary is optimized to use available CPU instructions in performance-critical operations.\n",
      "To enable the following instructions: AVX2 AVX512F AVX512_VNNI FMA, in other operations, rebuild TensorFlow with the appropriate compiler flags.\n",
      "2025-08-05 18:09:30.760391: W tensorflow/compiler/tf2tensorrt/utils/py_utils.cc:38] TF-TRT Warning: Could not find TensorRT\n",
      "2025-08-05 18:09:32,416 - INFO - Using model from: /mnt/workspace/.cache/modelscope/models/SparkAudio/Spark-TTS-0___5B\n",
      "2025-08-05 18:09:32,416 - INFO - Saving audio to: result\n",
      "2025-08-05 18:09:32,418 - INFO - Using CUDA device: cuda:0\n",
      "/usr/local/lib/python3.11/site-packages/torch/nn/utils/weight_norm.py:143: FutureWarning: `torch.nn.utils.weight_norm` is deprecated in favor of `torch.nn.utils.parametrizations.weight_norm`.\n",
      "  WeightNorm.apply(module, name, dim)\n"
     ]
    },
    {
     "name": "stdout",
     "output_type": "stream",
     "text": [
      "Missing tensor: mel_transformer.spectrogram.window\n",
      "Missing tensor: mel_transformer.mel_scale.fb\n"
     ]
    },
    {
     "name": "stderr",
     "output_type": "stream",
     "text": [
      "2025-08-05 18:09:37,049 - INFO - Starting inference...\n",
      "Setting `pad_token_id` to `eos_token_id`:None for open-end generation.\n",
      "2025-08-05 18:09:44,256 - INFO - Audio saved at: result/temp.wav\n"
     ]
    },
    {
     "name": "stdout",
     "output_type": "stream",
     "text": [
      "100 我要给我家宽带账户缴费300元，现在就办 aigc_speech_generation_tasks/reference_100.wav\n"
     ]
    },
    {
     "name": "stderr",
     "output_type": "stream",
     "text": [
      "2025-08-05 18:09:48.309754: I tensorflow/core/util/port.cc:113] oneDNN custom operations are on. You may see slightly different numerical results due to floating-point round-off errors from different computation orders. To turn them off, set the environment variable `TF_ENABLE_ONEDNN_OPTS=0`.\n",
      "2025-08-05 18:09:48.348459: I tensorflow/core/platform/cpu_feature_guard.cc:210] This TensorFlow binary is optimized to use available CPU instructions in performance-critical operations.\n",
      "To enable the following instructions: AVX2 AVX512F AVX512_VNNI FMA, in other operations, rebuild TensorFlow with the appropriate compiler flags.\n",
      "2025-08-05 18:09:49.199339: W tensorflow/compiler/tf2tensorrt/utils/py_utils.cc:38] TF-TRT Warning: Could not find TensorRT\n",
      "2025-08-05 18:09:50,899 - INFO - Using model from: /mnt/workspace/.cache/modelscope/models/SparkAudio/Spark-TTS-0___5B\n",
      "2025-08-05 18:09:50,899 - INFO - Saving audio to: result\n",
      "2025-08-05 18:09:50,900 - INFO - Using CUDA device: cuda:0\n",
      "/usr/local/lib/python3.11/site-packages/torch/nn/utils/weight_norm.py:143: FutureWarning: `torch.nn.utils.weight_norm` is deprecated in favor of `torch.nn.utils.parametrizations.weight_norm`.\n",
      "  WeightNorm.apply(module, name, dim)\n"
     ]
    },
    {
     "name": "stdout",
     "output_type": "stream",
     "text": [
      "Missing tensor: mel_transformer.spectrogram.window\n",
      "Missing tensor: mel_transformer.mel_scale.fb\n"
     ]
    },
    {
     "name": "stderr",
     "output_type": "stream",
     "text": [
      "2025-08-05 18:09:55,562 - INFO - Starting inference...\n",
      "Setting `pad_token_id` to `eos_token_id`:None for open-end generation.\n",
      "2025-08-05 18:09:58,869 - INFO - Audio saved at: result/temp.wav\n"
     ]
    },
    {
     "name": "stdout",
     "output_type": "stream",
     "text": [
      "101 中年人吃痛本能，一缩腿的功夫我已经是到了近处，他抬手还要再还击，我又一次劈拳跟着落下去了。 aigc_speech_generation_tasks/reference_101.wav\n"
     ]
    },
    {
     "name": "stderr",
     "output_type": "stream",
     "text": [
      "2025-08-05 18:10:02.963169: I tensorflow/core/util/port.cc:113] oneDNN custom operations are on. You may see slightly different numerical results due to floating-point round-off errors from different computation orders. To turn them off, set the environment variable `TF_ENABLE_ONEDNN_OPTS=0`.\n",
      "2025-08-05 18:10:03.002391: I tensorflow/core/platform/cpu_feature_guard.cc:210] This TensorFlow binary is optimized to use available CPU instructions in performance-critical operations.\n",
      "To enable the following instructions: AVX2 AVX512F AVX512_VNNI FMA, in other operations, rebuild TensorFlow with the appropriate compiler flags.\n",
      "2025-08-05 18:10:03.858464: W tensorflow/compiler/tf2tensorrt/utils/py_utils.cc:38] TF-TRT Warning: Could not find TensorRT\n",
      "2025-08-05 18:10:05,523 - INFO - Using model from: /mnt/workspace/.cache/modelscope/models/SparkAudio/Spark-TTS-0___5B\n",
      "2025-08-05 18:10:05,523 - INFO - Saving audio to: result\n",
      "2025-08-05 18:10:05,524 - INFO - Using CUDA device: cuda:0\n",
      "/usr/local/lib/python3.11/site-packages/torch/nn/utils/weight_norm.py:143: FutureWarning: `torch.nn.utils.weight_norm` is deprecated in favor of `torch.nn.utils.parametrizations.weight_norm`.\n",
      "  WeightNorm.apply(module, name, dim)\n"
     ]
    },
    {
     "name": "stdout",
     "output_type": "stream",
     "text": [
      "Missing tensor: mel_transformer.spectrogram.window\n",
      "Missing tensor: mel_transformer.mel_scale.fb\n"
     ]
    },
    {
     "name": "stderr",
     "output_type": "stream",
     "text": [
      "2025-08-05 18:10:10,668 - INFO - Starting inference...\n",
      "Setting `pad_token_id` to `eos_token_id`:None for open-end generation.\n",
      "2025-08-05 18:10:23,325 - INFO - Audio saved at: result/temp.wav\n"
     ]
    },
    {
     "name": "stdout",
     "output_type": "stream",
     "text": [
      "102 把我孩子的艺术班学费结算了，200元 aigc_speech_generation_tasks/reference_102.wav\n"
     ]
    },
    {
     "name": "stderr",
     "output_type": "stream",
     "text": [
      "2025-08-05 18:10:27.430601: I tensorflow/core/util/port.cc:113] oneDNN custom operations are on. You may see slightly different numerical results due to floating-point round-off errors from different computation orders. To turn them off, set the environment variable `TF_ENABLE_ONEDNN_OPTS=0`.\n",
      "2025-08-05 18:10:27.469570: I tensorflow/core/platform/cpu_feature_guard.cc:210] This TensorFlow binary is optimized to use available CPU instructions in performance-critical operations.\n",
      "To enable the following instructions: AVX2 AVX512F AVX512_VNNI FMA, in other operations, rebuild TensorFlow with the appropriate compiler flags.\n",
      "2025-08-05 18:10:28.319672: W tensorflow/compiler/tf2tensorrt/utils/py_utils.cc:38] TF-TRT Warning: Could not find TensorRT\n",
      "2025-08-05 18:10:30,009 - INFO - Using model from: /mnt/workspace/.cache/modelscope/models/SparkAudio/Spark-TTS-0___5B\n",
      "2025-08-05 18:10:30,009 - INFO - Saving audio to: result\n",
      "2025-08-05 18:10:30,014 - INFO - Using CUDA device: cuda:0\n",
      "/usr/local/lib/python3.11/site-packages/torch/nn/utils/weight_norm.py:143: FutureWarning: `torch.nn.utils.weight_norm` is deprecated in favor of `torch.nn.utils.parametrizations.weight_norm`.\n",
      "  WeightNorm.apply(module, name, dim)\n"
     ]
    },
    {
     "name": "stdout",
     "output_type": "stream",
     "text": [
      "Missing tensor: mel_transformer.spectrogram.window\n",
      "Missing tensor: mel_transformer.mel_scale.fb\n"
     ]
    },
    {
     "name": "stderr",
     "output_type": "stream",
     "text": [
      "2025-08-05 18:10:34,652 - INFO - Starting inference...\n",
      "Setting `pad_token_id` to `eos_token_id`:None for open-end generation.\n",
      "2025-08-05 18:10:39,011 - INFO - Audio saved at: result/temp.wav\n"
     ]
    },
    {
     "name": "stdout",
     "output_type": "stream",
     "text": [
      "103 取景换了好几个，拍摄国家特别美腻 aigc_speech_generation_tasks/reference_103.wav\n"
     ]
    },
    {
     "name": "stderr",
     "output_type": "stream",
     "text": [
      "2025-08-05 18:10:43.028651: I tensorflow/core/util/port.cc:113] oneDNN custom operations are on. You may see slightly different numerical results due to floating-point round-off errors from different computation orders. To turn them off, set the environment variable `TF_ENABLE_ONEDNN_OPTS=0`.\n",
      "2025-08-05 18:10:43.067564: I tensorflow/core/platform/cpu_feature_guard.cc:210] This TensorFlow binary is optimized to use available CPU instructions in performance-critical operations.\n",
      "To enable the following instructions: AVX2 AVX512F AVX512_VNNI FMA, in other operations, rebuild TensorFlow with the appropriate compiler flags.\n",
      "2025-08-05 18:10:43.915167: W tensorflow/compiler/tf2tensorrt/utils/py_utils.cc:38] TF-TRT Warning: Could not find TensorRT\n",
      "2025-08-05 18:10:45,578 - INFO - Using model from: /mnt/workspace/.cache/modelscope/models/SparkAudio/Spark-TTS-0___5B\n",
      "2025-08-05 18:10:45,578 - INFO - Saving audio to: result\n",
      "2025-08-05 18:10:45,579 - INFO - Using CUDA device: cuda:0\n",
      "/usr/local/lib/python3.11/site-packages/torch/nn/utils/weight_norm.py:143: FutureWarning: `torch.nn.utils.weight_norm` is deprecated in favor of `torch.nn.utils.parametrizations.weight_norm`.\n",
      "  WeightNorm.apply(module, name, dim)\n"
     ]
    },
    {
     "name": "stdout",
     "output_type": "stream",
     "text": [
      "Missing tensor: mel_transformer.spectrogram.window\n",
      "Missing tensor: mel_transformer.mel_scale.fb\n"
     ]
    },
    {
     "name": "stderr",
     "output_type": "stream",
     "text": [
      "2025-08-05 18:10:50,226 - INFO - Starting inference...\n",
      "Setting `pad_token_id` to `eos_token_id`:None for open-end generation.\n",
      "2025-08-05 18:10:54,989 - INFO - Audio saved at: result/temp.wav\n"
     ]
    },
    {
     "name": "stdout",
     "output_type": "stream",
     "text": [
      "104 穿着笔挺礼服打着漂亮领结的侍者原本在餐厅忙碌地穿来穿去，瑞博就着白开水啃完干面包走出了别墅，马车已经在门外等候着了。 aigc_speech_generation_tasks/reference_104.wav\n"
     ]
    },
    {
     "name": "stderr",
     "output_type": "stream",
     "text": [
      "2025-08-05 18:10:59.033289: I tensorflow/core/util/port.cc:113] oneDNN custom operations are on. You may see slightly different numerical results due to floating-point round-off errors from different computation orders. To turn them off, set the environment variable `TF_ENABLE_ONEDNN_OPTS=0`.\n",
      "2025-08-05 18:10:59.072707: I tensorflow/core/platform/cpu_feature_guard.cc:210] This TensorFlow binary is optimized to use available CPU instructions in performance-critical operations.\n",
      "To enable the following instructions: AVX2 AVX512F AVX512_VNNI FMA, in other operations, rebuild TensorFlow with the appropriate compiler flags.\n",
      "2025-08-05 18:10:59.933357: W tensorflow/compiler/tf2tensorrt/utils/py_utils.cc:38] TF-TRT Warning: Could not find TensorRT\n",
      "2025-08-05 18:11:01,628 - INFO - Using model from: /mnt/workspace/.cache/modelscope/models/SparkAudio/Spark-TTS-0___5B\n",
      "2025-08-05 18:11:01,628 - INFO - Saving audio to: result\n",
      "2025-08-05 18:11:01,630 - INFO - Using CUDA device: cuda:0\n",
      "/usr/local/lib/python3.11/site-packages/torch/nn/utils/weight_norm.py:143: FutureWarning: `torch.nn.utils.weight_norm` is deprecated in favor of `torch.nn.utils.parametrizations.weight_norm`.\n",
      "  WeightNorm.apply(module, name, dim)\n"
     ]
    },
    {
     "name": "stdout",
     "output_type": "stream",
     "text": [
      "Missing tensor: mel_transformer.spectrogram.window\n",
      "Missing tensor: mel_transformer.mel_scale.fb\n"
     ]
    },
    {
     "name": "stderr",
     "output_type": "stream",
     "text": [
      "2025-08-05 18:11:06,369 - INFO - Starting inference...\n",
      "Setting `pad_token_id` to `eos_token_id`:None for open-end generation.\n",
      "2025-08-05 18:11:19,194 - INFO - Audio saved at: result/temp.wav\n"
     ]
    },
    {
     "name": "stdout",
     "output_type": "stream",
     "text": [
      "105 预订一周的云南旅游套餐，包括昆明、大理和丽江的住宿和交通 aigc_speech_generation_tasks/reference_105.wav\n"
     ]
    },
    {
     "name": "stderr",
     "output_type": "stream",
     "text": [
      "2025-08-05 18:11:23.326780: I tensorflow/core/util/port.cc:113] oneDNN custom operations are on. You may see slightly different numerical results due to floating-point round-off errors from different computation orders. To turn them off, set the environment variable `TF_ENABLE_ONEDNN_OPTS=0`.\n",
      "2025-08-05 18:11:23.367192: I tensorflow/core/platform/cpu_feature_guard.cc:210] This TensorFlow binary is optimized to use available CPU instructions in performance-critical operations.\n",
      "To enable the following instructions: AVX2 AVX512F AVX512_VNNI FMA, in other operations, rebuild TensorFlow with the appropriate compiler flags.\n",
      "2025-08-05 18:11:24.215116: W tensorflow/compiler/tf2tensorrt/utils/py_utils.cc:38] TF-TRT Warning: Could not find TensorRT\n",
      "2025-08-05 18:11:25,878 - INFO - Using model from: /mnt/workspace/.cache/modelscope/models/SparkAudio/Spark-TTS-0___5B\n",
      "2025-08-05 18:11:25,878 - INFO - Saving audio to: result\n",
      "2025-08-05 18:11:25,880 - INFO - Using CUDA device: cuda:0\n",
      "/usr/local/lib/python3.11/site-packages/torch/nn/utils/weight_norm.py:143: FutureWarning: `torch.nn.utils.weight_norm` is deprecated in favor of `torch.nn.utils.parametrizations.weight_norm`.\n",
      "  WeightNorm.apply(module, name, dim)\n"
     ]
    },
    {
     "name": "stdout",
     "output_type": "stream",
     "text": [
      "Missing tensor: mel_transformer.spectrogram.window\n",
      "Missing tensor: mel_transformer.mel_scale.fb\n"
     ]
    },
    {
     "name": "stderr",
     "output_type": "stream",
     "text": [
      "2025-08-05 18:11:30,646 - INFO - Starting inference...\n",
      "Setting `pad_token_id` to `eos_token_id`:None for open-end generation.\n",
      "2025-08-05 18:12:05,166 - INFO - Audio saved at: result/temp.wav\n"
     ]
    },
    {
     "name": "stdout",
     "output_type": "stream",
     "text": [
      "106 G女士收到一条短信写着快递丢失点进链接可以帮助理赔退款，G女士加了客服的联系方式，并指导她下载某会议APP，视频指导她先发送支付宝口令红包，并告知马上即可给她退款，G女士打完款后被拉黑遂意识被骗 aigc_speech_generation_tasks/reference_106.wav\n"
     ]
    },
    {
     "name": "stderr",
     "output_type": "stream",
     "text": [
      "2025-08-05 18:12:09.302446: I tensorflow/core/util/port.cc:113] oneDNN custom operations are on. You may see slightly different numerical results due to floating-point round-off errors from different computation orders. To turn them off, set the environment variable `TF_ENABLE_ONEDNN_OPTS=0`.\n",
      "2025-08-05 18:12:09.341378: I tensorflow/core/platform/cpu_feature_guard.cc:210] This TensorFlow binary is optimized to use available CPU instructions in performance-critical operations.\n",
      "To enable the following instructions: AVX2 AVX512F AVX512_VNNI FMA, in other operations, rebuild TensorFlow with the appropriate compiler flags.\n",
      "2025-08-05 18:12:10.179643: W tensorflow/compiler/tf2tensorrt/utils/py_utils.cc:38] TF-TRT Warning: Could not find TensorRT\n",
      "2025-08-05 18:12:11,845 - INFO - Using model from: /mnt/workspace/.cache/modelscope/models/SparkAudio/Spark-TTS-0___5B\n",
      "2025-08-05 18:12:11,845 - INFO - Saving audio to: result\n",
      "2025-08-05 18:12:11,847 - INFO - Using CUDA device: cuda:0\n",
      "/usr/local/lib/python3.11/site-packages/torch/nn/utils/weight_norm.py:143: FutureWarning: `torch.nn.utils.weight_norm` is deprecated in favor of `torch.nn.utils.parametrizations.weight_norm`.\n",
      "  WeightNorm.apply(module, name, dim)\n"
     ]
    },
    {
     "name": "stdout",
     "output_type": "stream",
     "text": [
      "Missing tensor: mel_transformer.spectrogram.window\n",
      "Missing tensor: mel_transformer.mel_scale.fb\n"
     ]
    },
    {
     "name": "stderr",
     "output_type": "stream",
     "text": [
      "2025-08-05 18:12:17,344 - INFO - Starting inference...\n",
      "Setting `pad_token_id` to `eos_token_id`:None for open-end generation.\n",
      "2025-08-05 18:12:38,569 - INFO - Audio saved at: result/temp.wav\n"
     ]
    },
    {
     "name": "stdout",
     "output_type": "stream",
     "text": [
      "107 不少凡人害怕打雷。无法理解，这分明很寻常。 aigc_speech_generation_tasks/reference_107.wav\n"
     ]
    },
    {
     "name": "stderr",
     "output_type": "stream",
     "text": [
      "2025-08-05 18:12:42.640056: I tensorflow/core/util/port.cc:113] oneDNN custom operations are on. You may see slightly different numerical results due to floating-point round-off errors from different computation orders. To turn them off, set the environment variable `TF_ENABLE_ONEDNN_OPTS=0`.\n",
      "2025-08-05 18:12:42.679315: I tensorflow/core/platform/cpu_feature_guard.cc:210] This TensorFlow binary is optimized to use available CPU instructions in performance-critical operations.\n",
      "To enable the following instructions: AVX2 AVX512F AVX512_VNNI FMA, in other operations, rebuild TensorFlow with the appropriate compiler flags.\n",
      "2025-08-05 18:12:43.521162: W tensorflow/compiler/tf2tensorrt/utils/py_utils.cc:38] TF-TRT Warning: Could not find TensorRT\n",
      "2025-08-05 18:12:45,183 - INFO - Using model from: /mnt/workspace/.cache/modelscope/models/SparkAudio/Spark-TTS-0___5B\n",
      "2025-08-05 18:12:45,183 - INFO - Saving audio to: result\n",
      "2025-08-05 18:12:45,185 - INFO - Using CUDA device: cuda:0\n",
      "/usr/local/lib/python3.11/site-packages/torch/nn/utils/weight_norm.py:143: FutureWarning: `torch.nn.utils.weight_norm` is deprecated in favor of `torch.nn.utils.parametrizations.weight_norm`.\n",
      "  WeightNorm.apply(module, name, dim)\n"
     ]
    },
    {
     "name": "stdout",
     "output_type": "stream",
     "text": [
      "Missing tensor: mel_transformer.spectrogram.window\n",
      "Missing tensor: mel_transformer.mel_scale.fb\n"
     ]
    },
    {
     "name": "stderr",
     "output_type": "stream",
     "text": [
      "2025-08-05 18:12:49,863 - INFO - Starting inference...\n",
      "Setting `pad_token_id` to `eos_token_id`:None for open-end generation.\n",
      "2025-08-05 18:12:54,936 - INFO - Audio saved at: result/temp.wav\n"
     ]
    },
    {
     "name": "stdout",
     "output_type": "stream",
     "text": [
      "108 为我在故宫边上的老北京烤鸭店订一桌宴席，并支付订金 aigc_speech_generation_tasks/reference_108.wav\n"
     ]
    },
    {
     "name": "stderr",
     "output_type": "stream",
     "text": [
      "2025-08-05 18:12:59.052033: I tensorflow/core/util/port.cc:113] oneDNN custom operations are on. You may see slightly different numerical results due to floating-point round-off errors from different computation orders. To turn them off, set the environment variable `TF_ENABLE_ONEDNN_OPTS=0`.\n",
      "2025-08-05 18:12:59.091350: I tensorflow/core/platform/cpu_feature_guard.cc:210] This TensorFlow binary is optimized to use available CPU instructions in performance-critical operations.\n",
      "To enable the following instructions: AVX2 AVX512F AVX512_VNNI FMA, in other operations, rebuild TensorFlow with the appropriate compiler flags.\n",
      "2025-08-05 18:12:59.935746: W tensorflow/compiler/tf2tensorrt/utils/py_utils.cc:38] TF-TRT Warning: Could not find TensorRT\n",
      "2025-08-05 18:13:01,602 - INFO - Using model from: /mnt/workspace/.cache/modelscope/models/SparkAudio/Spark-TTS-0___5B\n",
      "2025-08-05 18:13:01,602 - INFO - Saving audio to: result\n",
      "2025-08-05 18:13:01,603 - INFO - Using CUDA device: cuda:0\n",
      "/usr/local/lib/python3.11/site-packages/torch/nn/utils/weight_norm.py:143: FutureWarning: `torch.nn.utils.weight_norm` is deprecated in favor of `torch.nn.utils.parametrizations.weight_norm`.\n",
      "  WeightNorm.apply(module, name, dim)\n"
     ]
    },
    {
     "name": "stdout",
     "output_type": "stream",
     "text": [
      "Missing tensor: mel_transformer.spectrogram.window\n",
      "Missing tensor: mel_transformer.mel_scale.fb\n"
     ]
    },
    {
     "name": "stderr",
     "output_type": "stream",
     "text": [
      "2025-08-05 18:13:06,235 - INFO - Starting inference...\n",
      "Setting `pad_token_id` to `eos_token_id`:None for open-end generation.\n",
      "2025-08-05 18:13:12,684 - INFO - Audio saved at: result/temp.wav\n"
     ]
    },
    {
     "name": "stdout",
     "output_type": "stream",
     "text": [
      "109 字根是字形类中文输入法拆字的基本形状单位。 aigc_speech_generation_tasks/reference_109.wav\n"
     ]
    },
    {
     "name": "stderr",
     "output_type": "stream",
     "text": [
      "2025-08-05 18:13:16.788342: I tensorflow/core/util/port.cc:113] oneDNN custom operations are on. You may see slightly different numerical results due to floating-point round-off errors from different computation orders. To turn them off, set the environment variable `TF_ENABLE_ONEDNN_OPTS=0`.\n",
      "2025-08-05 18:13:16.827533: I tensorflow/core/platform/cpu_feature_guard.cc:210] This TensorFlow binary is optimized to use available CPU instructions in performance-critical operations.\n",
      "To enable the following instructions: AVX2 AVX512F AVX512_VNNI FMA, in other operations, rebuild TensorFlow with the appropriate compiler flags.\n",
      "2025-08-05 18:13:17.686475: W tensorflow/compiler/tf2tensorrt/utils/py_utils.cc:38] TF-TRT Warning: Could not find TensorRT\n",
      "2025-08-05 18:13:19,361 - INFO - Using model from: /mnt/workspace/.cache/modelscope/models/SparkAudio/Spark-TTS-0___5B\n",
      "2025-08-05 18:13:19,362 - INFO - Saving audio to: result\n",
      "2025-08-05 18:13:19,363 - INFO - Using CUDA device: cuda:0\n",
      "/usr/local/lib/python3.11/site-packages/torch/nn/utils/weight_norm.py:143: FutureWarning: `torch.nn.utils.weight_norm` is deprecated in favor of `torch.nn.utils.parametrizations.weight_norm`.\n",
      "  WeightNorm.apply(module, name, dim)\n"
     ]
    },
    {
     "name": "stdout",
     "output_type": "stream",
     "text": [
      "Missing tensor: mel_transformer.spectrogram.window\n",
      "Missing tensor: mel_transformer.mel_scale.fb\n"
     ]
    },
    {
     "name": "stderr",
     "output_type": "stream",
     "text": [
      "2025-08-05 18:13:24,335 - INFO - Starting inference...\n",
      "Setting `pad_token_id` to `eos_token_id`:None for open-end generation.\n",
      "2025-08-05 18:13:29,472 - INFO - Audio saved at: result/temp.wav\n"
     ]
    },
    {
     "name": "stdout",
     "output_type": "stream",
     "text": [
      "110 所以方案型代餐切中的人群相对小众 aigc_speech_generation_tasks/reference_110.wav\n"
     ]
    },
    {
     "name": "stderr",
     "output_type": "stream",
     "text": [
      "2025-08-05 18:13:33.608194: I tensorflow/core/util/port.cc:113] oneDNN custom operations are on. You may see slightly different numerical results due to floating-point round-off errors from different computation orders. To turn them off, set the environment variable `TF_ENABLE_ONEDNN_OPTS=0`.\n",
      "2025-08-05 18:13:33.647420: I tensorflow/core/platform/cpu_feature_guard.cc:210] This TensorFlow binary is optimized to use available CPU instructions in performance-critical operations.\n",
      "To enable the following instructions: AVX2 AVX512F AVX512_VNNI FMA, in other operations, rebuild TensorFlow with the appropriate compiler flags.\n",
      "2025-08-05 18:13:34.500211: W tensorflow/compiler/tf2tensorrt/utils/py_utils.cc:38] TF-TRT Warning: Could not find TensorRT\n",
      "2025-08-05 18:13:36,167 - INFO - Using model from: /mnt/workspace/.cache/modelscope/models/SparkAudio/Spark-TTS-0___5B\n",
      "2025-08-05 18:13:36,167 - INFO - Saving audio to: result\n",
      "2025-08-05 18:13:36,168 - INFO - Using CUDA device: cuda:0\n",
      "/usr/local/lib/python3.11/site-packages/torch/nn/utils/weight_norm.py:143: FutureWarning: `torch.nn.utils.weight_norm` is deprecated in favor of `torch.nn.utils.parametrizations.weight_norm`.\n",
      "  WeightNorm.apply(module, name, dim)\n"
     ]
    },
    {
     "name": "stdout",
     "output_type": "stream",
     "text": [
      "Missing tensor: mel_transformer.spectrogram.window\n",
      "Missing tensor: mel_transformer.mel_scale.fb\n"
     ]
    },
    {
     "name": "stderr",
     "output_type": "stream",
     "text": [
      "2025-08-05 18:13:40,973 - INFO - Starting inference...\n",
      "Setting `pad_token_id` to `eos_token_id`:None for open-end generation.\n",
      "2025-08-05 18:13:45,993 - INFO - Audio saved at: result/temp.wav\n"
     ]
    },
    {
     "name": "stdout",
     "output_type": "stream",
     "text": [
      "111 结算一下寿司店的账单，一份火龙卷和两杯绿茶 aigc_speech_generation_tasks/reference_111.wav\n"
     ]
    },
    {
     "name": "stderr",
     "output_type": "stream",
     "text": [
      "2025-08-05 18:13:50.118007: I tensorflow/core/util/port.cc:113] oneDNN custom operations are on. You may see slightly different numerical results due to floating-point round-off errors from different computation orders. To turn them off, set the environment variable `TF_ENABLE_ONEDNN_OPTS=0`.\n",
      "2025-08-05 18:13:50.157402: I tensorflow/core/platform/cpu_feature_guard.cc:210] This TensorFlow binary is optimized to use available CPU instructions in performance-critical operations.\n",
      "To enable the following instructions: AVX2 AVX512F AVX512_VNNI FMA, in other operations, rebuild TensorFlow with the appropriate compiler flags.\n",
      "2025-08-05 18:13:51.051883: W tensorflow/compiler/tf2tensorrt/utils/py_utils.cc:38] TF-TRT Warning: Could not find TensorRT\n",
      "2025-08-05 18:13:52,710 - INFO - Using model from: /mnt/workspace/.cache/modelscope/models/SparkAudio/Spark-TTS-0___5B\n",
      "2025-08-05 18:13:52,710 - INFO - Saving audio to: result\n",
      "2025-08-05 18:13:52,712 - INFO - Using CUDA device: cuda:0\n",
      "/usr/local/lib/python3.11/site-packages/torch/nn/utils/weight_norm.py:143: FutureWarning: `torch.nn.utils.weight_norm` is deprecated in favor of `torch.nn.utils.parametrizations.weight_norm`.\n",
      "  WeightNorm.apply(module, name, dim)\n"
     ]
    },
    {
     "name": "stdout",
     "output_type": "stream",
     "text": [
      "Missing tensor: mel_transformer.spectrogram.window\n",
      "Missing tensor: mel_transformer.mel_scale.fb\n"
     ]
    },
    {
     "name": "stderr",
     "output_type": "stream",
     "text": [
      "2025-08-05 18:13:57,383 - INFO - Starting inference...\n",
      "Setting `pad_token_id` to `eos_token_id`:None for open-end generation.\n",
      "2025-08-05 18:14:02,618 - INFO - Audio saved at: result/temp.wav\n"
     ]
    },
    {
     "name": "stdout",
     "output_type": "stream",
     "text": [
      "112 九百三十之后腾讯投资有没有大的变化 aigc_speech_generation_tasks/reference_112.wav\n"
     ]
    },
    {
     "name": "stderr",
     "output_type": "stream",
     "text": [
      "2025-08-05 18:14:06.798261: I tensorflow/core/util/port.cc:113] oneDNN custom operations are on. You may see slightly different numerical results due to floating-point round-off errors from different computation orders. To turn them off, set the environment variable `TF_ENABLE_ONEDNN_OPTS=0`.\n",
      "2025-08-05 18:14:06.847797: I tensorflow/core/platform/cpu_feature_guard.cc:210] This TensorFlow binary is optimized to use available CPU instructions in performance-critical operations.\n",
      "To enable the following instructions: AVX2 AVX512F AVX512_VNNI FMA, in other operations, rebuild TensorFlow with the appropriate compiler flags.\n",
      "2025-08-05 18:14:07.720751: W tensorflow/compiler/tf2tensorrt/utils/py_utils.cc:38] TF-TRT Warning: Could not find TensorRT\n",
      "2025-08-05 18:14:09,402 - INFO - Using model from: /mnt/workspace/.cache/modelscope/models/SparkAudio/Spark-TTS-0___5B\n",
      "2025-08-05 18:14:09,402 - INFO - Saving audio to: result\n",
      "2025-08-05 18:14:09,403 - INFO - Using CUDA device: cuda:0\n",
      "/usr/local/lib/python3.11/site-packages/torch/nn/utils/weight_norm.py:143: FutureWarning: `torch.nn.utils.weight_norm` is deprecated in favor of `torch.nn.utils.parametrizations.weight_norm`.\n",
      "  WeightNorm.apply(module, name, dim)\n"
     ]
    },
    {
     "name": "stdout",
     "output_type": "stream",
     "text": [
      "Missing tensor: mel_transformer.spectrogram.window\n",
      "Missing tensor: mel_transformer.mel_scale.fb\n"
     ]
    },
    {
     "name": "stderr",
     "output_type": "stream",
     "text": [
      "2025-08-05 18:14:14,027 - INFO - Starting inference...\n",
      "Setting `pad_token_id` to `eos_token_id`:None for open-end generation.\n",
      "2025-08-05 18:14:19,685 - INFO - Audio saved at: result/temp.wav\n"
     ]
    },
    {
     "name": "stdout",
     "output_type": "stream",
     "text": [
      "113 一把长剑划破了长风，落叶被风卷起，我眼中顿然没了一切，只余下那把朝着他刺去的利刃。 aigc_speech_generation_tasks/reference_113.wav\n"
     ]
    },
    {
     "name": "stderr",
     "output_type": "stream",
     "text": [
      "2025-08-05 18:14:23.830267: I tensorflow/core/util/port.cc:113] oneDNN custom operations are on. You may see slightly different numerical results due to floating-point round-off errors from different computation orders. To turn them off, set the environment variable `TF_ENABLE_ONEDNN_OPTS=0`.\n",
      "2025-08-05 18:14:23.870873: I tensorflow/core/platform/cpu_feature_guard.cc:210] This TensorFlow binary is optimized to use available CPU instructions in performance-critical operations.\n",
      "To enable the following instructions: AVX2 AVX512F AVX512_VNNI FMA, in other operations, rebuild TensorFlow with the appropriate compiler flags.\n",
      "2025-08-05 18:14:24.729756: W tensorflow/compiler/tf2tensorrt/utils/py_utils.cc:38] TF-TRT Warning: Could not find TensorRT\n",
      "2025-08-05 18:14:26,406 - INFO - Using model from: /mnt/workspace/.cache/modelscope/models/SparkAudio/Spark-TTS-0___5B\n",
      "2025-08-05 18:14:26,406 - INFO - Saving audio to: result\n",
      "2025-08-05 18:14:26,407 - INFO - Using CUDA device: cuda:0\n",
      "/usr/local/lib/python3.11/site-packages/torch/nn/utils/weight_norm.py:143: FutureWarning: `torch.nn.utils.weight_norm` is deprecated in favor of `torch.nn.utils.parametrizations.weight_norm`.\n",
      "  WeightNorm.apply(module, name, dim)\n"
     ]
    },
    {
     "name": "stdout",
     "output_type": "stream",
     "text": [
      "Missing tensor: mel_transformer.spectrogram.window\n",
      "Missing tensor: mel_transformer.mel_scale.fb\n"
     ]
    },
    {
     "name": "stderr",
     "output_type": "stream",
     "text": [
      "2025-08-05 18:14:31,215 - INFO - Starting inference...\n",
      "Setting `pad_token_id` to `eos_token_id`:None for open-end generation.\n",
      "2025-08-05 18:14:43,858 - INFO - Audio saved at: result/temp.wav\n"
     ]
    },
    {
     "name": "stdout",
     "output_type": "stream",
     "text": [
      "114 安排一次汽车保养服务，我车的里程已经超过5000公里了 aigc_speech_generation_tasks/reference_114.wav\n"
     ]
    },
    {
     "name": "stderr",
     "output_type": "stream",
     "text": [
      "2025-08-05 18:14:47.939719: I tensorflow/core/util/port.cc:113] oneDNN custom operations are on. You may see slightly different numerical results due to floating-point round-off errors from different computation orders. To turn them off, set the environment variable `TF_ENABLE_ONEDNN_OPTS=0`.\n",
      "2025-08-05 18:14:47.978928: I tensorflow/core/platform/cpu_feature_guard.cc:210] This TensorFlow binary is optimized to use available CPU instructions in performance-critical operations.\n",
      "To enable the following instructions: AVX2 AVX512F AVX512_VNNI FMA, in other operations, rebuild TensorFlow with the appropriate compiler flags.\n",
      "2025-08-05 18:14:48.819685: W tensorflow/compiler/tf2tensorrt/utils/py_utils.cc:38] TF-TRT Warning: Could not find TensorRT\n",
      "2025-08-05 18:14:50,493 - INFO - Using model from: /mnt/workspace/.cache/modelscope/models/SparkAudio/Spark-TTS-0___5B\n",
      "2025-08-05 18:14:50,493 - INFO - Saving audio to: result\n",
      "2025-08-05 18:14:50,495 - INFO - Using CUDA device: cuda:0\n",
      "/usr/local/lib/python3.11/site-packages/torch/nn/utils/weight_norm.py:143: FutureWarning: `torch.nn.utils.weight_norm` is deprecated in favor of `torch.nn.utils.parametrizations.weight_norm`.\n",
      "  WeightNorm.apply(module, name, dim)\n"
     ]
    },
    {
     "name": "stdout",
     "output_type": "stream",
     "text": [
      "Missing tensor: mel_transformer.spectrogram.window\n",
      "Missing tensor: mel_transformer.mel_scale.fb\n"
     ]
    },
    {
     "name": "stderr",
     "output_type": "stream",
     "text": [
      "2025-08-05 18:14:55,100 - INFO - Starting inference...\n",
      "Setting `pad_token_id` to `eos_token_id`:None for open-end generation.\n",
      "2025-08-05 18:15:01,576 - INFO - Audio saved at: result/temp.wav\n"
     ]
    },
    {
     "name": "stdout",
     "output_type": "stream",
     "text": [
      "115 帮我购买一套新生儿衣物套装和婴儿推车，总共不超过2000元 aigc_speech_generation_tasks/reference_115.wav\n"
     ]
    },
    {
     "name": "stderr",
     "output_type": "stream",
     "text": [
      "2025-08-05 18:15:05.715581: I tensorflow/core/util/port.cc:113] oneDNN custom operations are on. You may see slightly different numerical results due to floating-point round-off errors from different computation orders. To turn them off, set the environment variable `TF_ENABLE_ONEDNN_OPTS=0`.\n",
      "2025-08-05 18:15:05.754452: I tensorflow/core/platform/cpu_feature_guard.cc:210] This TensorFlow binary is optimized to use available CPU instructions in performance-critical operations.\n",
      "To enable the following instructions: AVX2 AVX512F AVX512_VNNI FMA, in other operations, rebuild TensorFlow with the appropriate compiler flags.\n",
      "2025-08-05 18:15:06.643637: W tensorflow/compiler/tf2tensorrt/utils/py_utils.cc:38] TF-TRT Warning: Could not find TensorRT\n",
      "2025-08-05 18:15:08,359 - INFO - Using model from: /mnt/workspace/.cache/modelscope/models/SparkAudio/Spark-TTS-0___5B\n",
      "2025-08-05 18:15:08,359 - INFO - Saving audio to: result\n",
      "2025-08-05 18:15:08,361 - INFO - Using CUDA device: cuda:0\n",
      "/usr/local/lib/python3.11/site-packages/torch/nn/utils/weight_norm.py:143: FutureWarning: `torch.nn.utils.weight_norm` is deprecated in favor of `torch.nn.utils.parametrizations.weight_norm`.\n",
      "  WeightNorm.apply(module, name, dim)\n"
     ]
    },
    {
     "name": "stdout",
     "output_type": "stream",
     "text": [
      "Missing tensor: mel_transformer.spectrogram.window\n",
      "Missing tensor: mel_transformer.mel_scale.fb\n"
     ]
    },
    {
     "name": "stderr",
     "output_type": "stream",
     "text": [
      "2025-08-05 18:15:13,227 - INFO - Starting inference...\n",
      "Setting `pad_token_id` to `eos_token_id`:None for open-end generation.\n",
      "2025-08-05 18:15:20,961 - INFO - Audio saved at: result/temp.wav\n"
     ]
    },
    {
     "name": "stdout",
     "output_type": "stream",
     "text": [
      "116 缴纳罚款单，交警大队开具的违停罚单，编号20240305 aigc_speech_generation_tasks/reference_116.wav\n"
     ]
    },
    {
     "name": "stderr",
     "output_type": "stream",
     "text": [
      "2025-08-05 18:15:25.048883: I tensorflow/core/util/port.cc:113] oneDNN custom operations are on. You may see slightly different numerical results due to floating-point round-off errors from different computation orders. To turn them off, set the environment variable `TF_ENABLE_ONEDNN_OPTS=0`.\n",
      "2025-08-05 18:15:25.087976: I tensorflow/core/platform/cpu_feature_guard.cc:210] This TensorFlow binary is optimized to use available CPU instructions in performance-critical operations.\n",
      "To enable the following instructions: AVX2 AVX512F AVX512_VNNI FMA, in other operations, rebuild TensorFlow with the appropriate compiler flags.\n",
      "2025-08-05 18:15:25.940440: W tensorflow/compiler/tf2tensorrt/utils/py_utils.cc:38] TF-TRT Warning: Could not find TensorRT\n",
      "2025-08-05 18:15:27,620 - INFO - Using model from: /mnt/workspace/.cache/modelscope/models/SparkAudio/Spark-TTS-0___5B\n",
      "2025-08-05 18:15:27,620 - INFO - Saving audio to: result\n",
      "2025-08-05 18:15:27,622 - INFO - Using CUDA device: cuda:0\n",
      "/usr/local/lib/python3.11/site-packages/torch/nn/utils/weight_norm.py:143: FutureWarning: `torch.nn.utils.weight_norm` is deprecated in favor of `torch.nn.utils.parametrizations.weight_norm`.\n",
      "  WeightNorm.apply(module, name, dim)\n"
     ]
    },
    {
     "name": "stdout",
     "output_type": "stream",
     "text": [
      "Missing tensor: mel_transformer.spectrogram.window\n",
      "Missing tensor: mel_transformer.mel_scale.fb\n"
     ]
    },
    {
     "name": "stderr",
     "output_type": "stream",
     "text": [
      "2025-08-05 18:15:32,339 - INFO - Starting inference...\n",
      "Setting `pad_token_id` to `eos_token_id`:None for open-end generation.\n",
      "2025-08-05 18:15:43,719 - INFO - Audio saved at: result/temp.wav\n"
     ]
    },
    {
     "name": "stdout",
     "output_type": "stream",
     "text": [
      "117 成年人的肺活量男性平均为 3500-4000 mL，女性为 2500-3000 mL，吸烟或患有慢性呼吸道疾病的人群通常会低于此标准。建议定期进行体检，并在有任何异常时及时咨询医生。 aigc_speech_generation_tasks/reference_117.wav\n"
     ]
    },
    {
     "name": "stderr",
     "output_type": "stream",
     "text": [
      "2025-08-05 18:15:47.814250: I tensorflow/core/util/port.cc:113] oneDNN custom operations are on. You may see slightly different numerical results due to floating-point round-off errors from different computation orders. To turn them off, set the environment variable `TF_ENABLE_ONEDNN_OPTS=0`.\n",
      "2025-08-05 18:15:47.853758: I tensorflow/core/platform/cpu_feature_guard.cc:210] This TensorFlow binary is optimized to use available CPU instructions in performance-critical operations.\n",
      "To enable the following instructions: AVX2 AVX512F AVX512_VNNI FMA, in other operations, rebuild TensorFlow with the appropriate compiler flags.\n",
      "2025-08-05 18:15:48.705099: W tensorflow/compiler/tf2tensorrt/utils/py_utils.cc:38] TF-TRT Warning: Could not find TensorRT\n",
      "2025-08-05 18:15:50,386 - INFO - Using model from: /mnt/workspace/.cache/modelscope/models/SparkAudio/Spark-TTS-0___5B\n",
      "2025-08-05 18:15:50,387 - INFO - Saving audio to: result\n",
      "2025-08-05 18:15:50,388 - INFO - Using CUDA device: cuda:0\n",
      "/usr/local/lib/python3.11/site-packages/torch/nn/utils/weight_norm.py:143: FutureWarning: `torch.nn.utils.weight_norm` is deprecated in favor of `torch.nn.utils.parametrizations.weight_norm`.\n",
      "  WeightNorm.apply(module, name, dim)\n"
     ]
    },
    {
     "name": "stdout",
     "output_type": "stream",
     "text": [
      "Missing tensor: mel_transformer.spectrogram.window\n",
      "Missing tensor: mel_transformer.mel_scale.fb\n"
     ]
    },
    {
     "name": "stderr",
     "output_type": "stream",
     "text": [
      "2025-08-05 18:15:55,065 - INFO - Starting inference...\n",
      "Setting `pad_token_id` to `eos_token_id`:None for open-end generation.\n",
      "2025-08-05 18:16:41,751 - INFO - Audio saved at: result/temp.wav\n"
     ]
    },
    {
     "name": "stdout",
     "output_type": "stream",
     "text": [
      "118 他背着重包走在重阳节的山上，一边走一边想着重大的人生抉择。 aigc_speech_generation_tasks/reference_118.wav\n"
     ]
    },
    {
     "name": "stderr",
     "output_type": "stream",
     "text": [
      "2025-08-05 18:16:45.806964: I tensorflow/core/util/port.cc:113] oneDNN custom operations are on. You may see slightly different numerical results due to floating-point round-off errors from different computation orders. To turn them off, set the environment variable `TF_ENABLE_ONEDNN_OPTS=0`.\n",
      "2025-08-05 18:16:45.847777: I tensorflow/core/platform/cpu_feature_guard.cc:210] This TensorFlow binary is optimized to use available CPU instructions in performance-critical operations.\n",
      "To enable the following instructions: AVX2 AVX512F AVX512_VNNI FMA, in other operations, rebuild TensorFlow with the appropriate compiler flags.\n",
      "2025-08-05 18:16:46.701549: W tensorflow/compiler/tf2tensorrt/utils/py_utils.cc:38] TF-TRT Warning: Could not find TensorRT\n",
      "2025-08-05 18:16:48,368 - INFO - Using model from: /mnt/workspace/.cache/modelscope/models/SparkAudio/Spark-TTS-0___5B\n",
      "2025-08-05 18:16:48,368 - INFO - Saving audio to: result\n",
      "2025-08-05 18:16:48,369 - INFO - Using CUDA device: cuda:0\n",
      "/usr/local/lib/python3.11/site-packages/torch/nn/utils/weight_norm.py:143: FutureWarning: `torch.nn.utils.weight_norm` is deprecated in favor of `torch.nn.utils.parametrizations.weight_norm`.\n",
      "  WeightNorm.apply(module, name, dim)\n"
     ]
    },
    {
     "name": "stdout",
     "output_type": "stream",
     "text": [
      "Missing tensor: mel_transformer.spectrogram.window\n",
      "Missing tensor: mel_transformer.mel_scale.fb\n"
     ]
    },
    {
     "name": "stderr",
     "output_type": "stream",
     "text": [
      "2025-08-05 18:16:54,258 - INFO - Starting inference...\n",
      "Setting `pad_token_id` to `eos_token_id`:None for open-end generation.\n",
      "2025-08-05 18:16:59,877 - INFO - Audio saved at: result/temp.wav\n"
     ]
    },
    {
     "name": "stdout",
     "output_type": "stream",
     "text": [
      "119 大规模语言模型的训练过程涉及海量文本数据的预处理、词向量嵌入、注意力权重计算以及梯度下降优化，其背后依赖于高性能计算集群和分布式训练框架的支持。 aigc_speech_generation_tasks/reference_119.wav\n"
     ]
    },
    {
     "name": "stderr",
     "output_type": "stream",
     "text": [
      "2025-08-05 18:17:04.007398: I tensorflow/core/util/port.cc:113] oneDNN custom operations are on. You may see slightly different numerical results due to floating-point round-off errors from different computation orders. To turn them off, set the environment variable `TF_ENABLE_ONEDNN_OPTS=0`.\n",
      "2025-08-05 18:17:04.046442: I tensorflow/core/platform/cpu_feature_guard.cc:210] This TensorFlow binary is optimized to use available CPU instructions in performance-critical operations.\n",
      "To enable the following instructions: AVX2 AVX512F AVX512_VNNI FMA, in other operations, rebuild TensorFlow with the appropriate compiler flags.\n",
      "2025-08-05 18:17:04.888751: W tensorflow/compiler/tf2tensorrt/utils/py_utils.cc:38] TF-TRT Warning: Could not find TensorRT\n",
      "2025-08-05 18:17:06,554 - INFO - Using model from: /mnt/workspace/.cache/modelscope/models/SparkAudio/Spark-TTS-0___5B\n",
      "2025-08-05 18:17:06,554 - INFO - Saving audio to: result\n",
      "2025-08-05 18:17:06,556 - INFO - Using CUDA device: cuda:0\n",
      "/usr/local/lib/python3.11/site-packages/torch/nn/utils/weight_norm.py:143: FutureWarning: `torch.nn.utils.weight_norm` is deprecated in favor of `torch.nn.utils.parametrizations.weight_norm`.\n",
      "  WeightNorm.apply(module, name, dim)\n"
     ]
    },
    {
     "name": "stdout",
     "output_type": "stream",
     "text": [
      "Missing tensor: mel_transformer.spectrogram.window\n",
      "Missing tensor: mel_transformer.mel_scale.fb\n"
     ]
    },
    {
     "name": "stderr",
     "output_type": "stream",
     "text": [
      "2025-08-05 18:17:11,340 - INFO - Starting inference...\n",
      "Setting `pad_token_id` to `eos_token_id`:None for open-end generation.\n",
      "2025-08-05 18:17:24,410 - INFO - Audio saved at: result/temp.wav\n"
     ]
    },
    {
     "name": "stdout",
     "output_type": "stream",
     "text": [
      "120 加上最近唱歌很不顺心，就折腾晚了 aigc_speech_generation_tasks/reference_120.wav\n"
     ]
    },
    {
     "name": "stderr",
     "output_type": "stream",
     "text": [
      "2025-08-05 18:17:28.474521: I tensorflow/core/util/port.cc:113] oneDNN custom operations are on. You may see slightly different numerical results due to floating-point round-off errors from different computation orders. To turn them off, set the environment variable `TF_ENABLE_ONEDNN_OPTS=0`.\n",
      "2025-08-05 18:17:28.513509: I tensorflow/core/platform/cpu_feature_guard.cc:210] This TensorFlow binary is optimized to use available CPU instructions in performance-critical operations.\n",
      "To enable the following instructions: AVX2 AVX512F AVX512_VNNI FMA, in other operations, rebuild TensorFlow with the appropriate compiler flags.\n",
      "2025-08-05 18:17:29.373442: W tensorflow/compiler/tf2tensorrt/utils/py_utils.cc:38] TF-TRT Warning: Could not find TensorRT\n",
      "2025-08-05 18:17:31,066 - INFO - Using model from: /mnt/workspace/.cache/modelscope/models/SparkAudio/Spark-TTS-0___5B\n",
      "2025-08-05 18:17:31,066 - INFO - Saving audio to: result\n",
      "2025-08-05 18:17:31,067 - INFO - Using CUDA device: cuda:0\n",
      "/usr/local/lib/python3.11/site-packages/torch/nn/utils/weight_norm.py:143: FutureWarning: `torch.nn.utils.weight_norm` is deprecated in favor of `torch.nn.utils.parametrizations.weight_norm`.\n",
      "  WeightNorm.apply(module, name, dim)\n"
     ]
    },
    {
     "name": "stdout",
     "output_type": "stream",
     "text": [
      "Missing tensor: mel_transformer.spectrogram.window\n",
      "Missing tensor: mel_transformer.mel_scale.fb\n"
     ]
    },
    {
     "name": "stderr",
     "output_type": "stream",
     "text": [
      "2025-08-05 18:17:35,654 - INFO - Starting inference...\n",
      "Setting `pad_token_id` to `eos_token_id`:None for open-end generation.\n",
      "2025-08-05 18:17:39,634 - INFO - Audio saved at: result/temp.wav\n"
     ]
    },
    {
     "name": "stdout",
     "output_type": "stream",
     "text": [
      "121 付款给那家店铺78元，他们的木质照片框挺不错的 aigc_speech_generation_tasks/reference_121.wav\n"
     ]
    },
    {
     "name": "stderr",
     "output_type": "stream",
     "text": [
      "2025-08-05 18:17:43.699993: I tensorflow/core/util/port.cc:113] oneDNN custom operations are on. You may see slightly different numerical results due to floating-point round-off errors from different computation orders. To turn them off, set the environment variable `TF_ENABLE_ONEDNN_OPTS=0`.\n",
      "2025-08-05 18:17:43.738741: I tensorflow/core/platform/cpu_feature_guard.cc:210] This TensorFlow binary is optimized to use available CPU instructions in performance-critical operations.\n",
      "To enable the following instructions: AVX2 AVX512F AVX512_VNNI FMA, in other operations, rebuild TensorFlow with the appropriate compiler flags.\n",
      "2025-08-05 18:17:44.585863: W tensorflow/compiler/tf2tensorrt/utils/py_utils.cc:38] TF-TRT Warning: Could not find TensorRT\n",
      "2025-08-05 18:17:46,234 - INFO - Using model from: /mnt/workspace/.cache/modelscope/models/SparkAudio/Spark-TTS-0___5B\n",
      "2025-08-05 18:17:46,234 - INFO - Saving audio to: result\n",
      "2025-08-05 18:17:46,236 - INFO - Using CUDA device: cuda:0\n",
      "/usr/local/lib/python3.11/site-packages/torch/nn/utils/weight_norm.py:143: FutureWarning: `torch.nn.utils.weight_norm` is deprecated in favor of `torch.nn.utils.parametrizations.weight_norm`.\n",
      "  WeightNorm.apply(module, name, dim)\n"
     ]
    },
    {
     "name": "stdout",
     "output_type": "stream",
     "text": [
      "Missing tensor: mel_transformer.spectrogram.window\n",
      "Missing tensor: mel_transformer.mel_scale.fb\n"
     ]
    },
    {
     "name": "stderr",
     "output_type": "stream",
     "text": [
      "2025-08-05 18:17:50,925 - INFO - Starting inference...\n",
      "Setting `pad_token_id` to `eos_token_id`:None for open-end generation.\n",
      "2025-08-05 18:17:58,928 - INFO - Audio saved at: result/temp.wav\n"
     ]
    },
    {
     "name": "stdout",
     "output_type": "stream",
     "text": [
      "122 哈哈哈哈哈哈哈！ aigc_speech_generation_tasks/reference_122.wav\n"
     ]
    },
    {
     "name": "stderr",
     "output_type": "stream",
     "text": [
      "2025-08-05 18:18:03.032438: I tensorflow/core/util/port.cc:113] oneDNN custom operations are on. You may see slightly different numerical results due to floating-point round-off errors from different computation orders. To turn them off, set the environment variable `TF_ENABLE_ONEDNN_OPTS=0`.\n",
      "2025-08-05 18:18:03.071435: I tensorflow/core/platform/cpu_feature_guard.cc:210] This TensorFlow binary is optimized to use available CPU instructions in performance-critical operations.\n",
      "To enable the following instructions: AVX2 AVX512F AVX512_VNNI FMA, in other operations, rebuild TensorFlow with the appropriate compiler flags.\n",
      "2025-08-05 18:18:03.934707: W tensorflow/compiler/tf2tensorrt/utils/py_utils.cc:38] TF-TRT Warning: Could not find TensorRT\n",
      "2025-08-05 18:18:05,604 - INFO - Using model from: /mnt/workspace/.cache/modelscope/models/SparkAudio/Spark-TTS-0___5B\n",
      "2025-08-05 18:18:05,604 - INFO - Saving audio to: result\n",
      "2025-08-05 18:18:05,606 - INFO - Using CUDA device: cuda:0\n",
      "/usr/local/lib/python3.11/site-packages/torch/nn/utils/weight_norm.py:143: FutureWarning: `torch.nn.utils.weight_norm` is deprecated in favor of `torch.nn.utils.parametrizations.weight_norm`.\n",
      "  WeightNorm.apply(module, name, dim)\n"
     ]
    },
    {
     "name": "stdout",
     "output_type": "stream",
     "text": [
      "Missing tensor: mel_transformer.spectrogram.window\n",
      "Missing tensor: mel_transformer.mel_scale.fb\n"
     ]
    },
    {
     "name": "stderr",
     "output_type": "stream",
     "text": [
      "2025-08-05 18:18:10,530 - INFO - Starting inference...\n",
      "Setting `pad_token_id` to `eos_token_id`:None for open-end generation.\n",
      "2025-08-05 18:18:13,066 - INFO - Audio saved at: result/temp.wav\n"
     ]
    },
    {
     "name": "stdout",
     "output_type": "stream",
     "text": [
      "123 被爸爸把着经济命脉的哥哥日子也越来越无奈 aigc_speech_generation_tasks/reference_123.wav\n"
     ]
    },
    {
     "name": "stderr",
     "output_type": "stream",
     "text": [
      "2025-08-05 18:18:17.143660: I tensorflow/core/util/port.cc:113] oneDNN custom operations are on. You may see slightly different numerical results due to floating-point round-off errors from different computation orders. To turn them off, set the environment variable `TF_ENABLE_ONEDNN_OPTS=0`.\n",
      "2025-08-05 18:18:17.182560: I tensorflow/core/platform/cpu_feature_guard.cc:210] This TensorFlow binary is optimized to use available CPU instructions in performance-critical operations.\n",
      "To enable the following instructions: AVX2 AVX512F AVX512_VNNI FMA, in other operations, rebuild TensorFlow with the appropriate compiler flags.\n",
      "2025-08-05 18:18:18.019478: W tensorflow/compiler/tf2tensorrt/utils/py_utils.cc:38] TF-TRT Warning: Could not find TensorRT\n",
      "2025-08-05 18:18:19,651 - INFO - Using model from: /mnt/workspace/.cache/modelscope/models/SparkAudio/Spark-TTS-0___5B\n",
      "2025-08-05 18:18:19,652 - INFO - Saving audio to: result\n",
      "2025-08-05 18:18:19,653 - INFO - Using CUDA device: cuda:0\n",
      "/usr/local/lib/python3.11/site-packages/torch/nn/utils/weight_norm.py:143: FutureWarning: `torch.nn.utils.weight_norm` is deprecated in favor of `torch.nn.utils.parametrizations.weight_norm`.\n",
      "  WeightNorm.apply(module, name, dim)\n"
     ]
    },
    {
     "name": "stdout",
     "output_type": "stream",
     "text": [
      "Missing tensor: mel_transformer.spectrogram.window\n",
      "Missing tensor: mel_transformer.mel_scale.fb\n"
     ]
    },
    {
     "name": "stderr",
     "output_type": "stream",
     "text": [
      "2025-08-05 18:18:24,311 - INFO - Starting inference...\n",
      "Setting `pad_token_id` to `eos_token_id`:None for open-end generation.\n",
      "2025-08-05 18:18:28,716 - INFO - Audio saved at: result/temp.wav\n"
     ]
    },
    {
     "name": "stdout",
     "output_type": "stream",
     "text": [
      "124 选手的第一视角观赏性真的不行，切屏切的晕头转向。 aigc_speech_generation_tasks/reference_124.wav\n"
     ]
    },
    {
     "name": "stderr",
     "output_type": "stream",
     "text": [
      "2025-08-05 18:18:32.793019: I tensorflow/core/util/port.cc:113] oneDNN custom operations are on. You may see slightly different numerical results due to floating-point round-off errors from different computation orders. To turn them off, set the environment variable `TF_ENABLE_ONEDNN_OPTS=0`.\n",
      "2025-08-05 18:18:32.832475: I tensorflow/core/platform/cpu_feature_guard.cc:210] This TensorFlow binary is optimized to use available CPU instructions in performance-critical operations.\n",
      "To enable the following instructions: AVX2 AVX512F AVX512_VNNI FMA, in other operations, rebuild TensorFlow with the appropriate compiler flags.\n",
      "2025-08-05 18:18:33.694481: W tensorflow/compiler/tf2tensorrt/utils/py_utils.cc:38] TF-TRT Warning: Could not find TensorRT\n",
      "2025-08-05 18:18:35,366 - INFO - Using model from: /mnt/workspace/.cache/modelscope/models/SparkAudio/Spark-TTS-0___5B\n",
      "2025-08-05 18:18:35,366 - INFO - Saving audio to: result\n",
      "2025-08-05 18:18:35,368 - INFO - Using CUDA device: cuda:0\n",
      "/usr/local/lib/python3.11/site-packages/torch/nn/utils/weight_norm.py:143: FutureWarning: `torch.nn.utils.weight_norm` is deprecated in favor of `torch.nn.utils.parametrizations.weight_norm`.\n",
      "  WeightNorm.apply(module, name, dim)\n"
     ]
    },
    {
     "name": "stdout",
     "output_type": "stream",
     "text": [
      "Missing tensor: mel_transformer.spectrogram.window\n",
      "Missing tensor: mel_transformer.mel_scale.fb\n"
     ]
    },
    {
     "name": "stderr",
     "output_type": "stream",
     "text": [
      "2025-08-05 18:18:40,486 - INFO - Starting inference...\n",
      "Setting `pad_token_id` to `eos_token_id`:None for open-end generation.\n",
      "2025-08-05 18:18:45,176 - INFO - Audio saved at: result/temp.wav\n"
     ]
    },
    {
     "name": "stdout",
     "output_type": "stream",
     "text": [
      "125 确认支付 aigc_speech_generation_tasks/reference_125.wav\n"
     ]
    },
    {
     "name": "stderr",
     "output_type": "stream",
     "text": [
      "2025-08-05 18:18:49.228549: I tensorflow/core/util/port.cc:113] oneDNN custom operations are on. You may see slightly different numerical results due to floating-point round-off errors from different computation orders. To turn them off, set the environment variable `TF_ENABLE_ONEDNN_OPTS=0`.\n",
      "2025-08-05 18:18:49.268346: I tensorflow/core/platform/cpu_feature_guard.cc:210] This TensorFlow binary is optimized to use available CPU instructions in performance-critical operations.\n",
      "To enable the following instructions: AVX2 AVX512F AVX512_VNNI FMA, in other operations, rebuild TensorFlow with the appropriate compiler flags.\n",
      "2025-08-05 18:18:50.116710: W tensorflow/compiler/tf2tensorrt/utils/py_utils.cc:38] TF-TRT Warning: Could not find TensorRT\n",
      "2025-08-05 18:18:51,842 - INFO - Using model from: /mnt/workspace/.cache/modelscope/models/SparkAudio/Spark-TTS-0___5B\n",
      "2025-08-05 18:18:51,842 - INFO - Saving audio to: result\n",
      "2025-08-05 18:18:51,844 - INFO - Using CUDA device: cuda:0\n",
      "/usr/local/lib/python3.11/site-packages/torch/nn/utils/weight_norm.py:143: FutureWarning: `torch.nn.utils.weight_norm` is deprecated in favor of `torch.nn.utils.parametrizations.weight_norm`.\n",
      "  WeightNorm.apply(module, name, dim)\n"
     ]
    },
    {
     "name": "stdout",
     "output_type": "stream",
     "text": [
      "Missing tensor: mel_transformer.spectrogram.window\n",
      "Missing tensor: mel_transformer.mel_scale.fb\n"
     ]
    },
    {
     "name": "stderr",
     "output_type": "stream",
     "text": [
      "2025-08-05 18:18:56,586 - INFO - Starting inference...\n",
      "Setting `pad_token_id` to `eos_token_id`:None for open-end generation.\n",
      "2025-08-05 18:18:58,528 - INFO - Audio saved at: result/temp.wav\n"
     ]
    },
    {
     "name": "stdout",
     "output_type": "stream",
     "text": [
      "126 而且乍看之下并不是所有的过程都相关 aigc_speech_generation_tasks/reference_126.wav\n"
     ]
    },
    {
     "name": "stderr",
     "output_type": "stream",
     "text": [
      "2025-08-05 18:19:02.604546: I tensorflow/core/util/port.cc:113] oneDNN custom operations are on. You may see slightly different numerical results due to floating-point round-off errors from different computation orders. To turn them off, set the environment variable `TF_ENABLE_ONEDNN_OPTS=0`.\n",
      "2025-08-05 18:19:02.643417: I tensorflow/core/platform/cpu_feature_guard.cc:210] This TensorFlow binary is optimized to use available CPU instructions in performance-critical operations.\n",
      "To enable the following instructions: AVX2 AVX512F AVX512_VNNI FMA, in other operations, rebuild TensorFlow with the appropriate compiler flags.\n",
      "2025-08-05 18:19:03.490317: W tensorflow/compiler/tf2tensorrt/utils/py_utils.cc:38] TF-TRT Warning: Could not find TensorRT\n",
      "2025-08-05 18:19:05,145 - INFO - Using model from: /mnt/workspace/.cache/modelscope/models/SparkAudio/Spark-TTS-0___5B\n",
      "2025-08-05 18:19:05,145 - INFO - Saving audio to: result\n",
      "2025-08-05 18:19:05,147 - INFO - Using CUDA device: cuda:0\n",
      "/usr/local/lib/python3.11/site-packages/torch/nn/utils/weight_norm.py:143: FutureWarning: `torch.nn.utils.weight_norm` is deprecated in favor of `torch.nn.utils.parametrizations.weight_norm`.\n",
      "  WeightNorm.apply(module, name, dim)\n"
     ]
    },
    {
     "name": "stdout",
     "output_type": "stream",
     "text": [
      "Missing tensor: mel_transformer.spectrogram.window\n",
      "Missing tensor: mel_transformer.mel_scale.fb\n"
     ]
    },
    {
     "name": "stderr",
     "output_type": "stream",
     "text": [
      "2025-08-05 18:19:10,326 - INFO - Starting inference...\n",
      "Setting `pad_token_id` to `eos_token_id`:None for open-end generation.\n",
      "2025-08-05 18:19:16,022 - INFO - Audio saved at: result/temp.wav\n"
     ]
    },
    {
     "name": "stdout",
     "output_type": "stream",
     "text": [
      "127 一个三角形的中点三角形是原三角形的三边的中点所组成的三角形。 aigc_speech_generation_tasks/reference_127.wav\n"
     ]
    },
    {
     "name": "stderr",
     "output_type": "stream",
     "text": [
      "2025-08-05 18:19:20.090968: I tensorflow/core/util/port.cc:113] oneDNN custom operations are on. You may see slightly different numerical results due to floating-point round-off errors from different computation orders. To turn them off, set the environment variable `TF_ENABLE_ONEDNN_OPTS=0`.\n",
      "2025-08-05 18:19:20.131006: I tensorflow/core/platform/cpu_feature_guard.cc:210] This TensorFlow binary is optimized to use available CPU instructions in performance-critical operations.\n",
      "To enable the following instructions: AVX2 AVX512F AVX512_VNNI FMA, in other operations, rebuild TensorFlow with the appropriate compiler flags.\n",
      "2025-08-05 18:19:21.056121: W tensorflow/compiler/tf2tensorrt/utils/py_utils.cc:38] TF-TRT Warning: Could not find TensorRT\n",
      "2025-08-05 18:19:22,724 - INFO - Using model from: /mnt/workspace/.cache/modelscope/models/SparkAudio/Spark-TTS-0___5B\n",
      "2025-08-05 18:19:22,724 - INFO - Saving audio to: result\n",
      "2025-08-05 18:19:22,725 - INFO - Using CUDA device: cuda:0\n",
      "/usr/local/lib/python3.11/site-packages/torch/nn/utils/weight_norm.py:143: FutureWarning: `torch.nn.utils.weight_norm` is deprecated in favor of `torch.nn.utils.parametrizations.weight_norm`.\n",
      "  WeightNorm.apply(module, name, dim)\n"
     ]
    },
    {
     "name": "stdout",
     "output_type": "stream",
     "text": [
      "Missing tensor: mel_transformer.spectrogram.window\n",
      "Missing tensor: mel_transformer.mel_scale.fb\n"
     ]
    },
    {
     "name": "stderr",
     "output_type": "stream",
     "text": [
      "2025-08-05 18:19:27,562 - INFO - Starting inference...\n",
      "Setting `pad_token_id` to `eos_token_id`:None for open-end generation.\n",
      "2025-08-05 18:19:36,547 - INFO - Audio saved at: result/temp.wav\n"
     ]
    },
    {
     "name": "stdout",
     "output_type": "stream",
     "text": [
      "128 请购买套中号码的运动服装，用于明天的校园运动会 aigc_speech_generation_tasks/reference_128.wav\n"
     ]
    },
    {
     "name": "stderr",
     "output_type": "stream",
     "text": [
      "2025-08-05 18:19:40.621392: I tensorflow/core/util/port.cc:113] oneDNN custom operations are on. You may see slightly different numerical results due to floating-point round-off errors from different computation orders. To turn them off, set the environment variable `TF_ENABLE_ONEDNN_OPTS=0`.\n",
      "2025-08-05 18:19:40.663666: I tensorflow/core/platform/cpu_feature_guard.cc:210] This TensorFlow binary is optimized to use available CPU instructions in performance-critical operations.\n",
      "To enable the following instructions: AVX2 AVX512F AVX512_VNNI FMA, in other operations, rebuild TensorFlow with the appropriate compiler flags.\n",
      "2025-08-05 18:19:41.516315: W tensorflow/compiler/tf2tensorrt/utils/py_utils.cc:38] TF-TRT Warning: Could not find TensorRT\n",
      "2025-08-05 18:19:43,155 - INFO - Using model from: /mnt/workspace/.cache/modelscope/models/SparkAudio/Spark-TTS-0___5B\n",
      "2025-08-05 18:19:43,155 - INFO - Saving audio to: result\n",
      "2025-08-05 18:19:43,157 - INFO - Using CUDA device: cuda:0\n",
      "/usr/local/lib/python3.11/site-packages/torch/nn/utils/weight_norm.py:143: FutureWarning: `torch.nn.utils.weight_norm` is deprecated in favor of `torch.nn.utils.parametrizations.weight_norm`.\n",
      "  WeightNorm.apply(module, name, dim)\n"
     ]
    },
    {
     "name": "stdout",
     "output_type": "stream",
     "text": [
      "Missing tensor: mel_transformer.spectrogram.window\n",
      "Missing tensor: mel_transformer.mel_scale.fb\n"
     ]
    },
    {
     "name": "stderr",
     "output_type": "stream",
     "text": [
      "2025-08-05 18:19:47,873 - INFO - Starting inference...\n",
      "Setting `pad_token_id` to `eos_token_id`:None for open-end generation.\n",
      "2025-08-05 18:20:26,034 - INFO - Audio saved at: result/temp.wav\n"
     ]
    },
    {
     "name": "stdout",
     "output_type": "stream",
     "text": [
      "129 帮我预订一间北京市中心五星级酒店的行政套房，住宿日期从11月20日到11月23日 aigc_speech_generation_tasks/reference_129.wav\n"
     ]
    },
    {
     "name": "stderr",
     "output_type": "stream",
     "text": [
      "2025-08-05 18:20:30.207768: I tensorflow/core/util/port.cc:113] oneDNN custom operations are on. You may see slightly different numerical results due to floating-point round-off errors from different computation orders. To turn them off, set the environment variable `TF_ENABLE_ONEDNN_OPTS=0`.\n",
      "2025-08-05 18:20:30.246713: I tensorflow/core/platform/cpu_feature_guard.cc:210] This TensorFlow binary is optimized to use available CPU instructions in performance-critical operations.\n",
      "To enable the following instructions: AVX2 AVX512F AVX512_VNNI FMA, in other operations, rebuild TensorFlow with the appropriate compiler flags.\n",
      "2025-08-05 18:20:31.108595: W tensorflow/compiler/tf2tensorrt/utils/py_utils.cc:38] TF-TRT Warning: Could not find TensorRT\n",
      "2025-08-05 18:20:32,770 - INFO - Using model from: /mnt/workspace/.cache/modelscope/models/SparkAudio/Spark-TTS-0___5B\n",
      "2025-08-05 18:20:32,770 - INFO - Saving audio to: result\n",
      "2025-08-05 18:20:32,771 - INFO - Using CUDA device: cuda:0\n",
      "/usr/local/lib/python3.11/site-packages/torch/nn/utils/weight_norm.py:143: FutureWarning: `torch.nn.utils.weight_norm` is deprecated in favor of `torch.nn.utils.parametrizations.weight_norm`.\n",
      "  WeightNorm.apply(module, name, dim)\n"
     ]
    },
    {
     "name": "stdout",
     "output_type": "stream",
     "text": [
      "Missing tensor: mel_transformer.spectrogram.window\n",
      "Missing tensor: mel_transformer.mel_scale.fb\n"
     ]
    },
    {
     "name": "stderr",
     "output_type": "stream",
     "text": [
      "2025-08-05 18:20:37,618 - INFO - Starting inference...\n",
      "Setting `pad_token_id` to `eos_token_id`:None for open-end generation.\n",
      "2025-08-05 18:20:47,860 - INFO - Audio saved at: result/temp.wav\n"
     ]
    },
    {
     "name": "stdout",
     "output_type": "stream",
     "text": [
      "130 这种超低的转速配合路面的起伏，动平衡貌似没有太大意义 aigc_speech_generation_tasks/reference_130.wav\n"
     ]
    },
    {
     "name": "stderr",
     "output_type": "stream",
     "text": [
      "2025-08-05 18:20:51.981625: I tensorflow/core/util/port.cc:113] oneDNN custom operations are on. You may see slightly different numerical results due to floating-point round-off errors from different computation orders. To turn them off, set the environment variable `TF_ENABLE_ONEDNN_OPTS=0`.\n",
      "2025-08-05 18:20:52.028344: I tensorflow/core/platform/cpu_feature_guard.cc:210] This TensorFlow binary is optimized to use available CPU instructions in performance-critical operations.\n",
      "To enable the following instructions: AVX2 AVX512F AVX512_VNNI FMA, in other operations, rebuild TensorFlow with the appropriate compiler flags.\n",
      "2025-08-05 18:20:52.872655: W tensorflow/compiler/tf2tensorrt/utils/py_utils.cc:38] TF-TRT Warning: Could not find TensorRT\n",
      "2025-08-05 18:20:54,531 - INFO - Using model from: /mnt/workspace/.cache/modelscope/models/SparkAudio/Spark-TTS-0___5B\n",
      "2025-08-05 18:20:54,531 - INFO - Saving audio to: result\n",
      "2025-08-05 18:20:54,533 - INFO - Using CUDA device: cuda:0\n",
      "/usr/local/lib/python3.11/site-packages/torch/nn/utils/weight_norm.py:143: FutureWarning: `torch.nn.utils.weight_norm` is deprecated in favor of `torch.nn.utils.parametrizations.weight_norm`.\n",
      "  WeightNorm.apply(module, name, dim)\n"
     ]
    },
    {
     "name": "stdout",
     "output_type": "stream",
     "text": [
      "Missing tensor: mel_transformer.spectrogram.window\n",
      "Missing tensor: mel_transformer.mel_scale.fb\n"
     ]
    },
    {
     "name": "stderr",
     "output_type": "stream",
     "text": [
      "2025-08-05 18:20:59,496 - INFO - Starting inference...\n",
      "Setting `pad_token_id` to `eos_token_id`:None for open-end generation.\n",
      "2025-08-05 18:21:54,061 - INFO - Audio saved at: result/temp.wav\n"
     ]
    },
    {
     "name": "stdout",
     "output_type": "stream",
     "text": [
      "131 滴管是实验室中用于转移少量液体的器皿。 aigc_speech_generation_tasks/reference_131.wav\n"
     ]
    },
    {
     "name": "stderr",
     "output_type": "stream",
     "text": [
      "2025-08-05 18:21:58.153464: I tensorflow/core/util/port.cc:113] oneDNN custom operations are on. You may see slightly different numerical results due to floating-point round-off errors from different computation orders. To turn them off, set the environment variable `TF_ENABLE_ONEDNN_OPTS=0`.\n",
      "2025-08-05 18:21:58.192504: I tensorflow/core/platform/cpu_feature_guard.cc:210] This TensorFlow binary is optimized to use available CPU instructions in performance-critical operations.\n",
      "To enable the following instructions: AVX2 AVX512F AVX512_VNNI FMA, in other operations, rebuild TensorFlow with the appropriate compiler flags.\n",
      "2025-08-05 18:21:59.046782: W tensorflow/compiler/tf2tensorrt/utils/py_utils.cc:38] TF-TRT Warning: Could not find TensorRT\n",
      "2025-08-05 18:22:00,705 - INFO - Using model from: /mnt/workspace/.cache/modelscope/models/SparkAudio/Spark-TTS-0___5B\n",
      "2025-08-05 18:22:00,705 - INFO - Saving audio to: result\n",
      "2025-08-05 18:22:00,707 - INFO - Using CUDA device: cuda:0\n",
      "/usr/local/lib/python3.11/site-packages/torch/nn/utils/weight_norm.py:143: FutureWarning: `torch.nn.utils.weight_norm` is deprecated in favor of `torch.nn.utils.parametrizations.weight_norm`.\n",
      "  WeightNorm.apply(module, name, dim)\n"
     ]
    },
    {
     "name": "stdout",
     "output_type": "stream",
     "text": [
      "Missing tensor: mel_transformer.spectrogram.window\n",
      "Missing tensor: mel_transformer.mel_scale.fb\n"
     ]
    },
    {
     "name": "stderr",
     "output_type": "stream",
     "text": [
      "2025-08-05 18:22:05,387 - INFO - Starting inference...\n",
      "Setting `pad_token_id` to `eos_token_id`:None for open-end generation.\n",
      "2025-08-05 18:22:10,328 - INFO - Audio saved at: result/temp.wav\n"
     ]
    },
    {
     "name": "stdout",
     "output_type": "stream",
     "text": [
      "132 山林深处传来一声悠长的狼嚎，篝火映照着他们的脸庞，每个人都沉默不语。火堆旁的男人缓缓抬起头，低声说道：“我们不能再往前走了，那座山……它不属于人类。” aigc_speech_generation_tasks/reference_132.wav\n"
     ]
    },
    {
     "name": "stderr",
     "output_type": "stream",
     "text": [
      "2025-08-05 18:22:14.437214: I tensorflow/core/util/port.cc:113] oneDNN custom operations are on. You may see slightly different numerical results due to floating-point round-off errors from different computation orders. To turn them off, set the environment variable `TF_ENABLE_ONEDNN_OPTS=0`.\n",
      "2025-08-05 18:22:14.476527: I tensorflow/core/platform/cpu_feature_guard.cc:210] This TensorFlow binary is optimized to use available CPU instructions in performance-critical operations.\n",
      "To enable the following instructions: AVX2 AVX512F AVX512_VNNI FMA, in other operations, rebuild TensorFlow with the appropriate compiler flags.\n",
      "2025-08-05 18:22:15.338795: W tensorflow/compiler/tf2tensorrt/utils/py_utils.cc:38] TF-TRT Warning: Could not find TensorRT\n",
      "2025-08-05 18:22:16,999 - INFO - Using model from: /mnt/workspace/.cache/modelscope/models/SparkAudio/Spark-TTS-0___5B\n",
      "2025-08-05 18:22:16,999 - INFO - Saving audio to: result\n",
      "2025-08-05 18:22:17,000 - INFO - Using CUDA device: cuda:0\n",
      "/usr/local/lib/python3.11/site-packages/torch/nn/utils/weight_norm.py:143: FutureWarning: `torch.nn.utils.weight_norm` is deprecated in favor of `torch.nn.utils.parametrizations.weight_norm`.\n",
      "  WeightNorm.apply(module, name, dim)\n"
     ]
    },
    {
     "name": "stdout",
     "output_type": "stream",
     "text": [
      "Missing tensor: mel_transformer.spectrogram.window\n",
      "Missing tensor: mel_transformer.mel_scale.fb\n"
     ]
    },
    {
     "name": "stderr",
     "output_type": "stream",
     "text": [
      "2025-08-05 18:22:22,472 - INFO - Starting inference...\n",
      "Setting `pad_token_id` to `eos_token_id`:None for open-end generation.\n",
      "2025-08-05 18:23:16,723 - INFO - Audio saved at: result/temp.wav\n"
     ]
    },
    {
     "name": "stdout",
     "output_type": "stream",
     "text": [
      "133 其也被誉为尼泊尔的国民美食。 aigc_speech_generation_tasks/reference_133.wav\n"
     ]
    },
    {
     "name": "stderr",
     "output_type": "stream",
     "text": [
      "2025-08-05 18:23:20.886064: I tensorflow/core/util/port.cc:113] oneDNN custom operations are on. You may see slightly different numerical results due to floating-point round-off errors from different computation orders. To turn them off, set the environment variable `TF_ENABLE_ONEDNN_OPTS=0`.\n",
      "2025-08-05 18:23:20.926317: I tensorflow/core/platform/cpu_feature_guard.cc:210] This TensorFlow binary is optimized to use available CPU instructions in performance-critical operations.\n",
      "To enable the following instructions: AVX2 AVX512F AVX512_VNNI FMA, in other operations, rebuild TensorFlow with the appropriate compiler flags.\n",
      "2025-08-05 18:23:21.812503: W tensorflow/compiler/tf2tensorrt/utils/py_utils.cc:38] TF-TRT Warning: Could not find TensorRT\n",
      "2025-08-05 18:23:23,454 - INFO - Using model from: /mnt/workspace/.cache/modelscope/models/SparkAudio/Spark-TTS-0___5B\n",
      "2025-08-05 18:23:23,454 - INFO - Saving audio to: result\n",
      "2025-08-05 18:23:23,456 - INFO - Using CUDA device: cuda:0\n",
      "/usr/local/lib/python3.11/site-packages/torch/nn/utils/weight_norm.py:143: FutureWarning: `torch.nn.utils.weight_norm` is deprecated in favor of `torch.nn.utils.parametrizations.weight_norm`.\n",
      "  WeightNorm.apply(module, name, dim)\n"
     ]
    },
    {
     "name": "stdout",
     "output_type": "stream",
     "text": [
      "Missing tensor: mel_transformer.spectrogram.window\n",
      "Missing tensor: mel_transformer.mel_scale.fb\n"
     ]
    },
    {
     "name": "stderr",
     "output_type": "stream",
     "text": [
      "2025-08-05 18:23:28,305 - INFO - Starting inference...\n",
      "Setting `pad_token_id` to `eos_token_id`:None for open-end generation.\n",
      "2025-08-05 18:23:31,951 - INFO - Audio saved at: result/temp.wav\n"
     ]
    },
    {
     "name": "stdout",
     "output_type": "stream",
     "text": [
      "134 在数学（特别是三角函数）学习中有一个常用的口诀：“奇变偶不变，符号看象限”，可以用来帮助记忆三角函数的诱导公式。 aigc_speech_generation_tasks/reference_134.wav\n"
     ]
    },
    {
     "name": "stderr",
     "output_type": "stream",
     "text": [
      "2025-08-05 18:23:36.036557: I tensorflow/core/util/port.cc:113] oneDNN custom operations are on. You may see slightly different numerical results due to floating-point round-off errors from different computation orders. To turn them off, set the environment variable `TF_ENABLE_ONEDNN_OPTS=0`.\n",
      "2025-08-05 18:23:36.075122: I tensorflow/core/platform/cpu_feature_guard.cc:210] This TensorFlow binary is optimized to use available CPU instructions in performance-critical operations.\n",
      "To enable the following instructions: AVX2 AVX512F AVX512_VNNI FMA, in other operations, rebuild TensorFlow with the appropriate compiler flags.\n",
      "2025-08-05 18:23:37.004206: W tensorflow/compiler/tf2tensorrt/utils/py_utils.cc:38] TF-TRT Warning: Could not find TensorRT\n",
      "2025-08-05 18:23:38,706 - INFO - Using model from: /mnt/workspace/.cache/modelscope/models/SparkAudio/Spark-TTS-0___5B\n",
      "2025-08-05 18:23:38,706 - INFO - Saving audio to: result\n",
      "2025-08-05 18:23:38,707 - INFO - Using CUDA device: cuda:0\n",
      "/usr/local/lib/python3.11/site-packages/torch/nn/utils/weight_norm.py:143: FutureWarning: `torch.nn.utils.weight_norm` is deprecated in favor of `torch.nn.utils.parametrizations.weight_norm`.\n",
      "  WeightNorm.apply(module, name, dim)\n"
     ]
    },
    {
     "name": "stdout",
     "output_type": "stream",
     "text": [
      "Missing tensor: mel_transformer.spectrogram.window\n",
      "Missing tensor: mel_transformer.mel_scale.fb\n"
     ]
    },
    {
     "name": "stderr",
     "output_type": "stream",
     "text": [
      "2025-08-05 18:23:43,684 - INFO - Starting inference...\n",
      "Setting `pad_token_id` to `eos_token_id`:None for open-end generation.\n",
      "2025-08-05 18:23:57,431 - INFO - Audio saved at: result/temp.wav\n"
     ]
    },
    {
     "name": "stdout",
     "output_type": "stream",
     "text": [
      "135 有意义，至少洗刷了一部分耻辱 aigc_speech_generation_tasks/reference_135.wav\n"
     ]
    },
    {
     "name": "stderr",
     "output_type": "stream",
     "text": [
      "2025-08-05 18:24:01.649736: I tensorflow/core/util/port.cc:113] oneDNN custom operations are on. You may see slightly different numerical results due to floating-point round-off errors from different computation orders. To turn them off, set the environment variable `TF_ENABLE_ONEDNN_OPTS=0`.\n",
      "2025-08-05 18:24:01.689683: I tensorflow/core/platform/cpu_feature_guard.cc:210] This TensorFlow binary is optimized to use available CPU instructions in performance-critical operations.\n",
      "To enable the following instructions: AVX2 AVX512F AVX512_VNNI FMA, in other operations, rebuild TensorFlow with the appropriate compiler flags.\n",
      "2025-08-05 18:24:02.563391: W tensorflow/compiler/tf2tensorrt/utils/py_utils.cc:38] TF-TRT Warning: Could not find TensorRT\n",
      "2025-08-05 18:24:04,251 - INFO - Using model from: /mnt/workspace/.cache/modelscope/models/SparkAudio/Spark-TTS-0___5B\n",
      "2025-08-05 18:24:04,251 - INFO - Saving audio to: result\n",
      "2025-08-05 18:24:04,254 - INFO - Using CUDA device: cuda:0\n",
      "/usr/local/lib/python3.11/site-packages/torch/nn/utils/weight_norm.py:143: FutureWarning: `torch.nn.utils.weight_norm` is deprecated in favor of `torch.nn.utils.parametrizations.weight_norm`.\n",
      "  WeightNorm.apply(module, name, dim)\n"
     ]
    },
    {
     "name": "stdout",
     "output_type": "stream",
     "text": [
      "Missing tensor: mel_transformer.spectrogram.window\n",
      "Missing tensor: mel_transformer.mel_scale.fb\n"
     ]
    },
    {
     "name": "stderr",
     "output_type": "stream",
     "text": [
      "2025-08-05 18:24:09,960 - INFO - Starting inference...\n",
      "Setting `pad_token_id` to `eos_token_id`:None for open-end generation.\n",
      "2025-08-05 18:24:13,349 - INFO - Audio saved at: result/temp.wav\n"
     ]
    },
    {
     "name": "stdout",
     "output_type": "stream",
     "text": [
      "136 复杂的事我不懂，这个梦不管是好是坏，总之你们是来解决它的吧？ aigc_speech_generation_tasks/reference_136.wav\n"
     ]
    },
    {
     "name": "stderr",
     "output_type": "stream",
     "text": [
      "2025-08-05 18:24:17.455352: I tensorflow/core/util/port.cc:113] oneDNN custom operations are on. You may see slightly different numerical results due to floating-point round-off errors from different computation orders. To turn them off, set the environment variable `TF_ENABLE_ONEDNN_OPTS=0`.\n",
      "2025-08-05 18:24:17.494481: I tensorflow/core/platform/cpu_feature_guard.cc:210] This TensorFlow binary is optimized to use available CPU instructions in performance-critical operations.\n",
      "To enable the following instructions: AVX2 AVX512F AVX512_VNNI FMA, in other operations, rebuild TensorFlow with the appropriate compiler flags.\n",
      "2025-08-05 18:24:18.338844: W tensorflow/compiler/tf2tensorrt/utils/py_utils.cc:38] TF-TRT Warning: Could not find TensorRT\n",
      "2025-08-05 18:24:20,027 - INFO - Using model from: /mnt/workspace/.cache/modelscope/models/SparkAudio/Spark-TTS-0___5B\n",
      "2025-08-05 18:24:20,027 - INFO - Saving audio to: result\n",
      "2025-08-05 18:24:20,028 - INFO - Using CUDA device: cuda:0\n",
      "/usr/local/lib/python3.11/site-packages/torch/nn/utils/weight_norm.py:143: FutureWarning: `torch.nn.utils.weight_norm` is deprecated in favor of `torch.nn.utils.parametrizations.weight_norm`.\n",
      "  WeightNorm.apply(module, name, dim)\n"
     ]
    },
    {
     "name": "stdout",
     "output_type": "stream",
     "text": [
      "Missing tensor: mel_transformer.spectrogram.window\n",
      "Missing tensor: mel_transformer.mel_scale.fb\n"
     ]
    },
    {
     "name": "stderr",
     "output_type": "stream",
     "text": [
      "2025-08-05 18:24:24,685 - INFO - Starting inference...\n",
      "Setting `pad_token_id` to `eos_token_id`:None for open-end generation.\n",
      "2025-08-05 18:24:45,801 - INFO - Audio saved at: result/temp.wav\n"
     ]
    },
    {
     "name": "stdout",
     "output_type": "stream",
     "text": [
      "137 随着全球气候变化和生态环境恶化，许多珍稀植物正面临灭绝风险，因此建立植物种质资源库、开展濒危物种保护研究以及推广可持续利用技术已成为植物科学研究的重要方向。 aigc_speech_generation_tasks/reference_137.wav\n"
     ]
    },
    {
     "name": "stderr",
     "output_type": "stream",
     "text": [
      "2025-08-05 18:24:49.830212: I tensorflow/core/util/port.cc:113] oneDNN custom operations are on. You may see slightly different numerical results due to floating-point round-off errors from different computation orders. To turn them off, set the environment variable `TF_ENABLE_ONEDNN_OPTS=0`.\n",
      "2025-08-05 18:24:49.869553: I tensorflow/core/platform/cpu_feature_guard.cc:210] This TensorFlow binary is optimized to use available CPU instructions in performance-critical operations.\n",
      "To enable the following instructions: AVX2 AVX512F AVX512_VNNI FMA, in other operations, rebuild TensorFlow with the appropriate compiler flags.\n",
      "2025-08-05 18:24:50.751009: W tensorflow/compiler/tf2tensorrt/utils/py_utils.cc:38] TF-TRT Warning: Could not find TensorRT\n",
      "2025-08-05 18:24:52,440 - INFO - Using model from: /mnt/workspace/.cache/modelscope/models/SparkAudio/Spark-TTS-0___5B\n",
      "2025-08-05 18:24:52,440 - INFO - Saving audio to: result\n",
      "2025-08-05 18:24:52,441 - INFO - Using CUDA device: cuda:0\n",
      "/usr/local/lib/python3.11/site-packages/torch/nn/utils/weight_norm.py:143: FutureWarning: `torch.nn.utils.weight_norm` is deprecated in favor of `torch.nn.utils.parametrizations.weight_norm`.\n",
      "  WeightNorm.apply(module, name, dim)\n"
     ]
    },
    {
     "name": "stdout",
     "output_type": "stream",
     "text": [
      "Missing tensor: mel_transformer.spectrogram.window\n",
      "Missing tensor: mel_transformer.mel_scale.fb\n"
     ]
    },
    {
     "name": "stderr",
     "output_type": "stream",
     "text": [
      "2025-08-05 18:24:57,092 - INFO - Starting inference...\n",
      "Setting `pad_token_id` to `eos_token_id`:None for open-end generation.\n",
      "2025-08-05 18:25:18,000 - INFO - Audio saved at: result/temp.wav\n"
     ]
    },
    {
     "name": "stdout",
     "output_type": "stream",
     "text": [
      "138 神经节是功能相同的神经元细胞体在中枢以外的周围部位集合而成的结节状构造。 aigc_speech_generation_tasks/reference_138.wav\n"
     ]
    },
    {
     "name": "stderr",
     "output_type": "stream",
     "text": [
      "2025-08-05 18:25:22.103538: I tensorflow/core/util/port.cc:113] oneDNN custom operations are on. You may see slightly different numerical results due to floating-point round-off errors from different computation orders. To turn them off, set the environment variable `TF_ENABLE_ONEDNN_OPTS=0`.\n",
      "2025-08-05 18:25:22.143018: I tensorflow/core/platform/cpu_feature_guard.cc:210] This TensorFlow binary is optimized to use available CPU instructions in performance-critical operations.\n",
      "To enable the following instructions: AVX2 AVX512F AVX512_VNNI FMA, in other operations, rebuild TensorFlow with the appropriate compiler flags.\n",
      "2025-08-05 18:25:22.994600: W tensorflow/compiler/tf2tensorrt/utils/py_utils.cc:38] TF-TRT Warning: Could not find TensorRT\n",
      "2025-08-05 18:25:24,641 - INFO - Using model from: /mnt/workspace/.cache/modelscope/models/SparkAudio/Spark-TTS-0___5B\n",
      "2025-08-05 18:25:24,641 - INFO - Saving audio to: result\n",
      "2025-08-05 18:25:24,642 - INFO - Using CUDA device: cuda:0\n",
      "/usr/local/lib/python3.11/site-packages/torch/nn/utils/weight_norm.py:143: FutureWarning: `torch.nn.utils.weight_norm` is deprecated in favor of `torch.nn.utils.parametrizations.weight_norm`.\n",
      "  WeightNorm.apply(module, name, dim)\n"
     ]
    },
    {
     "name": "stdout",
     "output_type": "stream",
     "text": [
      "Missing tensor: mel_transformer.spectrogram.window\n",
      "Missing tensor: mel_transformer.mel_scale.fb\n"
     ]
    },
    {
     "name": "stderr",
     "output_type": "stream",
     "text": [
      "2025-08-05 18:25:29,422 - INFO - Starting inference...\n",
      "Setting `pad_token_id` to `eos_token_id`:None for open-end generation.\n",
      "2025-08-05 18:25:36,704 - INFO - Audio saved at: result/temp.wav\n"
     ]
    },
    {
     "name": "stdout",
     "output_type": "stream",
     "text": [
      "139 面板右侧的颜色条显示黄色对应较高的数值，这表明矩阵中的黄色方块代表较高的相关性数值。 aigc_speech_generation_tasks/reference_139.wav\n"
     ]
    },
    {
     "name": "stderr",
     "output_type": "stream",
     "text": [
      "2025-08-05 18:25:40.841595: I tensorflow/core/util/port.cc:113] oneDNN custom operations are on. You may see slightly different numerical results due to floating-point round-off errors from different computation orders. To turn them off, set the environment variable `TF_ENABLE_ONEDNN_OPTS=0`.\n",
      "2025-08-05 18:25:40.880688: I tensorflow/core/platform/cpu_feature_guard.cc:210] This TensorFlow binary is optimized to use available CPU instructions in performance-critical operations.\n",
      "To enable the following instructions: AVX2 AVX512F AVX512_VNNI FMA, in other operations, rebuild TensorFlow with the appropriate compiler flags.\n",
      "2025-08-05 18:25:41.727970: W tensorflow/compiler/tf2tensorrt/utils/py_utils.cc:38] TF-TRT Warning: Could not find TensorRT\n",
      "2025-08-05 18:25:43,372 - INFO - Using model from: /mnt/workspace/.cache/modelscope/models/SparkAudio/Spark-TTS-0___5B\n",
      "2025-08-05 18:25:43,372 - INFO - Saving audio to: result\n",
      "2025-08-05 18:25:43,374 - INFO - Using CUDA device: cuda:0\n",
      "/usr/local/lib/python3.11/site-packages/torch/nn/utils/weight_norm.py:143: FutureWarning: `torch.nn.utils.weight_norm` is deprecated in favor of `torch.nn.utils.parametrizations.weight_norm`.\n",
      "  WeightNorm.apply(module, name, dim)\n"
     ]
    },
    {
     "name": "stdout",
     "output_type": "stream",
     "text": [
      "Missing tensor: mel_transformer.spectrogram.window\n",
      "Missing tensor: mel_transformer.mel_scale.fb\n"
     ]
    },
    {
     "name": "stderr",
     "output_type": "stream",
     "text": [
      "2025-08-05 18:25:48,091 - INFO - Starting inference...\n",
      "Setting `pad_token_id` to `eos_token_id`:None for open-end generation.\n",
      "2025-08-05 18:25:58,574 - INFO - Audio saved at: result/temp.wav\n"
     ]
    },
    {
     "name": "stdout",
     "output_type": "stream",
     "text": [
      "140 无线电数据广播是一种在传统的调频广播中嵌入少量的数字信息的通信协议标准。 aigc_speech_generation_tasks/reference_140.wav\n"
     ]
    },
    {
     "name": "stderr",
     "output_type": "stream",
     "text": [
      "2025-08-05 18:26:02.671194: I tensorflow/core/util/port.cc:113] oneDNN custom operations are on. You may see slightly different numerical results due to floating-point round-off errors from different computation orders. To turn them off, set the environment variable `TF_ENABLE_ONEDNN_OPTS=0`.\n",
      "2025-08-05 18:26:02.710226: I tensorflow/core/platform/cpu_feature_guard.cc:210] This TensorFlow binary is optimized to use available CPU instructions in performance-critical operations.\n",
      "To enable the following instructions: AVX2 AVX512F AVX512_VNNI FMA, in other operations, rebuild TensorFlow with the appropriate compiler flags.\n",
      "2025-08-05 18:26:03.556787: W tensorflow/compiler/tf2tensorrt/utils/py_utils.cc:38] TF-TRT Warning: Could not find TensorRT\n",
      "2025-08-05 18:26:05,213 - INFO - Using model from: /mnt/workspace/.cache/modelscope/models/SparkAudio/Spark-TTS-0___5B\n",
      "2025-08-05 18:26:05,214 - INFO - Saving audio to: result\n",
      "2025-08-05 18:26:05,215 - INFO - Using CUDA device: cuda:0\n",
      "/usr/local/lib/python3.11/site-packages/torch/nn/utils/weight_norm.py:143: FutureWarning: `torch.nn.utils.weight_norm` is deprecated in favor of `torch.nn.utils.parametrizations.weight_norm`.\n",
      "  WeightNorm.apply(module, name, dim)\n"
     ]
    },
    {
     "name": "stdout",
     "output_type": "stream",
     "text": [
      "Missing tensor: mel_transformer.spectrogram.window\n",
      "Missing tensor: mel_transformer.mel_scale.fb\n"
     ]
    },
    {
     "name": "stderr",
     "output_type": "stream",
     "text": [
      "2025-08-05 18:26:10,462 - INFO - Starting inference...\n",
      "Setting `pad_token_id` to `eos_token_id`:None for open-end generation.\n",
      "2025-08-05 18:26:18,761 - INFO - Audio saved at: result/temp.wav\n"
     ]
    },
    {
     "name": "stdout",
     "output_type": "stream",
     "text": [
      "141 他一边收拾行李，一边叮嘱自己要记得带上充电器和身份证，因为这次出差对他来说非常重要。 aigc_speech_generation_tasks/reference_141.wav\n"
     ]
    },
    {
     "name": "stderr",
     "output_type": "stream",
     "text": [
      "2025-08-05 18:26:22.956304: I tensorflow/core/util/port.cc:113] oneDNN custom operations are on. You may see slightly different numerical results due to floating-point round-off errors from different computation orders. To turn them off, set the environment variable `TF_ENABLE_ONEDNN_OPTS=0`.\n",
      "2025-08-05 18:26:22.995344: I tensorflow/core/platform/cpu_feature_guard.cc:210] This TensorFlow binary is optimized to use available CPU instructions in performance-critical operations.\n",
      "To enable the following instructions: AVX2 AVX512F AVX512_VNNI FMA, in other operations, rebuild TensorFlow with the appropriate compiler flags.\n",
      "2025-08-05 18:26:23.848293: W tensorflow/compiler/tf2tensorrt/utils/py_utils.cc:38] TF-TRT Warning: Could not find TensorRT\n",
      "2025-08-05 18:26:25,481 - INFO - Using model from: /mnt/workspace/.cache/modelscope/models/SparkAudio/Spark-TTS-0___5B\n",
      "2025-08-05 18:26:25,481 - INFO - Saving audio to: result\n",
      "2025-08-05 18:26:25,483 - INFO - Using CUDA device: cuda:0\n",
      "/usr/local/lib/python3.11/site-packages/torch/nn/utils/weight_norm.py:143: FutureWarning: `torch.nn.utils.weight_norm` is deprecated in favor of `torch.nn.utils.parametrizations.weight_norm`.\n",
      "  WeightNorm.apply(module, name, dim)\n"
     ]
    },
    {
     "name": "stdout",
     "output_type": "stream",
     "text": [
      "Missing tensor: mel_transformer.spectrogram.window\n",
      "Missing tensor: mel_transformer.mel_scale.fb\n"
     ]
    },
    {
     "name": "stderr",
     "output_type": "stream",
     "text": [
      "2025-08-05 18:26:30,079 - INFO - Starting inference...\n",
      "Setting `pad_token_id` to `eos_token_id`:None for open-end generation.\n",
      "2025-08-05 18:26:40,766 - INFO - Audio saved at: result/temp.wav\n"
     ]
    },
    {
     "name": "stdout",
     "output_type": "stream",
     "text": [
      "142 历史学和人类学都应该同时研究客观纯客观历史和主观历史是有些历史就是比较客观的 aigc_speech_generation_tasks/reference_142.wav\n"
     ]
    },
    {
     "name": "stderr",
     "output_type": "stream",
     "text": [
      "2025-08-05 18:26:44.794212: I tensorflow/core/util/port.cc:113] oneDNN custom operations are on. You may see slightly different numerical results due to floating-point round-off errors from different computation orders. To turn them off, set the environment variable `TF_ENABLE_ONEDNN_OPTS=0`.\n",
      "2025-08-05 18:26:44.832986: I tensorflow/core/platform/cpu_feature_guard.cc:210] This TensorFlow binary is optimized to use available CPU instructions in performance-critical operations.\n",
      "To enable the following instructions: AVX2 AVX512F AVX512_VNNI FMA, in other operations, rebuild TensorFlow with the appropriate compiler flags.\n",
      "2025-08-05 18:26:45.697989: W tensorflow/compiler/tf2tensorrt/utils/py_utils.cc:38] TF-TRT Warning: Could not find TensorRT\n",
      "2025-08-05 18:26:47,362 - INFO - Using model from: /mnt/workspace/.cache/modelscope/models/SparkAudio/Spark-TTS-0___5B\n",
      "2025-08-05 18:26:47,362 - INFO - Saving audio to: result\n",
      "2025-08-05 18:26:47,363 - INFO - Using CUDA device: cuda:0\n",
      "/usr/local/lib/python3.11/site-packages/torch/nn/utils/weight_norm.py:143: FutureWarning: `torch.nn.utils.weight_norm` is deprecated in favor of `torch.nn.utils.parametrizations.weight_norm`.\n",
      "  WeightNorm.apply(module, name, dim)\n"
     ]
    },
    {
     "name": "stdout",
     "output_type": "stream",
     "text": [
      "Missing tensor: mel_transformer.spectrogram.window\n",
      "Missing tensor: mel_transformer.mel_scale.fb\n"
     ]
    },
    {
     "name": "stderr",
     "output_type": "stream",
     "text": [
      "2025-08-05 18:26:52,993 - INFO - Starting inference...\n",
      "Setting `pad_token_id` to `eos_token_id`:None for open-end generation.\n",
      "2025-08-05 18:27:04,938 - INFO - Audio saved at: result/temp.wav\n"
     ]
    },
    {
     "name": "stdout",
     "output_type": "stream",
     "text": [
      "143 早，看你精神还算不错。 aigc_speech_generation_tasks/reference_143.wav\n"
     ]
    },
    {
     "name": "stderr",
     "output_type": "stream",
     "text": [
      "2025-08-05 18:27:09.066833: I tensorflow/core/util/port.cc:113] oneDNN custom operations are on. You may see slightly different numerical results due to floating-point round-off errors from different computation orders. To turn them off, set the environment variable `TF_ENABLE_ONEDNN_OPTS=0`.\n",
      "2025-08-05 18:27:09.108112: I tensorflow/core/platform/cpu_feature_guard.cc:210] This TensorFlow binary is optimized to use available CPU instructions in performance-critical operations.\n",
      "To enable the following instructions: AVX2 AVX512F AVX512_VNNI FMA, in other operations, rebuild TensorFlow with the appropriate compiler flags.\n",
      "2025-08-05 18:27:09.956146: W tensorflow/compiler/tf2tensorrt/utils/py_utils.cc:38] TF-TRT Warning: Could not find TensorRT\n",
      "2025-08-05 18:27:11,629 - INFO - Using model from: /mnt/workspace/.cache/modelscope/models/SparkAudio/Spark-TTS-0___5B\n",
      "2025-08-05 18:27:11,629 - INFO - Saving audio to: result\n",
      "2025-08-05 18:27:11,630 - INFO - Using CUDA device: cuda:0\n",
      "/usr/local/lib/python3.11/site-packages/torch/nn/utils/weight_norm.py:143: FutureWarning: `torch.nn.utils.weight_norm` is deprecated in favor of `torch.nn.utils.parametrizations.weight_norm`.\n",
      "  WeightNorm.apply(module, name, dim)\n"
     ]
    },
    {
     "name": "stdout",
     "output_type": "stream",
     "text": [
      "Missing tensor: mel_transformer.spectrogram.window\n",
      "Missing tensor: mel_transformer.mel_scale.fb\n"
     ]
    },
    {
     "name": "stderr",
     "output_type": "stream",
     "text": [
      "2025-08-05 18:27:16,196 - INFO - Starting inference...\n",
      "Setting `pad_token_id` to `eos_token_id`:None for open-end generation.\n",
      "2025-08-05 18:27:19,109 - INFO - Audio saved at: result/temp.wav\n"
     ]
    },
    {
     "name": "stdout",
     "output_type": "stream",
     "text": [
      "144 我每天都督促自己还好我有非常棒的工作人员非常棒的教练 aigc_speech_generation_tasks/reference_144.wav\n"
     ]
    },
    {
     "name": "stderr",
     "output_type": "stream",
     "text": [
      "2025-08-05 18:27:23.207321: I tensorflow/core/util/port.cc:113] oneDNN custom operations are on. You may see slightly different numerical results due to floating-point round-off errors from different computation orders. To turn them off, set the environment variable `TF_ENABLE_ONEDNN_OPTS=0`.\n",
      "2025-08-05 18:27:23.246629: I tensorflow/core/platform/cpu_feature_guard.cc:210] This TensorFlow binary is optimized to use available CPU instructions in performance-critical operations.\n",
      "To enable the following instructions: AVX2 AVX512F AVX512_VNNI FMA, in other operations, rebuild TensorFlow with the appropriate compiler flags.\n",
      "2025-08-05 18:27:24.091404: W tensorflow/compiler/tf2tensorrt/utils/py_utils.cc:38] TF-TRT Warning: Could not find TensorRT\n",
      "2025-08-05 18:27:25,731 - INFO - Using model from: /mnt/workspace/.cache/modelscope/models/SparkAudio/Spark-TTS-0___5B\n",
      "2025-08-05 18:27:25,731 - INFO - Saving audio to: result\n",
      "2025-08-05 18:27:25,732 - INFO - Using CUDA device: cuda:0\n",
      "/usr/local/lib/python3.11/site-packages/torch/nn/utils/weight_norm.py:143: FutureWarning: `torch.nn.utils.weight_norm` is deprecated in favor of `torch.nn.utils.parametrizations.weight_norm`.\n",
      "  WeightNorm.apply(module, name, dim)\n"
     ]
    },
    {
     "name": "stdout",
     "output_type": "stream",
     "text": [
      "Missing tensor: mel_transformer.spectrogram.window\n",
      "Missing tensor: mel_transformer.mel_scale.fb\n"
     ]
    },
    {
     "name": "stderr",
     "output_type": "stream",
     "text": [
      "2025-08-05 18:27:30,552 - INFO - Starting inference...\n",
      "Setting `pad_token_id` to `eos_token_id`:None for open-end generation.\n",
      "2025-08-05 18:28:25,207 - INFO - Audio saved at: result/temp.wav\n"
     ]
    },
    {
     "name": "stdout",
     "output_type": "stream",
     "text": [
      "145 有谁能为我复写下一个？ aigc_speech_generation_tasks/reference_145.wav\n"
     ]
    },
    {
     "name": "stderr",
     "output_type": "stream",
     "text": [
      "2025-08-05 18:28:29.316902: I tensorflow/core/util/port.cc:113] oneDNN custom operations are on. You may see slightly different numerical results due to floating-point round-off errors from different computation orders. To turn them off, set the environment variable `TF_ENABLE_ONEDNN_OPTS=0`.\n",
      "2025-08-05 18:28:29.355886: I tensorflow/core/platform/cpu_feature_guard.cc:210] This TensorFlow binary is optimized to use available CPU instructions in performance-critical operations.\n",
      "To enable the following instructions: AVX2 AVX512F AVX512_VNNI FMA, in other operations, rebuild TensorFlow with the appropriate compiler flags.\n",
      "2025-08-05 18:28:30.199087: W tensorflow/compiler/tf2tensorrt/utils/py_utils.cc:38] TF-TRT Warning: Could not find TensorRT\n",
      "2025-08-05 18:28:31,865 - INFO - Using model from: /mnt/workspace/.cache/modelscope/models/SparkAudio/Spark-TTS-0___5B\n",
      "2025-08-05 18:28:31,865 - INFO - Saving audio to: result\n",
      "2025-08-05 18:28:31,866 - INFO - Using CUDA device: cuda:0\n",
      "/usr/local/lib/python3.11/site-packages/torch/nn/utils/weight_norm.py:143: FutureWarning: `torch.nn.utils.weight_norm` is deprecated in favor of `torch.nn.utils.parametrizations.weight_norm`.\n",
      "  WeightNorm.apply(module, name, dim)\n"
     ]
    },
    {
     "name": "stdout",
     "output_type": "stream",
     "text": [
      "Missing tensor: mel_transformer.spectrogram.window\n",
      "Missing tensor: mel_transformer.mel_scale.fb\n"
     ]
    },
    {
     "name": "stderr",
     "output_type": "stream",
     "text": [
      "2025-08-05 18:28:36,496 - INFO - Starting inference...\n",
      "Setting `pad_token_id` to `eos_token_id`:None for open-end generation.\n",
      "2025-08-05 18:28:39,937 - INFO - Audio saved at: result/temp.wav\n"
     ]
    },
    {
     "name": "stdout",
     "output_type": "stream",
     "text": [
      "146 不不不，他可不是挺有才的，他真的是天才！ aigc_speech_generation_tasks/reference_146.wav\n"
     ]
    },
    {
     "name": "stderr",
     "output_type": "stream",
     "text": [
      "2025-08-05 18:28:43.974548: I tensorflow/core/util/port.cc:113] oneDNN custom operations are on. You may see slightly different numerical results due to floating-point round-off errors from different computation orders. To turn them off, set the environment variable `TF_ENABLE_ONEDNN_OPTS=0`.\n",
      "2025-08-05 18:28:44.014123: I tensorflow/core/platform/cpu_feature_guard.cc:210] This TensorFlow binary is optimized to use available CPU instructions in performance-critical operations.\n",
      "To enable the following instructions: AVX2 AVX512F AVX512_VNNI FMA, in other operations, rebuild TensorFlow with the appropriate compiler flags.\n",
      "2025-08-05 18:28:44.862559: W tensorflow/compiler/tf2tensorrt/utils/py_utils.cc:38] TF-TRT Warning: Could not find TensorRT\n",
      "2025-08-05 18:28:46,536 - INFO - Using model from: /mnt/workspace/.cache/modelscope/models/SparkAudio/Spark-TTS-0___5B\n",
      "2025-08-05 18:28:46,536 - INFO - Saving audio to: result\n",
      "2025-08-05 18:28:46,537 - INFO - Using CUDA device: cuda:0\n",
      "/usr/local/lib/python3.11/site-packages/torch/nn/utils/weight_norm.py:143: FutureWarning: `torch.nn.utils.weight_norm` is deprecated in favor of `torch.nn.utils.parametrizations.weight_norm`.\n",
      "  WeightNorm.apply(module, name, dim)\n"
     ]
    },
    {
     "name": "stdout",
     "output_type": "stream",
     "text": [
      "Missing tensor: mel_transformer.spectrogram.window\n",
      "Missing tensor: mel_transformer.mel_scale.fb\n"
     ]
    },
    {
     "name": "stderr",
     "output_type": "stream",
     "text": [
      "2025-08-05 18:28:51,229 - INFO - Starting inference...\n",
      "Setting `pad_token_id` to `eos_token_id`:None for open-end generation.\n",
      "2025-08-05 18:28:55,584 - INFO - Audio saved at: result/temp.wav\n"
     ]
    },
    {
     "name": "stdout",
     "output_type": "stream",
     "text": [
      "147 小罗被聊天群内一个‘充值300返1000’的广告吸引，通过扫码方式向对方转账，却没有得到承诺的返利。要求退款时对方解释需要贷款成功以验证信用度的方式退款。小罗听信了对方的套路，通过贷款软件贷得18000元并转账给骗子。骗子在收到钱后立即消失。（中国经济网2021年4月） aigc_speech_generation_tasks/reference_147.wav\n"
     ]
    },
    {
     "name": "stderr",
     "output_type": "stream",
     "text": [
      "2025-08-05 18:28:59.701487: I tensorflow/core/util/port.cc:113] oneDNN custom operations are on. You may see slightly different numerical results due to floating-point round-off errors from different computation orders. To turn them off, set the environment variable `TF_ENABLE_ONEDNN_OPTS=0`.\n",
      "2025-08-05 18:28:59.740498: I tensorflow/core/platform/cpu_feature_guard.cc:210] This TensorFlow binary is optimized to use available CPU instructions in performance-critical operations.\n",
      "To enable the following instructions: AVX2 AVX512F AVX512_VNNI FMA, in other operations, rebuild TensorFlow with the appropriate compiler flags.\n",
      "2025-08-05 18:29:00.583307: W tensorflow/compiler/tf2tensorrt/utils/py_utils.cc:38] TF-TRT Warning: Could not find TensorRT\n",
      "2025-08-05 18:29:02,269 - INFO - Using model from: /mnt/workspace/.cache/modelscope/models/SparkAudio/Spark-TTS-0___5B\n",
      "2025-08-05 18:29:02,269 - INFO - Saving audio to: result\n",
      "2025-08-05 18:29:02,271 - INFO - Using CUDA device: cuda:0\n",
      "/usr/local/lib/python3.11/site-packages/torch/nn/utils/weight_norm.py:143: FutureWarning: `torch.nn.utils.weight_norm` is deprecated in favor of `torch.nn.utils.parametrizations.weight_norm`.\n",
      "  WeightNorm.apply(module, name, dim)\n"
     ]
    },
    {
     "name": "stdout",
     "output_type": "stream",
     "text": [
      "Missing tensor: mel_transformer.spectrogram.window\n",
      "Missing tensor: mel_transformer.mel_scale.fb\n"
     ]
    },
    {
     "name": "stderr",
     "output_type": "stream",
     "text": [
      "2025-08-05 18:29:06,880 - INFO - Starting inference...\n",
      "Setting `pad_token_id` to `eos_token_id`:None for open-end generation.\n",
      "2025-08-05 18:29:31,349 - INFO - Audio saved at: result/temp.wav\n"
     ]
    },
    {
     "name": "stdout",
     "output_type": "stream",
     "text": [
      "148 这个传闻令一众用家啧啧称奇！ aigc_speech_generation_tasks/reference_148.wav\n"
     ]
    },
    {
     "name": "stderr",
     "output_type": "stream",
     "text": [
      "2025-08-05 18:29:35.442118: I tensorflow/core/util/port.cc:113] oneDNN custom operations are on. You may see slightly different numerical results due to floating-point round-off errors from different computation orders. To turn them off, set the environment variable `TF_ENABLE_ONEDNN_OPTS=0`.\n",
      "2025-08-05 18:29:35.481352: I tensorflow/core/platform/cpu_feature_guard.cc:210] This TensorFlow binary is optimized to use available CPU instructions in performance-critical operations.\n",
      "To enable the following instructions: AVX2 AVX512F AVX512_VNNI FMA, in other operations, rebuild TensorFlow with the appropriate compiler flags.\n",
      "2025-08-05 18:29:36.341330: W tensorflow/compiler/tf2tensorrt/utils/py_utils.cc:38] TF-TRT Warning: Could not find TensorRT\n",
      "2025-08-05 18:29:38,039 - INFO - Using model from: /mnt/workspace/.cache/modelscope/models/SparkAudio/Spark-TTS-0___5B\n",
      "2025-08-05 18:29:38,039 - INFO - Saving audio to: result\n",
      "2025-08-05 18:29:38,041 - INFO - Using CUDA device: cuda:0\n",
      "/usr/local/lib/python3.11/site-packages/torch/nn/utils/weight_norm.py:143: FutureWarning: `torch.nn.utils.weight_norm` is deprecated in favor of `torch.nn.utils.parametrizations.weight_norm`.\n",
      "  WeightNorm.apply(module, name, dim)\n"
     ]
    },
    {
     "name": "stdout",
     "output_type": "stream",
     "text": [
      "Missing tensor: mel_transformer.spectrogram.window\n",
      "Missing tensor: mel_transformer.mel_scale.fb\n"
     ]
    },
    {
     "name": "stderr",
     "output_type": "stream",
     "text": [
      "2025-08-05 18:29:42,772 - INFO - Starting inference...\n",
      "Setting `pad_token_id` to `eos_token_id`:None for open-end generation.\n",
      "2025-08-05 18:29:48,709 - INFO - Audio saved at: result/temp.wav\n"
     ]
    },
    {
     "name": "stdout",
     "output_type": "stream",
     "text": [
      "149 光合作用主要发生在植物叶片的叶肉细胞中，其中含有大量的叶绿体，叶绿体内的叶绿素能够吸收太阳光，并利用光能将二氧化碳和水合成为葡萄糖，同时释放出氧气。 aigc_speech_generation_tasks/reference_149.wav\n"
     ]
    },
    {
     "name": "stderr",
     "output_type": "stream",
     "text": [
      "2025-08-05 18:29:52.872703: I tensorflow/core/util/port.cc:113] oneDNN custom operations are on. You may see slightly different numerical results due to floating-point round-off errors from different computation orders. To turn them off, set the environment variable `TF_ENABLE_ONEDNN_OPTS=0`.\n",
      "2025-08-05 18:29:52.912386: I tensorflow/core/platform/cpu_feature_guard.cc:210] This TensorFlow binary is optimized to use available CPU instructions in performance-critical operations.\n",
      "To enable the following instructions: AVX2 AVX512F AVX512_VNNI FMA, in other operations, rebuild TensorFlow with the appropriate compiler flags.\n",
      "2025-08-05 18:29:53.759319: W tensorflow/compiler/tf2tensorrt/utils/py_utils.cc:38] TF-TRT Warning: Could not find TensorRT\n",
      "2025-08-05 18:29:55,414 - INFO - Using model from: /mnt/workspace/.cache/modelscope/models/SparkAudio/Spark-TTS-0___5B\n",
      "2025-08-05 18:29:55,414 - INFO - Saving audio to: result\n",
      "2025-08-05 18:29:55,416 - INFO - Using CUDA device: cuda:0\n",
      "/usr/local/lib/python3.11/site-packages/torch/nn/utils/weight_norm.py:143: FutureWarning: `torch.nn.utils.weight_norm` is deprecated in favor of `torch.nn.utils.parametrizations.weight_norm`.\n",
      "  WeightNorm.apply(module, name, dim)\n"
     ]
    },
    {
     "name": "stdout",
     "output_type": "stream",
     "text": [
      "Missing tensor: mel_transformer.spectrogram.window\n",
      "Missing tensor: mel_transformer.mel_scale.fb\n"
     ]
    },
    {
     "name": "stderr",
     "output_type": "stream",
     "text": [
      "2025-08-05 18:30:00,022 - INFO - Starting inference...\n",
      "Setting `pad_token_id` to `eos_token_id`:None for open-end generation.\n",
      "2025-08-05 18:30:54,317 - INFO - Audio saved at: result/temp.wav\n"
     ]
    },
    {
     "name": "stdout",
     "output_type": "stream",
     "text": [
      "150 我需要一把新的厨房刀具，最好是不锈钢材质的，买下来直接发快递到家 aigc_speech_generation_tasks/reference_150.wav\n"
     ]
    },
    {
     "name": "stderr",
     "output_type": "stream",
     "text": [
      "2025-08-05 18:30:58.460194: I tensorflow/core/util/port.cc:113] oneDNN custom operations are on. You may see slightly different numerical results due to floating-point round-off errors from different computation orders. To turn them off, set the environment variable `TF_ENABLE_ONEDNN_OPTS=0`.\n",
      "2025-08-05 18:30:58.499305: I tensorflow/core/platform/cpu_feature_guard.cc:210] This TensorFlow binary is optimized to use available CPU instructions in performance-critical operations.\n",
      "To enable the following instructions: AVX2 AVX512F AVX512_VNNI FMA, in other operations, rebuild TensorFlow with the appropriate compiler flags.\n",
      "2025-08-05 18:30:59.356549: W tensorflow/compiler/tf2tensorrt/utils/py_utils.cc:38] TF-TRT Warning: Could not find TensorRT\n",
      "2025-08-05 18:31:01,050 - INFO - Using model from: /mnt/workspace/.cache/modelscope/models/SparkAudio/Spark-TTS-0___5B\n",
      "2025-08-05 18:31:01,050 - INFO - Saving audio to: result\n",
      "2025-08-05 18:31:01,051 - INFO - Using CUDA device: cuda:0\n",
      "/usr/local/lib/python3.11/site-packages/torch/nn/utils/weight_norm.py:143: FutureWarning: `torch.nn.utils.weight_norm` is deprecated in favor of `torch.nn.utils.parametrizations.weight_norm`.\n",
      "  WeightNorm.apply(module, name, dim)\n"
     ]
    },
    {
     "name": "stdout",
     "output_type": "stream",
     "text": [
      "Missing tensor: mel_transformer.spectrogram.window\n",
      "Missing tensor: mel_transformer.mel_scale.fb\n"
     ]
    },
    {
     "name": "stderr",
     "output_type": "stream",
     "text": [
      "2025-08-05 18:31:05,703 - INFO - Starting inference...\n",
      "Setting `pad_token_id` to `eos_token_id`:None for open-end generation.\n",
      "2025-08-05 18:31:11,976 - INFO - Audio saved at: result/temp.wav\n"
     ]
    },
    {
     "name": "stdout",
     "output_type": "stream",
     "text": [
      "151 实现科学育儿家长特别需要擦亮眼睛认真鉴别 aigc_speech_generation_tasks/reference_151.wav\n"
     ]
    },
    {
     "name": "stderr",
     "output_type": "stream",
     "text": [
      "2025-08-05 18:31:16.037959: I tensorflow/core/util/port.cc:113] oneDNN custom operations are on. You may see slightly different numerical results due to floating-point round-off errors from different computation orders. To turn them off, set the environment variable `TF_ENABLE_ONEDNN_OPTS=0`.\n",
      "2025-08-05 18:31:16.076552: I tensorflow/core/platform/cpu_feature_guard.cc:210] This TensorFlow binary is optimized to use available CPU instructions in performance-critical operations.\n",
      "To enable the following instructions: AVX2 AVX512F AVX512_VNNI FMA, in other operations, rebuild TensorFlow with the appropriate compiler flags.\n",
      "2025-08-05 18:31:16.917515: W tensorflow/compiler/tf2tensorrt/utils/py_utils.cc:38] TF-TRT Warning: Could not find TensorRT\n",
      "2025-08-05 18:31:18,567 - INFO - Using model from: /mnt/workspace/.cache/modelscope/models/SparkAudio/Spark-TTS-0___5B\n",
      "2025-08-05 18:31:18,567 - INFO - Saving audio to: result\n",
      "2025-08-05 18:31:18,569 - INFO - Using CUDA device: cuda:0\n",
      "/usr/local/lib/python3.11/site-packages/torch/nn/utils/weight_norm.py:143: FutureWarning: `torch.nn.utils.weight_norm` is deprecated in favor of `torch.nn.utils.parametrizations.weight_norm`.\n",
      "  WeightNorm.apply(module, name, dim)\n"
     ]
    },
    {
     "name": "stdout",
     "output_type": "stream",
     "text": [
      "Missing tensor: mel_transformer.spectrogram.window\n",
      "Missing tensor: mel_transformer.mel_scale.fb\n"
     ]
    },
    {
     "name": "stderr",
     "output_type": "stream",
     "text": [
      "2025-08-05 18:31:24,258 - INFO - Starting inference...\n",
      "Setting `pad_token_id` to `eos_token_id`:None for open-end generation.\n",
      "2025-08-05 18:31:31,842 - INFO - Audio saved at: result/temp.wav\n"
     ]
    },
    {
     "name": "stdout",
     "output_type": "stream",
     "text": [
      "152 好的，支付 aigc_speech_generation_tasks/reference_152.wav\n"
     ]
    },
    {
     "name": "stderr",
     "output_type": "stream",
     "text": [
      "2025-08-05 18:31:35.924777: I tensorflow/core/util/port.cc:113] oneDNN custom operations are on. You may see slightly different numerical results due to floating-point round-off errors from different computation orders. To turn them off, set the environment variable `TF_ENABLE_ONEDNN_OPTS=0`.\n",
      "2025-08-05 18:31:35.964009: I tensorflow/core/platform/cpu_feature_guard.cc:210] This TensorFlow binary is optimized to use available CPU instructions in performance-critical operations.\n",
      "To enable the following instructions: AVX2 AVX512F AVX512_VNNI FMA, in other operations, rebuild TensorFlow with the appropriate compiler flags.\n",
      "2025-08-05 18:31:36.850416: W tensorflow/compiler/tf2tensorrt/utils/py_utils.cc:38] TF-TRT Warning: Could not find TensorRT\n",
      "2025-08-05 18:31:38,532 - INFO - Using model from: /mnt/workspace/.cache/modelscope/models/SparkAudio/Spark-TTS-0___5B\n",
      "2025-08-05 18:31:38,532 - INFO - Saving audio to: result\n",
      "2025-08-05 18:31:38,533 - INFO - Using CUDA device: cuda:0\n",
      "/usr/local/lib/python3.11/site-packages/torch/nn/utils/weight_norm.py:143: FutureWarning: `torch.nn.utils.weight_norm` is deprecated in favor of `torch.nn.utils.parametrizations.weight_norm`.\n",
      "  WeightNorm.apply(module, name, dim)\n"
     ]
    },
    {
     "name": "stdout",
     "output_type": "stream",
     "text": [
      "Missing tensor: mel_transformer.spectrogram.window\n",
      "Missing tensor: mel_transformer.mel_scale.fb\n"
     ]
    },
    {
     "name": "stderr",
     "output_type": "stream",
     "text": [
      "2025-08-05 18:31:43,401 - INFO - Starting inference...\n",
      "Setting `pad_token_id` to `eos_token_id`:None for open-end generation.\n",
      "2025-08-05 18:31:45,122 - INFO - Audio saved at: result/temp.wav\n"
     ]
    },
    {
     "name": "stdout",
     "output_type": "stream",
     "text": [
      "153 帮我查一下最近有没有优惠的洗衣液，买两瓶大的 aigc_speech_generation_tasks/reference_153.wav\n"
     ]
    },
    {
     "name": "stderr",
     "output_type": "stream",
     "text": [
      "2025-08-05 18:31:49.160238: I tensorflow/core/util/port.cc:113] oneDNN custom operations are on. You may see slightly different numerical results due to floating-point round-off errors from different computation orders. To turn them off, set the environment variable `TF_ENABLE_ONEDNN_OPTS=0`.\n",
      "2025-08-05 18:31:49.199337: I tensorflow/core/platform/cpu_feature_guard.cc:210] This TensorFlow binary is optimized to use available CPU instructions in performance-critical operations.\n",
      "To enable the following instructions: AVX2 AVX512F AVX512_VNNI FMA, in other operations, rebuild TensorFlow with the appropriate compiler flags.\n",
      "2025-08-05 18:31:50.052579: W tensorflow/compiler/tf2tensorrt/utils/py_utils.cc:38] TF-TRT Warning: Could not find TensorRT\n",
      "2025-08-05 18:31:51,795 - INFO - Using model from: /mnt/workspace/.cache/modelscope/models/SparkAudio/Spark-TTS-0___5B\n",
      "2025-08-05 18:31:51,795 - INFO - Saving audio to: result\n",
      "2025-08-05 18:31:51,796 - INFO - Using CUDA device: cuda:0\n",
      "/usr/local/lib/python3.11/site-packages/torch/nn/utils/weight_norm.py:143: FutureWarning: `torch.nn.utils.weight_norm` is deprecated in favor of `torch.nn.utils.parametrizations.weight_norm`.\n",
      "  WeightNorm.apply(module, name, dim)\n"
     ]
    },
    {
     "name": "stdout",
     "output_type": "stream",
     "text": [
      "Missing tensor: mel_transformer.spectrogram.window\n",
      "Missing tensor: mel_transformer.mel_scale.fb\n"
     ]
    },
    {
     "name": "stderr",
     "output_type": "stream",
     "text": [
      "2025-08-05 18:31:56,445 - INFO - Starting inference...\n",
      "Setting `pad_token_id` to `eos_token_id`:None for open-end generation.\n",
      "2025-08-05 18:32:00,829 - INFO - Audio saved at: result/temp.wav\n"
     ]
    },
    {
     "name": "stdout",
     "output_type": "stream",
     "text": [
      "154 不久前新潮传媒减员的消息曾引起轩然大波 aigc_speech_generation_tasks/reference_154.wav\n"
     ]
    },
    {
     "name": "stderr",
     "output_type": "stream",
     "text": [
      "2025-08-05 18:32:04.917355: I tensorflow/core/util/port.cc:113] oneDNN custom operations are on. You may see slightly different numerical results due to floating-point round-off errors from different computation orders. To turn them off, set the environment variable `TF_ENABLE_ONEDNN_OPTS=0`.\n",
      "2025-08-05 18:32:04.956378: I tensorflow/core/platform/cpu_feature_guard.cc:210] This TensorFlow binary is optimized to use available CPU instructions in performance-critical operations.\n",
      "To enable the following instructions: AVX2 AVX512F AVX512_VNNI FMA, in other operations, rebuild TensorFlow with the appropriate compiler flags.\n",
      "2025-08-05 18:32:05.808736: W tensorflow/compiler/tf2tensorrt/utils/py_utils.cc:38] TF-TRT Warning: Could not find TensorRT\n",
      "2025-08-05 18:32:07,545 - INFO - Using model from: /mnt/workspace/.cache/modelscope/models/SparkAudio/Spark-TTS-0___5B\n",
      "2025-08-05 18:32:07,545 - INFO - Saving audio to: result\n",
      "2025-08-05 18:32:07,547 - INFO - Using CUDA device: cuda:0\n",
      "/usr/local/lib/python3.11/site-packages/torch/nn/utils/weight_norm.py:143: FutureWarning: `torch.nn.utils.weight_norm` is deprecated in favor of `torch.nn.utils.parametrizations.weight_norm`.\n",
      "  WeightNorm.apply(module, name, dim)\n"
     ]
    },
    {
     "name": "stdout",
     "output_type": "stream",
     "text": [
      "Missing tensor: mel_transformer.spectrogram.window\n",
      "Missing tensor: mel_transformer.mel_scale.fb\n"
     ]
    },
    {
     "name": "stderr",
     "output_type": "stream",
     "text": [
      "2025-08-05 18:32:12,249 - INFO - Starting inference...\n",
      "Setting `pad_token_id` to `eos_token_id`:None for open-end generation.\n",
      "2025-08-05 18:32:16,775 - INFO - Audio saved at: result/temp.wav\n"
     ]
    },
    {
     "name": "stdout",
     "output_type": "stream",
     "text": [
      "155 被子植物是目前植物界种类最多、分布最广的一类高等植物，其显著特征是种子外面有果皮包被，果实的形成有助于种子的保护和传播。 aigc_speech_generation_tasks/reference_155.wav\n"
     ]
    },
    {
     "name": "stderr",
     "output_type": "stream",
     "text": [
      "2025-08-05 18:32:20.900290: I tensorflow/core/util/port.cc:113] oneDNN custom operations are on. You may see slightly different numerical results due to floating-point round-off errors from different computation orders. To turn them off, set the environment variable `TF_ENABLE_ONEDNN_OPTS=0`.\n",
      "2025-08-05 18:32:20.950042: I tensorflow/core/platform/cpu_feature_guard.cc:210] This TensorFlow binary is optimized to use available CPU instructions in performance-critical operations.\n",
      "To enable the following instructions: AVX2 AVX512F AVX512_VNNI FMA, in other operations, rebuild TensorFlow with the appropriate compiler flags.\n",
      "2025-08-05 18:32:21.819878: W tensorflow/compiler/tf2tensorrt/utils/py_utils.cc:38] TF-TRT Warning: Could not find TensorRT\n",
      "2025-08-05 18:32:23,493 - INFO - Using model from: /mnt/workspace/.cache/modelscope/models/SparkAudio/Spark-TTS-0___5B\n",
      "2025-08-05 18:32:23,493 - INFO - Saving audio to: result\n",
      "2025-08-05 18:32:23,495 - INFO - Using CUDA device: cuda:0\n",
      "/usr/local/lib/python3.11/site-packages/torch/nn/utils/weight_norm.py:143: FutureWarning: `torch.nn.utils.weight_norm` is deprecated in favor of `torch.nn.utils.parametrizations.weight_norm`.\n",
      "  WeightNorm.apply(module, name, dim)\n"
     ]
    },
    {
     "name": "stdout",
     "output_type": "stream",
     "text": [
      "Missing tensor: mel_transformer.spectrogram.window\n",
      "Missing tensor: mel_transformer.mel_scale.fb\n"
     ]
    },
    {
     "name": "stderr",
     "output_type": "stream",
     "text": [
      "2025-08-05 18:32:28,384 - INFO - Starting inference...\n",
      "Setting `pad_token_id` to `eos_token_id`:None for open-end generation.\n",
      "2025-08-05 18:32:39,414 - INFO - Audio saved at: result/temp.wav\n"
     ]
    },
    {
     "name": "stdout",
     "output_type": "stream",
     "text": [
      "156 未来是一个充满无限可能性的领域。科技将会把我们带到前所未有的高度，而人类的创造力将为这个世界注入新的活力。 aigc_speech_generation_tasks/reference_156.wav\n"
     ]
    },
    {
     "name": "stderr",
     "output_type": "stream",
     "text": [
      "2025-08-05 18:32:43.522999: I tensorflow/core/util/port.cc:113] oneDNN custom operations are on. You may see slightly different numerical results due to floating-point round-off errors from different computation orders. To turn them off, set the environment variable `TF_ENABLE_ONEDNN_OPTS=0`.\n",
      "2025-08-05 18:32:43.562219: I tensorflow/core/platform/cpu_feature_guard.cc:210] This TensorFlow binary is optimized to use available CPU instructions in performance-critical operations.\n",
      "To enable the following instructions: AVX2 AVX512F AVX512_VNNI FMA, in other operations, rebuild TensorFlow with the appropriate compiler flags.\n",
      "2025-08-05 18:32:44.404581: W tensorflow/compiler/tf2tensorrt/utils/py_utils.cc:38] TF-TRT Warning: Could not find TensorRT\n",
      "2025-08-05 18:32:46,056 - INFO - Using model from: /mnt/workspace/.cache/modelscope/models/SparkAudio/Spark-TTS-0___5B\n",
      "2025-08-05 18:32:46,056 - INFO - Saving audio to: result\n",
      "2025-08-05 18:32:46,058 - INFO - Using CUDA device: cuda:0\n",
      "/usr/local/lib/python3.11/site-packages/torch/nn/utils/weight_norm.py:143: FutureWarning: `torch.nn.utils.weight_norm` is deprecated in favor of `torch.nn.utils.parametrizations.weight_norm`.\n",
      "  WeightNorm.apply(module, name, dim)\n"
     ]
    },
    {
     "name": "stdout",
     "output_type": "stream",
     "text": [
      "Missing tensor: mel_transformer.spectrogram.window\n",
      "Missing tensor: mel_transformer.mel_scale.fb\n"
     ]
    },
    {
     "name": "stderr",
     "output_type": "stream",
     "text": [
      "2025-08-05 18:32:50,729 - INFO - Starting inference...\n",
      "Setting `pad_token_id` to `eos_token_id`:None for open-end generation.\n",
      "2025-08-05 18:32:59,796 - INFO - Audio saved at: result/temp.wav\n"
     ]
    },
    {
     "name": "stdout",
     "output_type": "stream",
     "text": [
      "157 装饰陶器显示了经典的波斯园林垂直交叉式结构。 aigc_speech_generation_tasks/reference_157.wav\n"
     ]
    },
    {
     "name": "stderr",
     "output_type": "stream",
     "text": [
      "2025-08-05 18:33:03.905558: I tensorflow/core/util/port.cc:113] oneDNN custom operations are on. You may see slightly different numerical results due to floating-point round-off errors from different computation orders. To turn them off, set the environment variable `TF_ENABLE_ONEDNN_OPTS=0`.\n",
      "2025-08-05 18:33:03.944790: I tensorflow/core/platform/cpu_feature_guard.cc:210] This TensorFlow binary is optimized to use available CPU instructions in performance-critical operations.\n",
      "To enable the following instructions: AVX2 AVX512F AVX512_VNNI FMA, in other operations, rebuild TensorFlow with the appropriate compiler flags.\n",
      "2025-08-05 18:33:04.797139: W tensorflow/compiler/tf2tensorrt/utils/py_utils.cc:38] TF-TRT Warning: Could not find TensorRT\n",
      "2025-08-05 18:33:06,462 - INFO - Using model from: /mnt/workspace/.cache/modelscope/models/SparkAudio/Spark-TTS-0___5B\n",
      "2025-08-05 18:33:06,462 - INFO - Saving audio to: result\n",
      "2025-08-05 18:33:06,465 - INFO - Using CUDA device: cuda:0\n",
      "/usr/local/lib/python3.11/site-packages/torch/nn/utils/weight_norm.py:143: FutureWarning: `torch.nn.utils.weight_norm` is deprecated in favor of `torch.nn.utils.parametrizations.weight_norm`.\n",
      "  WeightNorm.apply(module, name, dim)\n"
     ]
    },
    {
     "name": "stdout",
     "output_type": "stream",
     "text": [
      "Missing tensor: mel_transformer.spectrogram.window\n",
      "Missing tensor: mel_transformer.mel_scale.fb\n"
     ]
    },
    {
     "name": "stderr",
     "output_type": "stream",
     "text": [
      "2025-08-05 18:33:11,353 - INFO - Starting inference...\n",
      "Setting `pad_token_id` to `eos_token_id`:None for open-end generation.\n",
      "2025-08-05 18:33:17,991 - INFO - Audio saved at: result/temp.wav\n"
     ]
    },
    {
     "name": "stdout",
     "output_type": "stream",
     "text": [
      "158 年轻人一个个成长起来，我也老了。时间过得可真快，生老病死果然是人人都绕不开的坎。 aigc_speech_generation_tasks/reference_158.wav\n"
     ]
    },
    {
     "name": "stderr",
     "output_type": "stream",
     "text": [
      "2025-08-05 18:33:22.108089: I tensorflow/core/util/port.cc:113] oneDNN custom operations are on. You may see slightly different numerical results due to floating-point round-off errors from different computation orders. To turn them off, set the environment variable `TF_ENABLE_ONEDNN_OPTS=0`.\n",
      "2025-08-05 18:33:22.147851: I tensorflow/core/platform/cpu_feature_guard.cc:210] This TensorFlow binary is optimized to use available CPU instructions in performance-critical operations.\n",
      "To enable the following instructions: AVX2 AVX512F AVX512_VNNI FMA, in other operations, rebuild TensorFlow with the appropriate compiler flags.\n",
      "2025-08-05 18:33:23.014051: W tensorflow/compiler/tf2tensorrt/utils/py_utils.cc:38] TF-TRT Warning: Could not find TensorRT\n",
      "2025-08-05 18:33:24,693 - INFO - Using model from: /mnt/workspace/.cache/modelscope/models/SparkAudio/Spark-TTS-0___5B\n",
      "2025-08-05 18:33:24,693 - INFO - Saving audio to: result\n",
      "2025-08-05 18:33:24,694 - INFO - Using CUDA device: cuda:0\n",
      "/usr/local/lib/python3.11/site-packages/torch/nn/utils/weight_norm.py:143: FutureWarning: `torch.nn.utils.weight_norm` is deprecated in favor of `torch.nn.utils.parametrizations.weight_norm`.\n",
      "  WeightNorm.apply(module, name, dim)\n"
     ]
    },
    {
     "name": "stdout",
     "output_type": "stream",
     "text": [
      "Missing tensor: mel_transformer.spectrogram.window\n",
      "Missing tensor: mel_transformer.mel_scale.fb\n"
     ]
    },
    {
     "name": "stderr",
     "output_type": "stream",
     "text": [
      "2025-08-05 18:33:29,381 - INFO - Starting inference...\n",
      "Setting `pad_token_id` to `eos_token_id`:None for open-end generation.\n",
      "2025-08-05 18:33:36,354 - INFO - Audio saved at: result/temp.wav\n"
     ]
    },
    {
     "name": "stdout",
     "output_type": "stream",
     "text": [
      "159 当然图文创作不会被视频创作取代 aigc_speech_generation_tasks/reference_159.wav\n"
     ]
    },
    {
     "name": "stderr",
     "output_type": "stream",
     "text": [
      "2025-08-05 18:33:40.513075: I tensorflow/core/util/port.cc:113] oneDNN custom operations are on. You may see slightly different numerical results due to floating-point round-off errors from different computation orders. To turn them off, set the environment variable `TF_ENABLE_ONEDNN_OPTS=0`.\n",
      "2025-08-05 18:33:40.551770: I tensorflow/core/platform/cpu_feature_guard.cc:210] This TensorFlow binary is optimized to use available CPU instructions in performance-critical operations.\n",
      "To enable the following instructions: AVX2 AVX512F AVX512_VNNI FMA, in other operations, rebuild TensorFlow with the appropriate compiler flags.\n",
      "2025-08-05 18:33:41.407547: W tensorflow/compiler/tf2tensorrt/utils/py_utils.cc:38] TF-TRT Warning: Could not find TensorRT\n",
      "2025-08-05 18:33:43,065 - INFO - Using model from: /mnt/workspace/.cache/modelscope/models/SparkAudio/Spark-TTS-0___5B\n",
      "2025-08-05 18:33:43,065 - INFO - Saving audio to: result\n",
      "2025-08-05 18:33:43,066 - INFO - Using CUDA device: cuda:0\n",
      "/usr/local/lib/python3.11/site-packages/torch/nn/utils/weight_norm.py:143: FutureWarning: `torch.nn.utils.weight_norm` is deprecated in favor of `torch.nn.utils.parametrizations.weight_norm`.\n",
      "  WeightNorm.apply(module, name, dim)\n"
     ]
    },
    {
     "name": "stdout",
     "output_type": "stream",
     "text": [
      "Missing tensor: mel_transformer.spectrogram.window\n",
      "Missing tensor: mel_transformer.mel_scale.fb\n"
     ]
    },
    {
     "name": "stderr",
     "output_type": "stream",
     "text": [
      "2025-08-05 18:33:47,794 - INFO - Starting inference...\n",
      "Setting `pad_token_id` to `eos_token_id`:None for open-end generation.\n",
      "2025-08-05 18:33:51,714 - INFO - Audio saved at: result/temp.wav\n"
     ]
    },
    {
     "name": "stdout",
     "output_type": "stream",
     "text": [
      "160 购买一件男士加绒加厚的家居服，看看有什么推荐 aigc_speech_generation_tasks/reference_160.wav\n"
     ]
    },
    {
     "name": "stderr",
     "output_type": "stream",
     "text": [
      "2025-08-05 18:33:55.804409: I tensorflow/core/util/port.cc:113] oneDNN custom operations are on. You may see slightly different numerical results due to floating-point round-off errors from different computation orders. To turn them off, set the environment variable `TF_ENABLE_ONEDNN_OPTS=0`.\n",
      "2025-08-05 18:33:55.843414: I tensorflow/core/platform/cpu_feature_guard.cc:210] This TensorFlow binary is optimized to use available CPU instructions in performance-critical operations.\n",
      "To enable the following instructions: AVX2 AVX512F AVX512_VNNI FMA, in other operations, rebuild TensorFlow with the appropriate compiler flags.\n",
      "2025-08-05 18:33:56.707285: W tensorflow/compiler/tf2tensorrt/utils/py_utils.cc:38] TF-TRT Warning: Could not find TensorRT\n",
      "2025-08-05 18:33:58,365 - INFO - Using model from: /mnt/workspace/.cache/modelscope/models/SparkAudio/Spark-TTS-0___5B\n",
      "2025-08-05 18:33:58,365 - INFO - Saving audio to: result\n",
      "2025-08-05 18:33:58,366 - INFO - Using CUDA device: cuda:0\n",
      "/usr/local/lib/python3.11/site-packages/torch/nn/utils/weight_norm.py:143: FutureWarning: `torch.nn.utils.weight_norm` is deprecated in favor of `torch.nn.utils.parametrizations.weight_norm`.\n",
      "  WeightNorm.apply(module, name, dim)\n"
     ]
    },
    {
     "name": "stdout",
     "output_type": "stream",
     "text": [
      "Missing tensor: mel_transformer.spectrogram.window\n",
      "Missing tensor: mel_transformer.mel_scale.fb\n"
     ]
    },
    {
     "name": "stderr",
     "output_type": "stream",
     "text": [
      "2025-08-05 18:34:03,234 - INFO - Starting inference...\n",
      "Setting `pad_token_id` to `eos_token_id`:None for open-end generation.\n",
      "2025-08-05 18:34:12,337 - INFO - Audio saved at: result/temp.wav\n"
     ]
    },
    {
     "name": "stdout",
     "output_type": "stream",
     "text": [
      "161 她轻轻合上那本泛黄的日记，指尖还停留在最后一页的字迹上，那是她母亲年轻时写下的：“如果有一天我离开了，请记得我不是故意的。”那一刻，她的眼泪终于滑落。 aigc_speech_generation_tasks/reference_161.wav\n"
     ]
    },
    {
     "name": "stderr",
     "output_type": "stream",
     "text": [
      "2025-08-05 18:34:16.510560: I tensorflow/core/util/port.cc:113] oneDNN custom operations are on. You may see slightly different numerical results due to floating-point round-off errors from different computation orders. To turn them off, set the environment variable `TF_ENABLE_ONEDNN_OPTS=0`.\n",
      "2025-08-05 18:34:16.551698: I tensorflow/core/platform/cpu_feature_guard.cc:210] This TensorFlow binary is optimized to use available CPU instructions in performance-critical operations.\n",
      "To enable the following instructions: AVX2 AVX512F AVX512_VNNI FMA, in other operations, rebuild TensorFlow with the appropriate compiler flags.\n",
      "2025-08-05 18:34:17.393549: W tensorflow/compiler/tf2tensorrt/utils/py_utils.cc:38] TF-TRT Warning: Could not find TensorRT\n",
      "2025-08-05 18:34:19,038 - INFO - Using model from: /mnt/workspace/.cache/modelscope/models/SparkAudio/Spark-TTS-0___5B\n",
      "2025-08-05 18:34:19,038 - INFO - Saving audio to: result\n",
      "2025-08-05 18:34:19,040 - INFO - Using CUDA device: cuda:0\n",
      "/usr/local/lib/python3.11/site-packages/torch/nn/utils/weight_norm.py:143: FutureWarning: `torch.nn.utils.weight_norm` is deprecated in favor of `torch.nn.utils.parametrizations.weight_norm`.\n",
      "  WeightNorm.apply(module, name, dim)\n"
     ]
    },
    {
     "name": "stdout",
     "output_type": "stream",
     "text": [
      "Missing tensor: mel_transformer.spectrogram.window\n",
      "Missing tensor: mel_transformer.mel_scale.fb\n"
     ]
    },
    {
     "name": "stderr",
     "output_type": "stream",
     "text": [
      "2025-08-05 18:34:25,099 - INFO - Starting inference...\n",
      "Setting `pad_token_id` to `eos_token_id`:None for open-end generation.\n",
      "2025-08-05 18:34:39,379 - INFO - Audio saved at: result/temp.wav\n"
     ]
    },
    {
     "name": "stdout",
     "output_type": "stream",
     "text": [
      "162 在画面的中心，一架小型的黑色飞机在飞行中被捕捉，正朝着画面的右侧翱翔。尽管飞机体积小巧，但在广阔的天空背景下，它却鲜明地突显出来。天空是蓝色和灰色的戏剧性混合，预示着暴风雨的天气。 aigc_speech_generation_tasks/reference_162.wav\n"
     ]
    },
    {
     "name": "stderr",
     "output_type": "stream",
     "text": [
      "2025-08-05 18:34:43.441403: I tensorflow/core/util/port.cc:113] oneDNN custom operations are on. You may see slightly different numerical results due to floating-point round-off errors from different computation orders. To turn them off, set the environment variable `TF_ENABLE_ONEDNN_OPTS=0`.\n",
      "2025-08-05 18:34:43.480508: I tensorflow/core/platform/cpu_feature_guard.cc:210] This TensorFlow binary is optimized to use available CPU instructions in performance-critical operations.\n",
      "To enable the following instructions: AVX2 AVX512F AVX512_VNNI FMA, in other operations, rebuild TensorFlow with the appropriate compiler flags.\n",
      "2025-08-05 18:34:44.324305: W tensorflow/compiler/tf2tensorrt/utils/py_utils.cc:38] TF-TRT Warning: Could not find TensorRT\n",
      "2025-08-05 18:34:45,980 - INFO - Using model from: /mnt/workspace/.cache/modelscope/models/SparkAudio/Spark-TTS-0___5B\n",
      "2025-08-05 18:34:45,980 - INFO - Saving audio to: result\n",
      "2025-08-05 18:34:45,981 - INFO - Using CUDA device: cuda:0\n",
      "/usr/local/lib/python3.11/site-packages/torch/nn/utils/weight_norm.py:143: FutureWarning: `torch.nn.utils.weight_norm` is deprecated in favor of `torch.nn.utils.parametrizations.weight_norm`.\n",
      "  WeightNorm.apply(module, name, dim)\n"
     ]
    },
    {
     "name": "stdout",
     "output_type": "stream",
     "text": [
      "Missing tensor: mel_transformer.spectrogram.window\n",
      "Missing tensor: mel_transformer.mel_scale.fb\n"
     ]
    },
    {
     "name": "stderr",
     "output_type": "stream",
     "text": [
      "2025-08-05 18:34:50,675 - INFO - Starting inference...\n",
      "Setting `pad_token_id` to `eos_token_id`:None for open-end generation.\n",
      "2025-08-05 18:35:08,979 - INFO - Audio saved at: result/temp.wav\n"
     ]
    },
    {
     "name": "stdout",
     "output_type": "stream",
     "text": [
      "163 当人们措手不及时会发生两件事 aigc_speech_generation_tasks/reference_163.wav\n"
     ]
    },
    {
     "name": "stderr",
     "output_type": "stream",
     "text": [
      "2025-08-05 18:35:13.037534: I tensorflow/core/util/port.cc:113] oneDNN custom operations are on. You may see slightly different numerical results due to floating-point round-off errors from different computation orders. To turn them off, set the environment variable `TF_ENABLE_ONEDNN_OPTS=0`.\n",
      "2025-08-05 18:35:13.076676: I tensorflow/core/platform/cpu_feature_guard.cc:210] This TensorFlow binary is optimized to use available CPU instructions in performance-critical operations.\n",
      "To enable the following instructions: AVX2 AVX512F AVX512_VNNI FMA, in other operations, rebuild TensorFlow with the appropriate compiler flags.\n",
      "2025-08-05 18:35:13.925591: W tensorflow/compiler/tf2tensorrt/utils/py_utils.cc:38] TF-TRT Warning: Could not find TensorRT\n",
      "2025-08-05 18:35:15,578 - INFO - Using model from: /mnt/workspace/.cache/modelscope/models/SparkAudio/Spark-TTS-0___5B\n",
      "2025-08-05 18:35:15,578 - INFO - Saving audio to: result\n",
      "2025-08-05 18:35:15,579 - INFO - Using CUDA device: cuda:0\n",
      "/usr/local/lib/python3.11/site-packages/torch/nn/utils/weight_norm.py:143: FutureWarning: `torch.nn.utils.weight_norm` is deprecated in favor of `torch.nn.utils.parametrizations.weight_norm`.\n",
      "  WeightNorm.apply(module, name, dim)\n"
     ]
    },
    {
     "name": "stdout",
     "output_type": "stream",
     "text": [
      "Missing tensor: mel_transformer.spectrogram.window\n",
      "Missing tensor: mel_transformer.mel_scale.fb\n"
     ]
    },
    {
     "name": "stderr",
     "output_type": "stream",
     "text": [
      "2025-08-05 18:35:20,125 - INFO - Starting inference...\n",
      "Setting `pad_token_id` to `eos_token_id`:None for open-end generation.\n",
      "2025-08-05 18:35:24,308 - INFO - Audio saved at: result/temp.wav\n"
     ]
    },
    {
     "name": "stdout",
     "output_type": "stream",
     "text": [
      "164 给我订三间双人房，在杭州西湖边的那家五星级酒店，下月初入住 aigc_speech_generation_tasks/reference_164.wav\n"
     ]
    },
    {
     "name": "stderr",
     "output_type": "stream",
     "text": [
      "2025-08-05 18:35:28.414632: I tensorflow/core/util/port.cc:113] oneDNN custom operations are on. You may see slightly different numerical results due to floating-point round-off errors from different computation orders. To turn them off, set the environment variable `TF_ENABLE_ONEDNN_OPTS=0`.\n",
      "2025-08-05 18:35:28.453930: I tensorflow/core/platform/cpu_feature_guard.cc:210] This TensorFlow binary is optimized to use available CPU instructions in performance-critical operations.\n",
      "To enable the following instructions: AVX2 AVX512F AVX512_VNNI FMA, in other operations, rebuild TensorFlow with the appropriate compiler flags.\n",
      "2025-08-05 18:35:29.325224: W tensorflow/compiler/tf2tensorrt/utils/py_utils.cc:38] TF-TRT Warning: Could not find TensorRT\n",
      "2025-08-05 18:35:31,030 - INFO - Using model from: /mnt/workspace/.cache/modelscope/models/SparkAudio/Spark-TTS-0___5B\n",
      "2025-08-05 18:35:31,030 - INFO - Saving audio to: result\n",
      "2025-08-05 18:35:31,031 - INFO - Using CUDA device: cuda:0\n",
      "/usr/local/lib/python3.11/site-packages/torch/nn/utils/weight_norm.py:143: FutureWarning: `torch.nn.utils.weight_norm` is deprecated in favor of `torch.nn.utils.parametrizations.weight_norm`.\n",
      "  WeightNorm.apply(module, name, dim)\n"
     ]
    },
    {
     "name": "stdout",
     "output_type": "stream",
     "text": [
      "Missing tensor: mel_transformer.spectrogram.window\n",
      "Missing tensor: mel_transformer.mel_scale.fb\n"
     ]
    },
    {
     "name": "stderr",
     "output_type": "stream",
     "text": [
      "2025-08-05 18:35:35,630 - INFO - Starting inference...\n",
      "Setting `pad_token_id` to `eos_token_id`:None for open-end generation.\n",
      "2025-08-05 18:35:44,778 - INFO - Audio saved at: result/temp.wav\n"
     ]
    },
    {
     "name": "stdout",
     "output_type": "stream",
     "text": [
      "165 商家需要我们，但是同时我们也是真的需要商家 aigc_speech_generation_tasks/reference_165.wav\n"
     ]
    },
    {
     "name": "stderr",
     "output_type": "stream",
     "text": [
      "2025-08-05 18:35:48.854032: I tensorflow/core/util/port.cc:113] oneDNN custom operations are on. You may see slightly different numerical results due to floating-point round-off errors from different computation orders. To turn them off, set the environment variable `TF_ENABLE_ONEDNN_OPTS=0`.\n",
      "2025-08-05 18:35:48.893010: I tensorflow/core/platform/cpu_feature_guard.cc:210] This TensorFlow binary is optimized to use available CPU instructions in performance-critical operations.\n",
      "To enable the following instructions: AVX2 AVX512F AVX512_VNNI FMA, in other operations, rebuild TensorFlow with the appropriate compiler flags.\n",
      "2025-08-05 18:35:49.758469: W tensorflow/compiler/tf2tensorrt/utils/py_utils.cc:38] TF-TRT Warning: Could not find TensorRT\n",
      "2025-08-05 18:35:51,462 - INFO - Using model from: /mnt/workspace/.cache/modelscope/models/SparkAudio/Spark-TTS-0___5B\n",
      "2025-08-05 18:35:51,463 - INFO - Saving audio to: result\n",
      "2025-08-05 18:35:51,464 - INFO - Using CUDA device: cuda:0\n",
      "/usr/local/lib/python3.11/site-packages/torch/nn/utils/weight_norm.py:143: FutureWarning: `torch.nn.utils.weight_norm` is deprecated in favor of `torch.nn.utils.parametrizations.weight_norm`.\n",
      "  WeightNorm.apply(module, name, dim)\n"
     ]
    },
    {
     "name": "stdout",
     "output_type": "stream",
     "text": [
      "Missing tensor: mel_transformer.spectrogram.window\n",
      "Missing tensor: mel_transformer.mel_scale.fb\n"
     ]
    },
    {
     "name": "stderr",
     "output_type": "stream",
     "text": [
      "2025-08-05 18:35:56,135 - INFO - Starting inference...\n",
      "Setting `pad_token_id` to `eos_token_id`:None for open-end generation.\n",
      "2025-08-05 18:36:01,311 - INFO - Audio saved at: result/temp.wav\n"
     ]
    },
    {
     "name": "stdout",
     "output_type": "stream",
     "text": [
      "166 夜色如墨，风卷起街角的落叶，在昏黄的路灯下打着旋儿。他站在那扇锈迹斑斑的铁门前，久久没有敲响门铃，仿佛只要再等一会儿，就能逃避即将面对的一切。 aigc_speech_generation_tasks/reference_166.wav\n"
     ]
    },
    {
     "name": "stderr",
     "output_type": "stream",
     "text": [
      "2025-08-05 18:36:05.349283: I tensorflow/core/util/port.cc:113] oneDNN custom operations are on. You may see slightly different numerical results due to floating-point round-off errors from different computation orders. To turn them off, set the environment variable `TF_ENABLE_ONEDNN_OPTS=0`.\n",
      "2025-08-05 18:36:05.388176: I tensorflow/core/platform/cpu_feature_guard.cc:210] This TensorFlow binary is optimized to use available CPU instructions in performance-critical operations.\n",
      "To enable the following instructions: AVX2 AVX512F AVX512_VNNI FMA, in other operations, rebuild TensorFlow with the appropriate compiler flags.\n",
      "2025-08-05 18:36:06.256455: W tensorflow/compiler/tf2tensorrt/utils/py_utils.cc:38] TF-TRT Warning: Could not find TensorRT\n",
      "2025-08-05 18:36:07,946 - INFO - Using model from: /mnt/workspace/.cache/modelscope/models/SparkAudio/Spark-TTS-0___5B\n",
      "2025-08-05 18:36:07,946 - INFO - Saving audio to: result\n",
      "2025-08-05 18:36:07,948 - INFO - Using CUDA device: cuda:0\n",
      "/usr/local/lib/python3.11/site-packages/torch/nn/utils/weight_norm.py:143: FutureWarning: `torch.nn.utils.weight_norm` is deprecated in favor of `torch.nn.utils.parametrizations.weight_norm`.\n",
      "  WeightNorm.apply(module, name, dim)\n"
     ]
    },
    {
     "name": "stdout",
     "output_type": "stream",
     "text": [
      "Missing tensor: mel_transformer.spectrogram.window\n",
      "Missing tensor: mel_transformer.mel_scale.fb\n"
     ]
    },
    {
     "name": "stderr",
     "output_type": "stream",
     "text": [
      "2025-08-05 18:36:12,832 - INFO - Starting inference...\n",
      "Setting `pad_token_id` to `eos_token_id`:None for open-end generation.\n",
      "2025-08-05 18:37:04,390 - INFO - Audio saved at: result/temp.wav\n"
     ]
    },
    {
     "name": "stdout",
     "output_type": "stream",
     "text": [
      "167 给我安排杭州西湖边的宾馆，我想要一间面朝西湖的房间，11月20号入住 aigc_speech_generation_tasks/reference_167.wav\n"
     ]
    },
    {
     "name": "stderr",
     "output_type": "stream",
     "text": [
      "2025-08-05 18:37:08.562149: I tensorflow/core/util/port.cc:113] oneDNN custom operations are on. You may see slightly different numerical results due to floating-point round-off errors from different computation orders. To turn them off, set the environment variable `TF_ENABLE_ONEDNN_OPTS=0`.\n",
      "2025-08-05 18:37:08.601965: I tensorflow/core/platform/cpu_feature_guard.cc:210] This TensorFlow binary is optimized to use available CPU instructions in performance-critical operations.\n",
      "To enable the following instructions: AVX2 AVX512F AVX512_VNNI FMA, in other operations, rebuild TensorFlow with the appropriate compiler flags.\n",
      "2025-08-05 18:37:09.486602: W tensorflow/compiler/tf2tensorrt/utils/py_utils.cc:38] TF-TRT Warning: Could not find TensorRT\n",
      "2025-08-05 18:37:11,193 - INFO - Using model from: /mnt/workspace/.cache/modelscope/models/SparkAudio/Spark-TTS-0___5B\n",
      "2025-08-05 18:37:11,193 - INFO - Saving audio to: result\n",
      "2025-08-05 18:37:11,198 - INFO - Using CUDA device: cuda:0\n",
      "/usr/local/lib/python3.11/site-packages/torch/nn/utils/weight_norm.py:143: FutureWarning: `torch.nn.utils.weight_norm` is deprecated in favor of `torch.nn.utils.parametrizations.weight_norm`.\n",
      "  WeightNorm.apply(module, name, dim)\n"
     ]
    },
    {
     "name": "stdout",
     "output_type": "stream",
     "text": [
      "Missing tensor: mel_transformer.spectrogram.window\n",
      "Missing tensor: mel_transformer.mel_scale.fb\n"
     ]
    },
    {
     "name": "stderr",
     "output_type": "stream",
     "text": [
      "2025-08-05 18:37:15,877 - INFO - Starting inference...\n",
      "Setting `pad_token_id` to `eos_token_id`:None for open-end generation.\n",
      "2025-08-05 18:37:22,885 - INFO - Audio saved at: result/temp.wav\n"
     ]
    },
    {
     "name": "stdout",
     "output_type": "stream",
     "text": [
      "168 每次和他们一起训练我都变得越来越自信 aigc_speech_generation_tasks/reference_168.wav\n"
     ]
    },
    {
     "name": "stderr",
     "output_type": "stream",
     "text": [
      "2025-08-05 18:37:27.023135: I tensorflow/core/util/port.cc:113] oneDNN custom operations are on. You may see slightly different numerical results due to floating-point round-off errors from different computation orders. To turn them off, set the environment variable `TF_ENABLE_ONEDNN_OPTS=0`.\n",
      "2025-08-05 18:37:27.062081: I tensorflow/core/platform/cpu_feature_guard.cc:210] This TensorFlow binary is optimized to use available CPU instructions in performance-critical operations.\n",
      "To enable the following instructions: AVX2 AVX512F AVX512_VNNI FMA, in other operations, rebuild TensorFlow with the appropriate compiler flags.\n",
      "2025-08-05 18:37:27.913661: W tensorflow/compiler/tf2tensorrt/utils/py_utils.cc:38] TF-TRT Warning: Could not find TensorRT\n",
      "2025-08-05 18:37:29,567 - INFO - Using model from: /mnt/workspace/.cache/modelscope/models/SparkAudio/Spark-TTS-0___5B\n",
      "2025-08-05 18:37:29,567 - INFO - Saving audio to: result\n",
      "2025-08-05 18:37:29,568 - INFO - Using CUDA device: cuda:0\n",
      "/usr/local/lib/python3.11/site-packages/torch/nn/utils/weight_norm.py:143: FutureWarning: `torch.nn.utils.weight_norm` is deprecated in favor of `torch.nn.utils.parametrizations.weight_norm`.\n",
      "  WeightNorm.apply(module, name, dim)\n"
     ]
    },
    {
     "name": "stdout",
     "output_type": "stream",
     "text": [
      "Missing tensor: mel_transformer.spectrogram.window\n",
      "Missing tensor: mel_transformer.mel_scale.fb\n"
     ]
    },
    {
     "name": "stderr",
     "output_type": "stream",
     "text": [
      "2025-08-05 18:37:34,207 - INFO - Starting inference...\n",
      "Setting `pad_token_id` to `eos_token_id`:None for open-end generation.\n",
      "2025-08-05 18:37:38,661 - INFO - Audio saved at: result/temp.wav\n"
     ]
    },
    {
     "name": "stdout",
     "output_type": "stream",
     "text": [
      "169 她坐在咖啡馆的角落里，手里捧着一杯热拿铁，静静地翻着一本旧书，享受着难得的独处时光。 aigc_speech_generation_tasks/reference_169.wav\n"
     ]
    },
    {
     "name": "stderr",
     "output_type": "stream",
     "text": [
      "2025-08-05 18:37:42.776835: I tensorflow/core/util/port.cc:113] oneDNN custom operations are on. You may see slightly different numerical results due to floating-point round-off errors from different computation orders. To turn them off, set the environment variable `TF_ENABLE_ONEDNN_OPTS=0`.\n",
      "2025-08-05 18:37:42.816144: I tensorflow/core/platform/cpu_feature_guard.cc:210] This TensorFlow binary is optimized to use available CPU instructions in performance-critical operations.\n",
      "To enable the following instructions: AVX2 AVX512F AVX512_VNNI FMA, in other operations, rebuild TensorFlow with the appropriate compiler flags.\n",
      "2025-08-05 18:37:43.656205: W tensorflow/compiler/tf2tensorrt/utils/py_utils.cc:38] TF-TRT Warning: Could not find TensorRT\n",
      "2025-08-05 18:37:45,300 - INFO - Using model from: /mnt/workspace/.cache/modelscope/models/SparkAudio/Spark-TTS-0___5B\n",
      "2025-08-05 18:37:45,300 - INFO - Saving audio to: result\n",
      "2025-08-05 18:37:45,302 - INFO - Using CUDA device: cuda:0\n",
      "/usr/local/lib/python3.11/site-packages/torch/nn/utils/weight_norm.py:143: FutureWarning: `torch.nn.utils.weight_norm` is deprecated in favor of `torch.nn.utils.parametrizations.weight_norm`.\n",
      "  WeightNorm.apply(module, name, dim)\n"
     ]
    },
    {
     "name": "stdout",
     "output_type": "stream",
     "text": [
      "Missing tensor: mel_transformer.spectrogram.window\n",
      "Missing tensor: mel_transformer.mel_scale.fb\n"
     ]
    },
    {
     "name": "stderr",
     "output_type": "stream",
     "text": [
      "2025-08-05 18:37:49,921 - INFO - Starting inference...\n",
      "Setting `pad_token_id` to `eos_token_id`:None for open-end generation.\n",
      "2025-08-05 18:37:59,351 - INFO - Audio saved at: result/temp.wav\n"
     ]
    },
    {
     "name": "stdout",
     "output_type": "stream",
     "text": [
      "170 想象着自己住在美丽的童话故事里 aigc_speech_generation_tasks/reference_170.wav\n"
     ]
    },
    {
     "name": "stderr",
     "output_type": "stream",
     "text": [
      "2025-08-05 18:38:03.504720: I tensorflow/core/util/port.cc:113] oneDNN custom operations are on. You may see slightly different numerical results due to floating-point round-off errors from different computation orders. To turn them off, set the environment variable `TF_ENABLE_ONEDNN_OPTS=0`.\n",
      "2025-08-05 18:38:03.544346: I tensorflow/core/platform/cpu_feature_guard.cc:210] This TensorFlow binary is optimized to use available CPU instructions in performance-critical operations.\n",
      "To enable the following instructions: AVX2 AVX512F AVX512_VNNI FMA, in other operations, rebuild TensorFlow with the appropriate compiler flags.\n",
      "2025-08-05 18:38:04.407334: W tensorflow/compiler/tf2tensorrt/utils/py_utils.cc:38] TF-TRT Warning: Could not find TensorRT\n",
      "2025-08-05 18:38:06,077 - INFO - Using model from: /mnt/workspace/.cache/modelscope/models/SparkAudio/Spark-TTS-0___5B\n",
      "2025-08-05 18:38:06,077 - INFO - Saving audio to: result\n",
      "2025-08-05 18:38:06,089 - INFO - Using CUDA device: cuda:0\n",
      "/usr/local/lib/python3.11/site-packages/torch/nn/utils/weight_norm.py:143: FutureWarning: `torch.nn.utils.weight_norm` is deprecated in favor of `torch.nn.utils.parametrizations.weight_norm`.\n",
      "  WeightNorm.apply(module, name, dim)\n"
     ]
    },
    {
     "name": "stdout",
     "output_type": "stream",
     "text": [
      "Missing tensor: mel_transformer.spectrogram.window\n",
      "Missing tensor: mel_transformer.mel_scale.fb\n"
     ]
    },
    {
     "name": "stderr",
     "output_type": "stream",
     "text": [
      "2025-08-05 18:38:10,866 - INFO - Starting inference...\n",
      "Setting `pad_token_id` to `eos_token_id`:None for open-end generation.\n",
      "2025-08-05 18:38:14,682 - INFO - Audio saved at: result/temp.wav\n"
     ]
    },
    {
     "name": "stdout",
     "output_type": "stream",
     "text": [
      "171 但很明显最终我们都看到他签下了一份新合同 aigc_speech_generation_tasks/reference_171.wav\n"
     ]
    },
    {
     "name": "stderr",
     "output_type": "stream",
     "text": [
      "2025-08-05 18:38:18.744974: I tensorflow/core/util/port.cc:113] oneDNN custom operations are on. You may see slightly different numerical results due to floating-point round-off errors from different computation orders. To turn them off, set the environment variable `TF_ENABLE_ONEDNN_OPTS=0`.\n",
      "2025-08-05 18:38:18.784476: I tensorflow/core/platform/cpu_feature_guard.cc:210] This TensorFlow binary is optimized to use available CPU instructions in performance-critical operations.\n",
      "To enable the following instructions: AVX2 AVX512F AVX512_VNNI FMA, in other operations, rebuild TensorFlow with the appropriate compiler flags.\n",
      "2025-08-05 18:38:19.640932: W tensorflow/compiler/tf2tensorrt/utils/py_utils.cc:38] TF-TRT Warning: Could not find TensorRT\n",
      "2025-08-05 18:38:21,391 - INFO - Using model from: /mnt/workspace/.cache/modelscope/models/SparkAudio/Spark-TTS-0___5B\n",
      "2025-08-05 18:38:21,391 - INFO - Saving audio to: result\n",
      "2025-08-05 18:38:21,392 - INFO - Using CUDA device: cuda:0\n",
      "/usr/local/lib/python3.11/site-packages/torch/nn/utils/weight_norm.py:143: FutureWarning: `torch.nn.utils.weight_norm` is deprecated in favor of `torch.nn.utils.parametrizations.weight_norm`.\n",
      "  WeightNorm.apply(module, name, dim)\n"
     ]
    },
    {
     "name": "stdout",
     "output_type": "stream",
     "text": [
      "Missing tensor: mel_transformer.spectrogram.window\n",
      "Missing tensor: mel_transformer.mel_scale.fb\n"
     ]
    },
    {
     "name": "stderr",
     "output_type": "stream",
     "text": [
      "2025-08-05 18:38:26,616 - INFO - Starting inference...\n",
      "Setting `pad_token_id` to `eos_token_id`:None for open-end generation.\n",
      "2025-08-05 18:38:31,680 - INFO - Audio saved at: result/temp.wav\n"
     ]
    },
    {
     "name": "stdout",
     "output_type": "stream",
     "text": [
      "172 帮我预订下一个周末在上海迪士尼附近的主题酒店，两个大人和一个小孩的家庭套房 aigc_speech_generation_tasks/reference_172.wav\n"
     ]
    },
    {
     "name": "stderr",
     "output_type": "stream",
     "text": [
      "2025-08-05 18:38:35.741952: I tensorflow/core/util/port.cc:113] oneDNN custom operations are on. You may see slightly different numerical results due to floating-point round-off errors from different computation orders. To turn them off, set the environment variable `TF_ENABLE_ONEDNN_OPTS=0`.\n",
      "2025-08-05 18:38:35.781035: I tensorflow/core/platform/cpu_feature_guard.cc:210] This TensorFlow binary is optimized to use available CPU instructions in performance-critical operations.\n",
      "To enable the following instructions: AVX2 AVX512F AVX512_VNNI FMA, in other operations, rebuild TensorFlow with the appropriate compiler flags.\n",
      "2025-08-05 18:38:36.695512: W tensorflow/compiler/tf2tensorrt/utils/py_utils.cc:38] TF-TRT Warning: Could not find TensorRT\n",
      "2025-08-05 18:38:38,407 - INFO - Using model from: /mnt/workspace/.cache/modelscope/models/SparkAudio/Spark-TTS-0___5B\n",
      "2025-08-05 18:38:38,407 - INFO - Saving audio to: result\n",
      "2025-08-05 18:38:38,408 - INFO - Using CUDA device: cuda:0\n",
      "/usr/local/lib/python3.11/site-packages/torch/nn/utils/weight_norm.py:143: FutureWarning: `torch.nn.utils.weight_norm` is deprecated in favor of `torch.nn.utils.parametrizations.weight_norm`.\n",
      "  WeightNorm.apply(module, name, dim)\n"
     ]
    },
    {
     "name": "stdout",
     "output_type": "stream",
     "text": [
      "Missing tensor: mel_transformer.spectrogram.window\n",
      "Missing tensor: mel_transformer.mel_scale.fb\n"
     ]
    },
    {
     "name": "stderr",
     "output_type": "stream",
     "text": [
      "2025-08-05 18:38:43,289 - INFO - Starting inference...\n",
      "Setting `pad_token_id` to `eos_token_id`:None for open-end generation.\n",
      "2025-08-05 18:38:51,481 - INFO - Audio saved at: result/temp.wav\n"
     ]
    },
    {
     "name": "stdout",
     "output_type": "stream",
     "text": [
      "173 甲状旁腺激素受体（PTH1R）广泛分布于骨和肾脏组织中，当PTH与其结合后，可激活腺苷酸环化酶系统，引发一系列信号转导反应，调节钙磷平衡及骨代谢活动。 aigc_speech_generation_tasks/reference_173.wav\n"
     ]
    },
    {
     "name": "stderr",
     "output_type": "stream",
     "text": [
      "2025-08-05 18:38:55.544325: I tensorflow/core/util/port.cc:113] oneDNN custom operations are on. You may see slightly different numerical results due to floating-point round-off errors from different computation orders. To turn them off, set the environment variable `TF_ENABLE_ONEDNN_OPTS=0`.\n",
      "2025-08-05 18:38:55.583237: I tensorflow/core/platform/cpu_feature_guard.cc:210] This TensorFlow binary is optimized to use available CPU instructions in performance-critical operations.\n",
      "To enable the following instructions: AVX2 AVX512F AVX512_VNNI FMA, in other operations, rebuild TensorFlow with the appropriate compiler flags.\n",
      "2025-08-05 18:38:56.442488: W tensorflow/compiler/tf2tensorrt/utils/py_utils.cc:38] TF-TRT Warning: Could not find TensorRT\n",
      "2025-08-05 18:38:58,094 - INFO - Using model from: /mnt/workspace/.cache/modelscope/models/SparkAudio/Spark-TTS-0___5B\n",
      "2025-08-05 18:38:58,095 - INFO - Saving audio to: result\n",
      "2025-08-05 18:38:58,096 - INFO - Using CUDA device: cuda:0\n",
      "/usr/local/lib/python3.11/site-packages/torch/nn/utils/weight_norm.py:143: FutureWarning: `torch.nn.utils.weight_norm` is deprecated in favor of `torch.nn.utils.parametrizations.weight_norm`.\n",
      "  WeightNorm.apply(module, name, dim)\n"
     ]
    },
    {
     "name": "stdout",
     "output_type": "stream",
     "text": [
      "Missing tensor: mel_transformer.spectrogram.window\n",
      "Missing tensor: mel_transformer.mel_scale.fb\n"
     ]
    },
    {
     "name": "stderr",
     "output_type": "stream",
     "text": [
      "2025-08-05 18:39:02,941 - INFO - Starting inference...\n",
      "Setting `pad_token_id` to `eos_token_id`:None for open-end generation.\n",
      "2025-08-05 18:39:14,520 - INFO - Audio saved at: result/temp.wav\n"
     ]
    },
    {
     "name": "stdout",
     "output_type": "stream",
     "text": [
      "174 帮我支付一年的储物柜租金，选择靠近地铁站的那家 aigc_speech_generation_tasks/reference_174.wav\n"
     ]
    },
    {
     "name": "stderr",
     "output_type": "stream",
     "text": [
      "2025-08-05 18:39:18.642814: I tensorflow/core/util/port.cc:113] oneDNN custom operations are on. You may see slightly different numerical results due to floating-point round-off errors from different computation orders. To turn them off, set the environment variable `TF_ENABLE_ONEDNN_OPTS=0`.\n",
      "2025-08-05 18:39:18.682472: I tensorflow/core/platform/cpu_feature_guard.cc:210] This TensorFlow binary is optimized to use available CPU instructions in performance-critical operations.\n",
      "To enable the following instructions: AVX2 AVX512F AVX512_VNNI FMA, in other operations, rebuild TensorFlow with the appropriate compiler flags.\n",
      "2025-08-05 18:39:19.546493: W tensorflow/compiler/tf2tensorrt/utils/py_utils.cc:38] TF-TRT Warning: Could not find TensorRT\n",
      "2025-08-05 18:39:21,287 - INFO - Using model from: /mnt/workspace/.cache/modelscope/models/SparkAudio/Spark-TTS-0___5B\n",
      "2025-08-05 18:39:21,288 - INFO - Saving audio to: result\n",
      "2025-08-05 18:39:21,289 - INFO - Using CUDA device: cuda:0\n",
      "/usr/local/lib/python3.11/site-packages/torch/nn/utils/weight_norm.py:143: FutureWarning: `torch.nn.utils.weight_norm` is deprecated in favor of `torch.nn.utils.parametrizations.weight_norm`.\n",
      "  WeightNorm.apply(module, name, dim)\n"
     ]
    },
    {
     "name": "stdout",
     "output_type": "stream",
     "text": [
      "Missing tensor: mel_transformer.spectrogram.window\n",
      "Missing tensor: mel_transformer.mel_scale.fb\n"
     ]
    },
    {
     "name": "stderr",
     "output_type": "stream",
     "text": [
      "2025-08-05 18:39:25,979 - INFO - Starting inference...\n",
      "Setting `pad_token_id` to `eos_token_id`:None for open-end generation.\n",
      "2025-08-05 18:39:32,476 - INFO - Audio saved at: result/temp.wav\n"
     ]
    },
    {
     "name": "stdout",
     "output_type": "stream",
     "text": [
      "175 天气不错，温度适中，适合出门散步。 aigc_speech_generation_tasks/reference_175.wav\n"
     ]
    },
    {
     "name": "stderr",
     "output_type": "stream",
     "text": [
      "2025-08-05 18:39:36.600077: I tensorflow/core/util/port.cc:113] oneDNN custom operations are on. You may see slightly different numerical results due to floating-point round-off errors from different computation orders. To turn them off, set the environment variable `TF_ENABLE_ONEDNN_OPTS=0`.\n",
      "2025-08-05 18:39:36.653569: I tensorflow/core/platform/cpu_feature_guard.cc:210] This TensorFlow binary is optimized to use available CPU instructions in performance-critical operations.\n",
      "To enable the following instructions: AVX2 AVX512F AVX512_VNNI FMA, in other operations, rebuild TensorFlow with the appropriate compiler flags.\n",
      "2025-08-05 18:39:37.532716: W tensorflow/compiler/tf2tensorrt/utils/py_utils.cc:38] TF-TRT Warning: Could not find TensorRT\n",
      "2025-08-05 18:39:39,192 - INFO - Using model from: /mnt/workspace/.cache/modelscope/models/SparkAudio/Spark-TTS-0___5B\n",
      "2025-08-05 18:39:39,192 - INFO - Saving audio to: result\n",
      "2025-08-05 18:39:39,194 - INFO - Using CUDA device: cuda:0\n",
      "/usr/local/lib/python3.11/site-packages/torch/nn/utils/weight_norm.py:143: FutureWarning: `torch.nn.utils.weight_norm` is deprecated in favor of `torch.nn.utils.parametrizations.weight_norm`.\n",
      "  WeightNorm.apply(module, name, dim)\n"
     ]
    },
    {
     "name": "stdout",
     "output_type": "stream",
     "text": [
      "Missing tensor: mel_transformer.spectrogram.window\n",
      "Missing tensor: mel_transformer.mel_scale.fb\n"
     ]
    },
    {
     "name": "stderr",
     "output_type": "stream",
     "text": [
      "2025-08-05 18:39:43,760 - INFO - Starting inference...\n",
      "Setting `pad_token_id` to `eos_token_id`:None for open-end generation.\n",
      "2025-08-05 18:39:48,101 - INFO - Audio saved at: result/temp.wav\n"
     ]
    },
    {
     "name": "stdout",
     "output_type": "stream",
     "text": [
      "176 阻碍快速钠阳离子通道是治疗心律不正常的一种可能的途径。 aigc_speech_generation_tasks/reference_176.wav\n"
     ]
    },
    {
     "name": "stderr",
     "output_type": "stream",
     "text": [
      "2025-08-05 18:39:52.221373: I tensorflow/core/util/port.cc:113] oneDNN custom operations are on. You may see slightly different numerical results due to floating-point round-off errors from different computation orders. To turn them off, set the environment variable `TF_ENABLE_ONEDNN_OPTS=0`.\n",
      "2025-08-05 18:39:52.259936: I tensorflow/core/platform/cpu_feature_guard.cc:210] This TensorFlow binary is optimized to use available CPU instructions in performance-critical operations.\n",
      "To enable the following instructions: AVX2 AVX512F AVX512_VNNI FMA, in other operations, rebuild TensorFlow with the appropriate compiler flags.\n",
      "2025-08-05 18:39:53.103278: W tensorflow/compiler/tf2tensorrt/utils/py_utils.cc:38] TF-TRT Warning: Could not find TensorRT\n",
      "2025-08-05 18:39:54,739 - INFO - Using model from: /mnt/workspace/.cache/modelscope/models/SparkAudio/Spark-TTS-0___5B\n",
      "2025-08-05 18:39:54,739 - INFO - Saving audio to: result\n",
      "2025-08-05 18:39:54,740 - INFO - Using CUDA device: cuda:0\n",
      "/usr/local/lib/python3.11/site-packages/torch/nn/utils/weight_norm.py:143: FutureWarning: `torch.nn.utils.weight_norm` is deprecated in favor of `torch.nn.utils.parametrizations.weight_norm`.\n",
      "  WeightNorm.apply(module, name, dim)\n"
     ]
    },
    {
     "name": "stdout",
     "output_type": "stream",
     "text": [
      "Missing tensor: mel_transformer.spectrogram.window\n",
      "Missing tensor: mel_transformer.mel_scale.fb\n"
     ]
    },
    {
     "name": "stderr",
     "output_type": "stream",
     "text": [
      "2025-08-05 18:39:59,392 - INFO - Starting inference...\n",
      "Setting `pad_token_id` to `eos_token_id`:None for open-end generation.\n",
      "2025-08-05 18:40:06,908 - INFO - Audio saved at: result/temp.wav\n"
     ]
    },
    {
     "name": "stdout",
     "output_type": "stream",
     "text": [
      "177 他的父亲和祖父都是职业自行车车手。 aigc_speech_generation_tasks/reference_177.wav\n"
     ]
    },
    {
     "name": "stderr",
     "output_type": "stream",
     "text": [
      "2025-08-05 18:40:11.095833: I tensorflow/core/util/port.cc:113] oneDNN custom operations are on. You may see slightly different numerical results due to floating-point round-off errors from different computation orders. To turn them off, set the environment variable `TF_ENABLE_ONEDNN_OPTS=0`.\n",
      "2025-08-05 18:40:11.134804: I tensorflow/core/platform/cpu_feature_guard.cc:210] This TensorFlow binary is optimized to use available CPU instructions in performance-critical operations.\n",
      "To enable the following instructions: AVX2 AVX512F AVX512_VNNI FMA, in other operations, rebuild TensorFlow with the appropriate compiler flags.\n",
      "2025-08-05 18:40:11.975186: W tensorflow/compiler/tf2tensorrt/utils/py_utils.cc:38] TF-TRT Warning: Could not find TensorRT\n",
      "2025-08-05 18:40:13,614 - INFO - Using model from: /mnt/workspace/.cache/modelscope/models/SparkAudio/Spark-TTS-0___5B\n",
      "2025-08-05 18:40:13,614 - INFO - Saving audio to: result\n",
      "2025-08-05 18:40:13,616 - INFO - Using CUDA device: cuda:0\n",
      "/usr/local/lib/python3.11/site-packages/torch/nn/utils/weight_norm.py:143: FutureWarning: `torch.nn.utils.weight_norm` is deprecated in favor of `torch.nn.utils.parametrizations.weight_norm`.\n",
      "  WeightNorm.apply(module, name, dim)\n"
     ]
    },
    {
     "name": "stdout",
     "output_type": "stream",
     "text": [
      "Missing tensor: mel_transformer.spectrogram.window\n",
      "Missing tensor: mel_transformer.mel_scale.fb\n"
     ]
    },
    {
     "name": "stderr",
     "output_type": "stream",
     "text": [
      "2025-08-05 18:40:18,275 - INFO - Starting inference...\n",
      "Setting `pad_token_id` to `eos_token_id`:None for open-end generation.\n",
      "2025-08-05 18:40:44,853 - INFO - Audio saved at: result/temp.wav\n"
     ]
    },
    {
     "name": "stdout",
     "output_type": "stream",
     "text": [
      "178 这个项目的领头人领了我们去山领。他道了一声别，拿起铁锹开始锄地 aigc_speech_generation_tasks/reference_178.wav\n"
     ]
    },
    {
     "name": "stderr",
     "output_type": "stream",
     "text": [
      "2025-08-05 18:40:49.003297: I tensorflow/core/util/port.cc:113] oneDNN custom operations are on. You may see slightly different numerical results due to floating-point round-off errors from different computation orders. To turn them off, set the environment variable `TF_ENABLE_ONEDNN_OPTS=0`.\n",
      "2025-08-05 18:40:49.042659: I tensorflow/core/platform/cpu_feature_guard.cc:210] This TensorFlow binary is optimized to use available CPU instructions in performance-critical operations.\n",
      "To enable the following instructions: AVX2 AVX512F AVX512_VNNI FMA, in other operations, rebuild TensorFlow with the appropriate compiler flags.\n",
      "2025-08-05 18:40:49.892935: W tensorflow/compiler/tf2tensorrt/utils/py_utils.cc:38] TF-TRT Warning: Could not find TensorRT\n",
      "2025-08-05 18:40:51,630 - INFO - Using model from: /mnt/workspace/.cache/modelscope/models/SparkAudio/Spark-TTS-0___5B\n",
      "2025-08-05 18:40:51,630 - INFO - Saving audio to: result\n",
      "2025-08-05 18:40:51,632 - INFO - Using CUDA device: cuda:0\n",
      "/usr/local/lib/python3.11/site-packages/torch/nn/utils/weight_norm.py:143: FutureWarning: `torch.nn.utils.weight_norm` is deprecated in favor of `torch.nn.utils.parametrizations.weight_norm`.\n",
      "  WeightNorm.apply(module, name, dim)\n"
     ]
    },
    {
     "name": "stdout",
     "output_type": "stream",
     "text": [
      "Missing tensor: mel_transformer.spectrogram.window\n",
      "Missing tensor: mel_transformer.mel_scale.fb\n"
     ]
    },
    {
     "name": "stderr",
     "output_type": "stream",
     "text": [
      "2025-08-05 18:40:56,389 - INFO - Starting inference...\n",
      "Setting `pad_token_id` to `eos_token_id`:None for open-end generation.\n",
      "2025-08-05 18:41:05,916 - INFO - Audio saved at: result/temp.wav\n"
     ]
    },
    {
     "name": "stdout",
     "output_type": "stream",
     "text": [
      "179 帮我购买一提纸巾和两瓶洗发水，记得用我账户的优惠券 aigc_speech_generation_tasks/reference_179.wav\n"
     ]
    },
    {
     "name": "stderr",
     "output_type": "stream",
     "text": [
      "2025-08-05 18:41:10.105549: I tensorflow/core/util/port.cc:113] oneDNN custom operations are on. You may see slightly different numerical results due to floating-point round-off errors from different computation orders. To turn them off, set the environment variable `TF_ENABLE_ONEDNN_OPTS=0`.\n",
      "2025-08-05 18:41:10.145271: I tensorflow/core/platform/cpu_feature_guard.cc:210] This TensorFlow binary is optimized to use available CPU instructions in performance-critical operations.\n",
      "To enable the following instructions: AVX2 AVX512F AVX512_VNNI FMA, in other operations, rebuild TensorFlow with the appropriate compiler flags.\n",
      "2025-08-05 18:41:11.025592: W tensorflow/compiler/tf2tensorrt/utils/py_utils.cc:38] TF-TRT Warning: Could not find TensorRT\n",
      "2025-08-05 18:41:12,685 - INFO - Using model from: /mnt/workspace/.cache/modelscope/models/SparkAudio/Spark-TTS-0___5B\n",
      "2025-08-05 18:41:12,685 - INFO - Saving audio to: result\n",
      "2025-08-05 18:41:12,687 - INFO - Using CUDA device: cuda:0\n",
      "/usr/local/lib/python3.11/site-packages/torch/nn/utils/weight_norm.py:143: FutureWarning: `torch.nn.utils.weight_norm` is deprecated in favor of `torch.nn.utils.parametrizations.weight_norm`.\n",
      "  WeightNorm.apply(module, name, dim)\n"
     ]
    },
    {
     "name": "stdout",
     "output_type": "stream",
     "text": [
      "Missing tensor: mel_transformer.spectrogram.window\n",
      "Missing tensor: mel_transformer.mel_scale.fb\n"
     ]
    },
    {
     "name": "stderr",
     "output_type": "stream",
     "text": [
      "2025-08-05 18:41:17,481 - INFO - Starting inference...\n",
      "Setting `pad_token_id` to `eos_token_id`:None for open-end generation.\n",
      "2025-08-05 18:41:25,557 - INFO - Audio saved at: result/temp.wav\n"
     ]
    },
    {
     "name": "stdout",
     "output_type": "stream",
     "text": [
      "180 帮我查一下电视机顶盒的服务是否到期了，如果到了就续上一年 aigc_speech_generation_tasks/reference_180.wav\n"
     ]
    },
    {
     "name": "stderr",
     "output_type": "stream",
     "text": [
      "2025-08-05 18:41:29.707729: I tensorflow/core/util/port.cc:113] oneDNN custom operations are on. You may see slightly different numerical results due to floating-point round-off errors from different computation orders. To turn them off, set the environment variable `TF_ENABLE_ONEDNN_OPTS=0`.\n",
      "2025-08-05 18:41:29.746942: I tensorflow/core/platform/cpu_feature_guard.cc:210] This TensorFlow binary is optimized to use available CPU instructions in performance-critical operations.\n",
      "To enable the following instructions: AVX2 AVX512F AVX512_VNNI FMA, in other operations, rebuild TensorFlow with the appropriate compiler flags.\n",
      "2025-08-05 18:41:30.600391: W tensorflow/compiler/tf2tensorrt/utils/py_utils.cc:38] TF-TRT Warning: Could not find TensorRT\n",
      "2025-08-05 18:41:32,261 - INFO - Using model from: /mnt/workspace/.cache/modelscope/models/SparkAudio/Spark-TTS-0___5B\n",
      "2025-08-05 18:41:32,261 - INFO - Saving audio to: result\n",
      "2025-08-05 18:41:32,262 - INFO - Using CUDA device: cuda:0\n",
      "/usr/local/lib/python3.11/site-packages/torch/nn/utils/weight_norm.py:143: FutureWarning: `torch.nn.utils.weight_norm` is deprecated in favor of `torch.nn.utils.parametrizations.weight_norm`.\n",
      "  WeightNorm.apply(module, name, dim)\n"
     ]
    },
    {
     "name": "stdout",
     "output_type": "stream",
     "text": [
      "Missing tensor: mel_transformer.spectrogram.window\n",
      "Missing tensor: mel_transformer.mel_scale.fb\n"
     ]
    },
    {
     "name": "stderr",
     "output_type": "stream",
     "text": [
      "2025-08-05 18:41:36,800 - INFO - Starting inference...\n",
      "Setting `pad_token_id` to `eos_token_id`:None for open-end generation.\n",
      "2025-08-05 18:41:42,463 - INFO - Audio saved at: result/temp.wav\n"
     ]
    },
    {
     "name": "stdout",
     "output_type": "stream",
     "text": [
      "181 热固性塑料的分子量一般假设是无限大。 aigc_speech_generation_tasks/reference_181.wav\n"
     ]
    },
    {
     "name": "stderr",
     "output_type": "stream",
     "text": [
      "2025-08-05 18:41:46.519497: I tensorflow/core/util/port.cc:113] oneDNN custom operations are on. You may see slightly different numerical results due to floating-point round-off errors from different computation orders. To turn them off, set the environment variable `TF_ENABLE_ONEDNN_OPTS=0`.\n",
      "2025-08-05 18:41:46.559173: I tensorflow/core/platform/cpu_feature_guard.cc:210] This TensorFlow binary is optimized to use available CPU instructions in performance-critical operations.\n",
      "To enable the following instructions: AVX2 AVX512F AVX512_VNNI FMA, in other operations, rebuild TensorFlow with the appropriate compiler flags.\n",
      "2025-08-05 18:41:47.398215: W tensorflow/compiler/tf2tensorrt/utils/py_utils.cc:38] TF-TRT Warning: Could not find TensorRT\n",
      "2025-08-05 18:41:49,043 - INFO - Using model from: /mnt/workspace/.cache/modelscope/models/SparkAudio/Spark-TTS-0___5B\n",
      "2025-08-05 18:41:49,043 - INFO - Saving audio to: result\n",
      "2025-08-05 18:41:49,044 - INFO - Using CUDA device: cuda:0\n",
      "/usr/local/lib/python3.11/site-packages/torch/nn/utils/weight_norm.py:143: FutureWarning: `torch.nn.utils.weight_norm` is deprecated in favor of `torch.nn.utils.parametrizations.weight_norm`.\n",
      "  WeightNorm.apply(module, name, dim)\n"
     ]
    },
    {
     "name": "stdout",
     "output_type": "stream",
     "text": [
      "Missing tensor: mel_transformer.spectrogram.window\n",
      "Missing tensor: mel_transformer.mel_scale.fb\n"
     ]
    },
    {
     "name": "stderr",
     "output_type": "stream",
     "text": [
      "2025-08-05 18:41:54,367 - INFO - Starting inference...\n",
      "Setting `pad_token_id` to `eos_token_id`:None for open-end generation.\n",
      "2025-08-05 18:41:58,828 - INFO - Audio saved at: result/temp.wav\n"
     ]
    },
    {
     "name": "stdout",
     "output_type": "stream",
     "text": [
      "182 需要给我在校大学生的校园卡里充值300元餐费 aigc_speech_generation_tasks/reference_182.wav\n"
     ]
    },
    {
     "name": "stderr",
     "output_type": "stream",
     "text": [
      "2025-08-05 18:42:02.934288: I tensorflow/core/util/port.cc:113] oneDNN custom operations are on. You may see slightly different numerical results due to floating-point round-off errors from different computation orders. To turn them off, set the environment variable `TF_ENABLE_ONEDNN_OPTS=0`.\n",
      "2025-08-05 18:42:02.973245: I tensorflow/core/platform/cpu_feature_guard.cc:210] This TensorFlow binary is optimized to use available CPU instructions in performance-critical operations.\n",
      "To enable the following instructions: AVX2 AVX512F AVX512_VNNI FMA, in other operations, rebuild TensorFlow with the appropriate compiler flags.\n",
      "2025-08-05 18:42:03.819621: W tensorflow/compiler/tf2tensorrt/utils/py_utils.cc:38] TF-TRT Warning: Could not find TensorRT\n",
      "2025-08-05 18:42:05,478 - INFO - Using model from: /mnt/workspace/.cache/modelscope/models/SparkAudio/Spark-TTS-0___5B\n",
      "2025-08-05 18:42:05,478 - INFO - Saving audio to: result\n",
      "2025-08-05 18:42:05,479 - INFO - Using CUDA device: cuda:0\n",
      "/usr/local/lib/python3.11/site-packages/torch/nn/utils/weight_norm.py:143: FutureWarning: `torch.nn.utils.weight_norm` is deprecated in favor of `torch.nn.utils.parametrizations.weight_norm`.\n",
      "  WeightNorm.apply(module, name, dim)\n"
     ]
    },
    {
     "name": "stdout",
     "output_type": "stream",
     "text": [
      "Missing tensor: mel_transformer.spectrogram.window\n",
      "Missing tensor: mel_transformer.mel_scale.fb\n"
     ]
    },
    {
     "name": "stderr",
     "output_type": "stream",
     "text": [
      "2025-08-05 18:42:10,712 - INFO - Starting inference...\n",
      "Setting `pad_token_id` to `eos_token_id`:None for open-end generation.\n",
      "2025-08-05 18:42:16,130 - INFO - Audio saved at: result/temp.wav\n"
     ]
    },
    {
     "name": "stdout",
     "output_type": "stream",
     "text": [
      "183 帮我结算购物车里的五件衣服，总共2000元，用我账户里的余额支付 aigc_speech_generation_tasks/reference_183.wav\n"
     ]
    },
    {
     "name": "stderr",
     "output_type": "stream",
     "text": [
      "2025-08-05 18:42:20.206414: I tensorflow/core/util/port.cc:113] oneDNN custom operations are on. You may see slightly different numerical results due to floating-point round-off errors from different computation orders. To turn them off, set the environment variable `TF_ENABLE_ONEDNN_OPTS=0`.\n",
      "2025-08-05 18:42:20.246480: I tensorflow/core/platform/cpu_feature_guard.cc:210] This TensorFlow binary is optimized to use available CPU instructions in performance-critical operations.\n",
      "To enable the following instructions: AVX2 AVX512F AVX512_VNNI FMA, in other operations, rebuild TensorFlow with the appropriate compiler flags.\n",
      "2025-08-05 18:42:21.177045: W tensorflow/compiler/tf2tensorrt/utils/py_utils.cc:38] TF-TRT Warning: Could not find TensorRT\n",
      "2025-08-05 18:42:22,851 - INFO - Using model from: /mnt/workspace/.cache/modelscope/models/SparkAudio/Spark-TTS-0___5B\n",
      "2025-08-05 18:42:22,851 - INFO - Saving audio to: result\n",
      "2025-08-05 18:42:22,852 - INFO - Using CUDA device: cuda:0\n",
      "/usr/local/lib/python3.11/site-packages/torch/nn/utils/weight_norm.py:143: FutureWarning: `torch.nn.utils.weight_norm` is deprecated in favor of `torch.nn.utils.parametrizations.weight_norm`.\n",
      "  WeightNorm.apply(module, name, dim)\n"
     ]
    },
    {
     "name": "stdout",
     "output_type": "stream",
     "text": [
      "Missing tensor: mel_transformer.spectrogram.window\n",
      "Missing tensor: mel_transformer.mel_scale.fb\n"
     ]
    },
    {
     "name": "stderr",
     "output_type": "stream",
     "text": [
      "2025-08-05 18:42:27,932 - INFO - Starting inference...\n",
      "Setting `pad_token_id` to `eos_token_id`:None for open-end generation.\n",
      "2025-08-05 18:42:33,135 - INFO - Audio saved at: result/temp.wav\n"
     ]
    },
    {
     "name": "stdout",
     "output_type": "stream",
     "text": [
      "184 有可能！你觉得我们还能在哪里遇到这样神奇的鹦鹉呢？ aigc_speech_generation_tasks/reference_184.wav\n"
     ]
    },
    {
     "name": "stderr",
     "output_type": "stream",
     "text": [
      "2025-08-05 18:42:37.290951: I tensorflow/core/util/port.cc:113] oneDNN custom operations are on. You may see slightly different numerical results due to floating-point round-off errors from different computation orders. To turn them off, set the environment variable `TF_ENABLE_ONEDNN_OPTS=0`.\n",
      "2025-08-05 18:42:37.330512: I tensorflow/core/platform/cpu_feature_guard.cc:210] This TensorFlow binary is optimized to use available CPU instructions in performance-critical operations.\n",
      "To enable the following instructions: AVX2 AVX512F AVX512_VNNI FMA, in other operations, rebuild TensorFlow with the appropriate compiler flags.\n",
      "2025-08-05 18:42:38.206549: W tensorflow/compiler/tf2tensorrt/utils/py_utils.cc:38] TF-TRT Warning: Could not find TensorRT\n",
      "2025-08-05 18:42:39,870 - INFO - Using model from: /mnt/workspace/.cache/modelscope/models/SparkAudio/Spark-TTS-0___5B\n",
      "2025-08-05 18:42:39,870 - INFO - Saving audio to: result\n",
      "2025-08-05 18:42:39,872 - INFO - Using CUDA device: cuda:0\n",
      "/usr/local/lib/python3.11/site-packages/torch/nn/utils/weight_norm.py:143: FutureWarning: `torch.nn.utils.weight_norm` is deprecated in favor of `torch.nn.utils.parametrizations.weight_norm`.\n",
      "  WeightNorm.apply(module, name, dim)\n"
     ]
    },
    {
     "name": "stdout",
     "output_type": "stream",
     "text": [
      "Missing tensor: mel_transformer.spectrogram.window\n",
      "Missing tensor: mel_transformer.mel_scale.fb\n"
     ]
    },
    {
     "name": "stderr",
     "output_type": "stream",
     "text": [
      "2025-08-05 18:42:44,533 - INFO - Starting inference...\n",
      "Setting `pad_token_id` to `eos_token_id`:None for open-end generation.\n",
      "2025-08-05 18:42:49,583 - INFO - Audio saved at: result/temp.wav\n"
     ]
    },
    {
     "name": "stdout",
     "output_type": "stream",
     "text": [
      "185 帮我查一下下个月去厦门鼓浪屿的酒店套餐，需要包括返回的船票 aigc_speech_generation_tasks/reference_185.wav\n"
     ]
    },
    {
     "name": "stderr",
     "output_type": "stream",
     "text": [
      "2025-08-05 18:42:53.750517: I tensorflow/core/util/port.cc:113] oneDNN custom operations are on. You may see slightly different numerical results due to floating-point round-off errors from different computation orders. To turn them off, set the environment variable `TF_ENABLE_ONEDNN_OPTS=0`.\n",
      "2025-08-05 18:42:53.789630: I tensorflow/core/platform/cpu_feature_guard.cc:210] This TensorFlow binary is optimized to use available CPU instructions in performance-critical operations.\n",
      "To enable the following instructions: AVX2 AVX512F AVX512_VNNI FMA, in other operations, rebuild TensorFlow with the appropriate compiler flags.\n",
      "2025-08-05 18:42:54.641621: W tensorflow/compiler/tf2tensorrt/utils/py_utils.cc:38] TF-TRT Warning: Could not find TensorRT\n",
      "2025-08-05 18:42:56,327 - INFO - Using model from: /mnt/workspace/.cache/modelscope/models/SparkAudio/Spark-TTS-0___5B\n",
      "2025-08-05 18:42:56,327 - INFO - Saving audio to: result\n",
      "2025-08-05 18:42:56,328 - INFO - Using CUDA device: cuda:0\n",
      "/usr/local/lib/python3.11/site-packages/torch/nn/utils/weight_norm.py:143: FutureWarning: `torch.nn.utils.weight_norm` is deprecated in favor of `torch.nn.utils.parametrizations.weight_norm`.\n",
      "  WeightNorm.apply(module, name, dim)\n"
     ]
    },
    {
     "name": "stdout",
     "output_type": "stream",
     "text": [
      "Missing tensor: mel_transformer.spectrogram.window\n",
      "Missing tensor: mel_transformer.mel_scale.fb\n"
     ]
    },
    {
     "name": "stderr",
     "output_type": "stream",
     "text": [
      "2025-08-05 18:43:01,008 - INFO - Starting inference...\n",
      "Setting `pad_token_id` to `eos_token_id`:None for open-end generation.\n",
      "2025-08-05 18:43:07,747 - INFO - Audio saved at: result/temp.wav\n"
     ]
    },
    {
     "name": "stdout",
     "output_type": "stream",
     "text": [
      "186 赛事由国际网球联合会和澳网官方委员会联合负责。 aigc_speech_generation_tasks/reference_186.wav\n"
     ]
    },
    {
     "name": "stderr",
     "output_type": "stream",
     "text": [
      "2025-08-05 18:43:11.867991: I tensorflow/core/util/port.cc:113] oneDNN custom operations are on. You may see slightly different numerical results due to floating-point round-off errors from different computation orders. To turn them off, set the environment variable `TF_ENABLE_ONEDNN_OPTS=0`.\n",
      "2025-08-05 18:43:11.906774: I tensorflow/core/platform/cpu_feature_guard.cc:210] This TensorFlow binary is optimized to use available CPU instructions in performance-critical operations.\n",
      "To enable the following instructions: AVX2 AVX512F AVX512_VNNI FMA, in other operations, rebuild TensorFlow with the appropriate compiler flags.\n",
      "2025-08-05 18:43:12.750497: W tensorflow/compiler/tf2tensorrt/utils/py_utils.cc:38] TF-TRT Warning: Could not find TensorRT\n",
      "2025-08-05 18:43:14,409 - INFO - Using model from: /mnt/workspace/.cache/modelscope/models/SparkAudio/Spark-TTS-0___5B\n",
      "2025-08-05 18:43:14,409 - INFO - Saving audio to: result\n",
      "2025-08-05 18:43:14,410 - INFO - Using CUDA device: cuda:0\n",
      "/usr/local/lib/python3.11/site-packages/torch/nn/utils/weight_norm.py:143: FutureWarning: `torch.nn.utils.weight_norm` is deprecated in favor of `torch.nn.utils.parametrizations.weight_norm`.\n",
      "  WeightNorm.apply(module, name, dim)\n"
     ]
    },
    {
     "name": "stdout",
     "output_type": "stream",
     "text": [
      "Missing tensor: mel_transformer.spectrogram.window\n",
      "Missing tensor: mel_transformer.mel_scale.fb\n"
     ]
    },
    {
     "name": "stderr",
     "output_type": "stream",
     "text": [
      "2025-08-05 18:43:19,084 - INFO - Starting inference...\n",
      "Setting `pad_token_id` to `eos_token_id`:None for open-end generation.\n",
      "2025-08-05 18:43:24,620 - INFO - Audio saved at: result/temp.wav\n"
     ]
    },
    {
     "name": "stdout",
     "output_type": "stream",
     "text": [
      "187 他们四年后迈入的社会可能充满了鲜花和掌声，但也可能和此时的人流一样拥挤，没有人能知道。 aigc_speech_generation_tasks/reference_187.wav\n"
     ]
    },
    {
     "name": "stderr",
     "output_type": "stream",
     "text": [
      "2025-08-05 18:43:28.737574: I tensorflow/core/util/port.cc:113] oneDNN custom operations are on. You may see slightly different numerical results due to floating-point round-off errors from different computation orders. To turn them off, set the environment variable `TF_ENABLE_ONEDNN_OPTS=0`.\n",
      "2025-08-05 18:43:28.776738: I tensorflow/core/platform/cpu_feature_guard.cc:210] This TensorFlow binary is optimized to use available CPU instructions in performance-critical operations.\n",
      "To enable the following instructions: AVX2 AVX512F AVX512_VNNI FMA, in other operations, rebuild TensorFlow with the appropriate compiler flags.\n",
      "2025-08-05 18:43:29.644595: W tensorflow/compiler/tf2tensorrt/utils/py_utils.cc:38] TF-TRT Warning: Could not find TensorRT\n",
      "2025-08-05 18:43:31,321 - INFO - Using model from: /mnt/workspace/.cache/modelscope/models/SparkAudio/Spark-TTS-0___5B\n",
      "2025-08-05 18:43:31,321 - INFO - Saving audio to: result\n",
      "2025-08-05 18:43:31,322 - INFO - Using CUDA device: cuda:0\n",
      "/usr/local/lib/python3.11/site-packages/torch/nn/utils/weight_norm.py:143: FutureWarning: `torch.nn.utils.weight_norm` is deprecated in favor of `torch.nn.utils.parametrizations.weight_norm`.\n",
      "  WeightNorm.apply(module, name, dim)\n"
     ]
    },
    {
     "name": "stdout",
     "output_type": "stream",
     "text": [
      "Missing tensor: mel_transformer.spectrogram.window\n",
      "Missing tensor: mel_transformer.mel_scale.fb\n"
     ]
    },
    {
     "name": "stderr",
     "output_type": "stream",
     "text": [
      "2025-08-05 18:43:35,914 - INFO - Starting inference...\n",
      "Setting `pad_token_id` to `eos_token_id`:None for open-end generation.\n",
      "2025-08-05 18:43:44,688 - INFO - Audio saved at: result/temp.wav\n"
     ]
    },
    {
     "name": "stdout",
     "output_type": "stream",
     "text": [
      "188 左乐看着眼前旁若无人的黄牛，又瞥了一眼旁边距离不到十米远的售票处，摇头苦笑了一声然后开始黄牛谈价还价。 aigc_speech_generation_tasks/reference_188.wav\n"
     ]
    },
    {
     "name": "stderr",
     "output_type": "stream",
     "text": [
      "2025-08-05 18:43:48.752758: I tensorflow/core/util/port.cc:113] oneDNN custom operations are on. You may see slightly different numerical results due to floating-point round-off errors from different computation orders. To turn them off, set the environment variable `TF_ENABLE_ONEDNN_OPTS=0`.\n",
      "2025-08-05 18:43:48.791602: I tensorflow/core/platform/cpu_feature_guard.cc:210] This TensorFlow binary is optimized to use available CPU instructions in performance-critical operations.\n",
      "To enable the following instructions: AVX2 AVX512F AVX512_VNNI FMA, in other operations, rebuild TensorFlow with the appropriate compiler flags.\n",
      "2025-08-05 18:43:49.648132: W tensorflow/compiler/tf2tensorrt/utils/py_utils.cc:38] TF-TRT Warning: Could not find TensorRT\n",
      "2025-08-05 18:43:51,408 - INFO - Using model from: /mnt/workspace/.cache/modelscope/models/SparkAudio/Spark-TTS-0___5B\n",
      "2025-08-05 18:43:51,408 - INFO - Saving audio to: result\n",
      "2025-08-05 18:43:51,410 - INFO - Using CUDA device: cuda:0\n",
      "/usr/local/lib/python3.11/site-packages/torch/nn/utils/weight_norm.py:143: FutureWarning: `torch.nn.utils.weight_norm` is deprecated in favor of `torch.nn.utils.parametrizations.weight_norm`.\n",
      "  WeightNorm.apply(module, name, dim)\n"
     ]
    },
    {
     "name": "stdout",
     "output_type": "stream",
     "text": [
      "Missing tensor: mel_transformer.spectrogram.window\n",
      "Missing tensor: mel_transformer.mel_scale.fb\n"
     ]
    },
    {
     "name": "stderr",
     "output_type": "stream",
     "text": [
      "2025-08-05 18:43:56,053 - INFO - Starting inference...\n",
      "Setting `pad_token_id` to `eos_token_id`:None for open-end generation.\n",
      "2025-08-05 18:44:05,324 - INFO - Audio saved at: result/temp.wav\n"
     ]
    },
    {
     "name": "stdout",
     "output_type": "stream",
     "text": [
      "189 确实有一定的压力，但这是每个项目中都不可避免的部分。我们通过合理的计划和团队合作来分担压力，确保每个人都能专注于自己的任务。 aigc_speech_generation_tasks/reference_189.wav\n"
     ]
    },
    {
     "name": "stderr",
     "output_type": "stream",
     "text": [
      "2025-08-05 18:44:09.473096: I tensorflow/core/util/port.cc:113] oneDNN custom operations are on. You may see slightly different numerical results due to floating-point round-off errors from different computation orders. To turn them off, set the environment variable `TF_ENABLE_ONEDNN_OPTS=0`.\n",
      "2025-08-05 18:44:09.512031: I tensorflow/core/platform/cpu_feature_guard.cc:210] This TensorFlow binary is optimized to use available CPU instructions in performance-critical operations.\n",
      "To enable the following instructions: AVX2 AVX512F AVX512_VNNI FMA, in other operations, rebuild TensorFlow with the appropriate compiler flags.\n",
      "2025-08-05 18:44:10.355828: W tensorflow/compiler/tf2tensorrt/utils/py_utils.cc:38] TF-TRT Warning: Could not find TensorRT\n",
      "2025-08-05 18:44:12,023 - INFO - Using model from: /mnt/workspace/.cache/modelscope/models/SparkAudio/Spark-TTS-0___5B\n",
      "2025-08-05 18:44:12,023 - INFO - Saving audio to: result\n",
      "2025-08-05 18:44:12,024 - INFO - Using CUDA device: cuda:0\n",
      "/usr/local/lib/python3.11/site-packages/torch/nn/utils/weight_norm.py:143: FutureWarning: `torch.nn.utils.weight_norm` is deprecated in favor of `torch.nn.utils.parametrizations.weight_norm`.\n",
      "  WeightNorm.apply(module, name, dim)\n"
     ]
    },
    {
     "name": "stdout",
     "output_type": "stream",
     "text": [
      "Missing tensor: mel_transformer.spectrogram.window\n",
      "Missing tensor: mel_transformer.mel_scale.fb\n"
     ]
    },
    {
     "name": "stderr",
     "output_type": "stream",
     "text": [
      "2025-08-05 18:44:16,664 - INFO - Starting inference...\n",
      "Setting `pad_token_id` to `eos_token_id`:None for open-end generation.\n",
      "2025-08-05 18:44:27,817 - INFO - Audio saved at: result/temp.wav\n"
     ]
    },
    {
     "name": "stdout",
     "output_type": "stream",
     "text": [
      "190 盐池县气象台2022年11月27日11时40分发布寒潮橙色大风蓝色预警信号:受强冷空气东移南下影响，预计27-29日，我县有一次寒潮、大风、沙尘天气过程，28-29日全县气温明显下降，29日较27日全县日平均气温下降14到16℃，29日全县最高气温降至-12到-6℃，29和30日的清晨，全县最低气温降至-17到-14℃；27日傍晚到28日白天，全县有5级左右（5.5到13.8米/秒）偏北风，阵风7到9级（13.9到24.4米/秒），伴有扬沙天气（能见度1到9千米）。请相关部门和广大群众注意做好防风、防沙、防火、防寒保暖工作。具体影响区域为：盐池县花马池镇、高沙窝镇、王乐井乡、青山乡、冯记沟乡、大水坑镇、惠安堡镇、麻黄山乡和盐州路街道。 aigc_speech_generation_tasks/reference_190.wav\n"
     ]
    },
    {
     "name": "stderr",
     "output_type": "stream",
     "text": [
      "2025-08-05 18:44:32.030000: I tensorflow/core/util/port.cc:113] oneDNN custom operations are on. You may see slightly different numerical results due to floating-point round-off errors from different computation orders. To turn them off, set the environment variable `TF_ENABLE_ONEDNN_OPTS=0`.\n",
      "2025-08-05 18:44:32.069684: I tensorflow/core/platform/cpu_feature_guard.cc:210] This TensorFlow binary is optimized to use available CPU instructions in performance-critical operations.\n",
      "To enable the following instructions: AVX2 AVX512F AVX512_VNNI FMA, in other operations, rebuild TensorFlow with the appropriate compiler flags.\n",
      "2025-08-05 18:44:32.927668: W tensorflow/compiler/tf2tensorrt/utils/py_utils.cc:38] TF-TRT Warning: Could not find TensorRT\n",
      "2025-08-05 18:44:34,601 - INFO - Using model from: /mnt/workspace/.cache/modelscope/models/SparkAudio/Spark-TTS-0___5B\n",
      "2025-08-05 18:44:34,601 - INFO - Saving audio to: result\n",
      "2025-08-05 18:44:34,603 - INFO - Using CUDA device: cuda:0\n",
      "/usr/local/lib/python3.11/site-packages/torch/nn/utils/weight_norm.py:143: FutureWarning: `torch.nn.utils.weight_norm` is deprecated in favor of `torch.nn.utils.parametrizations.weight_norm`.\n",
      "  WeightNorm.apply(module, name, dim)\n"
     ]
    },
    {
     "name": "stdout",
     "output_type": "stream",
     "text": [
      "Missing tensor: mel_transformer.spectrogram.window\n",
      "Missing tensor: mel_transformer.mel_scale.fb\n"
     ]
    },
    {
     "name": "stderr",
     "output_type": "stream",
     "text": [
      "2025-08-05 18:44:40,022 - INFO - Starting inference...\n",
      "Setting `pad_token_id` to `eos_token_id`:None for open-end generation.\n",
      "2025-08-05 18:45:34,427 - INFO - Audio saved at: result/temp.wav\n"
     ]
    },
    {
     "name": "stdout",
     "output_type": "stream",
     "text": [
      "191 他的发球和上网被公认为网球史上最优雅之一。 aigc_speech_generation_tasks/reference_191.wav\n"
     ]
    },
    {
     "name": "stderr",
     "output_type": "stream",
     "text": [
      "2025-08-05 18:45:38.619743: I tensorflow/core/util/port.cc:113] oneDNN custom operations are on. You may see slightly different numerical results due to floating-point round-off errors from different computation orders. To turn them off, set the environment variable `TF_ENABLE_ONEDNN_OPTS=0`.\n",
      "2025-08-05 18:45:38.658905: I tensorflow/core/platform/cpu_feature_guard.cc:210] This TensorFlow binary is optimized to use available CPU instructions in performance-critical operations.\n",
      "To enable the following instructions: AVX2 AVX512F AVX512_VNNI FMA, in other operations, rebuild TensorFlow with the appropriate compiler flags.\n",
      "2025-08-05 18:45:39.528243: W tensorflow/compiler/tf2tensorrt/utils/py_utils.cc:38] TF-TRT Warning: Could not find TensorRT\n",
      "2025-08-05 18:45:41,209 - INFO - Using model from: /mnt/workspace/.cache/modelscope/models/SparkAudio/Spark-TTS-0___5B\n",
      "2025-08-05 18:45:41,209 - INFO - Saving audio to: result\n",
      "2025-08-05 18:45:41,211 - INFO - Using CUDA device: cuda:0\n",
      "/usr/local/lib/python3.11/site-packages/torch/nn/utils/weight_norm.py:143: FutureWarning: `torch.nn.utils.weight_norm` is deprecated in favor of `torch.nn.utils.parametrizations.weight_norm`.\n",
      "  WeightNorm.apply(module, name, dim)\n"
     ]
    },
    {
     "name": "stdout",
     "output_type": "stream",
     "text": [
      "Missing tensor: mel_transformer.spectrogram.window\n",
      "Missing tensor: mel_transformer.mel_scale.fb\n"
     ]
    },
    {
     "name": "stderr",
     "output_type": "stream",
     "text": [
      "2025-08-05 18:45:45,832 - INFO - Starting inference...\n",
      "Setting `pad_token_id` to `eos_token_id`:None for open-end generation.\n",
      "2025-08-05 18:46:40,899 - INFO - Audio saved at: result/temp.wav\n"
     ]
    },
    {
     "name": "stdout",
     "output_type": "stream",
     "text": [
      "192 南印度洋穆氏暗光鱼为辐鳍鱼纲巨口鱼目褶胸鱼科的其中一种。 aigc_speech_generation_tasks/reference_192.wav\n"
     ]
    },
    {
     "name": "stderr",
     "output_type": "stream",
     "text": [
      "2025-08-05 18:46:44.971946: I tensorflow/core/util/port.cc:113] oneDNN custom operations are on. You may see slightly different numerical results due to floating-point round-off errors from different computation orders. To turn them off, set the environment variable `TF_ENABLE_ONEDNN_OPTS=0`.\n",
      "2025-08-05 18:46:45.011636: I tensorflow/core/platform/cpu_feature_guard.cc:210] This TensorFlow binary is optimized to use available CPU instructions in performance-critical operations.\n",
      "To enable the following instructions: AVX2 AVX512F AVX512_VNNI FMA, in other operations, rebuild TensorFlow with the appropriate compiler flags.\n",
      "2025-08-05 18:46:45.863851: W tensorflow/compiler/tf2tensorrt/utils/py_utils.cc:38] TF-TRT Warning: Could not find TensorRT\n",
      "2025-08-05 18:46:47,527 - INFO - Using model from: /mnt/workspace/.cache/modelscope/models/SparkAudio/Spark-TTS-0___5B\n",
      "2025-08-05 18:46:47,527 - INFO - Saving audio to: result\n",
      "2025-08-05 18:46:47,528 - INFO - Using CUDA device: cuda:0\n",
      "/usr/local/lib/python3.11/site-packages/torch/nn/utils/weight_norm.py:143: FutureWarning: `torch.nn.utils.weight_norm` is deprecated in favor of `torch.nn.utils.parametrizations.weight_norm`.\n",
      "  WeightNorm.apply(module, name, dim)\n"
     ]
    },
    {
     "name": "stdout",
     "output_type": "stream",
     "text": [
      "Missing tensor: mel_transformer.spectrogram.window\n",
      "Missing tensor: mel_transformer.mel_scale.fb\n"
     ]
    },
    {
     "name": "stderr",
     "output_type": "stream",
     "text": [
      "2025-08-05 18:46:53,058 - INFO - Starting inference...\n",
      "Setting `pad_token_id` to `eos_token_id`:None for open-end generation.\n",
      "2025-08-05 18:47:00,756 - INFO - Audio saved at: result/temp.wav\n"
     ]
    },
    {
     "name": "stdout",
     "output_type": "stream",
     "text": [
      "193 有次亲戚家煤气罐阀门漏气起火了 aigc_speech_generation_tasks/reference_193.wav\n"
     ]
    },
    {
     "name": "stderr",
     "output_type": "stream",
     "text": [
      "2025-08-05 18:47:04.882078: I tensorflow/core/util/port.cc:113] oneDNN custom operations are on. You may see slightly different numerical results due to floating-point round-off errors from different computation orders. To turn them off, set the environment variable `TF_ENABLE_ONEDNN_OPTS=0`.\n",
      "2025-08-05 18:47:04.921205: I tensorflow/core/platform/cpu_feature_guard.cc:210] This TensorFlow binary is optimized to use available CPU instructions in performance-critical operations.\n",
      "To enable the following instructions: AVX2 AVX512F AVX512_VNNI FMA, in other operations, rebuild TensorFlow with the appropriate compiler flags.\n",
      "2025-08-05 18:47:05.779690: W tensorflow/compiler/tf2tensorrt/utils/py_utils.cc:38] TF-TRT Warning: Could not find TensorRT\n",
      "2025-08-05 18:47:07,510 - INFO - Using model from: /mnt/workspace/.cache/modelscope/models/SparkAudio/Spark-TTS-0___5B\n",
      "2025-08-05 18:47:07,510 - INFO - Saving audio to: result\n",
      "2025-08-05 18:47:07,512 - INFO - Using CUDA device: cuda:0\n",
      "/usr/local/lib/python3.11/site-packages/torch/nn/utils/weight_norm.py:143: FutureWarning: `torch.nn.utils.weight_norm` is deprecated in favor of `torch.nn.utils.parametrizations.weight_norm`.\n",
      "  WeightNorm.apply(module, name, dim)\n"
     ]
    },
    {
     "name": "stdout",
     "output_type": "stream",
     "text": [
      "Missing tensor: mel_transformer.spectrogram.window\n",
      "Missing tensor: mel_transformer.mel_scale.fb\n"
     ]
    },
    {
     "name": "stderr",
     "output_type": "stream",
     "text": [
      "2025-08-05 18:47:12,280 - INFO - Starting inference...\n",
      "Setting `pad_token_id` to `eos_token_id`:None for open-end generation.\n",
      "2025-08-05 18:47:17,216 - INFO - Audio saved at: result/temp.wav\n"
     ]
    },
    {
     "name": "stdout",
     "output_type": "stream",
     "text": [
      "194 九 aigc_speech_generation_tasks/reference_194.wav\n"
     ]
    },
    {
     "name": "stderr",
     "output_type": "stream",
     "text": [
      "2025-08-05 18:47:21.385344: I tensorflow/core/util/port.cc:113] oneDNN custom operations are on. You may see slightly different numerical results due to floating-point round-off errors from different computation orders. To turn them off, set the environment variable `TF_ENABLE_ONEDNN_OPTS=0`.\n",
      "2025-08-05 18:47:21.424235: I tensorflow/core/platform/cpu_feature_guard.cc:210] This TensorFlow binary is optimized to use available CPU instructions in performance-critical operations.\n",
      "To enable the following instructions: AVX2 AVX512F AVX512_VNNI FMA, in other operations, rebuild TensorFlow with the appropriate compiler flags.\n",
      "2025-08-05 18:47:22.283291: W tensorflow/compiler/tf2tensorrt/utils/py_utils.cc:38] TF-TRT Warning: Could not find TensorRT\n",
      "2025-08-05 18:47:23,950 - INFO - Using model from: /mnt/workspace/.cache/modelscope/models/SparkAudio/Spark-TTS-0___5B\n",
      "2025-08-05 18:47:23,950 - INFO - Saving audio to: result\n",
      "2025-08-05 18:47:23,952 - INFO - Using CUDA device: cuda:0\n",
      "/usr/local/lib/python3.11/site-packages/torch/nn/utils/weight_norm.py:143: FutureWarning: `torch.nn.utils.weight_norm` is deprecated in favor of `torch.nn.utils.parametrizations.weight_norm`.\n",
      "  WeightNorm.apply(module, name, dim)\n"
     ]
    },
    {
     "name": "stdout",
     "output_type": "stream",
     "text": [
      "Missing tensor: mel_transformer.spectrogram.window\n",
      "Missing tensor: mel_transformer.mel_scale.fb\n"
     ]
    },
    {
     "name": "stderr",
     "output_type": "stream",
     "text": [
      "2025-08-05 18:47:28,885 - INFO - Starting inference...\n",
      "Setting `pad_token_id` to `eos_token_id`:None for open-end generation.\n",
      "2025-08-05 18:47:30,706 - INFO - Audio saved at: result/temp.wav\n"
     ]
    },
    {
     "name": "stdout",
     "output_type": "stream",
     "text": [
      "195 智能锁联动成功了，设置回家自动开窗帘 aigc_speech_generation_tasks/reference_195.wav\n"
     ]
    },
    {
     "name": "stderr",
     "output_type": "stream",
     "text": [
      "2025-08-05 18:47:34.834390: I tensorflow/core/util/port.cc:113] oneDNN custom operations are on. You may see slightly different numerical results due to floating-point round-off errors from different computation orders. To turn them off, set the environment variable `TF_ENABLE_ONEDNN_OPTS=0`.\n",
      "2025-08-05 18:47:34.873366: I tensorflow/core/platform/cpu_feature_guard.cc:210] This TensorFlow binary is optimized to use available CPU instructions in performance-critical operations.\n",
      "To enable the following instructions: AVX2 AVX512F AVX512_VNNI FMA, in other operations, rebuild TensorFlow with the appropriate compiler flags.\n",
      "2025-08-05 18:47:35.725068: W tensorflow/compiler/tf2tensorrt/utils/py_utils.cc:38] TF-TRT Warning: Could not find TensorRT\n",
      "2025-08-05 18:47:37,435 - INFO - Using model from: /mnt/workspace/.cache/modelscope/models/SparkAudio/Spark-TTS-0___5B\n",
      "2025-08-05 18:47:37,435 - INFO - Saving audio to: result\n",
      "2025-08-05 18:47:37,443 - INFO - Using CUDA device: cuda:0\n",
      "/usr/local/lib/python3.11/site-packages/torch/nn/utils/weight_norm.py:143: FutureWarning: `torch.nn.utils.weight_norm` is deprecated in favor of `torch.nn.utils.parametrizations.weight_norm`.\n",
      "  WeightNorm.apply(module, name, dim)\n"
     ]
    },
    {
     "name": "stdout",
     "output_type": "stream",
     "text": [
      "Missing tensor: mel_transformer.spectrogram.window\n",
      "Missing tensor: mel_transformer.mel_scale.fb\n"
     ]
    },
    {
     "name": "stderr",
     "output_type": "stream",
     "text": [
      "2025-08-05 18:47:42,224 - INFO - Starting inference...\n",
      "Setting `pad_token_id` to `eos_token_id`:None for open-end generation.\n",
      "2025-08-05 18:47:46,533 - INFO - Audio saved at: result/temp.wav\n"
     ]
    },
    {
     "name": "stdout",
     "output_type": "stream",
     "text": [
      "196 在旅途中那位来自银行的同行告诉我，虽然他是第一次跟我们公司的人一起出差，但他走路的速度一点也不慢，走起路来比谁都行，而且他说他从小就喜欢户外活动，真是个既专业且行动力强的人。 aigc_speech_generation_tasks/reference_196.wav\n"
     ]
    },
    {
     "name": "stderr",
     "output_type": "stream",
     "text": [
      "2025-08-05 18:47:50.737550: I tensorflow/core/util/port.cc:113] oneDNN custom operations are on. You may see slightly different numerical results due to floating-point round-off errors from different computation orders. To turn them off, set the environment variable `TF_ENABLE_ONEDNN_OPTS=0`.\n",
      "2025-08-05 18:47:50.786011: I tensorflow/core/platform/cpu_feature_guard.cc:210] This TensorFlow binary is optimized to use available CPU instructions in performance-critical operations.\n",
      "To enable the following instructions: AVX2 AVX512F AVX512_VNNI FMA, in other operations, rebuild TensorFlow with the appropriate compiler flags.\n",
      "2025-08-05 18:47:51.677875: W tensorflow/compiler/tf2tensorrt/utils/py_utils.cc:38] TF-TRT Warning: Could not find TensorRT\n",
      "2025-08-05 18:47:53,358 - INFO - Using model from: /mnt/workspace/.cache/modelscope/models/SparkAudio/Spark-TTS-0___5B\n",
      "2025-08-05 18:47:53,358 - INFO - Saving audio to: result\n",
      "2025-08-05 18:47:53,360 - INFO - Using CUDA device: cuda:0\n",
      "/usr/local/lib/python3.11/site-packages/torch/nn/utils/weight_norm.py:143: FutureWarning: `torch.nn.utils.weight_norm` is deprecated in favor of `torch.nn.utils.parametrizations.weight_norm`.\n",
      "  WeightNorm.apply(module, name, dim)\n"
     ]
    },
    {
     "name": "stdout",
     "output_type": "stream",
     "text": [
      "Missing tensor: mel_transformer.spectrogram.window\n",
      "Missing tensor: mel_transformer.mel_scale.fb\n"
     ]
    },
    {
     "name": "stderr",
     "output_type": "stream",
     "text": [
      "2025-08-05 18:47:58,314 - INFO - Starting inference...\n",
      "Setting `pad_token_id` to `eos_token_id`:None for open-end generation.\n",
      "2025-08-05 18:48:12,592 - INFO - Audio saved at: result/temp.wav\n"
     ]
    },
    {
     "name": "stdout",
     "output_type": "stream",
     "text": [
      "197 未来短视频创作又将走向何方？ aigc_speech_generation_tasks/reference_197.wav\n"
     ]
    },
    {
     "name": "stderr",
     "output_type": "stream",
     "text": [
      "2025-08-05 18:48:16.707406: I tensorflow/core/util/port.cc:113] oneDNN custom operations are on. You may see slightly different numerical results due to floating-point round-off errors from different computation orders. To turn them off, set the environment variable `TF_ENABLE_ONEDNN_OPTS=0`.\n",
      "2025-08-05 18:48:16.747098: I tensorflow/core/platform/cpu_feature_guard.cc:210] This TensorFlow binary is optimized to use available CPU instructions in performance-critical operations.\n",
      "To enable the following instructions: AVX2 AVX512F AVX512_VNNI FMA, in other operations, rebuild TensorFlow with the appropriate compiler flags.\n",
      "2025-08-05 18:48:17.611159: W tensorflow/compiler/tf2tensorrt/utils/py_utils.cc:38] TF-TRT Warning: Could not find TensorRT\n",
      "2025-08-05 18:48:19,275 - INFO - Using model from: /mnt/workspace/.cache/modelscope/models/SparkAudio/Spark-TTS-0___5B\n",
      "2025-08-05 18:48:19,275 - INFO - Saving audio to: result\n",
      "2025-08-05 18:48:19,277 - INFO - Using CUDA device: cuda:0\n",
      "/usr/local/lib/python3.11/site-packages/torch/nn/utils/weight_norm.py:143: FutureWarning: `torch.nn.utils.weight_norm` is deprecated in favor of `torch.nn.utils.parametrizations.weight_norm`.\n",
      "  WeightNorm.apply(module, name, dim)\n"
     ]
    },
    {
     "name": "stdout",
     "output_type": "stream",
     "text": [
      "Missing tensor: mel_transformer.spectrogram.window\n",
      "Missing tensor: mel_transformer.mel_scale.fb\n"
     ]
    },
    {
     "name": "stderr",
     "output_type": "stream",
     "text": [
      "2025-08-05 18:48:24,364 - INFO - Starting inference...\n",
      "Setting `pad_token_id` to `eos_token_id`:None for open-end generation.\n",
      "2025-08-05 18:48:28,251 - INFO - Audio saved at: result/temp.wav\n"
     ]
    },
    {
     "name": "stdout",
     "output_type": "stream",
     "text": [
      "198 虽然他还欠我十块钱没还，但我还是决定再借给他一些，因为他答应下个月一定还清，而且他还一再保证不会让我失望。 aigc_speech_generation_tasks/reference_198.wav\n"
     ]
    },
    {
     "name": "stderr",
     "output_type": "stream",
     "text": [
      "2025-08-05 18:48:32.385888: I tensorflow/core/util/port.cc:113] oneDNN custom operations are on. You may see slightly different numerical results due to floating-point round-off errors from different computation orders. To turn them off, set the environment variable `TF_ENABLE_ONEDNN_OPTS=0`.\n",
      "2025-08-05 18:48:32.425624: I tensorflow/core/platform/cpu_feature_guard.cc:210] This TensorFlow binary is optimized to use available CPU instructions in performance-critical operations.\n",
      "To enable the following instructions: AVX2 AVX512F AVX512_VNNI FMA, in other operations, rebuild TensorFlow with the appropriate compiler flags.\n",
      "2025-08-05 18:48:33.266853: W tensorflow/compiler/tf2tensorrt/utils/py_utils.cc:38] TF-TRT Warning: Could not find TensorRT\n",
      "2025-08-05 18:48:34,917 - INFO - Using model from: /mnt/workspace/.cache/modelscope/models/SparkAudio/Spark-TTS-0___5B\n",
      "2025-08-05 18:48:34,917 - INFO - Saving audio to: result\n",
      "2025-08-05 18:48:34,918 - INFO - Using CUDA device: cuda:0\n",
      "/usr/local/lib/python3.11/site-packages/torch/nn/utils/weight_norm.py:143: FutureWarning: `torch.nn.utils.weight_norm` is deprecated in favor of `torch.nn.utils.parametrizations.weight_norm`.\n",
      "  WeightNorm.apply(module, name, dim)\n"
     ]
    },
    {
     "name": "stdout",
     "output_type": "stream",
     "text": [
      "Missing tensor: mel_transformer.spectrogram.window\n",
      "Missing tensor: mel_transformer.mel_scale.fb\n"
     ]
    },
    {
     "name": "stderr",
     "output_type": "stream",
     "text": [
      "2025-08-05 18:48:40,390 - INFO - Starting inference...\n",
      "Setting `pad_token_id` to `eos_token_id`:None for open-end generation.\n",
      "2025-08-05 18:48:56,086 - INFO - Audio saved at: result/temp.wav\n"
     ]
    },
    {
     "name": "stdout",
     "output_type": "stream",
     "text": [
      "199 伊犁州林业和草原局与伊犁州气象局2023年3月31日17时联合发布森林（草原）火险气象风险橙色预警：预计今天夜间至4月9日，伊犁河谷各地以晴间多云天气为主，部分时段有大风天气，空气干燥，正值清明春耕时节，祭祀和烧荒活动较多，极易发生森林草原火灾。伊宁市、霍尔果斯市、霍城县、察布查尔县、伊宁县森林火险气象等级为橙色预警(四级火险)，林牧区、景区加强火源管理，游客禁带火种进入景区，森林草原防火区内禁止烧荒、烧纸、烧香、吸烟玩火和野炊行为，倡导鲜花祭祀、文明祭祀。（预警信息来源：国家预警信息发布中心） aigc_speech_generation_tasks/reference_199.wav\n"
     ]
    },
    {
     "name": "stderr",
     "output_type": "stream",
     "text": [
      "2025-08-05 18:49:00.176293: I tensorflow/core/util/port.cc:113] oneDNN custom operations are on. You may see slightly different numerical results due to floating-point round-off errors from different computation orders. To turn them off, set the environment variable `TF_ENABLE_ONEDNN_OPTS=0`.\n",
      "2025-08-05 18:49:00.215778: I tensorflow/core/platform/cpu_feature_guard.cc:210] This TensorFlow binary is optimized to use available CPU instructions in performance-critical operations.\n",
      "To enable the following instructions: AVX2 AVX512F AVX512_VNNI FMA, in other operations, rebuild TensorFlow with the appropriate compiler flags.\n",
      "2025-08-05 18:49:01.104782: W tensorflow/compiler/tf2tensorrt/utils/py_utils.cc:38] TF-TRT Warning: Could not find TensorRT\n",
      "2025-08-05 18:49:02,791 - INFO - Using model from: /mnt/workspace/.cache/modelscope/models/SparkAudio/Spark-TTS-0___5B\n",
      "2025-08-05 18:49:02,791 - INFO - Saving audio to: result\n",
      "2025-08-05 18:49:02,794 - INFO - Using CUDA device: cuda:0\n",
      "/usr/local/lib/python3.11/site-packages/torch/nn/utils/weight_norm.py:143: FutureWarning: `torch.nn.utils.weight_norm` is deprecated in favor of `torch.nn.utils.parametrizations.weight_norm`.\n",
      "  WeightNorm.apply(module, name, dim)\n"
     ]
    },
    {
     "name": "stdout",
     "output_type": "stream",
     "text": [
      "Missing tensor: mel_transformer.spectrogram.window\n",
      "Missing tensor: mel_transformer.mel_scale.fb\n"
     ]
    },
    {
     "name": "stderr",
     "output_type": "stream",
     "text": [
      "2025-08-05 18:49:07,882 - INFO - Starting inference...\n",
      "Setting `pad_token_id` to `eos_token_id`:None for open-end generation.\n",
      "2025-08-05 18:50:02,021 - INFO - Audio saved at: result/temp.wav\n"
     ]
    },
    {
     "name": "stdout",
     "output_type": "stream",
     "text": [
      "200 买体检套餐，基础项目+肿瘤筛查，价格1280元，用医保支付 aigc_speech_generation_tasks/reference_200.wav\n"
     ]
    },
    {
     "name": "stderr",
     "output_type": "stream",
     "text": [
      "2025-08-05 18:50:06.141373: I tensorflow/core/util/port.cc:113] oneDNN custom operations are on. You may see slightly different numerical results due to floating-point round-off errors from different computation orders. To turn them off, set the environment variable `TF_ENABLE_ONEDNN_OPTS=0`.\n",
      "2025-08-05 18:50:06.180191: I tensorflow/core/platform/cpu_feature_guard.cc:210] This TensorFlow binary is optimized to use available CPU instructions in performance-critical operations.\n",
      "To enable the following instructions: AVX2 AVX512F AVX512_VNNI FMA, in other operations, rebuild TensorFlow with the appropriate compiler flags.\n",
      "2025-08-05 18:50:07.068009: W tensorflow/compiler/tf2tensorrt/utils/py_utils.cc:38] TF-TRT Warning: Could not find TensorRT\n",
      "2025-08-05 18:50:08,745 - INFO - Using model from: /mnt/workspace/.cache/modelscope/models/SparkAudio/Spark-TTS-0___5B\n",
      "2025-08-05 18:50:08,745 - INFO - Saving audio to: result\n",
      "2025-08-05 18:50:08,746 - INFO - Using CUDA device: cuda:0\n",
      "/usr/local/lib/python3.11/site-packages/torch/nn/utils/weight_norm.py:143: FutureWarning: `torch.nn.utils.weight_norm` is deprecated in favor of `torch.nn.utils.parametrizations.weight_norm`.\n",
      "  WeightNorm.apply(module, name, dim)\n"
     ]
    },
    {
     "name": "stdout",
     "output_type": "stream",
     "text": [
      "Missing tensor: mel_transformer.spectrogram.window\n",
      "Missing tensor: mel_transformer.mel_scale.fb\n"
     ]
    },
    {
     "name": "stderr",
     "output_type": "stream",
     "text": [
      "2025-08-05 18:50:13,657 - INFO - Starting inference...\n",
      "Setting `pad_token_id` to `eos_token_id`:None for open-end generation.\n",
      "2025-08-05 18:50:22,506 - INFO - Audio saved at: result/temp.wav\n"
     ]
    }
   ],
   "source": [
    "import os\n",
    "import subprocess\n",
    "from tqdm.auto import tqdm\n",
    "\n",
    "synthesized_filenames = []\n",
    "\n",
    "for _, row in tqdm(tasks.iterrows()):\n",
    "    utt = row[\"utt\"]\n",
    "    text = str(row[\"text\"])\n",
    "    ref_audio = reference_dir / row[\"reference_speech\"]\n",
    "\n",
    "    print(utt, text, ref_audio)\n",
    "\n",
    "    command = [\n",
    "        \"python\", \"-m\", \"cli.inference\",\n",
    "        \"--text\", text,\n",
    "        \"--device\", \"0\",\n",
    "        \"--save_dir\", str(result_dir),\n",
    "        \"--model_dir\", str(model_dir),\n",
    "        \"--prompt_speech_path\", str(ref_audio)\n",
    "    ]\n",
    "\n",
    "    subprocess.run(command, check=True)\n",
    "\n",
    "    src = result_dir / \"temp.wav\"\n",
    "    dst = result_dir / f\"{utt}.wav\"\n",
    "    if dst.exists():\n",
    "        dst.unlink()\n",
    "    src.rename(dst)\n",
    "    synthesized_filenames.append(f\"{utt}.wav\")\n"
   ]
  },
  {
   "cell_type": "code",
   "execution_count": 6,
   "id": "f2e180bf",
   "metadata": {
    "ExecutionIndicator": {
     "show": false
    },
    "execution": {
     "iopub.execute_input": "2025-08-05T10:50:23.834375Z",
     "iopub.status.busy": "2025-08-05T10:50:23.834219Z",
     "iopub.status.idle": "2025-08-05T10:50:30.469770Z",
     "shell.execute_reply": "2025-08-05T10:50:30.469142Z",
     "shell.execute_reply.started": "2025-08-05T10:50:23.834361Z"
    },
    "tags": []
   },
   "outputs": [
    {
     "name": "stdout",
     "output_type": "stream",
     "text": [
      "Submission ready: ../my_team-result.zip\n"
     ]
    }
   ],
   "source": [
    "import zipfile\n",
    "\n",
    "tasks[\"synthesized_speech\"] = synthesized_filenames\n",
    "submission_csv = result_dir / \"result.csv\"\n",
    "tasks.to_csv(submission_csv, index=False)\n",
    "\n",
    "zip_path = Path(\"./my_team-result.zip\")\n",
    "with zipfile.ZipFile(zip_path, \"w\", zipfile.ZIP_DEFLATED) as zipf:\n",
    "    for file_path in result_dir.rglob(\"*\"):\n",
    "        arcname = file_path.relative_to(result_dir)\n",
    "        zipf.write(file_path, arcname)\n",
    "\n",
    "print(f\"Submission ready: {zip_path}\")\n"
   ]
  },
  {
   "cell_type": "code",
   "execution_count": null,
   "id": "8c63c228-1214-412f-805c-c892a81df7d0",
   "metadata": {},
   "outputs": [],
   "source": []
  }
 ],
 "metadata": {
  "kernelspec": {
   "display_name": "torch251",
   "language": "python",
   "name": "python3"
  },
  "language_info": {
   "codemirror_mode": {
    "name": "ipython",
    "version": 3
   },
   "file_extension": ".py",
   "mimetype": "text/x-python",
   "name": "python",
   "nbconvert_exporter": "python",
   "pygments_lexer": "ipython3",
   "version": "3.10.18"
  }
 },
 "nbformat": 4,
 "nbformat_minor": 5
}
